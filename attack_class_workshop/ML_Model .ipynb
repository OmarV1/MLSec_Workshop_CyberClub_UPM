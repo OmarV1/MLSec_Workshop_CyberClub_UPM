{
 "cells": [
  {
   "cell_type": "markdown",
   "id": "08972545",
   "metadata": {},
   "source": [
    "   # ML_DL_WORKSHOP"
   ]
  },
  {
   "cell_type": "markdown",
   "id": "82fdb0be",
   "metadata": {},
   "source": [
    "# Feature Extraction "
   ]
  },
  {
   "cell_type": "markdown",
   "id": "db17eaf2",
   "metadata": {},
   "source": [
    "## Using a spacfic scripts to extract the defined features - Example "
   ]
  },
  {
   "cell_type": "code",
   "execution_count": null,
   "id": "40f5c378",
   "metadata": {},
   "outputs": [],
   "source": [
    "\"\"\"\n",
    "> tshark -r input.pcap -T fields -E header=y -E separator=, -E quote=d -E occurrence=f \\\n",
    "-e ip.version -e ip.hdr_len -e ip.tos -e ip.id -e ip.flags -e ip.flags.rb -e ip.flags.df \\ \n",
    "-e ip.flags.mf -e ip.frag_offset -e ip.ttl -e ip.proto -e ip.checksum -e ip.src -e ip.dst \\ \n",
    "-e ip.len -e ip.dsfield -e tcp.srcport -e tcp.dstport -e tcp.seq -e tcp.ack -e tcp.len \\ \n",
    "-e tcp.hdr_len -e tcp.flags -e tcp.flags.fin -e tcp.flags.syn -e tcp.flags.reset \\ \n",
    "-e tcp.flags.push -e tcp.flags.ack -e tcp.flags.urg -e tcp.flags.cwr -e tcp.window_size \\ \n",
    "-e tcp.checksum -e tcp.urgent_pointer -e tcp.options.mss_val > output.csv\n",
    "\n",
    "\"\"\""
   ]
  },
  {
   "cell_type": "markdown",
   "id": "44e5deef",
   "metadata": {},
   "source": [
    "## Using available tools for net-flow extraction \n",
    "\n",
    "* CIC-Flowmeter\n",
    "\n",
    "* Nf-stream"
   ]
  },
  {
   "cell_type": "markdown",
   "id": "349f7b48",
   "metadata": {},
   "source": [
    "# 1- Pre-processing "
   ]
  },
  {
   "cell_type": "code",
   "execution_count": 67,
   "id": "cc15653f",
   "metadata": {},
   "outputs": [],
   "source": [
    "import numpy as np\n",
    "import pandas as pd\n",
    "import matplotlib.pyplot as plt\n",
    "import seaborn as sns\n",
    "import glob\n",
    "import os\n",
    "from scipy import stats\n",
    "from scipy.stats import ks_2samp\n",
    "from sklearn.feature_selection import VarianceThreshold\n",
    "from scipy.stats import spearmanr\n",
    "from scipy.cluster import hierarchy\n",
    "from sklearn.preprocessing import StandardScaler\n",
    "from sklearn.linear_model import LogisticRegression\n",
    "from sklearn.metrics import classification_report, precision_recall_curve, average_precision_score\n",
    "from collections import defaultdict\n",
    "from sklearn.model_selection import train_test_split\n",
    "from sklearn.ensemble import RandomForestClassifier\n",
    "import scikitplot as skplt\n",
    "import pickle\n",
    "import joblib\n",
    "\n",
    "%matplotlib inline"
   ]
  },
  {
   "cell_type": "code",
   "execution_count": 3,
   "id": "4b358d0a",
   "metadata": {},
   "outputs": [],
   "source": [
    "types = {\n",
    "    'dst_port': 'uint32',\n",
    "    'protocol': 'uint8',\n",
    "    'timestamp': 'object',\n",
    "    'flow_duration': 'int64',\n",
    "    'tot_fwd_pkts': 'uint32',\n",
    "    'tot_bwd_pkts': 'uint32',\n",
    "    'totlen_fwd_pkts': 'uint32',\n",
    "    'totlen_bwd_pkts': 'uint32',\n",
    "    'fwd_pkt_len_max': 'uint16',\n",
    "    'fwd_pkt_len_min': 'uint16',\n",
    "    'fwd_pkt_len_mean': 'float32',\n",
    "    'fwd_pkt_len_std': 'float32',\n",
    "    'bwd_pkt_len_max': 'uint16',\n",
    "    'bwd_pkt_len_min': 'uint16',\n",
    "    'bwd_pkt_len_mean': 'float32',\n",
    "    'bwd_pkt_len_std': 'float32',\n",
    "    'flow_byts_s': 'float64',\n",
    "    'flow_pkts_s': 'float64',\n",
    "    'flow_iat_mean': 'float32',\n",
    "    'flow_iat_std': 'float32',\n",
    "    'flow_iat_max': 'int64',\n",
    "    'flow_iat_min': 'int64',\n",
    "    'fwd_iat_tot': 'int64',\n",
    "    'fwd_iat_mean': 'float32',\n",
    "    'fwd_iat_std': 'float32',\n",
    "    'fwd_iat_max': 'int64',\n",
    "    'fwd_iat_min': 'int64',\n",
    "    'bwd_iat_tot': 'uint32',\n",
    "    'bwd_iat_mean': 'float32',\n",
    "    'bwd_iat_std': 'float32',\n",
    "    'bwd_iat_max': 'uint32',\n",
    "    'bwd_iat_min': 'uint32',\n",
    "    'fwd_psh_flags': 'uint8',\n",
    "    'bwd_psh_flags': 'uint8',\n",
    "    'fwd_urg_flags': 'uint8',\n",
    "    'bwd_urg_flags': 'uint8',\n",
    "    'fwd_header_len': 'uint32',\n",
    "    'bwd_header_len': 'uint32',\n",
    "    'fwd_pkts_s': 'float32',\n",
    "    'bwd_pkts_s': 'float32',\n",
    "    'pkt_len_min': 'uint16',\n",
    "    'pkt_len_max': 'uint16',\n",
    "    'pkt_len_mean': 'float32',\n",
    "    'pkt_len_std': 'float32',\n",
    "    'pkt_len_var': 'float32',\n",
    "    'fin_flag_cnt': 'uint8',\n",
    "    'syn_flag_cnt': 'uint8',\n",
    "    'rst_flag_cnt': 'uint8',\n",
    "    'psh_flag_cnt': 'uint8',\n",
    "    'ack_flag_cnt': 'uint8',\n",
    "    'urg_flag_cnt': 'uint8',\n",
    "    'cwe_flag_count': 'uint8',\n",
    "    'ece_flag_cnt': 'uint8',\n",
    "    'down_up_ratio': 'uint16',\n",
    "    'pkt_size_avg': 'float32',\n",
    "    'fwd_seg_size_avg': 'float32',\n",
    "    'bwd_seg_size_avg': 'float32',\n",
    "    'fwd_byts_b_avg': 'uint8',\n",
    "    'fwd_pkts_b_avg': 'uint8',\n",
    "    'fwd_blk_rate_avg': 'uint8',\n",
    "    'bwd_byts_b_avg': 'uint8',\n",
    "    'bwd_pkts_b_avg': 'uint8',\n",
    "    'bwd_blk_rate_avg': 'uint8',\n",
    "    'subflow_fwd_pkts': 'uint32',\n",
    "    'subflow_fwd_byts': 'uint32',\n",
    "    'subflow_bwd_pkts': 'uint32',\n",
    "    'subflow_bwd_byts': 'uint32',\n",
    "    'init_fwd_win_byts': 'int32',\n",
    "    'init_bwd_win_byts': 'int32',\n",
    "    'fwd_act_data_pkts': 'uint32',\n",
    "    'fwd_seg_size_min': 'uint8',\n",
    "    'active_mean': 'float32',\n",
    "    'active_std': 'float32',\n",
    "    'active_max': 'uint32',\n",
    "    'active_min': 'uint32',\n",
    "    'idle_mean': 'float32',\n",
    "    'idle_std': 'float32',\n",
    "    'idle_max': 'uint64',\n",
    "    'idle_min': 'uint64',\n",
    "    'label': 'category'\n",
    "}"
   ]
  },
  {
   "cell_type": "code",
   "execution_count": 2,
   "id": "6a53c853",
   "metadata": {},
   "outputs": [],
   "source": [
    "path1 = r\"E:\\Juypter-files\\dataset1_LOCAL_DATA\\csv_files\""
   ]
  },
  {
   "cell_type": "code",
   "execution_count": 4,
   "id": "04ccc691",
   "metadata": {},
   "outputs": [],
   "source": [
    "csv = glob.glob(os.path.join(path1 , '*.csv'))\n",
    "df = pd.concat((pd.read_csv(f, dtype=types) for f in csv))"
   ]
  },
  {
   "cell_type": "markdown",
   "id": "afe23d3f",
   "metadata": {},
   "source": [
    "## 1-1 Feature Extraction "
   ]
  },
  {
   "cell_type": "code",
   "execution_count": 5,
   "id": "32bcff82",
   "metadata": {},
   "outputs": [],
   "source": [
    "#df = pd.read_csv(\"E:\\Juypter-files\\dataset1_LOCAL_DATA\\csv_files\\gurd_bot_02-03-2018.csv\")"
   ]
  },
  {
   "cell_type": "code",
   "execution_count": 6,
   "id": "ea01ef5c",
   "metadata": {},
   "outputs": [
    {
     "name": "stdout",
     "output_type": "stream",
     "text": [
      "<class 'pandas.core.frame.DataFrame'>\n",
      "Int64Index: 2097149 entries, 0 to 1048573\n",
      "Data columns (total 80 columns):\n",
      " #   Column             Dtype  \n",
      "---  ------             -----  \n",
      " 0   dst_port           uint32 \n",
      " 1   protocol           uint8  \n",
      " 2   timestamp          object \n",
      " 3   flow_duration      int64  \n",
      " 4   tot_fwd_pkts       uint32 \n",
      " 5   tot_bwd_pkts       uint32 \n",
      " 6   totlen_fwd_pkts    uint32 \n",
      " 7   totlen_bwd_pkts    uint32 \n",
      " 8   fwd_pkt_len_max    uint16 \n",
      " 9   fwd_pkt_len_min    uint16 \n",
      " 10  fwd_pkt_len_mean   float32\n",
      " 11  fwd_pkt_len_std    float32\n",
      " 12  bwd_pkt_len_max    uint16 \n",
      " 13  bwd_pkt_len_min    uint16 \n",
      " 14  bwd_pkt_len_mean   float32\n",
      " 15  bwd_pkt_len_std    float32\n",
      " 16  flow_byts_s        float64\n",
      " 17  flow_pkts_s        float64\n",
      " 18  flow_iat_mean      float32\n",
      " 19  flow_iat_std       float32\n",
      " 20  flow_iat_max       int64  \n",
      " 21  flow_iat_min       int64  \n",
      " 22  fwd_iat_tot        int64  \n",
      " 23  fwd_iat_mean       float32\n",
      " 24  fwd_iat_std        float32\n",
      " 25  fwd_iat_max        int64  \n",
      " 26  fwd_iat_min        int64  \n",
      " 27  bwd_iat_tot        uint32 \n",
      " 28  bwd_iat_mean       float32\n",
      " 29  bwd_iat_std        float32\n",
      " 30  bwd_iat_max        uint32 \n",
      " 31  bwd_iat_min        uint32 \n",
      " 32  fwd_psh_flags      uint8  \n",
      " 33  bwd_psh_flags      uint8  \n",
      " 34  fwd_urg_flags      uint8  \n",
      " 35  bwd_urg_flags      uint8  \n",
      " 36  fwd_header_len     uint32 \n",
      " 37  bwd_header_len     uint32 \n",
      " 38  fwd_pkts_s         float32\n",
      " 39  bwd_pkts_s         float32\n",
      " 40  pkt_len_min        uint16 \n",
      " 41  pkt_len_max        uint16 \n",
      " 42  pkt_len_mean       float32\n",
      " 43  pkt_len_std        float32\n",
      " 44  pkt_len_var        float32\n",
      " 45  fin_flag_cnt       uint8  \n",
      " 46  syn_flag_cnt       uint8  \n",
      " 47  rst_flag_cnt       uint8  \n",
      " 48  psh_flag_cnt       uint8  \n",
      " 49  ack_flag_cnt       uint8  \n",
      " 50  urg_flag_cnt       uint8  \n",
      " 51  cwe_flag_count     uint8  \n",
      " 52  ece_flag_cnt       uint8  \n",
      " 53  down_up_ratio      uint16 \n",
      " 54  pkt_size_avg       float32\n",
      " 55  fwd_seg_size_avg   float32\n",
      " 56  bwd_seg_size_avg   float32\n",
      " 57  fwd_byts_b_avg     uint8  \n",
      " 58  fwd_pkts_b_avg     uint8  \n",
      " 59  fwd_blk_rate_avg   uint8  \n",
      " 60  bwd_byts_b_avg     uint8  \n",
      " 61  bwd_pkts_b_avg     uint8  \n",
      " 62  bwd_blk_rate_avg   uint8  \n",
      " 63  subflow_fwd_pkts   uint32 \n",
      " 64  subflow_fwd_byts   uint32 \n",
      " 65  subflow_bwd_pkts   uint32 \n",
      " 66  subflow_bwd_byts   uint32 \n",
      " 67  init_fwd_win_byts  int32  \n",
      " 68  init_bwd_win_byts  int32  \n",
      " 69  fwd_act_data_pkts  uint32 \n",
      " 70  fwd_seg_size_min   uint8  \n",
      " 71  active_mean        float32\n",
      " 72  active_std         float32\n",
      " 73  active_max         uint32 \n",
      " 74  active_min         uint32 \n",
      " 75  idle_mean          float32\n",
      " 76  idle_std           float32\n",
      " 77  idle_max           uint64 \n",
      " 78  idle_min           uint64 \n",
      " 79  label              object \n",
      "dtypes: float32(22), float64(2), int32(2), int64(6), object(2), uint16(7), uint32(17), uint64(2), uint8(20)\n",
      "memory usage: 604.0+ MB\n"
     ]
    }
   ],
   "source": [
    "df.info()"
   ]
  },
  {
   "cell_type": "code",
   "execution_count": 7,
   "id": "5307af48",
   "metadata": {},
   "outputs": [
    {
     "data": {
      "text/html": [
       "<div>\n",
       "<style scoped>\n",
       "    .dataframe tbody tr th:only-of-type {\n",
       "        vertical-align: middle;\n",
       "    }\n",
       "\n",
       "    .dataframe tbody tr th {\n",
       "        vertical-align: top;\n",
       "    }\n",
       "\n",
       "    .dataframe thead th {\n",
       "        text-align: right;\n",
       "    }\n",
       "</style>\n",
       "<table border=\"1\" class=\"dataframe\">\n",
       "  <thead>\n",
       "    <tr style=\"text-align: right;\">\n",
       "      <th></th>\n",
       "      <th>dst_port</th>\n",
       "      <th>protocol</th>\n",
       "      <th>timestamp</th>\n",
       "      <th>flow_duration</th>\n",
       "      <th>tot_fwd_pkts</th>\n",
       "      <th>tot_bwd_pkts</th>\n",
       "      <th>totlen_fwd_pkts</th>\n",
       "      <th>totlen_bwd_pkts</th>\n",
       "      <th>fwd_pkt_len_max</th>\n",
       "      <th>fwd_pkt_len_min</th>\n",
       "      <th>...</th>\n",
       "      <th>fwd_seg_size_min</th>\n",
       "      <th>active_mean</th>\n",
       "      <th>active_std</th>\n",
       "      <th>active_max</th>\n",
       "      <th>active_min</th>\n",
       "      <th>idle_mean</th>\n",
       "      <th>idle_std</th>\n",
       "      <th>idle_max</th>\n",
       "      <th>idle_min</th>\n",
       "      <th>label</th>\n",
       "    </tr>\n",
       "  </thead>\n",
       "  <tbody>\n",
       "    <tr>\n",
       "      <th>0</th>\n",
       "      <td>443</td>\n",
       "      <td>6</td>\n",
       "      <td>02/03/2018 08:47:38</td>\n",
       "      <td>141385</td>\n",
       "      <td>9</td>\n",
       "      <td>7</td>\n",
       "      <td>553</td>\n",
       "      <td>3773</td>\n",
       "      <td>202</td>\n",
       "      <td>0</td>\n",
       "      <td>...</td>\n",
       "      <td>20</td>\n",
       "      <td>0.0</td>\n",
       "      <td>0.0</td>\n",
       "      <td>0</td>\n",
       "      <td>0</td>\n",
       "      <td>0.0</td>\n",
       "      <td>0.0</td>\n",
       "      <td>0</td>\n",
       "      <td>0</td>\n",
       "      <td>Benign</td>\n",
       "    </tr>\n",
       "    <tr>\n",
       "      <th>1</th>\n",
       "      <td>49684</td>\n",
       "      <td>6</td>\n",
       "      <td>02/03/2018 08:47:38</td>\n",
       "      <td>281</td>\n",
       "      <td>2</td>\n",
       "      <td>1</td>\n",
       "      <td>38</td>\n",
       "      <td>0</td>\n",
       "      <td>38</td>\n",
       "      <td>0</td>\n",
       "      <td>...</td>\n",
       "      <td>20</td>\n",
       "      <td>0.0</td>\n",
       "      <td>0.0</td>\n",
       "      <td>0</td>\n",
       "      <td>0</td>\n",
       "      <td>0.0</td>\n",
       "      <td>0.0</td>\n",
       "      <td>0</td>\n",
       "      <td>0</td>\n",
       "      <td>Benign</td>\n",
       "    </tr>\n",
       "    <tr>\n",
       "      <th>2</th>\n",
       "      <td>443</td>\n",
       "      <td>6</td>\n",
       "      <td>02/03/2018 08:47:40</td>\n",
       "      <td>279824</td>\n",
       "      <td>11</td>\n",
       "      <td>15</td>\n",
       "      <td>1086</td>\n",
       "      <td>10527</td>\n",
       "      <td>385</td>\n",
       "      <td>0</td>\n",
       "      <td>...</td>\n",
       "      <td>20</td>\n",
       "      <td>0.0</td>\n",
       "      <td>0.0</td>\n",
       "      <td>0</td>\n",
       "      <td>0</td>\n",
       "      <td>0.0</td>\n",
       "      <td>0.0</td>\n",
       "      <td>0</td>\n",
       "      <td>0</td>\n",
       "      <td>Benign</td>\n",
       "    </tr>\n",
       "    <tr>\n",
       "      <th>3</th>\n",
       "      <td>443</td>\n",
       "      <td>6</td>\n",
       "      <td>02/03/2018 08:47:40</td>\n",
       "      <td>132</td>\n",
       "      <td>2</td>\n",
       "      <td>0</td>\n",
       "      <td>0</td>\n",
       "      <td>0</td>\n",
       "      <td>0</td>\n",
       "      <td>0</td>\n",
       "      <td>...</td>\n",
       "      <td>20</td>\n",
       "      <td>0.0</td>\n",
       "      <td>0.0</td>\n",
       "      <td>0</td>\n",
       "      <td>0</td>\n",
       "      <td>0.0</td>\n",
       "      <td>0.0</td>\n",
       "      <td>0</td>\n",
       "      <td>0</td>\n",
       "      <td>Benign</td>\n",
       "    </tr>\n",
       "    <tr>\n",
       "      <th>4</th>\n",
       "      <td>443</td>\n",
       "      <td>6</td>\n",
       "      <td>02/03/2018 08:47:41</td>\n",
       "      <td>274016</td>\n",
       "      <td>9</td>\n",
       "      <td>13</td>\n",
       "      <td>1285</td>\n",
       "      <td>6141</td>\n",
       "      <td>517</td>\n",
       "      <td>0</td>\n",
       "      <td>...</td>\n",
       "      <td>20</td>\n",
       "      <td>0.0</td>\n",
       "      <td>0.0</td>\n",
       "      <td>0</td>\n",
       "      <td>0</td>\n",
       "      <td>0.0</td>\n",
       "      <td>0.0</td>\n",
       "      <td>0</td>\n",
       "      <td>0</td>\n",
       "      <td>Benign</td>\n",
       "    </tr>\n",
       "  </tbody>\n",
       "</table>\n",
       "<p>5 rows × 80 columns</p>\n",
       "</div>"
      ],
      "text/plain": [
       "   dst_port  protocol            timestamp  flow_duration  tot_fwd_pkts  \\\n",
       "0       443         6  02/03/2018 08:47:38         141385             9   \n",
       "1     49684         6  02/03/2018 08:47:38            281             2   \n",
       "2       443         6  02/03/2018 08:47:40         279824            11   \n",
       "3       443         6  02/03/2018 08:47:40            132             2   \n",
       "4       443         6  02/03/2018 08:47:41         274016             9   \n",
       "\n",
       "   tot_bwd_pkts  totlen_fwd_pkts  totlen_bwd_pkts  fwd_pkt_len_max  \\\n",
       "0             7              553             3773              202   \n",
       "1             1               38                0               38   \n",
       "2            15             1086            10527              385   \n",
       "3             0                0                0                0   \n",
       "4            13             1285             6141              517   \n",
       "\n",
       "   fwd_pkt_len_min  ...  fwd_seg_size_min  active_mean  active_std  \\\n",
       "0                0  ...                20          0.0         0.0   \n",
       "1                0  ...                20          0.0         0.0   \n",
       "2                0  ...                20          0.0         0.0   \n",
       "3                0  ...                20          0.0         0.0   \n",
       "4                0  ...                20          0.0         0.0   \n",
       "\n",
       "   active_max  active_min  idle_mean  idle_std  idle_max  idle_min   label  \n",
       "0           0           0        0.0       0.0         0         0  Benign  \n",
       "1           0           0        0.0       0.0         0         0  Benign  \n",
       "2           0           0        0.0       0.0         0         0  Benign  \n",
       "3           0           0        0.0       0.0         0         0  Benign  \n",
       "4           0           0        0.0       0.0         0         0  Benign  \n",
       "\n",
       "[5 rows x 80 columns]"
      ]
     },
     "execution_count": 7,
     "metadata": {},
     "output_type": "execute_result"
    }
   ],
   "source": [
    "df.head()"
   ]
  },
  {
   "cell_type": "code",
   "execution_count": 8,
   "id": "c53e66ee",
   "metadata": {},
   "outputs": [
    {
     "data": {
      "text/plain": [
       "Benign                      1209156\n",
       "DoS attacks-Hulk             461912\n",
       "Bot                          286191\n",
       "DoS attacks-SlowHTTPTest     139890\n",
       "Name: label, dtype: int64"
      ]
     },
     "execution_count": 8,
     "metadata": {},
     "output_type": "execute_result"
    }
   ],
   "source": [
    "df['label'].value_counts()"
   ]
  },
  {
   "cell_type": "markdown",
   "id": "a829f911",
   "metadata": {},
   "source": [
    "# 2- Data visualization EDA - explority data analysis "
   ]
  },
  {
   "cell_type": "markdown",
   "id": "2bb6fc80",
   "metadata": {},
   "source": [
    "## 2-1 how to label the dataset ?"
   ]
  },
  {
   "cell_type": "code",
   "execution_count": 10,
   "id": "74a47ac1",
   "metadata": {},
   "outputs": [],
   "source": [
    "df['label_cat'] = df.label.astype('category').cat.codes\n",
    "df['label_code'] = (df.label != 'Benign').astype('int')"
   ]
  },
  {
   "cell_type": "code",
   "execution_count": 11,
   "id": "8065def1",
   "metadata": {},
   "outputs": [
    {
     "data": {
      "text/html": [
       "<div>\n",
       "<style scoped>\n",
       "    .dataframe tbody tr th:only-of-type {\n",
       "        vertical-align: middle;\n",
       "    }\n",
       "\n",
       "    .dataframe tbody tr th {\n",
       "        vertical-align: top;\n",
       "    }\n",
       "\n",
       "    .dataframe thead th {\n",
       "        text-align: right;\n",
       "    }\n",
       "</style>\n",
       "<table border=\"1\" class=\"dataframe\">\n",
       "  <thead>\n",
       "    <tr style=\"text-align: right;\">\n",
       "      <th></th>\n",
       "      <th>dst_port</th>\n",
       "      <th>protocol</th>\n",
       "      <th>timestamp</th>\n",
       "      <th>flow_duration</th>\n",
       "      <th>tot_fwd_pkts</th>\n",
       "      <th>tot_bwd_pkts</th>\n",
       "      <th>totlen_fwd_pkts</th>\n",
       "      <th>totlen_bwd_pkts</th>\n",
       "      <th>fwd_pkt_len_max</th>\n",
       "      <th>fwd_pkt_len_min</th>\n",
       "      <th>...</th>\n",
       "      <th>active_std</th>\n",
       "      <th>active_max</th>\n",
       "      <th>active_min</th>\n",
       "      <th>idle_mean</th>\n",
       "      <th>idle_std</th>\n",
       "      <th>idle_max</th>\n",
       "      <th>idle_min</th>\n",
       "      <th>label</th>\n",
       "      <th>label_cat</th>\n",
       "      <th>label_code</th>\n",
       "    </tr>\n",
       "  </thead>\n",
       "  <tbody>\n",
       "    <tr>\n",
       "      <th>0</th>\n",
       "      <td>443</td>\n",
       "      <td>6</td>\n",
       "      <td>02/03/2018 08:47:38</td>\n",
       "      <td>141385</td>\n",
       "      <td>9</td>\n",
       "      <td>7</td>\n",
       "      <td>553</td>\n",
       "      <td>3773</td>\n",
       "      <td>202</td>\n",
       "      <td>0</td>\n",
       "      <td>...</td>\n",
       "      <td>0.0</td>\n",
       "      <td>0</td>\n",
       "      <td>0</td>\n",
       "      <td>0.0</td>\n",
       "      <td>0.0</td>\n",
       "      <td>0</td>\n",
       "      <td>0</td>\n",
       "      <td>Benign</td>\n",
       "      <td>0</td>\n",
       "      <td>0</td>\n",
       "    </tr>\n",
       "    <tr>\n",
       "      <th>1</th>\n",
       "      <td>49684</td>\n",
       "      <td>6</td>\n",
       "      <td>02/03/2018 08:47:38</td>\n",
       "      <td>281</td>\n",
       "      <td>2</td>\n",
       "      <td>1</td>\n",
       "      <td>38</td>\n",
       "      <td>0</td>\n",
       "      <td>38</td>\n",
       "      <td>0</td>\n",
       "      <td>...</td>\n",
       "      <td>0.0</td>\n",
       "      <td>0</td>\n",
       "      <td>0</td>\n",
       "      <td>0.0</td>\n",
       "      <td>0.0</td>\n",
       "      <td>0</td>\n",
       "      <td>0</td>\n",
       "      <td>Benign</td>\n",
       "      <td>0</td>\n",
       "      <td>0</td>\n",
       "    </tr>\n",
       "    <tr>\n",
       "      <th>2</th>\n",
       "      <td>443</td>\n",
       "      <td>6</td>\n",
       "      <td>02/03/2018 08:47:40</td>\n",
       "      <td>279824</td>\n",
       "      <td>11</td>\n",
       "      <td>15</td>\n",
       "      <td>1086</td>\n",
       "      <td>10527</td>\n",
       "      <td>385</td>\n",
       "      <td>0</td>\n",
       "      <td>...</td>\n",
       "      <td>0.0</td>\n",
       "      <td>0</td>\n",
       "      <td>0</td>\n",
       "      <td>0.0</td>\n",
       "      <td>0.0</td>\n",
       "      <td>0</td>\n",
       "      <td>0</td>\n",
       "      <td>Benign</td>\n",
       "      <td>0</td>\n",
       "      <td>0</td>\n",
       "    </tr>\n",
       "    <tr>\n",
       "      <th>3</th>\n",
       "      <td>443</td>\n",
       "      <td>6</td>\n",
       "      <td>02/03/2018 08:47:40</td>\n",
       "      <td>132</td>\n",
       "      <td>2</td>\n",
       "      <td>0</td>\n",
       "      <td>0</td>\n",
       "      <td>0</td>\n",
       "      <td>0</td>\n",
       "      <td>0</td>\n",
       "      <td>...</td>\n",
       "      <td>0.0</td>\n",
       "      <td>0</td>\n",
       "      <td>0</td>\n",
       "      <td>0.0</td>\n",
       "      <td>0.0</td>\n",
       "      <td>0</td>\n",
       "      <td>0</td>\n",
       "      <td>Benign</td>\n",
       "      <td>0</td>\n",
       "      <td>0</td>\n",
       "    </tr>\n",
       "    <tr>\n",
       "      <th>4</th>\n",
       "      <td>443</td>\n",
       "      <td>6</td>\n",
       "      <td>02/03/2018 08:47:41</td>\n",
       "      <td>274016</td>\n",
       "      <td>9</td>\n",
       "      <td>13</td>\n",
       "      <td>1285</td>\n",
       "      <td>6141</td>\n",
       "      <td>517</td>\n",
       "      <td>0</td>\n",
       "      <td>...</td>\n",
       "      <td>0.0</td>\n",
       "      <td>0</td>\n",
       "      <td>0</td>\n",
       "      <td>0.0</td>\n",
       "      <td>0.0</td>\n",
       "      <td>0</td>\n",
       "      <td>0</td>\n",
       "      <td>Benign</td>\n",
       "      <td>0</td>\n",
       "      <td>0</td>\n",
       "    </tr>\n",
       "  </tbody>\n",
       "</table>\n",
       "<p>5 rows × 82 columns</p>\n",
       "</div>"
      ],
      "text/plain": [
       "   dst_port  protocol            timestamp  flow_duration  tot_fwd_pkts  \\\n",
       "0       443         6  02/03/2018 08:47:38         141385             9   \n",
       "1     49684         6  02/03/2018 08:47:38            281             2   \n",
       "2       443         6  02/03/2018 08:47:40         279824            11   \n",
       "3       443         6  02/03/2018 08:47:40            132             2   \n",
       "4       443         6  02/03/2018 08:47:41         274016             9   \n",
       "\n",
       "   tot_bwd_pkts  totlen_fwd_pkts  totlen_bwd_pkts  fwd_pkt_len_max  \\\n",
       "0             7              553             3773              202   \n",
       "1             1               38                0               38   \n",
       "2            15             1086            10527              385   \n",
       "3             0                0                0                0   \n",
       "4            13             1285             6141              517   \n",
       "\n",
       "   fwd_pkt_len_min  ...  active_std  active_max  active_min  idle_mean  \\\n",
       "0                0  ...         0.0           0           0        0.0   \n",
       "1                0  ...         0.0           0           0        0.0   \n",
       "2                0  ...         0.0           0           0        0.0   \n",
       "3                0  ...         0.0           0           0        0.0   \n",
       "4                0  ...         0.0           0           0        0.0   \n",
       "\n",
       "   idle_std  idle_max  idle_min   label  label_cat  label_code  \n",
       "0       0.0         0         0  Benign          0           0  \n",
       "1       0.0         0         0  Benign          0           0  \n",
       "2       0.0         0         0  Benign          0           0  \n",
       "3       0.0         0         0  Benign          0           0  \n",
       "4       0.0         0         0  Benign          0           0  \n",
       "\n",
       "[5 rows x 82 columns]"
      ]
     },
     "execution_count": 11,
     "metadata": {},
     "output_type": "execute_result"
    }
   ],
   "source": [
    "df.head()"
   ]
  },
  {
   "cell_type": "code",
   "execution_count": 12,
   "id": "0b65ba97",
   "metadata": {},
   "outputs": [
    {
     "data": {
      "text/plain": [
       "<AxesSubplot:xlabel='count', ylabel='label'>"
      ]
     },
     "execution_count": 12,
     "metadata": {},
     "output_type": "execute_result"
    },
    {
     "data": {
      "image/png": "[encoded data removed]",
      "text/plain": [
       "<Figure size 720x720 with 1 Axes>"
      ]
     },
     "metadata": {
      "needs_background": "light"
     },
     "output_type": "display_data"
    }
   ],
   "source": [
    "f, ax = plt.subplots(figsize=(10, 10)) # figure size \n",
    "ax.set(xscale='log')\n",
    "# from seaborn identify label as y and dataset x is df \n",
    "sns.countplot(y='label', data=df, order = df['label'].value_counts().index, ax=ax)"
   ]
  },
  {
   "cell_type": "code",
   "execution_count": 13,
   "id": "732d6577",
   "metadata": {},
   "outputs": [
    {
     "data": {
      "text/html": [
       "<div>\n",
       "<style scoped>\n",
       "    .dataframe tbody tr th:only-of-type {\n",
       "        vertical-align: middle;\n",
       "    }\n",
       "\n",
       "    .dataframe tbody tr th {\n",
       "        vertical-align: top;\n",
       "    }\n",
       "\n",
       "    .dataframe thead th {\n",
       "        text-align: right;\n",
       "    }\n",
       "</style>\n",
       "<table border=\"1\" class=\"dataframe\">\n",
       "  <thead>\n",
       "    <tr style=\"text-align: right;\">\n",
       "      <th></th>\n",
       "      <th>label</th>\n",
       "    </tr>\n",
       "  </thead>\n",
       "  <tbody>\n",
       "    <tr>\n",
       "      <th>Benign</th>\n",
       "      <td>1209156</td>\n",
       "    </tr>\n",
       "    <tr>\n",
       "      <th>DoS attacks-Hulk</th>\n",
       "      <td>461912</td>\n",
       "    </tr>\n",
       "    <tr>\n",
       "      <th>Bot</th>\n",
       "      <td>286191</td>\n",
       "    </tr>\n",
       "    <tr>\n",
       "      <th>DoS attacks-SlowHTTPTest</th>\n",
       "      <td>139890</td>\n",
       "    </tr>\n",
       "  </tbody>\n",
       "</table>\n",
       "</div>"
      ],
      "text/plain": [
       "                            label\n",
       "Benign                    1209156\n",
       "DoS attacks-Hulk           461912\n",
       "Bot                        286191\n",
       "DoS attacks-SlowHTTPTest   139890"
      ]
     },
     "execution_count": 13,
     "metadata": {},
     "output_type": "execute_result"
    }
   ],
   "source": [
    "df.groupby('label').agg({'label':'first', 'label':'count'}).rename_axis(None).sort_values('label', ascending=False)"
   ]
  },
  {
   "cell_type": "code",
   "execution_count": 14,
   "id": "ebdd83e7",
   "metadata": {},
   "outputs": [],
   "source": [
    "#corr = df.drop(columns=['label' , 'timestamp']).corr()"
   ]
  },
  {
   "cell_type": "code",
   "execution_count": 15,
   "id": "d92b0a2e",
   "metadata": {},
   "outputs": [],
   "source": [
    "#plt.figure(figsize=(20, 20))\n",
    "\n",
    "#sns.heatmap(corr, xticklabels=corr.columns,yticklabels=corr.columns, linewidths=.5, \n",
    " #          cmap=sns.diverging_palette(620, 10, as_cmap=True))"
   ]
  },
  {
   "cell_type": "markdown",
   "id": "08ece7e6",
   "metadata": {},
   "source": [
    "## 1-2 Data Cleaning & prepration \n",
    "\n",
    "* Missing values \n",
    "* Inf values \n",
    "* feature variance \n",
    "* constant features\n",
    "* outliers\n",
    "* un-wanted features \n",
    "* quasi features \n",
    "* duplicated features \n",
    "* correlated features "
   ]
  },
  {
   "cell_type": "markdown",
   "id": "ec3baa0b",
   "metadata": {},
   "source": [
    "##  Missing value - N/A"
   ]
  },
  {
   "cell_type": "code",
   "execution_count": 16,
   "id": "394c205c",
   "metadata": {},
   "outputs": [
    {
     "data": {
      "text/plain": [
       "['flow_byts_s']"
      ]
     },
     "execution_count": 16,
     "metadata": {},
     "output_type": "execute_result"
    }
   ],
   "source": [
    "[col for col in df.columns if df[col].isnull().sum()>0]"
   ]
  },
  {
   "cell_type": "code",
   "execution_count": 17,
   "id": "f4540b07",
   "metadata": {},
   "outputs": [
    {
     "name": "stdout",
     "output_type": "stream",
     "text": [
      "Null values of flow_byts_s: 2558\n"
     ]
    }
   ],
   "source": [
    "print(f\"Null values of flow_byts_s: {df[df['flow_byts_s'].isnull()]['dst_port'].count()}\")"
   ]
  },
  {
   "cell_type": "markdown",
   "id": "7e5652d2",
   "metadata": {},
   "source": [
    "##  Infinty values - inf"
   ]
  },
  {
   "cell_type": "code",
   "execution_count": 18,
   "id": "22bd6887",
   "metadata": {},
   "outputs": [
    {
     "data": {
      "text/plain": [
       "['flow_byts_s', 'flow_pkts_s']"
      ]
     },
     "execution_count": 18,
     "metadata": {},
     "output_type": "execute_result"
    }
   ],
   "source": [
    "inf_col = [c for c in df.columns if df[df[c] == np.inf][c].count() > 0]\n",
    "inf_col"
   ]
  },
  {
   "cell_type": "code",
   "execution_count": 19,
   "id": "8f3b599c",
   "metadata": {},
   "outputs": [
    {
     "name": "stdout",
     "output_type": "stream",
     "text": [
      "Infinity values of flow_byts_s: 1492\n"
     ]
    }
   ],
   "source": [
    "print(f\"Infinity values of flow_byts_s: {df[df['flow_byts_s'] == np.inf]['dst_port'].count()}\")"
   ]
  },
  {
   "cell_type": "code",
   "execution_count": 20,
   "id": "9f1de63a",
   "metadata": {},
   "outputs": [],
   "source": [
    "for col in inf_col:\n",
    "    df[col].replace([np.inf, -np.inf], np.nan, inplace=True)\n",
    "    mean = df[col].mean()\n",
    "    df[col].fillna(mean, inplace=True)"
   ]
  },
  {
   "cell_type": "code",
   "execution_count": 21,
   "id": "c0095d29",
   "metadata": {},
   "outputs": [
    {
     "data": {
      "text/plain": [
       "[]"
      ]
     },
     "execution_count": 21,
     "metadata": {},
     "output_type": "execute_result"
    }
   ],
   "source": [
    "inf_col = [c for c in df.columns if df[df[c] == np.inf][c].count() > 0]\n",
    "inf_col"
   ]
  },
  {
   "cell_type": "markdown",
   "id": "4ccf09a2",
   "metadata": {},
   "source": [
    "## Negative values with mean "
   ]
  },
  {
   "cell_type": "code",
   "execution_count": 22,
   "id": "89031cc8",
   "metadata": {},
   "outputs": [
    {
     "data": {
      "text/plain": [
       "array(['dst_port', 'protocol', 'flow_duration', 'tot_fwd_pkts',\n",
       "       'tot_bwd_pkts', 'totlen_fwd_pkts', 'totlen_bwd_pkts',\n",
       "       'fwd_pkt_len_max', 'fwd_pkt_len_min', 'fwd_pkt_len_mean',\n",
       "       'fwd_pkt_len_std', 'bwd_pkt_len_max', 'bwd_pkt_len_min',\n",
       "       'bwd_pkt_len_mean', 'bwd_pkt_len_std', 'flow_byts_s',\n",
       "       'flow_pkts_s', 'flow_iat_mean', 'flow_iat_std', 'flow_iat_max',\n",
       "       'flow_iat_min', 'fwd_iat_tot', 'fwd_iat_mean', 'fwd_iat_std',\n",
       "       'fwd_iat_max', 'fwd_iat_min', 'bwd_iat_tot', 'bwd_iat_mean',\n",
       "       'bwd_iat_std', 'bwd_iat_max', 'bwd_iat_min', 'fwd_psh_flags',\n",
       "       'bwd_psh_flags', 'fwd_urg_flags', 'bwd_urg_flags',\n",
       "       'fwd_header_len', 'bwd_header_len', 'fwd_pkts_s', 'bwd_pkts_s',\n",
       "       'pkt_len_min', 'pkt_len_max', 'pkt_len_mean', 'pkt_len_std',\n",
       "       'pkt_len_var', 'fin_flag_cnt', 'syn_flag_cnt', 'rst_flag_cnt',\n",
       "       'psh_flag_cnt', 'ack_flag_cnt', 'urg_flag_cnt', 'cwe_flag_count',\n",
       "       'ece_flag_cnt', 'down_up_ratio', 'pkt_size_avg',\n",
       "       'fwd_seg_size_avg', 'bwd_seg_size_avg', 'fwd_byts_b_avg',\n",
       "       'fwd_pkts_b_avg', 'fwd_blk_rate_avg', 'bwd_byts_b_avg',\n",
       "       'bwd_pkts_b_avg', 'bwd_blk_rate_avg', 'subflow_fwd_pkts',\n",
       "       'subflow_fwd_byts', 'subflow_bwd_pkts', 'subflow_bwd_byts',\n",
       "       'init_fwd_win_byts', 'init_bwd_win_byts', 'fwd_act_data_pkts',\n",
       "       'fwd_seg_size_min', 'active_mean', 'active_std', 'active_max',\n",
       "       'active_min', 'idle_mean', 'idle_std', 'idle_max', 'idle_min',\n",
       "       'label_cat', 'label_code'], dtype=object)"
      ]
     },
     "execution_count": 22,
     "metadata": {},
     "output_type": "execute_result"
    }
   ],
   "source": [
    "numeric_cols = df.select_dtypes(include=[np.number]).columns.values\n",
    "numeric_cols"
   ]
  },
  {
   "cell_type": "code",
   "execution_count": 23,
   "id": "7b4ee79e",
   "metadata": {},
   "outputs": [],
   "source": [
    "numeric_cols = df.select_dtypes(include=[np.number]).columns.values\n",
    "columns = [c for c in numeric_cols if df[df[c] < 0][c].count() > 0]"
   ]
  },
  {
   "cell_type": "code",
   "execution_count": 24,
   "id": "acbabd9a",
   "metadata": {},
   "outputs": [],
   "source": [
    "    for col in columns:\n",
    "        mask = df[col] < 0\n",
    "        df.loc[mask, col] = np.nan\n",
    "        mean = df[col].mean()\n",
    "        df[col].fillna(mean, inplace=True)"
   ]
  },
  {
   "cell_type": "code",
   "execution_count": 25,
   "id": "f9fdc560",
   "metadata": {},
   "outputs": [
    {
     "data": {
      "text/plain": [
       "['init_fwd_win_byts', 'init_bwd_win_byts']"
      ]
     },
     "execution_count": 25,
     "metadata": {},
     "output_type": "execute_result"
    }
   ],
   "source": [
    "numeric_cols = df.select_dtypes(include=[np.number]).columns.values\n",
    "\n",
    "columns"
   ]
  },
  {
   "cell_type": "markdown",
   "id": "a9a5e5ff",
   "metadata": {},
   "source": [
    "# train and test data "
   ]
  },
  {
   "cell_type": "markdown",
   "id": "b9a42190",
   "metadata": {},
   "source": [
    "## Feature variance "
   ]
  },
  {
   "cell_type": "code",
   "execution_count": 26,
   "id": "d7ff4cd1",
   "metadata": {},
   "outputs": [],
   "source": [
    "X = df.drop(columns=['label', 'label_code' , 'label_cat'])\n",
    "y = df[['label_code', 'label_cat',  'label']]"
   ]
  },
  {
   "cell_type": "code",
   "execution_count": 27,
   "id": "de8fc39b",
   "metadata": {},
   "outputs": [
    {
     "data": {
      "text/plain": [
       "9    bwd_blk_rate_avg\n",
       "7      bwd_byts_b_avg\n",
       "8      bwd_pkts_b_avg\n",
       "0       bwd_psh_flags\n",
       "2       bwd_urg_flags\n",
       "3      cwe_flag_count\n",
       "6    fwd_blk_rate_avg\n",
       "4      fwd_byts_b_avg\n",
       "5      fwd_pkts_b_avg\n",
       "1       fwd_urg_flags\n",
       "dtype: object"
      ]
     },
     "execution_count": 27,
     "metadata": {},
     "output_type": "execute_result"
    }
   ],
   "source": [
    "stats = X.describe()\n",
    "std = stats.loc['std']\n",
    "features_no_variance = std[std == 0.0].index\n",
    "\n",
    "pd.Series(features_no_variance).sort_values()"
   ]
  },
  {
   "cell_type": "code",
   "execution_count": 28,
   "id": "56a7b139",
   "metadata": {},
   "outputs": [],
   "source": [
    "#then drop features with variance below threshold\n",
    "X = X.drop(columns=features_no_variance)"
   ]
  },
  {
   "cell_type": "markdown",
   "id": "4eca1c73",
   "metadata": {},
   "source": [
    "# Un-wanted features"
   ]
  },
  {
   "cell_type": "code",
   "execution_count": 29,
   "id": "15430024",
   "metadata": {},
   "outputs": [],
   "source": [
    "X = X.drop(columns=['timestamp', 'dst_port'])"
   ]
  },
  {
   "cell_type": "markdown",
   "id": "45a2e635",
   "metadata": {},
   "source": [
    "##  Constant features "
   ]
  },
  {
   "cell_type": "code",
   "execution_count": 30,
   "id": "0775539a",
   "metadata": {},
   "outputs": [],
   "source": [
    "const_features = [f for f in X.columns if X[f].std() == 0]"
   ]
  },
  {
   "cell_type": "code",
   "execution_count": 31,
   "id": "dadf5c89",
   "metadata": {},
   "outputs": [
    {
     "data": {
      "text/plain": [
       "0"
      ]
     },
     "execution_count": 31,
     "metadata": {},
     "output_type": "execute_result"
    }
   ],
   "source": [
    "len(const_features)"
   ]
  },
  {
   "cell_type": "markdown",
   "id": "0ea70c97",
   "metadata": {},
   "source": [
    "##  Quasi constant features"
   ]
  },
  {
   "cell_type": "code",
   "execution_count": 32,
   "id": "4c6ac5da",
   "metadata": {},
   "outputs": [],
   "source": [
    "#quasiModel=VarianceThreshold(threshold=0.01)\n",
    "#quasiModel.fit(X)"
   ]
  },
  {
   "cell_type": "code",
   "execution_count": 33,
   "id": "2ca1fdac",
   "metadata": {},
   "outputs": [],
   "source": [
    "#quasiArr=quasiModel.get_support()\n",
    "#quasiArr"
   ]
  },
  {
   "cell_type": "code",
   "execution_count": 34,
   "id": "4d516dfb",
   "metadata": {},
   "outputs": [],
   "source": [
    "#collections.Counter(quasiArr)"
   ]
  },
  {
   "cell_type": "code",
   "execution_count": 35,
   "id": "6e713a81",
   "metadata": {},
   "outputs": [],
   "source": [
    "#quasiCols=[col for col in X.columns if col not in X.columns[quasiArr]]\n",
    "#quasiCols"
   ]
  },
  {
   "cell_type": "code",
   "execution_count": 36,
   "id": "d0966fe1",
   "metadata": {},
   "outputs": [],
   "source": [
    "#print('Shape before drop-->',df.shape)\n",
    "#df.drop(columns=quasiCols,axis=1,inplace=True)\n",
    "#print('Shape after drop-->',df.shape)"
   ]
  },
  {
   "cell_type": "markdown",
   "id": "c7b9cc4a",
   "metadata": {},
   "source": [
    "##  Duplicate features"
   ]
  },
  {
   "cell_type": "code",
   "execution_count": 37,
   "id": "955a85df",
   "metadata": {},
   "outputs": [],
   "source": [
    "#unique_features = X.drop_duplicates(keep='first').T\n",
    "#unique_features.shape"
   ]
  },
  {
   "cell_type": "code",
   "execution_count": 38,
   "id": "5b158efe",
   "metadata": {},
   "outputs": [],
   "source": [
    "#X.shape"
   ]
  },
  {
   "cell_type": "markdown",
   "id": "65aa521d",
   "metadata": {},
   "source": [
    "##  Correlated features"
   ]
  },
  {
   "cell_type": "code",
   "execution_count": 39,
   "id": "ac959920",
   "metadata": {
    "scrolled": true
   },
   "outputs": [],
   "source": [
    "cluster_threshold = 1\n",
    "\n",
    "corr = spearmanr(X).correlation\n",
    "corr_linkage = hierarchy.ward(corr)\n"
   ]
  },
  {
   "cell_type": "code",
   "execution_count": 40,
   "id": "ac816784",
   "metadata": {},
   "outputs": [
    {
     "data": {
      "text/plain": [
       "<AxesSubplot:>"
      ]
     },
     "execution_count": 40,
     "metadata": {},
     "output_type": "execute_result"
    },
    {
     "data": {
      "image/png": "[encoded data removed]",
      "text/plain": [
       "<Figure size 1800x2880 with 2 Axes>"
      ]
     },
     "metadata": {
      "needs_background": "light"
     },
     "output_type": "display_data"
    }
   ],
   "source": [
    "fig = plt.subplots(figsize=(25, 40))\n",
    "\n",
    "sns.heatmap(corr, xticklabels=X.columns, yticklabels=X.columns, linewidths=.5, cmap=sns.diverging_palette(620, 10, as_cmap=True))"
   ]
  },
  {
   "cell_type": "code",
   "execution_count": 41,
   "id": "37b52b49",
   "metadata": {},
   "outputs": [
    {
     "name": "stdout",
     "output_type": "stream",
     "text": [
      "Selected features:\n"
     ]
    },
    {
     "data": {
      "text/plain": [
       "0              protocol\n",
       "1         flow_duration\n",
       "2          tot_fwd_pkts\n",
       "3          tot_bwd_pkts\n",
       "4       totlen_fwd_pkts\n",
       "5       fwd_pkt_len_max\n",
       "6       fwd_pkt_len_std\n",
       "7      bwd_pkt_len_mean\n",
       "8       bwd_pkt_len_std\n",
       "9           flow_byts_s\n",
       "10          flow_pkts_s\n",
       "11         flow_iat_std\n",
       "12         flow_iat_min\n",
       "13          fwd_iat_tot\n",
       "14          fwd_iat_min\n",
       "15        fwd_psh_flags\n",
       "16           bwd_pkts_s\n",
       "17         fin_flag_cnt\n",
       "18         rst_flag_cnt\n",
       "19         psh_flag_cnt\n",
       "20         ack_flag_cnt\n",
       "21         urg_flag_cnt\n",
       "22        down_up_ratio\n",
       "23    init_fwd_win_byts\n",
       "24    init_bwd_win_byts\n",
       "25     fwd_seg_size_min\n",
       "26          active_mean\n",
       "27            idle_mean\n",
       "dtype: object"
      ]
     },
     "execution_count": 41,
     "metadata": {},
     "output_type": "execute_result"
    }
   ],
   "source": [
    "cluster_ids = hierarchy.fcluster(corr_linkage, cluster_threshold, criterion='distance')\n",
    "cluster_id_to_feature_ids = defaultdict(list)\n",
    "\n",
    "for idx, cluster_id in enumerate(cluster_ids):\n",
    "    cluster_id_to_feature_ids[cluster_id].append(idx)\n",
    "selected_features = [v[0] for v in cluster_id_to_feature_ids.values()]\n",
    "\n",
    "selected_features = X.columns[selected_features].tolist()\n",
    "\n",
    "print('Selected features:')\n",
    "pd.Series(selected_features)"
   ]
  },
  {
   "cell_type": "code",
   "execution_count": 42,
   "id": "d6890862",
   "metadata": {},
   "outputs": [],
   "source": [
    "X = X[selected_features]"
   ]
  },
  {
   "cell_type": "markdown",
   "id": "076c1497",
   "metadata": {},
   "source": [
    "## Outlier detection using Z-score"
   ]
  },
  {
   "cell_type": "markdown",
   "id": "7128c319",
   "metadata": {},
   "source": [
    "# 3- Training and Testing "
   ]
  },
  {
   "cell_type": "code",
   "execution_count": 43,
   "id": "c18f24e5",
   "metadata": {},
   "outputs": [
    {
     "data": {
      "text/html": [
       "<div>\n",
       "<style scoped>\n",
       "    .dataframe tbody tr th:only-of-type {\n",
       "        vertical-align: middle;\n",
       "    }\n",
       "\n",
       "    .dataframe tbody tr th {\n",
       "        vertical-align: top;\n",
       "    }\n",
       "\n",
       "    .dataframe thead th {\n",
       "        text-align: right;\n",
       "    }\n",
       "</style>\n",
       "<table border=\"1\" class=\"dataframe\">\n",
       "  <thead>\n",
       "    <tr style=\"text-align: right;\">\n",
       "      <th></th>\n",
       "      <th>label_code</th>\n",
       "      <th>label_cat</th>\n",
       "      <th>label</th>\n",
       "    </tr>\n",
       "  </thead>\n",
       "  <tbody>\n",
       "    <tr>\n",
       "      <th>0</th>\n",
       "      <td>0</td>\n",
       "      <td>0</td>\n",
       "      <td>Benign</td>\n",
       "    </tr>\n",
       "    <tr>\n",
       "      <th>1</th>\n",
       "      <td>0</td>\n",
       "      <td>0</td>\n",
       "      <td>Benign</td>\n",
       "    </tr>\n",
       "    <tr>\n",
       "      <th>2</th>\n",
       "      <td>0</td>\n",
       "      <td>0</td>\n",
       "      <td>Benign</td>\n",
       "    </tr>\n",
       "    <tr>\n",
       "      <th>3</th>\n",
       "      <td>0</td>\n",
       "      <td>0</td>\n",
       "      <td>Benign</td>\n",
       "    </tr>\n",
       "    <tr>\n",
       "      <th>4</th>\n",
       "      <td>0</td>\n",
       "      <td>0</td>\n",
       "      <td>Benign</td>\n",
       "    </tr>\n",
       "  </tbody>\n",
       "</table>\n",
       "</div>"
      ],
      "text/plain": [
       "   label_code  label_cat   label\n",
       "0           0          0  Benign\n",
       "1           0          0  Benign\n",
       "2           0          0  Benign\n",
       "3           0          0  Benign\n",
       "4           0          0  Benign"
      ]
     },
     "execution_count": 43,
     "metadata": {},
     "output_type": "execute_result"
    }
   ],
   "source": [
    "y.head()"
   ]
  },
  {
   "cell_type": "markdown",
   "id": "5d84cab2",
   "metadata": {},
   "source": [
    "# 3- 1 Dataset Split"
   ]
  },
  {
   "cell_type": "code",
   "execution_count": 44,
   "id": "932412bc",
   "metadata": {},
   "outputs": [],
   "source": [
    "def print_report(ds_type, cls, X_vals, y_true, y_predict, plot_pr=False, plot_roc=False):\n",
    "    print(f\"Classification Report ({ds_type}):\")\n",
    "    print(classification_report(y_true, y_predict))\n",
    "    print(f\"Avg Precision Score: {average_precision_score(y_true, y_predict, average='weighted')}\")\n",
    "    \n",
    "    if plot_roc:\n",
    "        print(f\"ROC AUC Score: {roc_auc_score(y_true, y_predict)}\")\n",
    "        skplt.metrics.plot_roc(y_true, cls.predict_proba(X_vals))\n",
    "        plt.show()\n",
    "        \n",
    "    if plot_pr:\n",
    "        \n",
    "        skplt.metrics.plot_precision_recall(y_true, cls.predict_proba(X_vals))\n",
    "        plt.show()\n",
    "        \n",
    "    print('\\n')"
   ]
  },
  {
   "cell_type": "code",
   "execution_count": 45,
   "id": "cd53d98d",
   "metadata": {},
   "outputs": [],
   "source": [
    "X_train, X_test, y_train, y_test = train_test_split(\n",
    "    X, y , test_size=0.2  ,random_state=100, stratify=y.label_code)"
   ]
  },
  {
   "cell_type": "code",
   "execution_count": 46,
   "id": "5b837078",
   "metadata": {},
   "outputs": [],
   "source": [
    "X_train_h= pd.get_dummies(X_train, columns=['protocol'])\n",
    "X_test_h= pd.get_dummies(X_test, columns=['protocol'])\n",
    "5 2 3"
   ]
  },
  {
   "cell_type": "code",
   "execution_count": 70,
   "id": "abc6fd8f",
   "metadata": {},
   "outputs": [
    {
     "data": {
      "text/html": [
       "<div>\n",
       "<style scoped>\n",
       "    .dataframe tbody tr th:only-of-type {\n",
       "        vertical-align: middle;\n",
       "    }\n",
       "\n",
       "    .dataframe tbody tr th {\n",
       "        vertical-align: top;\n",
       "    }\n",
       "\n",
       "    .dataframe thead th {\n",
       "        text-align: right;\n",
       "    }\n",
       "</style>\n",
       "<table border=\"1\" class=\"dataframe\">\n",
       "  <thead>\n",
       "    <tr style=\"text-align: right;\">\n",
       "      <th></th>\n",
       "      <th>flow_duration</th>\n",
       "      <th>tot_fwd_pkts</th>\n",
       "      <th>tot_bwd_pkts</th>\n",
       "      <th>totlen_fwd_pkts</th>\n",
       "      <th>fwd_pkt_len_max</th>\n",
       "      <th>fwd_pkt_len_std</th>\n",
       "      <th>bwd_pkt_len_mean</th>\n",
       "      <th>bwd_pkt_len_std</th>\n",
       "      <th>flow_byts_s</th>\n",
       "      <th>flow_pkts_s</th>\n",
       "      <th>...</th>\n",
       "      <th>urg_flag_cnt</th>\n",
       "      <th>down_up_ratio</th>\n",
       "      <th>init_fwd_win_byts</th>\n",
       "      <th>init_bwd_win_byts</th>\n",
       "      <th>fwd_seg_size_min</th>\n",
       "      <th>active_mean</th>\n",
       "      <th>idle_mean</th>\n",
       "      <th>protocol_0</th>\n",
       "      <th>protocol_6</th>\n",
       "      <th>protocol_17</th>\n",
       "    </tr>\n",
       "  </thead>\n",
       "  <tbody>\n",
       "    <tr>\n",
       "      <th>66750</th>\n",
       "      <td>612</td>\n",
       "      <td>2</td>\n",
       "      <td>0</td>\n",
       "      <td>0</td>\n",
       "      <td>0</td>\n",
       "      <td>0.000000</td>\n",
       "      <td>0.000000</td>\n",
       "      <td>0.000000</td>\n",
       "      <td>0.000000</td>\n",
       "      <td>3267.973856</td>\n",
       "      <td>...</td>\n",
       "      <td>0</td>\n",
       "      <td>0</td>\n",
       "      <td>2052.000000</td>\n",
       "      <td>10382.735301</td>\n",
       "      <td>20</td>\n",
       "      <td>0.0</td>\n",
       "      <td>0.0</td>\n",
       "      <td>0</td>\n",
       "      <td>1</td>\n",
       "      <td>0</td>\n",
       "    </tr>\n",
       "    <tr>\n",
       "      <th>710745</th>\n",
       "      <td>103</td>\n",
       "      <td>2</td>\n",
       "      <td>1</td>\n",
       "      <td>0</td>\n",
       "      <td>0</td>\n",
       "      <td>0.000000</td>\n",
       "      <td>0.000000</td>\n",
       "      <td>0.000000</td>\n",
       "      <td>0.000000</td>\n",
       "      <td>29126.213590</td>\n",
       "      <td>...</td>\n",
       "      <td>1</td>\n",
       "      <td>0</td>\n",
       "      <td>237.000000</td>\n",
       "      <td>255.000000</td>\n",
       "      <td>20</td>\n",
       "      <td>0.0</td>\n",
       "      <td>0.0</td>\n",
       "      <td>0</td>\n",
       "      <td>1</td>\n",
       "      <td>0</td>\n",
       "    </tr>\n",
       "    <tr>\n",
       "      <th>462317</th>\n",
       "      <td>4587327</td>\n",
       "      <td>5</td>\n",
       "      <td>3</td>\n",
       "      <td>935</td>\n",
       "      <td>935</td>\n",
       "      <td>418.144714</td>\n",
       "      <td>101.666664</td>\n",
       "      <td>176.091827</td>\n",
       "      <td>270.309921</td>\n",
       "      <td>1.743935</td>\n",
       "      <td>...</td>\n",
       "      <td>0</td>\n",
       "      <td>0</td>\n",
       "      <td>237.000000</td>\n",
       "      <td>211.000000</td>\n",
       "      <td>32</td>\n",
       "      <td>0.0</td>\n",
       "      <td>0.0</td>\n",
       "      <td>0</td>\n",
       "      <td>1</td>\n",
       "      <td>0</td>\n",
       "    </tr>\n",
       "    <tr>\n",
       "      <th>597376</th>\n",
       "      <td>318</td>\n",
       "      <td>1</td>\n",
       "      <td>1</td>\n",
       "      <td>36</td>\n",
       "      <td>36</td>\n",
       "      <td>0.000000</td>\n",
       "      <td>52.000000</td>\n",
       "      <td>0.000000</td>\n",
       "      <td>276729.559700</td>\n",
       "      <td>6289.308176</td>\n",
       "      <td>...</td>\n",
       "      <td>0</td>\n",
       "      <td>1</td>\n",
       "      <td>6171.611285</td>\n",
       "      <td>10382.735301</td>\n",
       "      <td>8</td>\n",
       "      <td>0.0</td>\n",
       "      <td>0.0</td>\n",
       "      <td>0</td>\n",
       "      <td>0</td>\n",
       "      <td>1</td>\n",
       "    </tr>\n",
       "    <tr>\n",
       "      <th>159614</th>\n",
       "      <td>5492114</td>\n",
       "      <td>5</td>\n",
       "      <td>4</td>\n",
       "      <td>935</td>\n",
       "      <td>935</td>\n",
       "      <td>418.144714</td>\n",
       "      <td>171.500000</td>\n",
       "      <td>198.031143</td>\n",
       "      <td>295.150465</td>\n",
       "      <td>1.638713</td>\n",
       "      <td>...</td>\n",
       "      <td>0</td>\n",
       "      <td>0</td>\n",
       "      <td>219.000000</td>\n",
       "      <td>211.000000</td>\n",
       "      <td>32</td>\n",
       "      <td>0.0</td>\n",
       "      <td>5160925.0</td>\n",
       "      <td>0</td>\n",
       "      <td>1</td>\n",
       "      <td>0</td>\n",
       "    </tr>\n",
       "  </tbody>\n",
       "</table>\n",
       "<p>5 rows × 30 columns</p>\n",
       "</div>"
      ],
      "text/plain": [
       "        flow_duration  tot_fwd_pkts  tot_bwd_pkts  totlen_fwd_pkts  \\\n",
       "66750             612             2             0                0   \n",
       "710745            103             2             1                0   \n",
       "462317        4587327             5             3              935   \n",
       "597376            318             1             1               36   \n",
       "159614        5492114             5             4              935   \n",
       "\n",
       "        fwd_pkt_len_max  fwd_pkt_len_std  bwd_pkt_len_mean  bwd_pkt_len_std  \\\n",
       "66750                 0         0.000000          0.000000         0.000000   \n",
       "710745                0         0.000000          0.000000         0.000000   \n",
       "462317              935       418.144714        101.666664       176.091827   \n",
       "597376               36         0.000000         52.000000         0.000000   \n",
       "159614              935       418.144714        171.500000       198.031143   \n",
       "\n",
       "          flow_byts_s   flow_pkts_s  ...  urg_flag_cnt  down_up_ratio  \\\n",
       "66750        0.000000   3267.973856  ...             0              0   \n",
       "710745       0.000000  29126.213590  ...             1              0   \n",
       "462317     270.309921      1.743935  ...             0              0   \n",
       "597376  276729.559700   6289.308176  ...             0              1   \n",
       "159614     295.150465      1.638713  ...             0              0   \n",
       "\n",
       "        init_fwd_win_byts  init_bwd_win_byts  fwd_seg_size_min  active_mean  \\\n",
       "66750         2052.000000       10382.735301                20          0.0   \n",
       "710745         237.000000         255.000000                20          0.0   \n",
       "462317         237.000000         211.000000                32          0.0   \n",
       "597376        6171.611285       10382.735301                 8          0.0   \n",
       "159614         219.000000         211.000000                32          0.0   \n",
       "\n",
       "        idle_mean  protocol_0  protocol_6  protocol_17  \n",
       "66750         0.0           0           1            0  \n",
       "710745        0.0           0           1            0  \n",
       "462317        0.0           0           1            0  \n",
       "597376        0.0           0           0            1  \n",
       "159614  5160925.0           0           1            0  \n",
       "\n",
       "[5 rows x 30 columns]"
      ]
     },
     "execution_count": 70,
     "metadata": {},
     "output_type": "execute_result"
    }
   ],
   "source": [
    "X_test_h.head()"
   ]
  },
  {
   "cell_type": "code",
   "execution_count": 48,
   "id": "aa364419",
   "metadata": {},
   "outputs": [
    {
     "data": {
      "text/plain": [
       "Benign                      1209156\n",
       "DoS attacks-Hulk             461912\n",
       "Bot                          286191\n",
       "DoS attacks-SlowHTTPTest     139890\n",
       "Name: label, dtype: int64"
      ]
     },
     "execution_count": 48,
     "metadata": {},
     "output_type": "execute_result"
    }
   ],
   "source": [
    "y.label.value_counts()"
   ]
  },
  {
   "cell_type": "code",
   "execution_count": 49,
   "id": "7f451cbc",
   "metadata": {},
   "outputs": [
    {
     "data": {
      "text/plain": [
       "Benign                      967325\n",
       "DoS attacks-Hulk            369565\n",
       "Bot                         228811\n",
       "DoS attacks-SlowHTTPTest    112018\n",
       "Name: label, dtype: int64"
      ]
     },
     "execution_count": 49,
     "metadata": {},
     "output_type": "execute_result"
    }
   ],
   "source": [
    "y_train.label.value_counts()"
   ]
  },
  {
   "cell_type": "code",
   "execution_count": 50,
   "id": "d08d02b7",
   "metadata": {},
   "outputs": [
    {
     "data": {
      "text/plain": [
       "Benign                      241831\n",
       "DoS attacks-Hulk             92347\n",
       "Bot                          57380\n",
       "DoS attacks-SlowHTTPTest     27872\n",
       "Name: label, dtype: int64"
      ]
     },
     "execution_count": 50,
     "metadata": {},
     "output_type": "execute_result"
    }
   ],
   "source": [
    "y_test.label.value_counts()"
   ]
  },
  {
   "cell_type": "code",
   "execution_count": 51,
   "id": "476f1cc5",
   "metadata": {},
   "outputs": [
    {
     "data": {
      "text/plain": [
       "0    1209156\n",
       "1     887993\n",
       "Name: label_code, dtype: int64"
      ]
     },
     "execution_count": 51,
     "metadata": {},
     "output_type": "execute_result"
    }
   ],
   "source": [
    "y['label_code'].value_counts()"
   ]
  },
  {
   "cell_type": "markdown",
   "id": "622270a2",
   "metadata": {},
   "source": [
    "## 3-2 Training "
   ]
  },
  {
   "cell_type": "markdown",
   "id": "85361af9",
   "metadata": {},
   "source": [
    "## logestic regression "
   ]
  },
  {
   "cell_type": "code",
   "execution_count": 52,
   "id": "4e3c7a3f",
   "metadata": {},
   "outputs": [
    {
     "data": {
      "text/plain": [
       "StandardScaler()"
      ]
     },
     "execution_count": 52,
     "metadata": {},
     "output_type": "execute_result"
    }
   ],
   "source": [
    "scaler = StandardScaler()\n",
    "scaler.fit(X_train_h)"
   ]
  },
  {
   "cell_type": "code",
   "execution_count": 53,
   "id": "d184588a",
   "metadata": {},
   "outputs": [
    {
     "name": "stderr",
     "output_type": "stream",
     "text": [
      "[Parallel(n_jobs=-1)]: Using backend ThreadingBackend with 12 concurrent workers.\n"
     ]
    },
    {
     "name": "stdout",
     "output_type": "stream",
     "text": [
      "max_iter reached after 106 seconds\n"
     ]
    },
    {
     "name": "stderr",
     "output_type": "stream",
     "text": [
      "E:\\ProgramDATA\\Anaconda\\lib\\site-packages\\sklearn\\linear_model\\_sag.py:352: ConvergenceWarning: The max_iter was reached which means the coef_ did not converge\n",
      "  warnings.warn(\n",
      "[Parallel(n_jobs=-1)]: Done   1 out of   1 | elapsed:  1.8min finished\n"
     ]
    },
    {
     "data": {
      "text/plain": [
       "LogisticRegression(n_jobs=-1, solver='saga', verbose=2)"
      ]
     },
     "execution_count": 53,
     "metadata": {},
     "output_type": "execute_result"
    }
   ],
   "source": [
    "cls_lr = LogisticRegression(solver='saga', n_jobs=-1, verbose=2)\n",
    "\n",
    "cls_lr.fit(scaler.transform(X_train_h), y_train.label_code)"
   ]
  },
  {
   "cell_type": "code",
   "execution_count": 54,
   "id": "b6ba606d",
   "metadata": {},
   "outputs": [
    {
     "name": "stdout",
     "output_type": "stream",
     "text": [
      "Classification Report (Train):\n",
      "              precision    recall  f1-score   support\n",
      "\n",
      "           0       0.99      0.93      0.96    967325\n",
      "           1       0.91      0.99      0.95    710394\n",
      "\n",
      "    accuracy                           0.96   1677719\n",
      "   macro avg       0.95      0.96      0.96   1677719\n",
      "weighted avg       0.96      0.96      0.96   1677719\n",
      "\n",
      "Avg Precision Score: 0.9069869432629859\n",
      "\n",
      "\n"
     ]
    }
   ],
   "source": [
    "print_report('Train', cls_lr, scaler.transform(X_train_h), y_train.label_code, cls_lr.predict(scaler.transform(X_train_h)))"
   ]
  },
  {
   "cell_type": "code",
   "execution_count": 55,
   "id": "e7c6fd50",
   "metadata": {},
   "outputs": [
    {
     "name": "stdout",
     "output_type": "stream",
     "text": [
      "Classification Report (TEST):\n",
      "              precision    recall  f1-score   support\n",
      "\n",
      "           0       0.99      0.93      0.96    241831\n",
      "           1       0.91      0.99      0.95    177599\n",
      "\n",
      "    accuracy                           0.96    419430\n",
      "   macro avg       0.95      0.96      0.95    419430\n",
      "weighted avg       0.96      0.96      0.96    419430\n",
      "\n",
      "Avg Precision Score: 0.9065314716114438\n"
     ]
    },
    {
     "data": {
      "image/png": "[encoded data removed]",
      "text/plain": [
       "<Figure size 432x288 with 1 Axes>"
      ]
     },
     "metadata": {
      "needs_background": "light"
     },
     "output_type": "display_data"
    },
    {
     "name": "stdout",
     "output_type": "stream",
     "text": [
      "\n",
      "\n"
     ]
    }
   ],
   "source": [
    "print_report('TEST', cls_lr, scaler.transform(X_test_h), y_test.label_code, cls_lr.predict(scaler.transform(X_test_h)), plot_pr=True)"
   ]
  },
  {
   "cell_type": "code",
   "execution_count": 64,
   "id": "1fc7cca8",
   "metadata": {},
   "outputs": [],
   "source": [
    "# save the model to disk\n",
    "filename = 'finalized_lr_model.sav'\n",
    "pickle.dump(cls_lr, open(filename, 'wb'))\n",
    " \n",
    "    #later\n",
    "# load the model from disk\n",
    "#loaded_model = pickle.load(open(filename, 'rb'))\n",
    "#result = loaded_model.score(X_test, Y_test)"
   ]
  },
  {
   "cell_type": "markdown",
   "id": "c7ab13a7",
   "metadata": {},
   "source": [
    "## random forest "
   ]
  },
  {
   "cell_type": "code",
   "execution_count": 57,
   "id": "b9a51136",
   "metadata": {},
   "outputs": [],
   "source": [
    "cls_forest = RandomForestClassifier(verbose=1, n_jobs=-1, class_weight='balanced')"
   ]
  },
  {
   "cell_type": "code",
   "execution_count": 58,
   "id": "a90309d4",
   "metadata": {},
   "outputs": [
    {
     "name": "stderr",
     "output_type": "stream",
     "text": [
      "[Parallel(n_jobs=-1)]: Using backend ThreadingBackend with 12 concurrent workers.\n",
      "[Parallel(n_jobs=-1)]: Done  26 tasks      | elapsed:   20.7s\n",
      "[Parallel(n_jobs=-1)]: Done 100 out of 100 | elapsed:  1.1min finished\n"
     ]
    },
    {
     "data": {
      "text/plain": [
       "RandomForestClassifier(class_weight='balanced', n_jobs=-1, verbose=1)"
      ]
     },
     "execution_count": 58,
     "metadata": {},
     "output_type": "execute_result"
    }
   ],
   "source": [
    "cls_forest.fit(X_train_h, y_train.label_code)"
   ]
  },
  {
   "cell_type": "code",
   "execution_count": 59,
   "id": "e9521ae9",
   "metadata": {},
   "outputs": [
    {
     "name": "stderr",
     "output_type": "stream",
     "text": [
      "[Parallel(n_jobs=12)]: Using backend ThreadingBackend with 12 concurrent workers.\n",
      "[Parallel(n_jobs=12)]: Done  26 tasks      | elapsed:    0.8s\n",
      "[Parallel(n_jobs=12)]: Done 100 out of 100 | elapsed:    2.7s finished\n"
     ]
    },
    {
     "name": "stdout",
     "output_type": "stream",
     "text": [
      "Classification Report (Train):\n",
      "              precision    recall  f1-score   support\n",
      "\n",
      "           0       1.00      1.00      1.00    967325\n",
      "           1       1.00      1.00      1.00    710394\n",
      "\n",
      "    accuracy                           1.00   1677719\n",
      "   macro avg       1.00      1.00      1.00   1677719\n",
      "weighted avg       1.00      1.00      1.00   1677719\n",
      "\n",
      "Avg Precision Score: 0.9998129783300705\n",
      "\n",
      "\n"
     ]
    }
   ],
   "source": [
    "print_report('Train', cls_forest, X_train_h, y_train.label_code, cls_forest.predict(X_train_h))"
   ]
  },
  {
   "cell_type": "code",
   "execution_count": 60,
   "id": "f687cad7",
   "metadata": {},
   "outputs": [
    {
     "name": "stderr",
     "output_type": "stream",
     "text": [
      "[Parallel(n_jobs=12)]: Using backend ThreadingBackend with 12 concurrent workers.\n",
      "[Parallel(n_jobs=12)]: Done  26 tasks      | elapsed:    0.1s\n",
      "[Parallel(n_jobs=12)]: Done 100 out of 100 | elapsed:    0.6s finished\n"
     ]
    },
    {
     "name": "stdout",
     "output_type": "stream",
     "text": [
      "Classification Report (test):\n",
      "              precision    recall  f1-score   support\n",
      "\n",
      "           0       1.00      1.00      1.00    241831\n",
      "           1       1.00      1.00      1.00    177599\n",
      "\n",
      "    accuracy                           1.00    419430\n",
      "   macro avg       1.00      1.00      1.00    419430\n",
      "weighted avg       1.00      1.00      1.00    419430\n",
      "\n",
      "Avg Precision Score: 0.9996311071807324\n"
     ]
    },
    {
     "name": "stderr",
     "output_type": "stream",
     "text": [
      "[Parallel(n_jobs=12)]: Using backend ThreadingBackend with 12 concurrent workers.\n",
      "[Parallel(n_jobs=12)]: Done  26 tasks      | elapsed:    0.1s\n",
      "[Parallel(n_jobs=12)]: Done 100 out of 100 | elapsed:    0.6s finished\n"
     ]
    },
    {
     "data": {
      "image/png": "[encoded data removed]",
      "text/plain": [
       "<Figure size 432x288 with 1 Axes>"
      ]
     },
     "metadata": {
      "needs_background": "light"
     },
     "output_type": "display_data"
    },
    {
     "name": "stdout",
     "output_type": "stream",
     "text": [
      "\n",
      "\n"
     ]
    }
   ],
   "source": [
    "print_report('test', cls_forest, X_test_h, y_test.label_code, cls_forest.predict(X_test_h), plot_pr=True)"
   ]
  },
  {
   "cell_type": "code",
   "execution_count": 69,
   "id": "6f4ae0a0",
   "metadata": {},
   "outputs": [
    {
     "data": {
      "text/plain": [
       "['cls_forest.pkl']"
      ]
     },
     "execution_count": 69,
     "metadata": {},
     "output_type": "execute_result"
    }
   ],
   "source": [
    "# loading the training and testing models \n",
    "\n",
    "joblib.dump(cls_forest, 'cls_forest.pkl') \n",
    "\n",
    "#cls = joblib.load('rf-model.pkl')"
   ]
  },
  {
   "cell_type": "markdown",
   "id": "b551ef9d",
   "metadata": {},
   "source": [
    "## 3-5 Hypermeter optimazation "
   ]
  },
  {
   "cell_type": "code",
   "execution_count": null,
   "id": "b680b187",
   "metadata": {},
   "outputs": [],
   "source": []
  }
 ],
 "metadata": {
  "kernelspec": {
   "display_name": "Python 3 (ipykernel)",
   "language": "python",
   "name": "python3"
  },
  "language_info": {
   "codemirror_mode": {
    "name": "ipython",
    "version": 3
   },
   "file_extension": ".py",
   "mimetype": "text/x-python",
   "name": "python",
   "nbconvert_exporter": "python",
   "pygments_lexer": "ipython3",
   "version": "3.9.7"
  }
 },
 "nbformat": 4,
 "nbformat_minor": 5
}
