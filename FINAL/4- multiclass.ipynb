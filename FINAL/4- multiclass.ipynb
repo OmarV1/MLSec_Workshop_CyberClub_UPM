{
 "cells": [
  {
   "cell_type": "markdown",
   "metadata": {},
   "source": [
    "# Machine Learning framework for network attack detection\n",
    "\n",
    "Part III \n",
    "\n",
    "## Achievement:\n",
    "\n",
    "|Model|Recall|Precision|F1|\n",
    "|-----|---------|------|--|\n",
    "|Support Vector Machine|0.95|0.95|0.95|\n",
    "|Naive Bayes|0.79|0.78|0.76|\n",
    "|Random Forest|**0.97**|0.97|0.96|\n",
    "|Gradient Boost|0.88|0.88|0.78|\n",
    "|Decision Tree|**0.97**|0.97|0.97|\n",
    "|Xgboost|**0.97**|0.97|0.97|\n",
    "\n",
    "\n",
    "I will present the analysis of 6 machine learning algorithms with the help of [CICIDS-2018 Dataset](https://www.unb.ca/cic/datasets/ids-2018.html): \n",
    "\n",
    "- Support Vector Machine (SVM)\n",
    "- Decision Tree\n",
    "- Naive Bayes\n",
    "- Random Forest \n",
    "- Gradient Boosting\n",
    "- Xgboost "
   ]
  },
  {
   "cell_type": "code",
   "execution_count": 59,
   "metadata": {},
   "outputs": [],
   "source": [
    "# import required libraries \n",
    "import glob\n",
    "import matplotlib.pyplot as plt\n",
    "import numpy as np\n",
    "import pandas as pd \n",
    "import seaborn as sns\n",
    "import time\n",
    "import glob\n",
    "import os \n",
    "import re\n",
    "\n",
    "from numpy import array\n",
    "\n",
    "from sklearn import preprocessing\n",
    "from sklearn.preprocessing import StandardScaler\n",
    "from sklearn.preprocessing import MinMaxScaler\n",
    "from sklearn.preprocessing import Normalizer\n",
    "import collections\n",
    "from sklearn.metrics import confusion_matrix\n",
    "from sklearn.metrics import plot_confusion_matrix\n",
    "\n",
    "from sklearn.tree import DecisionTreeClassifier\n",
    "from sklearn.svm import LinearSVC\n",
    "from sklearn.naive_bayes import MultinomialNB\n",
    "from sklearn.cluster import KMeans\n",
    "from sklearn.ensemble import RandomForestClassifier\n",
    "from sklearn.svm import SVC\n",
    "from xgboost import XGBClassifier\n",
    "from sklearn.preprocessing import MinMaxScaler\n",
    "\n",
    "\n",
    "from sklearn.model_selection import train_test_split\n",
    "from sklearn.metrics import classification_report, confusion_matrix\n",
    "from sklearn.ensemble import GradientBoostingClassifier\n",
    "\n",
    "from sklearn.feature_selection import SelectKBest\n",
    "from sklearn.feature_selection import chi2\n",
    "from sklearn.feature_selection import mutual_info_classif\n",
    "\n",
    "from sklearn import metrics\n",
    "from sklearn.metrics import accuracy_score, confusion_matrix, roc_curve, auc, classification_report\n",
    "from sklearn.metrics import (precision_score, recall_score,f1_score, accuracy_score,mean_squared_error,mean_absolute_error)\n",
    "from sklearn.metrics import precision_recall_fscore_support as score\n",
    "from sklearn.metrics import completeness_score, homogeneity_score, v_measure_score\n",
    "\n",
    "from sklearn.model_selection import train_test_split\n",
    "\n",
    "\n",
    "%matplotlib inline"
   ]
  },
  {
   "cell_type": "code",
   "execution_count": 2,
   "metadata": {},
   "outputs": [],
   "source": [
    "#path = r\"E:\\Juypter-files\\dataset1_LOCAL_DATA\""
   ]
  },
  {
   "cell_type": "markdown",
   "metadata": {},
   "source": [
    "# prepare the document "
   ]
  },
  {
   "cell_type": "code",
   "execution_count": 3,
   "metadata": {},
   "outputs": [],
   "source": [
    "#path1 = r\"E:\\Juypter-files\\dataset1_LOCAL_DATA\\csv_files\""
   ]
  },
  {
   "cell_type": "code",
   "execution_count": 4,
   "metadata": {},
   "outputs": [],
   "source": [
    "path = r\"/media/upm/New Volume/project/0/processed\""
   ]
  },
  {
   "cell_type": "code",
   "execution_count": 5,
   "metadata": {},
   "outputs": [],
   "source": [
    "types = {\n",
    "    'dst_port': 'uint32',\n",
    "    'protocol': 'uint8',\n",
    "    'timestamp': 'object',\n",
    "    'flow_duration': 'int64',\n",
    "    'tot_fwd_pkts': 'uint32',\n",
    "    'tot_bwd_pkts': 'uint32',\n",
    "    'totlen_fwd_pkts': 'uint32',\n",
    "    'totlen_bwd_pkts': 'uint32',\n",
    "    'fwd_pkt_len_max': 'uint16',\n",
    "    'fwd_pkt_len_min': 'uint16',\n",
    "    'fwd_pkt_len_mean': 'float32',\n",
    "    'fwd_pkt_len_std': 'float32',\n",
    "    'bwd_pkt_len_max': 'uint16',\n",
    "    'bwd_pkt_len_min': 'uint16',\n",
    "    'bwd_pkt_len_mean': 'float32',\n",
    "    'bwd_pkt_len_std': 'float32',\n",
    "    'flow_byts_s': 'float64',\n",
    "    'flow_pkts_s': 'float64',\n",
    "    'flow_iat_mean': 'float32',\n",
    "    'flow_iat_std': 'float32',\n",
    "    'flow_iat_max': 'int64',\n",
    "    'flow_iat_min': 'int64',\n",
    "    'fwd_iat_tot': 'int64',\n",
    "    'fwd_iat_mean': 'float32',\n",
    "    'fwd_iat_std': 'float32',\n",
    "    'fwd_iat_max': 'int64',\n",
    "    'fwd_iat_min': 'int64',\n",
    "    'bwd_iat_tot': 'uint32',\n",
    "    'bwd_iat_mean': 'float32',\n",
    "    'bwd_iat_std': 'float32',\n",
    "    'bwd_iat_max': 'uint32',\n",
    "    'bwd_iat_min': 'uint32',\n",
    "    'fwd_psh_flags': 'uint8',\n",
    "    'bwd_psh_flags': 'uint8',\n",
    "    'fwd_urg_flags': 'uint8',\n",
    "    'bwd_urg_flags': 'uint8',\n",
    "    'fwd_header_len': 'uint32',\n",
    "    'bwd_header_len': 'uint32',\n",
    "    'fwd_pkts_s': 'float32',\n",
    "    'bwd_pkts_s': 'float32',\n",
    "    'pkt_len_min': 'uint16',\n",
    "    'pkt_len_max': 'uint16',\n",
    "    'pkt_len_mean': 'float32',\n",
    "    'pkt_len_std': 'float32',\n",
    "    'pkt_len_var': 'float32',\n",
    "    'fin_flag_cnt': 'uint8',\n",
    "    'syn_flag_cnt': 'uint8',\n",
    "    'rst_flag_cnt': 'uint8',\n",
    "    'psh_flag_cnt': 'uint8',\n",
    "    'ack_flag_cnt': 'uint8',\n",
    "    'urg_flag_cnt': 'uint8',\n",
    "    'cwe_flag_count': 'uint8',\n",
    "    'ece_flag_cnt': 'uint8',\n",
    "    'down_up_ratio': 'uint16',\n",
    "    'pkt_size_avg': 'float32',\n",
    "    'fwd_seg_size_avg': 'float32',\n",
    "    'bwd_seg_size_avg': 'float32',\n",
    "    'fwd_byts_b_avg': 'uint8',\n",
    "    'fwd_pkts_b_avg': 'uint8',\n",
    "    'fwd_blk_rate_avg': 'uint8',\n",
    "    'bwd_byts_b_avg': 'uint8',\n",
    "    'bwd_pkts_b_avg': 'uint8',\n",
    "    'bwd_blk_rate_avg': 'uint8',\n",
    "    'subflow_fwd_pkts': 'uint32',\n",
    "    'subflow_fwd_byts': 'uint32',\n",
    "    'subflow_bwd_pkts': 'uint32',\n",
    "    'subflow_bwd_byts': 'uint32',\n",
    "    'init_fwd_win_byts': 'int32',\n",
    "    'init_bwd_win_byts': 'int32',\n",
    "    'fwd_act_data_pkts': 'uint32',\n",
    "    'fwd_seg_size_min': 'uint8',\n",
    "    'active_mean': 'float32',\n",
    "    'active_std': 'float32',\n",
    "    'active_max': 'uint32',\n",
    "    'active_min': 'uint32',\n",
    "    'idle_mean': 'float32',\n",
    "    'idle_std': 'float32',\n",
    "    'idle_max': 'uint64',\n",
    "    'idle_min': 'uint64',\n",
    "    'label': 'category'\n",
    "}"
   ]
  },
  {
   "cell_type": "code",
   "execution_count": 6,
   "metadata": {},
   "outputs": [],
   "source": [
    "csv = glob.glob(os.path.join(path , '*.csv'))\n",
    "df = pd.concat((pd.read_csv(f, dtype=types) for f in csv))"
   ]
  },
  {
   "cell_type": "code",
   "execution_count": 7,
   "metadata": {},
   "outputs": [
    {
     "data": {
      "text/html": [
       "<div>\n",
       "<style scoped>\n",
       "    .dataframe tbody tr th:only-of-type {\n",
       "        vertical-align: middle;\n",
       "    }\n",
       "\n",
       "    .dataframe tbody tr th {\n",
       "        vertical-align: top;\n",
       "    }\n",
       "\n",
       "    .dataframe thead th {\n",
       "        text-align: right;\n",
       "    }\n",
       "</style>\n",
       "<table border=\"1\" class=\"dataframe\">\n",
       "  <thead>\n",
       "    <tr style=\"text-align: right;\">\n",
       "      <th></th>\n",
       "      <th>count</th>\n",
       "      <th>mean</th>\n",
       "      <th>std</th>\n",
       "      <th>min</th>\n",
       "      <th>25%</th>\n",
       "      <th>50%</th>\n",
       "      <th>75%</th>\n",
       "      <th>max</th>\n",
       "    </tr>\n",
       "  </thead>\n",
       "  <tbody>\n",
       "    <tr>\n",
       "      <th>dst_port</th>\n",
       "      <td>16232943.0</td>\n",
       "      <td>9.164073e+03</td>\n",
       "      <td>1.892224e+04</td>\n",
       "      <td>0.000000e+00</td>\n",
       "      <td>53.0</td>\n",
       "      <td>80.0</td>\n",
       "      <td>3389.0</td>\n",
       "      <td>6.553500e+04</td>\n",
       "    </tr>\n",
       "    <tr>\n",
       "      <th>protocol</th>\n",
       "      <td>16232943.0</td>\n",
       "      <td>8.754113e+00</td>\n",
       "      <td>4.920117e+00</td>\n",
       "      <td>0.000000e+00</td>\n",
       "      <td>6.0</td>\n",
       "      <td>6.0</td>\n",
       "      <td>17.0</td>\n",
       "      <td>1.700000e+01</td>\n",
       "    </tr>\n",
       "    <tr>\n",
       "      <th>flow_duration</th>\n",
       "      <td>16232943.0</td>\n",
       "      <td>1.181380e+07</td>\n",
       "      <td>4.940124e+08</td>\n",
       "      <td>-9.190110e+11</td>\n",
       "      <td>492.0</td>\n",
       "      <td>20970.0</td>\n",
       "      <td>3002115.5</td>\n",
       "      <td>1.200000e+08</td>\n",
       "    </tr>\n",
       "    <tr>\n",
       "      <th>tot_fwd_pkts</th>\n",
       "      <td>16232943.0</td>\n",
       "      <td>2.353319e+01</td>\n",
       "      <td>1.521137e+03</td>\n",
       "      <td>1.000000e+00</td>\n",
       "      <td>1.0</td>\n",
       "      <td>2.0</td>\n",
       "      <td>5.0</td>\n",
       "      <td>3.096290e+05</td>\n",
       "    </tr>\n",
       "    <tr>\n",
       "      <th>tot_bwd_pkts</th>\n",
       "      <td>16232943.0</td>\n",
       "      <td>6.312706e+00</td>\n",
       "      <td>1.640256e+02</td>\n",
       "      <td>0.000000e+00</td>\n",
       "      <td>0.0</td>\n",
       "      <td>1.0</td>\n",
       "      <td>4.0</td>\n",
       "      <td>1.231180e+05</td>\n",
       "    </tr>\n",
       "    <tr>\n",
       "      <th>...</th>\n",
       "      <td>...</td>\n",
       "      <td>...</td>\n",
       "      <td>...</td>\n",
       "      <td>...</td>\n",
       "      <td>...</td>\n",
       "      <td>...</td>\n",
       "      <td>...</td>\n",
       "      <td>...</td>\n",
       "    </tr>\n",
       "    <tr>\n",
       "      <th>active_min</th>\n",
       "      <td>16232943.0</td>\n",
       "      <td>1.154657e+05</td>\n",
       "      <td>2.114145e+06</td>\n",
       "      <td>0.000000e+00</td>\n",
       "      <td>0.0</td>\n",
       "      <td>0.0</td>\n",
       "      <td>0.0</td>\n",
       "      <td>1.140000e+08</td>\n",
       "    </tr>\n",
       "    <tr>\n",
       "      <th>idle_mean</th>\n",
       "      <td>16232943.0</td>\n",
       "      <td>4.977256e+06</td>\n",
       "      <td>2.628760e+08</td>\n",
       "      <td>0.000000e+00</td>\n",
       "      <td>0.0</td>\n",
       "      <td>0.0</td>\n",
       "      <td>0.0</td>\n",
       "      <td>3.955714e+11</td>\n",
       "    </tr>\n",
       "    <tr>\n",
       "      <th>idle_std</th>\n",
       "      <td>16232943.0</td>\n",
       "      <td>2.856445e+05</td>\n",
       "      <td>1.691808e+08</td>\n",
       "      <td>0.000000e+00</td>\n",
       "      <td>0.0</td>\n",
       "      <td>0.0</td>\n",
       "      <td>0.0</td>\n",
       "      <td>2.622479e+11</td>\n",
       "    </tr>\n",
       "    <tr>\n",
       "      <th>idle_max</th>\n",
       "      <td>16232943.0</td>\n",
       "      <td>5.428144e+06</td>\n",
       "      <td>6.253704e+08</td>\n",
       "      <td>0.000000e+00</td>\n",
       "      <td>0.0</td>\n",
       "      <td>0.0</td>\n",
       "      <td>0.0</td>\n",
       "      <td>9.797810e+11</td>\n",
       "    </tr>\n",
       "    <tr>\n",
       "      <th>idle_min</th>\n",
       "      <td>16232943.0</td>\n",
       "      <td>4.685631e+06</td>\n",
       "      <td>6.365202e+07</td>\n",
       "      <td>0.000000e+00</td>\n",
       "      <td>0.0</td>\n",
       "      <td>0.0</td>\n",
       "      <td>0.0</td>\n",
       "      <td>2.399340e+11</td>\n",
       "    </tr>\n",
       "  </tbody>\n",
       "</table>\n",
       "<p>78 rows × 8 columns</p>\n",
       "</div>"
      ],
      "text/plain": [
       "                    count          mean           std           min    25%  \\\n",
       "dst_port       16232943.0  9.164073e+03  1.892224e+04  0.000000e+00   53.0   \n",
       "protocol       16232943.0  8.754113e+00  4.920117e+00  0.000000e+00    6.0   \n",
       "flow_duration  16232943.0  1.181380e+07  4.940124e+08 -9.190110e+11  492.0   \n",
       "tot_fwd_pkts   16232943.0  2.353319e+01  1.521137e+03  1.000000e+00    1.0   \n",
       "tot_bwd_pkts   16232943.0  6.312706e+00  1.640256e+02  0.000000e+00    0.0   \n",
       "...                   ...           ...           ...           ...    ...   \n",
       "active_min     16232943.0  1.154657e+05  2.114145e+06  0.000000e+00    0.0   \n",
       "idle_mean      16232943.0  4.977256e+06  2.628760e+08  0.000000e+00    0.0   \n",
       "idle_std       16232943.0  2.856445e+05  1.691808e+08  0.000000e+00    0.0   \n",
       "idle_max       16232943.0  5.428144e+06  6.253704e+08  0.000000e+00    0.0   \n",
       "idle_min       16232943.0  4.685631e+06  6.365202e+07  0.000000e+00    0.0   \n",
       "\n",
       "                   50%        75%           max  \n",
       "dst_port          80.0     3389.0  6.553500e+04  \n",
       "protocol           6.0       17.0  1.700000e+01  \n",
       "flow_duration  20970.0  3002115.5  1.200000e+08  \n",
       "tot_fwd_pkts       2.0        5.0  3.096290e+05  \n",
       "tot_bwd_pkts       1.0        4.0  1.231180e+05  \n",
       "...                ...        ...           ...  \n",
       "active_min         0.0        0.0  1.140000e+08  \n",
       "idle_mean          0.0        0.0  3.955714e+11  \n",
       "idle_std           0.0        0.0  2.622479e+11  \n",
       "idle_max           0.0        0.0  9.797810e+11  \n",
       "idle_min           0.0        0.0  2.399340e+11  \n",
       "\n",
       "[78 rows x 8 columns]"
      ]
     },
     "execution_count": 7,
     "metadata": {},
     "output_type": "execute_result"
    }
   ],
   "source": [
    "df.describe().transpose()"
   ]
  },
  {
   "cell_type": "code",
   "execution_count": 8,
   "metadata": {},
   "outputs": [
    {
     "data": {
      "text/plain": [
       "True"
      ]
     },
     "execution_count": 8,
     "metadata": {},
     "output_type": "execute_result"
    }
   ],
   "source": [
    "df.isnull().any().any()"
   ]
  },
  {
   "cell_type": "code",
   "execution_count": 9,
   "metadata": {},
   "outputs": [
    {
     "data": {
      "text/plain": [
       "False"
      ]
     },
     "execution_count": 9,
     "metadata": {},
     "output_type": "execute_result"
    }
   ],
   "source": [
    "# Replace Inf values with NaN\n",
    "df = df.replace([np.inf, -np.inf], np.nan)\n",
    "# Drop all occurences of NaN\n",
    "df = df.dropna()\n",
    "# Double check these are all gone\n",
    "df.isnull().any().any()"
   ]
  },
  {
   "cell_type": "code",
   "execution_count": 10,
   "metadata": {},
   "outputs": [
    {
     "data": {
      "text/plain": [
       "Benign                      13390249\n",
       "DDOS attack-HOIC              686012\n",
       "DDoS attacks-LOIC-HTTP        576191\n",
       "DoS attacks-Hulk              461912\n",
       "Bot                           286191\n",
       "FTP-BruteForce                193354\n",
       "SSH-Bruteforce                187589\n",
       "Infilteration                 160639\n",
       "DoS attacks-SlowHTTPTest      139890\n",
       "DoS attacks-GoldenEye          41508\n",
       "DoS attacks-Slowloris          10990\n",
       "DDOS attack-LOIC-UDP            1730\n",
       "Brute Force -Web                 611\n",
       "Brute Force -XSS                 230\n",
       "SQL Injection                     87\n",
       "Name: label, dtype: int64"
      ]
     },
     "execution_count": 10,
     "metadata": {},
     "output_type": "execute_result"
    }
   ],
   "source": [
    "# Distribution of Dataset\n",
    "df['label'].value_counts()"
   ]
  },
  {
   "cell_type": "code",
   "execution_count": 11,
   "metadata": {},
   "outputs": [
    {
     "data": {
      "text/plain": [
       "Benign                      13390249\n",
       "DDOS attack-HOIC              686012\n",
       "DDoS attacks-LOIC-HTTP        576191\n",
       "DoS attacks-Hulk              461912\n",
       "Bot                           286191\n",
       "FTP-BruteForce                193354\n",
       "SSH-Bruteforce                187589\n",
       "Infilteration                 160639\n",
       "DoS attacks-SlowHTTPTest      139890\n",
       "DoS attacks-GoldenEye          41508\n",
       "DoS attacks-Slowloris          10990\n",
       "DDOS attack-LOIC-UDP            1730\n",
       "Brute Force -Web                 611\n",
       "Brute Force -XSS                 230\n",
       "SQL Injection                     87\n",
       "Name: label, dtype: int64"
      ]
     },
     "execution_count": 11,
     "metadata": {},
     "output_type": "execute_result"
    }
   ],
   "source": [
    "df['label'].value_counts()"
   ]
  },
  {
   "cell_type": "code",
   "execution_count": 12,
   "metadata": {},
   "outputs": [],
   "source": [
    "# delet all binary labels \n",
    "df = df.loc[df[\"label\"]  != 'Benign' ]"
   ]
  },
  {
   "cell_type": "code",
   "execution_count": 13,
   "metadata": {},
   "outputs": [],
   "source": [
    "df['label_cat'] = df.label.astype('category').cat.codes\n",
    "#df['label_is_attack'] = (df.label != 'Benign').astype('int')"
   ]
  },
  {
   "cell_type": "markdown",
   "metadata": {},
   "source": [
    "# attack class distrbuation in the dataset "
   ]
  },
  {
   "cell_type": "code",
   "execution_count": 14,
   "metadata": {},
   "outputs": [
    {
     "data": {
      "image/png": "[encoded data removed]",
      "text/plain": [
       "<Figure size 1080x720 with 1 Axes>"
      ]
     },
     "metadata": {
      "needs_background": "light"
     },
     "output_type": "display_data"
    }
   ],
   "source": [
    "plt.figure(figsize=(15,10))\n",
    "\n",
    "attack = ('DDOS attack-HOIC', 'DDoS attacks-LOIC-HTTP', 'DoS attacks-Hulk' , 'Bot' , 'FTP-BruteForce' , 'SSH-Bruteforce' , 'Infilteration' ,'DoS attacks-SlowHTTPTest' ,'DoS attacks-GoldenEye','DoS attacks-Slowloris','DDOS attack-LOIC-UDP' , 'Brute Force -Web' ,'Brute Force -XSS', 'SQL Injection')\n",
    "y_pos = np.arange(len(attack)) \n",
    "amount = df['label'].value_counts()[:]\n",
    "plt.barh(y_pos, amount, align='center' , color='#FF0000')\n",
    "# color='#FF0000'\n",
    "plt.yticks(y_pos, attack)\n",
    "plt.title('Distribution of different types of attacks in the dataset')\n",
    "plt.xlabel('Number of occurences')\n",
    "plt.ylabel('Attack types')\n",
    "for i, v in enumerate(amount):\n",
    "    plt.text(v + 3, i-0.1 , str(v))\n",
    "    \n",
    "plt.show()"
   ]
  },
  {
   "cell_type": "code",
   "execution_count": 15,
   "metadata": {},
   "outputs": [],
   "source": [
    "# 3 Different labeling options\n",
    "attacks = ['label', 'label_cat']\n",
    "\n",
    "# xs=feature vectors, ys=labels\n",
    "x = df.drop(attacks, axis=1)\n",
    "y = df['label_cat']"
   ]
  },
  {
   "cell_type": "code",
   "execution_count": 16,
   "metadata": {},
   "outputs": [],
   "source": [
    "x = x.drop(columns=['timestamp', 'dst_port'])"
   ]
  },
  {
   "cell_type": "code",
   "execution_count": 17,
   "metadata": {},
   "outputs": [],
   "source": [
    "x_train, x_test, y_train, y_test = train_test_split(x, y, test_size=0.2, random_state=0, stratify=y)"
   ]
  },
  {
   "cell_type": "code",
   "execution_count": 18,
   "metadata": {},
   "outputs": [
    {
     "data": {
      "text/plain": [
       "['bwd_psh_flags',\n",
       " 'bwd_urg_flags',\n",
       " 'fwd_byts_b_avg',\n",
       " 'fwd_pkts_b_avg',\n",
       " 'fwd_blk_rate_avg',\n",
       " 'bwd_byts_b_avg',\n",
       " 'bwd_pkts_b_avg',\n",
       " 'bwd_blk_rate_avg']"
      ]
     },
     "execution_count": 18,
     "metadata": {},
     "output_type": "execute_result"
    }
   ],
   "source": [
    "column_names = np.array(list(x_train))\n",
    "to_drop = []\n",
    "for x in column_names:\n",
    "    size = x_train.groupby([x]).size()\n",
    "    # check for columns that only take one value\n",
    "    if (len(size.unique()) == 1):\n",
    "        to_drop.append(x)\n",
    "to_drop"
   ]
  },
  {
   "cell_type": "code",
   "execution_count": 19,
   "metadata": {},
   "outputs": [],
   "source": [
    "x_train = x_train.drop(to_drop, axis=1)\n",
    "x_test = x_test.drop(to_drop, axis=1)\n",
    "df_copy = df.drop(to_drop, axis=1)"
   ]
  },
  {
   "cell_type": "markdown",
   "metadata": {},
   "source": [
    "# data normalization"
   ]
  },
  {
   "cell_type": "code",
   "execution_count": 20,
   "metadata": {},
   "outputs": [],
   "source": [
    "# Normalise\n",
    "min_max_scaler = MinMaxScaler().fit(x_train)\n",
    "\n",
    "# Apply normalisation to dataset\n",
    "x_train = min_max_scaler.transform(x_train)\n",
    "x_test = min_max_scaler.transform(x_test)\n",
    "\n",
    "# All values between 0 and 1\n",
    "#pd.Series(x_train.flatten()).describe()"
   ]
  },
  {
   "cell_type": "markdown",
   "metadata": {},
   "source": [
    "# Kbest features "
   ]
  },
  {
   "cell_type": "code",
   "execution_count": 21,
   "metadata": {},
   "outputs": [],
   "source": [
    "features = SelectKBest(score_func=chi2, k=x_train.shape[1])\n",
    "\n",
    "#fit features to the training dataset\n",
    "fit = features.fit(x_train, y_train)"
   ]
  },
  {
   "cell_type": "code",
   "execution_count": 22,
   "metadata": {},
   "outputs": [
    {
     "data": {
      "image/png": "[encoded data removed]",
      "text/plain": [
       "<Figure size 432x288 with 1 Axes>"
      ]
     },
     "metadata": {
      "needs_background": "light"
     },
     "output_type": "display_data"
    }
   ],
   "source": [
    "# sort the features by importance score\n",
    "feature_importances = zip(df.columns, features.scores_)\n",
    "feature_importances = sorted(feature_importances, key = lambda x: x[1], reverse = True)\n",
    "sorted_importances = [importance[1] for importance in feature_importances]\n",
    "sorted_features = [importance[0] for importance in feature_importances]\n",
    "\n",
    "x_values = list(range(len(feature_importances)))\n",
    "\n",
    "# plot the cumulative scores\n",
    "cumulative_importances = np.cumsum(sorted_importances)\n",
    "plt.plot(x_values, cumulative_importances)\n",
    "\n",
    "# Draw line at 99% of importance retained \n",
    "value99 = cumulative_importances[-1]*0.99\n",
    "\n",
    "plt.hlines(y = value99, xmin=0, xmax=len(sorted_importances), color = 'r', linestyles = 'dashed')\n",
    "plt.xticks(x_values, sorted_features, rotation = 'vertical', fontsize=5)\n",
    "plt.yticks([], [])\n",
    "plt.xlabel('Feature Variable', fontsize=8)\n",
    "plt.title('A Chart to Show Cumulative Feature Scores', fontsize=8)\n",
    "#plt.figure(figsize=(500,200))\n",
    "plt.tight_layout()"
   ]
  },
  {
   "cell_type": "code",
   "execution_count": 23,
   "metadata": {},
   "outputs": [],
   "source": [
    "# perform selectkbest with k=40\n",
    "features = SelectKBest(score_func=chi2, k=40)\n",
    "fit = features.fit(x_train, y_train)\n",
    "x_train = fit.transform(x_train)\n",
    "x_test = fit.transform(x_test)"
   ]
  },
  {
   "cell_type": "code",
   "execution_count": 24,
   "metadata": {},
   "outputs": [],
   "source": [
    "new_features = df_copy.columns[features.get_support(indices=True)]"
   ]
  },
  {
   "cell_type": "code",
   "execution_count": 25,
   "metadata": {},
   "outputs": [
    {
     "data": {
      "text/plain": [
       "Index(['protocol', 'timestamp', 'tot_fwd_pkts', 'totlen_fwd_pkts',\n",
       "       'fwd_pkt_len_mean', 'fwd_pkt_len_std', 'bwd_pkt_len_std', 'flow_byts_s',\n",
       "       'flow_pkts_s', 'flow_iat_mean', 'flow_iat_std', 'flow_iat_max',\n",
       "       'flow_iat_min', 'fwd_iat_mean', 'fwd_iat_std', 'fwd_iat_max',\n",
       "       'fwd_iat_min', 'bwd_iat_tot', 'bwd_iat_mean', 'bwd_iat_std',\n",
       "       'bwd_iat_max', 'fwd_psh_flags', 'fwd_header_len', 'bwd_header_len',\n",
       "       'pkt_len_var', 'fin_flag_cnt', 'syn_flag_cnt', 'rst_flag_cnt',\n",
       "       'psh_flag_cnt', 'urg_flag_cnt', 'fwd_seg_size_avg', 'bwd_seg_size_avg',\n",
       "       'subflow_bwd_pkts', 'subflow_bwd_byts', 'init_fwd_win_byts',\n",
       "       'init_bwd_win_byts', 'active_max', 'active_min', 'idle_mean',\n",
       "       'idle_std'],\n",
       "      dtype='object')"
      ]
     },
     "execution_count": 25,
     "metadata": {},
     "output_type": "execute_result"
    }
   ],
   "source": [
    "new_features"
   ]
  },
  {
   "cell_type": "markdown",
   "metadata": {},
   "source": [
    "# 1- SVM"
   ]
  },
  {
   "cell_type": "code",
   "execution_count": 83,
   "metadata": {},
   "outputs": [],
   "source": [
    "classifier = LinearSVC()"
   ]
  },
  {
   "cell_type": "code",
   "execution_count": 84,
   "metadata": {},
   "outputs": [
    {
     "data": {
      "text/plain": [
       "LinearSVC()"
      ]
     },
     "execution_count": 84,
     "metadata": {},
     "output_type": "execute_result"
    }
   ],
   "source": [
    "# fit the model\n",
    "classifier.fit(x_train, y_train)"
   ]
  },
  {
   "cell_type": "code",
   "execution_count": 85,
   "metadata": {},
   "outputs": [],
   "source": [
    "# predict validation\n",
    "y_pred_SVM = classifier.predict(x_test)\n"
   ]
  },
  {
   "cell_type": "code",
   "execution_count": 66,
   "metadata": {
    "scrolled": true
   },
   "outputs": [
    {
     "data": {
      "text/html": [
       "<div>\n",
       "<style scoped>\n",
       "    .dataframe tbody tr th:only-of-type {\n",
       "        vertical-align: middle;\n",
       "    }\n",
       "\n",
       "    .dataframe tbody tr th {\n",
       "        vertical-align: top;\n",
       "    }\n",
       "\n",
       "    .dataframe thead th {\n",
       "        text-align: right;\n",
       "    }\n",
       "</style>\n",
       "<table border=\"1\" class=\"dataframe\">\n",
       "  <thead>\n",
       "    <tr style=\"text-align: right;\">\n",
       "      <th>col_0</th>\n",
       "      <th>0</th>\n",
       "      <th>1</th>\n",
       "      <th>2</th>\n",
       "      <th>3</th>\n",
       "      <th>4</th>\n",
       "      <th>5</th>\n",
       "      <th>6</th>\n",
       "      <th>7</th>\n",
       "      <th>8</th>\n",
       "      <th>9</th>\n",
       "      <th>10</th>\n",
       "      <th>11</th>\n",
       "      <th>12</th>\n",
       "      <th>13</th>\n",
       "    </tr>\n",
       "    <tr>\n",
       "      <th>label_cat</th>\n",
       "      <th></th>\n",
       "      <th></th>\n",
       "      <th></th>\n",
       "      <th></th>\n",
       "      <th></th>\n",
       "      <th></th>\n",
       "      <th></th>\n",
       "      <th></th>\n",
       "      <th></th>\n",
       "      <th></th>\n",
       "      <th></th>\n",
       "      <th></th>\n",
       "      <th></th>\n",
       "      <th></th>\n",
       "    </tr>\n",
       "  </thead>\n",
       "  <tbody>\n",
       "    <tr>\n",
       "      <th>0</th>\n",
       "      <td>57170</td>\n",
       "      <td>0</td>\n",
       "      <td>0</td>\n",
       "      <td>0</td>\n",
       "      <td>0</td>\n",
       "      <td>0</td>\n",
       "      <td>0</td>\n",
       "      <td>0</td>\n",
       "      <td>0</td>\n",
       "      <td>0</td>\n",
       "      <td>0</td>\n",
       "      <td>68</td>\n",
       "      <td>0</td>\n",
       "      <td>0</td>\n",
       "    </tr>\n",
       "    <tr>\n",
       "      <th>1</th>\n",
       "      <td>21</td>\n",
       "      <td>28</td>\n",
       "      <td>1</td>\n",
       "      <td>0</td>\n",
       "      <td>0</td>\n",
       "      <td>1</td>\n",
       "      <td>0</td>\n",
       "      <td>0</td>\n",
       "      <td>0</td>\n",
       "      <td>0</td>\n",
       "      <td>0</td>\n",
       "      <td>70</td>\n",
       "      <td>1</td>\n",
       "      <td>0</td>\n",
       "    </tr>\n",
       "    <tr>\n",
       "      <th>2</th>\n",
       "      <td>22</td>\n",
       "      <td>0</td>\n",
       "      <td>0</td>\n",
       "      <td>0</td>\n",
       "      <td>0</td>\n",
       "      <td>0</td>\n",
       "      <td>0</td>\n",
       "      <td>0</td>\n",
       "      <td>0</td>\n",
       "      <td>0</td>\n",
       "      <td>0</td>\n",
       "      <td>24</td>\n",
       "      <td>0</td>\n",
       "      <td>0</td>\n",
       "    </tr>\n",
       "    <tr>\n",
       "      <th>3</th>\n",
       "      <td>0</td>\n",
       "      <td>0</td>\n",
       "      <td>0</td>\n",
       "      <td>137184</td>\n",
       "      <td>0</td>\n",
       "      <td>0</td>\n",
       "      <td>0</td>\n",
       "      <td>0</td>\n",
       "      <td>0</td>\n",
       "      <td>0</td>\n",
       "      <td>0</td>\n",
       "      <td>19</td>\n",
       "      <td>0</td>\n",
       "      <td>0</td>\n",
       "    </tr>\n",
       "    <tr>\n",
       "      <th>4</th>\n",
       "      <td>0</td>\n",
       "      <td>0</td>\n",
       "      <td>0</td>\n",
       "      <td>0</td>\n",
       "      <td>322</td>\n",
       "      <td>19</td>\n",
       "      <td>0</td>\n",
       "      <td>0</td>\n",
       "      <td>0</td>\n",
       "      <td>0</td>\n",
       "      <td>0</td>\n",
       "      <td>5</td>\n",
       "      <td>0</td>\n",
       "      <td>0</td>\n",
       "    </tr>\n",
       "    <tr>\n",
       "      <th>5</th>\n",
       "      <td>895</td>\n",
       "      <td>0</td>\n",
       "      <td>0</td>\n",
       "      <td>0</td>\n",
       "      <td>123</td>\n",
       "      <td>114209</td>\n",
       "      <td>0</td>\n",
       "      <td>0</td>\n",
       "      <td>0</td>\n",
       "      <td>0</td>\n",
       "      <td>0</td>\n",
       "      <td>11</td>\n",
       "      <td>0</td>\n",
       "      <td>0</td>\n",
       "    </tr>\n",
       "    <tr>\n",
       "      <th>6</th>\n",
       "      <td>1</td>\n",
       "      <td>0</td>\n",
       "      <td>0</td>\n",
       "      <td>0</td>\n",
       "      <td>0</td>\n",
       "      <td>20</td>\n",
       "      <td>7461</td>\n",
       "      <td>503</td>\n",
       "      <td>0</td>\n",
       "      <td>6</td>\n",
       "      <td>0</td>\n",
       "      <td>87</td>\n",
       "      <td>0</td>\n",
       "      <td>224</td>\n",
       "    </tr>\n",
       "    <tr>\n",
       "      <th>7</th>\n",
       "      <td>0</td>\n",
       "      <td>0</td>\n",
       "      <td>0</td>\n",
       "      <td>0</td>\n",
       "      <td>0</td>\n",
       "      <td>0</td>\n",
       "      <td>1</td>\n",
       "      <td>92378</td>\n",
       "      <td>0</td>\n",
       "      <td>0</td>\n",
       "      <td>0</td>\n",
       "      <td>3</td>\n",
       "      <td>0</td>\n",
       "      <td>0</td>\n",
       "    </tr>\n",
       "    <tr>\n",
       "      <th>8</th>\n",
       "      <td>0</td>\n",
       "      <td>0</td>\n",
       "      <td>0</td>\n",
       "      <td>0</td>\n",
       "      <td>0</td>\n",
       "      <td>0</td>\n",
       "      <td>0</td>\n",
       "      <td>0</td>\n",
       "      <td>15249</td>\n",
       "      <td>0</td>\n",
       "      <td>12729</td>\n",
       "      <td>0</td>\n",
       "      <td>0</td>\n",
       "      <td>0</td>\n",
       "    </tr>\n",
       "    <tr>\n",
       "      <th>9</th>\n",
       "      <td>0</td>\n",
       "      <td>0</td>\n",
       "      <td>0</td>\n",
       "      <td>0</td>\n",
       "      <td>0</td>\n",
       "      <td>0</td>\n",
       "      <td>457</td>\n",
       "      <td>8</td>\n",
       "      <td>0</td>\n",
       "      <td>1656</td>\n",
       "      <td>0</td>\n",
       "      <td>77</td>\n",
       "      <td>0</td>\n",
       "      <td>0</td>\n",
       "    </tr>\n",
       "    <tr>\n",
       "      <th>10</th>\n",
       "      <td>0</td>\n",
       "      <td>0</td>\n",
       "      <td>0</td>\n",
       "      <td>0</td>\n",
       "      <td>0</td>\n",
       "      <td>0</td>\n",
       "      <td>0</td>\n",
       "      <td>0</td>\n",
       "      <td>8474</td>\n",
       "      <td>0</td>\n",
       "      <td>30197</td>\n",
       "      <td>0</td>\n",
       "      <td>0</td>\n",
       "      <td>0</td>\n",
       "    </tr>\n",
       "    <tr>\n",
       "      <th>11</th>\n",
       "      <td>2292</td>\n",
       "      <td>504</td>\n",
       "      <td>302</td>\n",
       "      <td>298</td>\n",
       "      <td>0</td>\n",
       "      <td>501</td>\n",
       "      <td>108</td>\n",
       "      <td>13</td>\n",
       "      <td>51</td>\n",
       "      <td>61</td>\n",
       "      <td>0</td>\n",
       "      <td>27906</td>\n",
       "      <td>73</td>\n",
       "      <td>19</td>\n",
       "    </tr>\n",
       "    <tr>\n",
       "      <th>12</th>\n",
       "      <td>3</td>\n",
       "      <td>3</td>\n",
       "      <td>0</td>\n",
       "      <td>0</td>\n",
       "      <td>0</td>\n",
       "      <td>0</td>\n",
       "      <td>0</td>\n",
       "      <td>0</td>\n",
       "      <td>0</td>\n",
       "      <td>0</td>\n",
       "      <td>0</td>\n",
       "      <td>6</td>\n",
       "      <td>5</td>\n",
       "      <td>0</td>\n",
       "    </tr>\n",
       "    <tr>\n",
       "      <th>13</th>\n",
       "      <td>0</td>\n",
       "      <td>0</td>\n",
       "      <td>0</td>\n",
       "      <td>0</td>\n",
       "      <td>0</td>\n",
       "      <td>0</td>\n",
       "      <td>0</td>\n",
       "      <td>1</td>\n",
       "      <td>2</td>\n",
       "      <td>0</td>\n",
       "      <td>7</td>\n",
       "      <td>0</td>\n",
       "      <td>0</td>\n",
       "      <td>37508</td>\n",
       "    </tr>\n",
       "  </tbody>\n",
       "</table>\n",
       "</div>"
      ],
      "text/plain": [
       "col_0         0    1    2       3    4       5     6      7      8     9   \\\n",
       "label_cat                                                                   \n",
       "0          57170    0    0       0    0       0     0      0      0     0   \n",
       "1             21   28    1       0    0       1     0      0      0     0   \n",
       "2             22    0    0       0    0       0     0      0      0     0   \n",
       "3              0    0    0  137184    0       0     0      0      0     0   \n",
       "4              0    0    0       0  322      19     0      0      0     0   \n",
       "5            895    0    0       0  123  114209     0      0      0     0   \n",
       "6              1    0    0       0    0      20  7461    503      0     6   \n",
       "7              0    0    0       0    0       0     1  92378      0     0   \n",
       "8              0    0    0       0    0       0     0      0  15249     0   \n",
       "9              0    0    0       0    0       0   457      8      0  1656   \n",
       "10             0    0    0       0    0       0     0      0   8474     0   \n",
       "11          2292  504  302     298    0     501   108     13     51    61   \n",
       "12             3    3    0       0    0       0     0      0      0     0   \n",
       "13             0    0    0       0    0       0     0      1      2     0   \n",
       "\n",
       "col_0         10     11  12     13  \n",
       "label_cat                           \n",
       "0              0     68   0      0  \n",
       "1              0     70   1      0  \n",
       "2              0     24   0      0  \n",
       "3              0     19   0      0  \n",
       "4              0      5   0      0  \n",
       "5              0     11   0      0  \n",
       "6              0     87   0    224  \n",
       "7              0      3   0      0  \n",
       "8          12729      0   0      0  \n",
       "9              0     77   0      0  \n",
       "10         30197      0   0      0  \n",
       "11             0  27906  73     19  \n",
       "12             0      6   5      0  \n",
       "13             7      0   0  37508  "
      ]
     },
     "execution_count": 66,
     "metadata": {},
     "output_type": "execute_result"
    }
   ],
   "source": [
    "confusion_svm_1 = pd.crosstab(y_test, y_predicted)\n",
    "confusion_svm_1"
   ]
  },
  {
   "cell_type": "code",
   "execution_count": 86,
   "metadata": {},
   "outputs": [
    {
     "name": "stderr",
     "output_type": "stream",
     "text": [
      "/home/upm/anaconda3/lib/python3.8/site-packages/sklearn/utils/deprecation.py:87: FutureWarning: Function plot_confusion_matrix is deprecated; Function `plot_confusion_matrix` is deprecated in 1.0 and will be removed in 1.2. Use one of the class methods: ConfusionMatrixDisplay.from_predictions or ConfusionMatrixDisplay.from_estimator.\n",
      "  warnings.warn(msg, category=FutureWarning)\n"
     ]
    },
    {
     "data": {
      "image/png": "[encoded data removed]",
      "text/plain": [
       "<Figure size 1080x720 with 2 Axes>"
      ]
     },
     "metadata": {
      "needs_background": "light"
     },
     "output_type": "display_data"
    }
   ],
   "source": [
    "fig, ax = plt.subplots(figsize=(15, 10))\n",
    "matrix = plot_confusion_matrix(classifier , x_test , y_test , ax=ax)\n",
    "\n",
    "plt.show(matrix)\n",
    "plt.show()"
   ]
  },
  {
   "cell_type": "code",
   "execution_count": null,
   "metadata": {},
   "outputs": [],
   "source": [
    "matrix = plot_confusion_matrix(cls_forest , X_testh , y_test)\n",
    "\n",
    "plt.show(matrix)\n",
    "plt.show()"
   ]
  },
  {
   "cell_type": "code",
   "execution_count": 87,
   "metadata": {},
   "outputs": [],
   "source": [
    "precision, recall, fscore, support = score(y_test, y_pred_SVM)\n",
    "\n",
    "d = {'attack': attack, 'precision': precision,\n",
    "     'recall' : recall, 'fscore': fscore}"
   ]
  },
  {
   "cell_type": "code",
   "execution_count": 88,
   "metadata": {},
   "outputs": [
    {
     "data": {
      "text/html": [
       "<div>\n",
       "<style scoped>\n",
       "    .dataframe tbody tr th:only-of-type {\n",
       "        vertical-align: middle;\n",
       "    }\n",
       "\n",
       "    .dataframe tbody tr th {\n",
       "        vertical-align: top;\n",
       "    }\n",
       "\n",
       "    .dataframe thead th {\n",
       "        text-align: right;\n",
       "    }\n",
       "</style>\n",
       "<table border=\"1\" class=\"dataframe\">\n",
       "  <thead>\n",
       "    <tr style=\"text-align: right;\">\n",
       "      <th></th>\n",
       "      <th>attack</th>\n",
       "      <th>precision</th>\n",
       "      <th>recall</th>\n",
       "      <th>fscore</th>\n",
       "    </tr>\n",
       "  </thead>\n",
       "  <tbody>\n",
       "    <tr>\n",
       "      <th>0</th>\n",
       "      <td>DDOS attack-HOIC</td>\n",
       "      <td>0.946460</td>\n",
       "      <td>0.998812</td>\n",
       "      <td>0.971932</td>\n",
       "    </tr>\n",
       "    <tr>\n",
       "      <th>1</th>\n",
       "      <td>DDoS attacks-LOIC-HTTP</td>\n",
       "      <td>0.052336</td>\n",
       "      <td>0.229508</td>\n",
       "      <td>0.085236</td>\n",
       "    </tr>\n",
       "    <tr>\n",
       "      <th>2</th>\n",
       "      <td>DoS attacks-Hulk</td>\n",
       "      <td>0.000000</td>\n",
       "      <td>0.000000</td>\n",
       "      <td>0.000000</td>\n",
       "    </tr>\n",
       "    <tr>\n",
       "      <th>3</th>\n",
       "      <td>Bot</td>\n",
       "      <td>0.997832</td>\n",
       "      <td>0.999862</td>\n",
       "      <td>0.998846</td>\n",
       "    </tr>\n",
       "    <tr>\n",
       "      <th>4</th>\n",
       "      <td>FTP-BruteForce</td>\n",
       "      <td>0.723596</td>\n",
       "      <td>0.930636</td>\n",
       "      <td>0.814159</td>\n",
       "    </tr>\n",
       "    <tr>\n",
       "      <th>5</th>\n",
       "      <td>SSH-Bruteforce</td>\n",
       "      <td>0.995285</td>\n",
       "      <td>0.991071</td>\n",
       "      <td>0.993174</td>\n",
       "    </tr>\n",
       "    <tr>\n",
       "      <th>6</th>\n",
       "      <td>Infilteration</td>\n",
       "      <td>0.929488</td>\n",
       "      <td>0.898699</td>\n",
       "      <td>0.913834</td>\n",
       "    </tr>\n",
       "    <tr>\n",
       "      <th>7</th>\n",
       "      <td>DoS attacks-SlowHTTPTest</td>\n",
       "      <td>0.994349</td>\n",
       "      <td>0.999957</td>\n",
       "      <td>0.997145</td>\n",
       "    </tr>\n",
       "    <tr>\n",
       "      <th>8</th>\n",
       "      <td>DoS attacks-GoldenEye</td>\n",
       "      <td>0.641361</td>\n",
       "      <td>0.545035</td>\n",
       "      <td>0.589288</td>\n",
       "    </tr>\n",
       "    <tr>\n",
       "      <th>9</th>\n",
       "      <td>DoS attacks-Slowloris</td>\n",
       "      <td>0.961114</td>\n",
       "      <td>0.753412</td>\n",
       "      <td>0.844682</td>\n",
       "    </tr>\n",
       "    <tr>\n",
       "      <th>10</th>\n",
       "      <td>DDOS attack-LOIC-UDP</td>\n",
       "      <td>0.703352</td>\n",
       "      <td>0.780869</td>\n",
       "      <td>0.740086</td>\n",
       "    </tr>\n",
       "    <tr>\n",
       "      <th>11</th>\n",
       "      <td>Brute Force -Web</td>\n",
       "      <td>0.986915</td>\n",
       "      <td>0.868588</td>\n",
       "      <td>0.923979</td>\n",
       "    </tr>\n",
       "    <tr>\n",
       "      <th>12</th>\n",
       "      <td>Brute Force -XSS</td>\n",
       "      <td>0.063291</td>\n",
       "      <td>0.294118</td>\n",
       "      <td>0.104167</td>\n",
       "    </tr>\n",
       "    <tr>\n",
       "      <th>13</th>\n",
       "      <td>SQL Injection</td>\n",
       "      <td>0.993563</td>\n",
       "      <td>0.999733</td>\n",
       "      <td>0.996639</td>\n",
       "    </tr>\n",
       "  </tbody>\n",
       "</table>\n",
       "</div>"
      ],
      "text/plain": [
       "                      attack  precision    recall    fscore\n",
       "0           DDOS attack-HOIC   0.946460  0.998812  0.971932\n",
       "1     DDoS attacks-LOIC-HTTP   0.052336  0.229508  0.085236\n",
       "2           DoS attacks-Hulk   0.000000  0.000000  0.000000\n",
       "3                        Bot   0.997832  0.999862  0.998846\n",
       "4             FTP-BruteForce   0.723596  0.930636  0.814159\n",
       "5             SSH-Bruteforce   0.995285  0.991071  0.993174\n",
       "6              Infilteration   0.929488  0.898699  0.913834\n",
       "7   DoS attacks-SlowHTTPTest   0.994349  0.999957  0.997145\n",
       "8      DoS attacks-GoldenEye   0.641361  0.545035  0.589288\n",
       "9      DoS attacks-Slowloris   0.961114  0.753412  0.844682\n",
       "10      DDOS attack-LOIC-UDP   0.703352  0.780869  0.740086\n",
       "11          Brute Force -Web   0.986915  0.868588  0.923979\n",
       "12          Brute Force -XSS   0.063291  0.294118  0.104167\n",
       "13             SQL Injection   0.993563  0.999733  0.996639"
      ]
     },
     "execution_count": 88,
     "metadata": {},
     "output_type": "execute_result"
    }
   ],
   "source": [
    "results = pd.DataFrame(data=d)\n",
    "results"
   ]
  },
  {
   "cell_type": "code",
   "execution_count": 89,
   "metadata": {},
   "outputs": [
    {
     "name": "stdout",
     "output_type": "stream",
     "text": [
      "Classification Report\n",
      "              precision    recall  f1-score   support\n",
      "\n",
      "           0       0.95      1.00      0.97     57238\n",
      "           1       0.05      0.23      0.09       122\n",
      "           2       0.00      0.00      0.00        46\n",
      "           3       1.00      1.00      1.00    137203\n",
      "           4       0.72      0.93      0.81       346\n",
      "           5       1.00      0.99      0.99    115238\n",
      "           6       0.93      0.90      0.91      8302\n",
      "           7       0.99      1.00      1.00     92382\n",
      "           8       0.64      0.55      0.59     27978\n",
      "           9       0.96      0.75      0.84      2198\n",
      "          10       0.70      0.78      0.74     38671\n",
      "          11       0.99      0.87      0.92     32128\n",
      "          12       0.06      0.29      0.10        17\n",
      "          13       0.99      1.00      1.00     37518\n",
      "\n",
      "    accuracy                           0.95    549387\n",
      "   macro avg       0.71      0.74      0.71    549387\n",
      "weighted avg       0.95      0.95      0.95    549387\n",
      "\n"
     ]
    }
   ],
   "source": [
    "print(\"Classification Report\")\n",
    "print(classification_report(y_test, y_pred_SVM))"
   ]
  },
  {
   "cell_type": "markdown",
   "metadata": {},
   "source": [
    "# 2- Decision Tree"
   ]
  },
  {
   "cell_type": "code",
   "execution_count": 108,
   "metadata": {},
   "outputs": [],
   "source": [
    "classifier1 = DecisionTreeClassifier()"
   ]
  },
  {
   "cell_type": "code",
   "execution_count": 109,
   "metadata": {
    "scrolled": true
   },
   "outputs": [
    {
     "data": {
      "text/plain": [
       "DecisionTreeClassifier()"
      ]
     },
     "execution_count": 109,
     "metadata": {},
     "output_type": "execute_result"
    }
   ],
   "source": [
    "# fit the model\n",
    "classifier1.fit(x_train, y_train)"
   ]
  },
  {
   "cell_type": "code",
   "execution_count": 110,
   "metadata": {},
   "outputs": [],
   "source": [
    "# predict validation\n",
    "y_predicted_tree = classifier1.predict(x_test)"
   ]
  },
  {
   "cell_type": "code",
   "execution_count": 111,
   "metadata": {},
   "outputs": [],
   "source": [
    "precision, recall, fscore, support = score(y_test, y_predicted_tree)\n",
    "\n",
    "d = {'attack': attack, 'precision': precision,\n",
    "     'recall' : recall, 'fscore': fscore}"
   ]
  },
  {
   "cell_type": "code",
   "execution_count": 112,
   "metadata": {},
   "outputs": [
    {
     "data": {
      "text/html": [
       "<div>\n",
       "<style scoped>\n",
       "    .dataframe tbody tr th:only-of-type {\n",
       "        vertical-align: middle;\n",
       "    }\n",
       "\n",
       "    .dataframe tbody tr th {\n",
       "        vertical-align: top;\n",
       "    }\n",
       "\n",
       "    .dataframe thead th {\n",
       "        text-align: right;\n",
       "    }\n",
       "</style>\n",
       "<table border=\"1\" class=\"dataframe\">\n",
       "  <thead>\n",
       "    <tr style=\"text-align: right;\">\n",
       "      <th></th>\n",
       "      <th>attack</th>\n",
       "      <th>precision</th>\n",
       "      <th>recall</th>\n",
       "      <th>fscore</th>\n",
       "    </tr>\n",
       "  </thead>\n",
       "  <tbody>\n",
       "    <tr>\n",
       "      <th>0</th>\n",
       "      <td>DDOS attack-HOIC</td>\n",
       "      <td>0.999546</td>\n",
       "      <td>0.999668</td>\n",
       "      <td>0.999607</td>\n",
       "    </tr>\n",
       "    <tr>\n",
       "      <th>1</th>\n",
       "      <td>DDoS attacks-LOIC-HTTP</td>\n",
       "      <td>0.944444</td>\n",
       "      <td>0.975410</td>\n",
       "      <td>0.959677</td>\n",
       "    </tr>\n",
       "    <tr>\n",
       "      <th>2</th>\n",
       "      <td>DoS attacks-Hulk</td>\n",
       "      <td>0.888889</td>\n",
       "      <td>0.869565</td>\n",
       "      <td>0.879121</td>\n",
       "    </tr>\n",
       "    <tr>\n",
       "      <th>3</th>\n",
       "      <td>Bot</td>\n",
       "      <td>1.000000</td>\n",
       "      <td>0.999993</td>\n",
       "      <td>0.999996</td>\n",
       "    </tr>\n",
       "    <tr>\n",
       "      <th>4</th>\n",
       "      <td>FTP-BruteForce</td>\n",
       "      <td>0.884146</td>\n",
       "      <td>0.838150</td>\n",
       "      <td>0.860534</td>\n",
       "    </tr>\n",
       "    <tr>\n",
       "      <th>5</th>\n",
       "      <td>SSH-Bruteforce</td>\n",
       "      <td>0.999453</td>\n",
       "      <td>0.999653</td>\n",
       "      <td>0.999553</td>\n",
       "    </tr>\n",
       "    <tr>\n",
       "      <th>6</th>\n",
       "      <td>Infilteration</td>\n",
       "      <td>0.999398</td>\n",
       "      <td>0.999759</td>\n",
       "      <td>0.999578</td>\n",
       "    </tr>\n",
       "    <tr>\n",
       "      <th>7</th>\n",
       "      <td>DoS attacks-SlowHTTPTest</td>\n",
       "      <td>0.999968</td>\n",
       "      <td>0.999946</td>\n",
       "      <td>0.999957</td>\n",
       "    </tr>\n",
       "    <tr>\n",
       "      <th>8</th>\n",
       "      <td>DoS attacks-GoldenEye</td>\n",
       "      <td>0.765900</td>\n",
       "      <td>0.508328</td>\n",
       "      <td>0.611081</td>\n",
       "    </tr>\n",
       "    <tr>\n",
       "      <th>9</th>\n",
       "      <td>DoS attacks-Slowloris</td>\n",
       "      <td>0.996350</td>\n",
       "      <td>0.993631</td>\n",
       "      <td>0.994989</td>\n",
       "    </tr>\n",
       "    <tr>\n",
       "      <th>10</th>\n",
       "      <td>DDOS attack-LOIC-UDP</td>\n",
       "      <td>0.713772</td>\n",
       "      <td>0.887642</td>\n",
       "      <td>0.791268</td>\n",
       "    </tr>\n",
       "    <tr>\n",
       "      <th>11</th>\n",
       "      <td>Brute Force -Web</td>\n",
       "      <td>0.998879</td>\n",
       "      <td>0.998568</td>\n",
       "      <td>0.998724</td>\n",
       "    </tr>\n",
       "    <tr>\n",
       "      <th>12</th>\n",
       "      <td>Brute Force -XSS</td>\n",
       "      <td>0.705882</td>\n",
       "      <td>0.705882</td>\n",
       "      <td>0.705882</td>\n",
       "    </tr>\n",
       "    <tr>\n",
       "      <th>13</th>\n",
       "      <td>SQL Injection</td>\n",
       "      <td>1.000000</td>\n",
       "      <td>0.999733</td>\n",
       "      <td>0.999867</td>\n",
       "    </tr>\n",
       "  </tbody>\n",
       "</table>\n",
       "</div>"
      ],
      "text/plain": [
       "                      attack  precision    recall    fscore\n",
       "0           DDOS attack-HOIC   0.999546  0.999668  0.999607\n",
       "1     DDoS attacks-LOIC-HTTP   0.944444  0.975410  0.959677\n",
       "2           DoS attacks-Hulk   0.888889  0.869565  0.879121\n",
       "3                        Bot   1.000000  0.999993  0.999996\n",
       "4             FTP-BruteForce   0.884146  0.838150  0.860534\n",
       "5             SSH-Bruteforce   0.999453  0.999653  0.999553\n",
       "6              Infilteration   0.999398  0.999759  0.999578\n",
       "7   DoS attacks-SlowHTTPTest   0.999968  0.999946  0.999957\n",
       "8      DoS attacks-GoldenEye   0.765900  0.508328  0.611081\n",
       "9      DoS attacks-Slowloris   0.996350  0.993631  0.994989\n",
       "10      DDOS attack-LOIC-UDP   0.713772  0.887642  0.791268\n",
       "11          Brute Force -Web   0.998879  0.998568  0.998724\n",
       "12          Brute Force -XSS   0.705882  0.705882  0.705882\n",
       "13             SQL Injection   1.000000  0.999733  0.999867"
      ]
     },
     "execution_count": 112,
     "metadata": {},
     "output_type": "execute_result"
    }
   ],
   "source": [
    "results = pd.DataFrame(data=d)\n",
    "results"
   ]
  },
  {
   "cell_type": "code",
   "execution_count": 113,
   "metadata": {},
   "outputs": [
    {
     "name": "stdout",
     "output_type": "stream",
     "text": [
      "Classification Report\n",
      "              precision    recall  f1-score   support\n",
      "\n",
      "           0       1.00      1.00      1.00     57238\n",
      "           1       0.94      0.98      0.96       122\n",
      "           2       0.89      0.87      0.88        46\n",
      "           3       1.00      1.00      1.00    137203\n",
      "           4       0.88      0.84      0.86       346\n",
      "           5       1.00      1.00      1.00    115238\n",
      "           6       1.00      1.00      1.00      8302\n",
      "           7       1.00      1.00      1.00     92382\n",
      "           8       0.77      0.51      0.61     27978\n",
      "           9       1.00      0.99      0.99      2198\n",
      "          10       0.71      0.89      0.79     38671\n",
      "          11       1.00      1.00      1.00     32128\n",
      "          12       0.71      0.71      0.71        17\n",
      "          13       1.00      1.00      1.00     37518\n",
      "\n",
      "    accuracy                           0.97    549387\n",
      "   macro avg       0.92      0.91      0.91    549387\n",
      "weighted avg       0.97      0.97      0.97    549387\n",
      "\n"
     ]
    }
   ],
   "source": [
    "print(\"Classification Report\")\n",
    "print(classification_report(y_test, y_predicted_tree))"
   ]
  },
  {
   "cell_type": "code",
   "execution_count": 114,
   "metadata": {},
   "outputs": [
    {
     "name": "stderr",
     "output_type": "stream",
     "text": [
      "/home/upm/anaconda3/lib/python3.8/site-packages/sklearn/utils/deprecation.py:87: FutureWarning: Function plot_confusion_matrix is deprecated; Function `plot_confusion_matrix` is deprecated in 1.0 and will be removed in 1.2. Use one of the class methods: ConfusionMatrixDisplay.from_predictions or ConfusionMatrixDisplay.from_estimator.\n",
      "  warnings.warn(msg, category=FutureWarning)\n"
     ]
    },
    {
     "data": {
      "image/png": "[encoded data removed]",
      "text/plain": [
       "<Figure size 1080x720 with 2 Axes>"
      ]
     },
     "metadata": {
      "needs_background": "light"
     },
     "output_type": "display_data"
    }
   ],
   "source": [
    "fig, ax = plt.subplots(figsize=(15, 10))\n",
    "matrix = plot_confusion_matrix(classifier1 , x_test , y_test , ax=ax)\n",
    "\n",
    "plt.show(matrix)\n",
    "plt.show()"
   ]
  },
  {
   "cell_type": "markdown",
   "metadata": {},
   "source": [
    "# 3- Naive Bayes"
   ]
  },
  {
   "cell_type": "code",
   "execution_count": 91,
   "metadata": {},
   "outputs": [],
   "source": [
    "NB_cls = MultinomialNB()"
   ]
  },
  {
   "cell_type": "code",
   "execution_count": 92,
   "metadata": {},
   "outputs": [
    {
     "data": {
      "text/plain": [
       "MultinomialNB()"
      ]
     },
     "execution_count": 92,
     "metadata": {},
     "output_type": "execute_result"
    }
   ],
   "source": [
    "# fit model\n",
    "NB_cls.fit(x_train, y_train)\n"
   ]
  },
  {
   "cell_type": "code",
   "execution_count": 93,
   "metadata": {},
   "outputs": [],
   "source": [
    "# predict\n",
    "y_predicted_nb = NB_cls.predict(x_test)\n"
   ]
  },
  {
   "cell_type": "code",
   "execution_count": 94,
   "metadata": {},
   "outputs": [
    {
     "name": "stderr",
     "output_type": "stream",
     "text": [
      "/home/upm/anaconda3/lib/python3.8/site-packages/sklearn/utils/deprecation.py:87: FutureWarning: Function plot_confusion_matrix is deprecated; Function `plot_confusion_matrix` is deprecated in 1.0 and will be removed in 1.2. Use one of the class methods: ConfusionMatrixDisplay.from_predictions or ConfusionMatrixDisplay.from_estimator.\n",
      "  warnings.warn(msg, category=FutureWarning)\n"
     ]
    },
    {
     "data": {
      "image/png": "[encoded data removed]",
      "text/plain": [
       "<Figure size 1080x720 with 2 Axes>"
      ]
     },
     "metadata": {
      "needs_background": "light"
     },
     "output_type": "display_data"
    }
   ],
   "source": [
    "fig, ax = plt.subplots(figsize=(15, 10))\n",
    "matrix = plot_confusion_matrix(NB_cls , x_test , y_test , ax=ax)\n",
    "\n",
    "plt.show(matrix)"
   ]
  },
  {
   "cell_type": "code",
   "execution_count": 95,
   "metadata": {},
   "outputs": [
    {
     "name": "stderr",
     "output_type": "stream",
     "text": [
      "/home/upm/anaconda3/lib/python3.8/site-packages/sklearn/metrics/_classification.py:1318: UndefinedMetricWarning: Precision and F-score are ill-defined and being set to 0.0 in labels with no predicted samples. Use `zero_division` parameter to control this behavior.\n",
      "  _warn_prf(average, modifier, msg_start, len(result))\n"
     ]
    }
   ],
   "source": [
    "precision, recall, fscore, support = score(y_test, y_predicted_nb)\n",
    "d = {'attack': attack, 'precision': precision, 'recall' : recall, 'fscore': fscore}"
   ]
  },
  {
   "cell_type": "code",
   "execution_count": 33,
   "metadata": {},
   "outputs": [
    {
     "data": {
      "text/html": [
       "<div>\n",
       "<style scoped>\n",
       "    .dataframe tbody tr th:only-of-type {\n",
       "        vertical-align: middle;\n",
       "    }\n",
       "\n",
       "    .dataframe tbody tr th {\n",
       "        vertical-align: top;\n",
       "    }\n",
       "\n",
       "    .dataframe thead th {\n",
       "        text-align: right;\n",
       "    }\n",
       "</style>\n",
       "<table border=\"1\" class=\"dataframe\">\n",
       "  <thead>\n",
       "    <tr style=\"text-align: right;\">\n",
       "      <th>label_cat</th>\n",
       "      <th>0</th>\n",
       "      <th>1</th>\n",
       "      <th>2</th>\n",
       "      <th>3</th>\n",
       "      <th>4</th>\n",
       "      <th>5</th>\n",
       "      <th>6</th>\n",
       "      <th>7</th>\n",
       "      <th>8</th>\n",
       "      <th>9</th>\n",
       "      <th>10</th>\n",
       "      <th>11</th>\n",
       "      <th>12</th>\n",
       "      <th>13</th>\n",
       "    </tr>\n",
       "    <tr>\n",
       "      <th>label_cat</th>\n",
       "      <th></th>\n",
       "      <th></th>\n",
       "      <th></th>\n",
       "      <th></th>\n",
       "      <th></th>\n",
       "      <th></th>\n",
       "      <th></th>\n",
       "      <th></th>\n",
       "      <th></th>\n",
       "      <th></th>\n",
       "      <th></th>\n",
       "      <th></th>\n",
       "      <th></th>\n",
       "      <th></th>\n",
       "    </tr>\n",
       "  </thead>\n",
       "  <tbody>\n",
       "    <tr>\n",
       "      <th>0</th>\n",
       "      <td>57238</td>\n",
       "      <td>0</td>\n",
       "      <td>0</td>\n",
       "      <td>0</td>\n",
       "      <td>0</td>\n",
       "      <td>0</td>\n",
       "      <td>0</td>\n",
       "      <td>0</td>\n",
       "      <td>0</td>\n",
       "      <td>0</td>\n",
       "      <td>0</td>\n",
       "      <td>0</td>\n",
       "      <td>0</td>\n",
       "      <td>0</td>\n",
       "    </tr>\n",
       "    <tr>\n",
       "      <th>1</th>\n",
       "      <td>0</td>\n",
       "      <td>122</td>\n",
       "      <td>0</td>\n",
       "      <td>0</td>\n",
       "      <td>0</td>\n",
       "      <td>0</td>\n",
       "      <td>0</td>\n",
       "      <td>0</td>\n",
       "      <td>0</td>\n",
       "      <td>0</td>\n",
       "      <td>0</td>\n",
       "      <td>0</td>\n",
       "      <td>0</td>\n",
       "      <td>0</td>\n",
       "    </tr>\n",
       "    <tr>\n",
       "      <th>2</th>\n",
       "      <td>0</td>\n",
       "      <td>0</td>\n",
       "      <td>46</td>\n",
       "      <td>0</td>\n",
       "      <td>0</td>\n",
       "      <td>0</td>\n",
       "      <td>0</td>\n",
       "      <td>0</td>\n",
       "      <td>0</td>\n",
       "      <td>0</td>\n",
       "      <td>0</td>\n",
       "      <td>0</td>\n",
       "      <td>0</td>\n",
       "      <td>0</td>\n",
       "    </tr>\n",
       "    <tr>\n",
       "      <th>3</th>\n",
       "      <td>0</td>\n",
       "      <td>0</td>\n",
       "      <td>0</td>\n",
       "      <td>137203</td>\n",
       "      <td>0</td>\n",
       "      <td>0</td>\n",
       "      <td>0</td>\n",
       "      <td>0</td>\n",
       "      <td>0</td>\n",
       "      <td>0</td>\n",
       "      <td>0</td>\n",
       "      <td>0</td>\n",
       "      <td>0</td>\n",
       "      <td>0</td>\n",
       "    </tr>\n",
       "    <tr>\n",
       "      <th>4</th>\n",
       "      <td>0</td>\n",
       "      <td>0</td>\n",
       "      <td>0</td>\n",
       "      <td>0</td>\n",
       "      <td>346</td>\n",
       "      <td>0</td>\n",
       "      <td>0</td>\n",
       "      <td>0</td>\n",
       "      <td>0</td>\n",
       "      <td>0</td>\n",
       "      <td>0</td>\n",
       "      <td>0</td>\n",
       "      <td>0</td>\n",
       "      <td>0</td>\n",
       "    </tr>\n",
       "    <tr>\n",
       "      <th>5</th>\n",
       "      <td>0</td>\n",
       "      <td>0</td>\n",
       "      <td>0</td>\n",
       "      <td>0</td>\n",
       "      <td>0</td>\n",
       "      <td>115238</td>\n",
       "      <td>0</td>\n",
       "      <td>0</td>\n",
       "      <td>0</td>\n",
       "      <td>0</td>\n",
       "      <td>0</td>\n",
       "      <td>0</td>\n",
       "      <td>0</td>\n",
       "      <td>0</td>\n",
       "    </tr>\n",
       "    <tr>\n",
       "      <th>6</th>\n",
       "      <td>0</td>\n",
       "      <td>0</td>\n",
       "      <td>0</td>\n",
       "      <td>0</td>\n",
       "      <td>0</td>\n",
       "      <td>0</td>\n",
       "      <td>8302</td>\n",
       "      <td>0</td>\n",
       "      <td>0</td>\n",
       "      <td>0</td>\n",
       "      <td>0</td>\n",
       "      <td>0</td>\n",
       "      <td>0</td>\n",
       "      <td>0</td>\n",
       "    </tr>\n",
       "    <tr>\n",
       "      <th>7</th>\n",
       "      <td>0</td>\n",
       "      <td>0</td>\n",
       "      <td>0</td>\n",
       "      <td>0</td>\n",
       "      <td>0</td>\n",
       "      <td>0</td>\n",
       "      <td>0</td>\n",
       "      <td>92382</td>\n",
       "      <td>0</td>\n",
       "      <td>0</td>\n",
       "      <td>0</td>\n",
       "      <td>0</td>\n",
       "      <td>0</td>\n",
       "      <td>0</td>\n",
       "    </tr>\n",
       "    <tr>\n",
       "      <th>8</th>\n",
       "      <td>0</td>\n",
       "      <td>0</td>\n",
       "      <td>0</td>\n",
       "      <td>0</td>\n",
       "      <td>0</td>\n",
       "      <td>0</td>\n",
       "      <td>0</td>\n",
       "      <td>0</td>\n",
       "      <td>27978</td>\n",
       "      <td>0</td>\n",
       "      <td>0</td>\n",
       "      <td>0</td>\n",
       "      <td>0</td>\n",
       "      <td>0</td>\n",
       "    </tr>\n",
       "    <tr>\n",
       "      <th>9</th>\n",
       "      <td>0</td>\n",
       "      <td>0</td>\n",
       "      <td>0</td>\n",
       "      <td>0</td>\n",
       "      <td>0</td>\n",
       "      <td>0</td>\n",
       "      <td>0</td>\n",
       "      <td>0</td>\n",
       "      <td>0</td>\n",
       "      <td>2198</td>\n",
       "      <td>0</td>\n",
       "      <td>0</td>\n",
       "      <td>0</td>\n",
       "      <td>0</td>\n",
       "    </tr>\n",
       "    <tr>\n",
       "      <th>10</th>\n",
       "      <td>0</td>\n",
       "      <td>0</td>\n",
       "      <td>0</td>\n",
       "      <td>0</td>\n",
       "      <td>0</td>\n",
       "      <td>0</td>\n",
       "      <td>0</td>\n",
       "      <td>0</td>\n",
       "      <td>0</td>\n",
       "      <td>0</td>\n",
       "      <td>38671</td>\n",
       "      <td>0</td>\n",
       "      <td>0</td>\n",
       "      <td>0</td>\n",
       "    </tr>\n",
       "    <tr>\n",
       "      <th>11</th>\n",
       "      <td>0</td>\n",
       "      <td>0</td>\n",
       "      <td>0</td>\n",
       "      <td>0</td>\n",
       "      <td>0</td>\n",
       "      <td>0</td>\n",
       "      <td>0</td>\n",
       "      <td>0</td>\n",
       "      <td>0</td>\n",
       "      <td>0</td>\n",
       "      <td>0</td>\n",
       "      <td>32128</td>\n",
       "      <td>0</td>\n",
       "      <td>0</td>\n",
       "    </tr>\n",
       "    <tr>\n",
       "      <th>12</th>\n",
       "      <td>0</td>\n",
       "      <td>0</td>\n",
       "      <td>0</td>\n",
       "      <td>0</td>\n",
       "      <td>0</td>\n",
       "      <td>0</td>\n",
       "      <td>0</td>\n",
       "      <td>0</td>\n",
       "      <td>0</td>\n",
       "      <td>0</td>\n",
       "      <td>0</td>\n",
       "      <td>0</td>\n",
       "      <td>17</td>\n",
       "      <td>0</td>\n",
       "    </tr>\n",
       "    <tr>\n",
       "      <th>13</th>\n",
       "      <td>0</td>\n",
       "      <td>0</td>\n",
       "      <td>0</td>\n",
       "      <td>0</td>\n",
       "      <td>0</td>\n",
       "      <td>0</td>\n",
       "      <td>0</td>\n",
       "      <td>0</td>\n",
       "      <td>0</td>\n",
       "      <td>0</td>\n",
       "      <td>0</td>\n",
       "      <td>0</td>\n",
       "      <td>0</td>\n",
       "      <td>37518</td>\n",
       "    </tr>\n",
       "  </tbody>\n",
       "</table>\n",
       "</div>"
      ],
      "text/plain": [
       "label_cat     0    1   2       3    4       5     6      7      8     9   \\\n",
       "label_cat                                                                  \n",
       "0          57238    0   0       0    0       0     0      0      0     0   \n",
       "1              0  122   0       0    0       0     0      0      0     0   \n",
       "2              0    0  46       0    0       0     0      0      0     0   \n",
       "3              0    0   0  137203    0       0     0      0      0     0   \n",
       "4              0    0   0       0  346       0     0      0      0     0   \n",
       "5              0    0   0       0    0  115238     0      0      0     0   \n",
       "6              0    0   0       0    0       0  8302      0      0     0   \n",
       "7              0    0   0       0    0       0     0  92382      0     0   \n",
       "8              0    0   0       0    0       0     0      0  27978     0   \n",
       "9              0    0   0       0    0       0     0      0      0  2198   \n",
       "10             0    0   0       0    0       0     0      0      0     0   \n",
       "11             0    0   0       0    0       0     0      0      0     0   \n",
       "12             0    0   0       0    0       0     0      0      0     0   \n",
       "13             0    0   0       0    0       0     0      0      0     0   \n",
       "\n",
       "label_cat     10     11  12     13  \n",
       "label_cat                           \n",
       "0              0      0   0      0  \n",
       "1              0      0   0      0  \n",
       "2              0      0   0      0  \n",
       "3              0      0   0      0  \n",
       "4              0      0   0      0  \n",
       "5              0      0   0      0  \n",
       "6              0      0   0      0  \n",
       "7              0      0   0      0  \n",
       "8              0      0   0      0  \n",
       "9              0      0   0      0  \n",
       "10         38671      0   0      0  \n",
       "11             0  32128   0      0  \n",
       "12             0      0  17      0  \n",
       "13             0      0   0  37518  "
      ]
     },
     "execution_count": 33,
     "metadata": {},
     "output_type": "execute_result"
    }
   ],
   "source": [
    "confusion_nb_1 = pd.crosstab(y_test, y_test)\n",
    "confusion_nb_1"
   ]
  },
  {
   "cell_type": "code",
   "execution_count": 97,
   "metadata": {},
   "outputs": [
    {
     "data": {
      "text/html": [
       "<div>\n",
       "<style scoped>\n",
       "    .dataframe tbody tr th:only-of-type {\n",
       "        vertical-align: middle;\n",
       "    }\n",
       "\n",
       "    .dataframe tbody tr th {\n",
       "        vertical-align: top;\n",
       "    }\n",
       "\n",
       "    .dataframe thead th {\n",
       "        text-align: right;\n",
       "    }\n",
       "</style>\n",
       "<table border=\"1\" class=\"dataframe\">\n",
       "  <thead>\n",
       "    <tr style=\"text-align: right;\">\n",
       "      <th></th>\n",
       "      <th>attack</th>\n",
       "      <th>precision</th>\n",
       "      <th>recall</th>\n",
       "      <th>fscore</th>\n",
       "    </tr>\n",
       "  </thead>\n",
       "  <tbody>\n",
       "    <tr>\n",
       "      <th>0</th>\n",
       "      <td>DDOS attack-HOIC</td>\n",
       "      <td>0.930929</td>\n",
       "      <td>0.500140</td>\n",
       "      <td>0.650695</td>\n",
       "    </tr>\n",
       "    <tr>\n",
       "      <th>1</th>\n",
       "      <td>DDoS attacks-LOIC-HTTP</td>\n",
       "      <td>0.000000</td>\n",
       "      <td>0.000000</td>\n",
       "      <td>0.000000</td>\n",
       "    </tr>\n",
       "    <tr>\n",
       "      <th>2</th>\n",
       "      <td>DoS attacks-Hulk</td>\n",
       "      <td>0.000000</td>\n",
       "      <td>0.000000</td>\n",
       "      <td>0.000000</td>\n",
       "    </tr>\n",
       "    <tr>\n",
       "      <th>3</th>\n",
       "      <td>Bot</td>\n",
       "      <td>0.831947</td>\n",
       "      <td>1.000000</td>\n",
       "      <td>0.908265</td>\n",
       "    </tr>\n",
       "    <tr>\n",
       "      <th>4</th>\n",
       "      <td>FTP-BruteForce</td>\n",
       "      <td>0.716702</td>\n",
       "      <td>0.979769</td>\n",
       "      <td>0.827839</td>\n",
       "    </tr>\n",
       "    <tr>\n",
       "      <th>5</th>\n",
       "      <td>SSH-Bruteforce</td>\n",
       "      <td>0.966644</td>\n",
       "      <td>0.934995</td>\n",
       "      <td>0.950556</td>\n",
       "    </tr>\n",
       "    <tr>\n",
       "      <th>6</th>\n",
       "      <td>Infilteration</td>\n",
       "      <td>0.978784</td>\n",
       "      <td>0.083353</td>\n",
       "      <td>0.153624</td>\n",
       "    </tr>\n",
       "    <tr>\n",
       "      <th>7</th>\n",
       "      <td>DoS attacks-SlowHTTPTest</td>\n",
       "      <td>0.690084</td>\n",
       "      <td>0.946429</td>\n",
       "      <td>0.798180</td>\n",
       "    </tr>\n",
       "    <tr>\n",
       "      <th>8</th>\n",
       "      <td>DoS attacks-GoldenEye</td>\n",
       "      <td>0.000000</td>\n",
       "      <td>0.000000</td>\n",
       "      <td>0.000000</td>\n",
       "    </tr>\n",
       "    <tr>\n",
       "      <th>9</th>\n",
       "      <td>DoS attacks-Slowloris</td>\n",
       "      <td>0.714150</td>\n",
       "      <td>0.681984</td>\n",
       "      <td>0.697696</td>\n",
       "    </tr>\n",
       "    <tr>\n",
       "      <th>10</th>\n",
       "      <td>DDOS attack-LOIC-UDP</td>\n",
       "      <td>0.533592</td>\n",
       "      <td>1.000000</td>\n",
       "      <td>0.695872</td>\n",
       "    </tr>\n",
       "    <tr>\n",
       "      <th>11</th>\n",
       "      <td>Brute Force -Web</td>\n",
       "      <td>0.855368</td>\n",
       "      <td>0.426326</td>\n",
       "      <td>0.569037</td>\n",
       "    </tr>\n",
       "    <tr>\n",
       "      <th>12</th>\n",
       "      <td>Brute Force -XSS</td>\n",
       "      <td>0.000000</td>\n",
       "      <td>0.000000</td>\n",
       "      <td>0.000000</td>\n",
       "    </tr>\n",
       "    <tr>\n",
       "      <th>13</th>\n",
       "      <td>SQL Injection</td>\n",
       "      <td>0.793854</td>\n",
       "      <td>0.503358</td>\n",
       "      <td>0.616080</td>\n",
       "    </tr>\n",
       "  </tbody>\n",
       "</table>\n",
       "</div>"
      ],
      "text/plain": [
       "                      attack  precision    recall    fscore\n",
       "0           DDOS attack-HOIC   0.930929  0.500140  0.650695\n",
       "1     DDoS attacks-LOIC-HTTP   0.000000  0.000000  0.000000\n",
       "2           DoS attacks-Hulk   0.000000  0.000000  0.000000\n",
       "3                        Bot   0.831947  1.000000  0.908265\n",
       "4             FTP-BruteForce   0.716702  0.979769  0.827839\n",
       "5             SSH-Bruteforce   0.966644  0.934995  0.950556\n",
       "6              Infilteration   0.978784  0.083353  0.153624\n",
       "7   DoS attacks-SlowHTTPTest   0.690084  0.946429  0.798180\n",
       "8      DoS attacks-GoldenEye   0.000000  0.000000  0.000000\n",
       "9      DoS attacks-Slowloris   0.714150  0.681984  0.697696\n",
       "10      DDOS attack-LOIC-UDP   0.533592  1.000000  0.695872\n",
       "11          Brute Force -Web   0.855368  0.426326  0.569037\n",
       "12          Brute Force -XSS   0.000000  0.000000  0.000000\n",
       "13             SQL Injection   0.793854  0.503358  0.616080"
      ]
     },
     "execution_count": 97,
     "metadata": {},
     "output_type": "execute_result"
    }
   ],
   "source": [
    "results = pd.DataFrame(data=d)\n",
    "results"
   ]
  },
  {
   "cell_type": "code",
   "execution_count": 98,
   "metadata": {},
   "outputs": [
    {
     "name": "stdout",
     "output_type": "stream",
     "text": [
      "Classification Report\n"
     ]
    },
    {
     "name": "stderr",
     "output_type": "stream",
     "text": [
      "/home/upm/anaconda3/lib/python3.8/site-packages/sklearn/metrics/_classification.py:1318: UndefinedMetricWarning: Precision and F-score are ill-defined and being set to 0.0 in labels with no predicted samples. Use `zero_division` parameter to control this behavior.\n",
      "  _warn_prf(average, modifier, msg_start, len(result))\n"
     ]
    },
    {
     "name": "stdout",
     "output_type": "stream",
     "text": [
      "              precision    recall  f1-score   support\n",
      "\n",
      "           0       0.93      0.50      0.65     57238\n",
      "           1       0.00      0.00      0.00       122\n",
      "           2       0.00      0.00      0.00        46\n",
      "           3       0.83      1.00      0.91    137203\n",
      "           4       0.72      0.98      0.83       346\n",
      "           5       0.97      0.93      0.95    115238\n",
      "           6       0.98      0.08      0.15      8302\n",
      "           7       0.69      0.95      0.80     92382\n",
      "           8       0.00      0.00      0.00     27978\n",
      "           9       0.71      0.68      0.70      2198\n",
      "          10       0.53      1.00      0.70     38671\n",
      "          11       0.86      0.43      0.57     32128\n",
      "          12       0.00      0.00      0.00        17\n",
      "          13       0.79      0.50      0.62     37518\n",
      "\n",
      "    accuracy                           0.79    549387\n",
      "   macro avg       0.57      0.50      0.49    549387\n",
      "weighted avg       0.78      0.79      0.76    549387\n",
      "\n"
     ]
    },
    {
     "name": "stderr",
     "output_type": "stream",
     "text": [
      "/home/upm/anaconda3/lib/python3.8/site-packages/sklearn/metrics/_classification.py:1318: UndefinedMetricWarning: Precision and F-score are ill-defined and being set to 0.0 in labels with no predicted samples. Use `zero_division` parameter to control this behavior.\n",
      "  _warn_prf(average, modifier, msg_start, len(result))\n",
      "/home/upm/anaconda3/lib/python3.8/site-packages/sklearn/metrics/_classification.py:1318: UndefinedMetricWarning: Precision and F-score are ill-defined and being set to 0.0 in labels with no predicted samples. Use `zero_division` parameter to control this behavior.\n",
      "  _warn_prf(average, modifier, msg_start, len(result))\n"
     ]
    }
   ],
   "source": [
    "print(\"Classification Report\")\n",
    "print(classification_report(y_test, y_predicted_nb))"
   ]
  },
  {
   "cell_type": "markdown",
   "metadata": {},
   "source": [
    "# 4- Random Forest"
   ]
  },
  {
   "cell_type": "code",
   "execution_count": 99,
   "metadata": {},
   "outputs": [],
   "source": [
    "forest =  RandomForestClassifier()"
   ]
  },
  {
   "cell_type": "code",
   "execution_count": 100,
   "metadata": {},
   "outputs": [
    {
     "data": {
      "text/plain": [
       "RandomForestClassifier()"
      ]
     },
     "execution_count": 100,
     "metadata": {},
     "output_type": "execute_result"
    }
   ],
   "source": [
    "#fit\n",
    "forest.fit(x_train, y_train)\n"
   ]
  },
  {
   "cell_type": "code",
   "execution_count": 101,
   "metadata": {},
   "outputs": [],
   "source": [
    "# predict\n",
    "y_predicted_f = forest.predict(x_test)\n"
   ]
  },
  {
   "cell_type": "code",
   "execution_count": 102,
   "metadata": {},
   "outputs": [
    {
     "name": "stderr",
     "output_type": "stream",
     "text": [
      "/home/upm/anaconda3/lib/python3.8/site-packages/sklearn/utils/deprecation.py:87: FutureWarning: Function plot_confusion_matrix is deprecated; Function `plot_confusion_matrix` is deprecated in 1.0 and will be removed in 1.2. Use one of the class methods: ConfusionMatrixDisplay.from_predictions or ConfusionMatrixDisplay.from_estimator.\n",
      "  warnings.warn(msg, category=FutureWarning)\n"
     ]
    },
    {
     "data": {
      "image/png": "[encoded data removed]",
      "text/plain": [
       "<Figure size 1080x720 with 2 Axes>"
      ]
     },
     "metadata": {
      "needs_background": "light"
     },
     "output_type": "display_data"
    }
   ],
   "source": [
    "fig, ax = plt.subplots(figsize=(15, 10))\n",
    "matrix = plot_confusion_matrix(forest , x_test , y_test , ax=ax)\n",
    "\n",
    "plt.show(matrix)\n",
    "plt.show()"
   ]
  },
  {
   "cell_type": "code",
   "execution_count": 40,
   "metadata": {},
   "outputs": [],
   "source": [
    "precision, recall, fscore, support = score(y_test, y_predicted_f)\n",
    "d = {'attack': attack, 'precision': precision, \n",
    "     'recall' : recall, 'fscore': fscore}"
   ]
  },
  {
   "cell_type": "code",
   "execution_count": 41,
   "metadata": {},
   "outputs": [
    {
     "data": {
      "text/html": [
       "<div>\n",
       "<style scoped>\n",
       "    .dataframe tbody tr th:only-of-type {\n",
       "        vertical-align: middle;\n",
       "    }\n",
       "\n",
       "    .dataframe tbody tr th {\n",
       "        vertical-align: top;\n",
       "    }\n",
       "\n",
       "    .dataframe thead th {\n",
       "        text-align: right;\n",
       "    }\n",
       "</style>\n",
       "<table border=\"1\" class=\"dataframe\">\n",
       "  <thead>\n",
       "    <tr style=\"text-align: right;\">\n",
       "      <th></th>\n",
       "      <th>attack</th>\n",
       "      <th>precision</th>\n",
       "      <th>recall</th>\n",
       "      <th>fscore</th>\n",
       "    </tr>\n",
       "  </thead>\n",
       "  <tbody>\n",
       "    <tr>\n",
       "      <th>0</th>\n",
       "      <td>DDOS attack-HOIC</td>\n",
       "      <td>0.999214</td>\n",
       "      <td>0.999633</td>\n",
       "      <td>0.999424</td>\n",
       "    </tr>\n",
       "    <tr>\n",
       "      <th>1</th>\n",
       "      <td>DDoS attacks-LOIC-HTTP</td>\n",
       "      <td>0.987952</td>\n",
       "      <td>0.672131</td>\n",
       "      <td>0.800000</td>\n",
       "    </tr>\n",
       "    <tr>\n",
       "      <th>2</th>\n",
       "      <td>DoS attacks-Hulk</td>\n",
       "      <td>0.891892</td>\n",
       "      <td>0.717391</td>\n",
       "      <td>0.795181</td>\n",
       "    </tr>\n",
       "    <tr>\n",
       "      <th>3</th>\n",
       "      <td>Bot</td>\n",
       "      <td>0.999993</td>\n",
       "      <td>0.999993</td>\n",
       "      <td>0.999993</td>\n",
       "    </tr>\n",
       "    <tr>\n",
       "      <th>4</th>\n",
       "      <td>FTP-BruteForce</td>\n",
       "      <td>0.872576</td>\n",
       "      <td>0.910405</td>\n",
       "      <td>0.891089</td>\n",
       "    </tr>\n",
       "    <tr>\n",
       "      <th>5</th>\n",
       "      <td>SSH-Bruteforce</td>\n",
       "      <td>0.999601</td>\n",
       "      <td>0.999540</td>\n",
       "      <td>0.999570</td>\n",
       "    </tr>\n",
       "    <tr>\n",
       "      <th>6</th>\n",
       "      <td>Infilteration</td>\n",
       "      <td>0.999759</td>\n",
       "      <td>0.999880</td>\n",
       "      <td>0.999819</td>\n",
       "    </tr>\n",
       "    <tr>\n",
       "      <th>7</th>\n",
       "      <td>DoS attacks-SlowHTTPTest</td>\n",
       "      <td>0.999989</td>\n",
       "      <td>0.999978</td>\n",
       "      <td>0.999984</td>\n",
       "    </tr>\n",
       "    <tr>\n",
       "      <th>8</th>\n",
       "      <td>DoS attacks-GoldenEye</td>\n",
       "      <td>0.764655</td>\n",
       "      <td>0.506791</td>\n",
       "      <td>0.609574</td>\n",
       "    </tr>\n",
       "    <tr>\n",
       "      <th>9</th>\n",
       "      <td>DoS attacks-Slowloris</td>\n",
       "      <td>0.999540</td>\n",
       "      <td>0.988626</td>\n",
       "      <td>0.994053</td>\n",
       "    </tr>\n",
       "    <tr>\n",
       "      <th>10</th>\n",
       "      <td>DDOS attack-LOIC-UDP</td>\n",
       "      <td>0.713062</td>\n",
       "      <td>0.887202</td>\n",
       "      <td>0.790657</td>\n",
       "    </tr>\n",
       "    <tr>\n",
       "      <th>11</th>\n",
       "      <td>Brute Force -Web</td>\n",
       "      <td>0.996923</td>\n",
       "      <td>0.998195</td>\n",
       "      <td>0.997558</td>\n",
       "    </tr>\n",
       "    <tr>\n",
       "      <th>12</th>\n",
       "      <td>Brute Force -XSS</td>\n",
       "      <td>0.714286</td>\n",
       "      <td>0.588235</td>\n",
       "      <td>0.645161</td>\n",
       "    </tr>\n",
       "    <tr>\n",
       "      <th>13</th>\n",
       "      <td>SQL Injection</td>\n",
       "      <td>0.999947</td>\n",
       "      <td>0.999760</td>\n",
       "      <td>0.999853</td>\n",
       "    </tr>\n",
       "  </tbody>\n",
       "</table>\n",
       "</div>"
      ],
      "text/plain": [
       "                      attack  precision    recall    fscore\n",
       "0           DDOS attack-HOIC   0.999214  0.999633  0.999424\n",
       "1     DDoS attacks-LOIC-HTTP   0.987952  0.672131  0.800000\n",
       "2           DoS attacks-Hulk   0.891892  0.717391  0.795181\n",
       "3                        Bot   0.999993  0.999993  0.999993\n",
       "4             FTP-BruteForce   0.872576  0.910405  0.891089\n",
       "5             SSH-Bruteforce   0.999601  0.999540  0.999570\n",
       "6              Infilteration   0.999759  0.999880  0.999819\n",
       "7   DoS attacks-SlowHTTPTest   0.999989  0.999978  0.999984\n",
       "8      DoS attacks-GoldenEye   0.764655  0.506791  0.609574\n",
       "9      DoS attacks-Slowloris   0.999540  0.988626  0.994053\n",
       "10      DDOS attack-LOIC-UDP   0.713062  0.887202  0.790657\n",
       "11          Brute Force -Web   0.996923  0.998195  0.997558\n",
       "12          Brute Force -XSS   0.714286  0.588235  0.645161\n",
       "13             SQL Injection   0.999947  0.999760  0.999853"
      ]
     },
     "execution_count": 41,
     "metadata": {},
     "output_type": "execute_result"
    }
   ],
   "source": [
    "results = pd.DataFrame(data=d)\n",
    "results"
   ]
  },
  {
   "cell_type": "code",
   "execution_count": 103,
   "metadata": {},
   "outputs": [
    {
     "name": "stdout",
     "output_type": "stream",
     "text": [
      "Classification Report\n",
      "              precision    recall  f1-score   support\n",
      "\n",
      "           0       1.00      1.00      1.00     57238\n",
      "           1       0.99      0.67      0.80       122\n",
      "           2       0.92      0.72      0.80        46\n",
      "           3       1.00      1.00      1.00    137203\n",
      "           4       0.87      0.90      0.89       346\n",
      "           5       1.00      1.00      1.00    115238\n",
      "           6       1.00      1.00      1.00      8302\n",
      "           7       1.00      1.00      1.00     92382\n",
      "           8       0.76      0.51      0.61     27978\n",
      "           9       1.00      0.99      0.99      2198\n",
      "          10       0.71      0.89      0.79     38671\n",
      "          11       1.00      1.00      1.00     32128\n",
      "          12       0.71      0.59      0.65        17\n",
      "          13       1.00      1.00      1.00     37518\n",
      "\n",
      "    accuracy                           0.97    549387\n",
      "   macro avg       0.93      0.88      0.89    549387\n",
      "weighted avg       0.97      0.97      0.96    549387\n",
      "\n"
     ]
    }
   ],
   "source": [
    "print(\"Classification Report\")\n",
    "print(classification_report(y_test, y_predicted_f))"
   ]
  },
  {
   "cell_type": "markdown",
   "metadata": {},
   "source": [
    "# 5- GradientBoosting"
   ]
  },
  {
   "cell_type": "code",
   "execution_count": 39,
   "metadata": {},
   "outputs": [
    {
     "data": {
      "text/html": [
       "<div>\n",
       "<style scoped>\n",
       "    .dataframe tbody tr th:only-of-type {\n",
       "        vertical-align: middle;\n",
       "    }\n",
       "\n",
       "    .dataframe tbody tr th {\n",
       "        vertical-align: top;\n",
       "    }\n",
       "\n",
       "    .dataframe thead th {\n",
       "        text-align: right;\n",
       "    }\n",
       "</style>\n",
       "<table border=\"1\" class=\"dataframe\">\n",
       "  <thead>\n",
       "    <tr style=\"text-align: right;\">\n",
       "      <th>col_0</th>\n",
       "      <th>0</th>\n",
       "      <th>1</th>\n",
       "      <th>2</th>\n",
       "      <th>3</th>\n",
       "      <th>4</th>\n",
       "      <th>5</th>\n",
       "      <th>6</th>\n",
       "      <th>7</th>\n",
       "      <th>8</th>\n",
       "      <th>9</th>\n",
       "      <th>10</th>\n",
       "      <th>11</th>\n",
       "      <th>12</th>\n",
       "      <th>13</th>\n",
       "    </tr>\n",
       "    <tr>\n",
       "      <th>label_cat</th>\n",
       "      <th></th>\n",
       "      <th></th>\n",
       "      <th></th>\n",
       "      <th></th>\n",
       "      <th></th>\n",
       "      <th></th>\n",
       "      <th></th>\n",
       "      <th></th>\n",
       "      <th></th>\n",
       "      <th></th>\n",
       "      <th></th>\n",
       "      <th></th>\n",
       "      <th></th>\n",
       "      <th></th>\n",
       "    </tr>\n",
       "  </thead>\n",
       "  <tbody>\n",
       "    <tr>\n",
       "      <th>0</th>\n",
       "      <td>57217</td>\n",
       "      <td>0</td>\n",
       "      <td>0</td>\n",
       "      <td>0</td>\n",
       "      <td>0</td>\n",
       "      <td>1</td>\n",
       "      <td>0</td>\n",
       "      <td>0</td>\n",
       "      <td>0</td>\n",
       "      <td>0</td>\n",
       "      <td>0</td>\n",
       "      <td>20</td>\n",
       "      <td>0</td>\n",
       "      <td>0</td>\n",
       "    </tr>\n",
       "    <tr>\n",
       "      <th>1</th>\n",
       "      <td>4</td>\n",
       "      <td>82</td>\n",
       "      <td>0</td>\n",
       "      <td>0</td>\n",
       "      <td>0</td>\n",
       "      <td>1</td>\n",
       "      <td>0</td>\n",
       "      <td>0</td>\n",
       "      <td>0</td>\n",
       "      <td>0</td>\n",
       "      <td>0</td>\n",
       "      <td>33</td>\n",
       "      <td>2</td>\n",
       "      <td>0</td>\n",
       "    </tr>\n",
       "    <tr>\n",
       "      <th>2</th>\n",
       "      <td>5</td>\n",
       "      <td>0</td>\n",
       "      <td>33</td>\n",
       "      <td>0</td>\n",
       "      <td>0</td>\n",
       "      <td>0</td>\n",
       "      <td>0</td>\n",
       "      <td>0</td>\n",
       "      <td>0</td>\n",
       "      <td>0</td>\n",
       "      <td>0</td>\n",
       "      <td>7</td>\n",
       "      <td>1</td>\n",
       "      <td>0</td>\n",
       "    </tr>\n",
       "    <tr>\n",
       "      <th>3</th>\n",
       "      <td>0</td>\n",
       "      <td>0</td>\n",
       "      <td>0</td>\n",
       "      <td>137202</td>\n",
       "      <td>0</td>\n",
       "      <td>0</td>\n",
       "      <td>0</td>\n",
       "      <td>0</td>\n",
       "      <td>0</td>\n",
       "      <td>0</td>\n",
       "      <td>0</td>\n",
       "      <td>1</td>\n",
       "      <td>0</td>\n",
       "      <td>0</td>\n",
       "    </tr>\n",
       "    <tr>\n",
       "      <th>4</th>\n",
       "      <td>0</td>\n",
       "      <td>0</td>\n",
       "      <td>0</td>\n",
       "      <td>0</td>\n",
       "      <td>315</td>\n",
       "      <td>30</td>\n",
       "      <td>0</td>\n",
       "      <td>0</td>\n",
       "      <td>0</td>\n",
       "      <td>0</td>\n",
       "      <td>0</td>\n",
       "      <td>1</td>\n",
       "      <td>0</td>\n",
       "      <td>0</td>\n",
       "    </tr>\n",
       "    <tr>\n",
       "      <th>5</th>\n",
       "      <td>2</td>\n",
       "      <td>0</td>\n",
       "      <td>0</td>\n",
       "      <td>0</td>\n",
       "      <td>46</td>\n",
       "      <td>115185</td>\n",
       "      <td>0</td>\n",
       "      <td>0</td>\n",
       "      <td>0</td>\n",
       "      <td>0</td>\n",
       "      <td>0</td>\n",
       "      <td>5</td>\n",
       "      <td>0</td>\n",
       "      <td>0</td>\n",
       "    </tr>\n",
       "    <tr>\n",
       "      <th>6</th>\n",
       "      <td>0</td>\n",
       "      <td>0</td>\n",
       "      <td>0</td>\n",
       "      <td>0</td>\n",
       "      <td>0</td>\n",
       "      <td>0</td>\n",
       "      <td>8301</td>\n",
       "      <td>0</td>\n",
       "      <td>0</td>\n",
       "      <td>0</td>\n",
       "      <td>0</td>\n",
       "      <td>1</td>\n",
       "      <td>0</td>\n",
       "      <td>0</td>\n",
       "    </tr>\n",
       "    <tr>\n",
       "      <th>7</th>\n",
       "      <td>0</td>\n",
       "      <td>0</td>\n",
       "      <td>0</td>\n",
       "      <td>0</td>\n",
       "      <td>0</td>\n",
       "      <td>0</td>\n",
       "      <td>2</td>\n",
       "      <td>92380</td>\n",
       "      <td>0</td>\n",
       "      <td>0</td>\n",
       "      <td>0</td>\n",
       "      <td>0</td>\n",
       "      <td>0</td>\n",
       "      <td>0</td>\n",
       "    </tr>\n",
       "    <tr>\n",
       "      <th>8</th>\n",
       "      <td>0</td>\n",
       "      <td>0</td>\n",
       "      <td>0</td>\n",
       "      <td>0</td>\n",
       "      <td>0</td>\n",
       "      <td>0</td>\n",
       "      <td>0</td>\n",
       "      <td>0</td>\n",
       "      <td>14179</td>\n",
       "      <td>0</td>\n",
       "      <td>13799</td>\n",
       "      <td>0</td>\n",
       "      <td>0</td>\n",
       "      <td>0</td>\n",
       "    </tr>\n",
       "    <tr>\n",
       "      <th>9</th>\n",
       "      <td>0</td>\n",
       "      <td>0</td>\n",
       "      <td>0</td>\n",
       "      <td>0</td>\n",
       "      <td>0</td>\n",
       "      <td>0</td>\n",
       "      <td>0</td>\n",
       "      <td>0</td>\n",
       "      <td>0</td>\n",
       "      <td>2173</td>\n",
       "      <td>0</td>\n",
       "      <td>25</td>\n",
       "      <td>0</td>\n",
       "      <td>0</td>\n",
       "    </tr>\n",
       "    <tr>\n",
       "      <th>10</th>\n",
       "      <td>0</td>\n",
       "      <td>0</td>\n",
       "      <td>0</td>\n",
       "      <td>0</td>\n",
       "      <td>0</td>\n",
       "      <td>0</td>\n",
       "      <td>0</td>\n",
       "      <td>0</td>\n",
       "      <td>4362</td>\n",
       "      <td>0</td>\n",
       "      <td>34309</td>\n",
       "      <td>0</td>\n",
       "      <td>0</td>\n",
       "      <td>0</td>\n",
       "    </tr>\n",
       "    <tr>\n",
       "      <th>11</th>\n",
       "      <td>33</td>\n",
       "      <td>1</td>\n",
       "      <td>4</td>\n",
       "      <td>1</td>\n",
       "      <td>0</td>\n",
       "      <td>14</td>\n",
       "      <td>0</td>\n",
       "      <td>1</td>\n",
       "      <td>0</td>\n",
       "      <td>1</td>\n",
       "      <td>0</td>\n",
       "      <td>32070</td>\n",
       "      <td>1</td>\n",
       "      <td>2</td>\n",
       "    </tr>\n",
       "    <tr>\n",
       "      <th>12</th>\n",
       "      <td>1</td>\n",
       "      <td>0</td>\n",
       "      <td>0</td>\n",
       "      <td>0</td>\n",
       "      <td>0</td>\n",
       "      <td>0</td>\n",
       "      <td>0</td>\n",
       "      <td>0</td>\n",
       "      <td>0</td>\n",
       "      <td>0</td>\n",
       "      <td>0</td>\n",
       "      <td>6</td>\n",
       "      <td>10</td>\n",
       "      <td>0</td>\n",
       "    </tr>\n",
       "    <tr>\n",
       "      <th>13</th>\n",
       "      <td>0</td>\n",
       "      <td>0</td>\n",
       "      <td>0</td>\n",
       "      <td>0</td>\n",
       "      <td>0</td>\n",
       "      <td>0</td>\n",
       "      <td>0</td>\n",
       "      <td>0</td>\n",
       "      <td>2</td>\n",
       "      <td>0</td>\n",
       "      <td>7</td>\n",
       "      <td>0</td>\n",
       "      <td>0</td>\n",
       "      <td>37509</td>\n",
       "    </tr>\n",
       "  </tbody>\n",
       "</table>\n",
       "</div>"
      ],
      "text/plain": [
       "col_0         0   1   2       3    4       5     6      7      8     9   \\\n",
       "label_cat                                                                 \n",
       "0          57217   0   0       0    0       1     0      0      0     0   \n",
       "1              4  82   0       0    0       1     0      0      0     0   \n",
       "2              5   0  33       0    0       0     0      0      0     0   \n",
       "3              0   0   0  137202    0       0     0      0      0     0   \n",
       "4              0   0   0       0  315      30     0      0      0     0   \n",
       "5              2   0   0       0   46  115185     0      0      0     0   \n",
       "6              0   0   0       0    0       0  8301      0      0     0   \n",
       "7              0   0   0       0    0       0     2  92380      0     0   \n",
       "8              0   0   0       0    0       0     0      0  14179     0   \n",
       "9              0   0   0       0    0       0     0      0      0  2173   \n",
       "10             0   0   0       0    0       0     0      0   4362     0   \n",
       "11            33   1   4       1    0      14     0      1      0     1   \n",
       "12             1   0   0       0    0       0     0      0      0     0   \n",
       "13             0   0   0       0    0       0     0      0      2     0   \n",
       "\n",
       "col_0         10     11  12     13  \n",
       "label_cat                           \n",
       "0              0     20   0      0  \n",
       "1              0     33   2      0  \n",
       "2              0      7   1      0  \n",
       "3              0      1   0      0  \n",
       "4              0      1   0      0  \n",
       "5              0      5   0      0  \n",
       "6              0      1   0      0  \n",
       "7              0      0   0      0  \n",
       "8          13799      0   0      0  \n",
       "9              0     25   0      0  \n",
       "10         34309      0   0      0  \n",
       "11             0  32070   1      2  \n",
       "12             0      6  10      0  \n",
       "13             7      0   0  37509  "
      ]
     },
     "execution_count": 39,
     "metadata": {},
     "output_type": "execute_result"
    }
   ],
   "source": [
    "confusion_rf_1 = pd.crosstab(y_test, y_predicted)\n",
    "confusion_rf_1"
   ]
  },
  {
   "cell_type": "code",
   "execution_count": 42,
   "metadata": {},
   "outputs": [],
   "source": [
    "scaler = MinMaxScaler()\n",
    "x_train = scaler.fit_transform(x_train)\n",
    "x_test = scaler.transform(x_test)"
   ]
  },
  {
   "cell_type": "code",
   "execution_count": 43,
   "metadata": {},
   "outputs": [
    {
     "data": {
      "text/plain": [
       "'\\nlr_list = [0.05, 0.075, 0.1, 0.25, 0.5, 0.75, 1]\\n\\nfor learning_rate in lr_list:\\n    gb_clf = GradientBoostingClassifier(n_estimators=20, learning_rate=learning_rate, max_features=2, max_depth=2, random_state=0)\\n    gb_clf.fit(x_train, y_train)\\n\\n    print(\"Learning rate: \", learning_rate)\\n    print(\"Accuracy score (training): {0:.3f}\".format(gb_clf.score(x_train, y_train)))\\n    print(\"Accuracy score (testing): {0:.3f}\".format(gb_clf.score(x_test, y_test)))\\n    '"
      ]
     },
     "execution_count": 43,
     "metadata": {},
     "output_type": "execute_result"
    }
   ],
   "source": [
    "'''\n",
    "lr_list = [0.05, 0.075, 0.1, 0.25, 0.5, 0.75, 1]\n",
    "\n",
    "for learning_rate in lr_list:\n",
    "    gb_clf = GradientBoostingClassifier(n_estimators=20, learning_rate=learning_rate, max_features=2, max_depth=2, random_state=0)\n",
    "    gb_clf.fit(x_train, y_train)\n",
    "\n",
    "    print(\"Learning rate: \", learning_rate)\n",
    "    print(\"Accuracy score (training): {0:.3f}\".format(gb_clf.score(x_train, y_train)))\n",
    "    print(\"Accuracy score (testing): {0:.3f}\".format(gb_clf.score(x_test, y_test)))\n",
    "    '''"
   ]
  },
  {
   "cell_type": "code",
   "execution_count": 44,
   "metadata": {},
   "outputs": [
    {
     "data": {
      "text/plain": [
       "GradientBoostingClassifier(max_depth=2, max_features=2, n_estimators=20,\n",
       "                           random_state=0)"
      ]
     },
     "execution_count": 44,
     "metadata": {},
     "output_type": "execute_result"
    }
   ],
   "source": [
    "gb_clf2 = GradientBoostingClassifier(n_estimators=20,\n",
    "                                     learning_rate=0.1, \n",
    "                                     max_features=2,\n",
    "                                     max_depth=2, \n",
    "                                     random_state=0)\n",
    "\n",
    "gb_clf2.fit(x_train, y_train)"
   ]
  },
  {
   "cell_type": "code",
   "execution_count": 45,
   "metadata": {},
   "outputs": [],
   "source": [
    "prediction_gb = gb_clf2.predict(x_test)"
   ]
  },
  {
   "cell_type": "code",
   "execution_count": null,
   "metadata": {},
   "outputs": [],
   "source": [
    "precision, recall, fscore, support = score(y_test, y_predicted)\n",
    "\n",
    "d = {'attack': attack, 'precision': precision,\n",
    "     'recall' : recall, 'fscore': fscore}\n",
    "results = pd.DataFrame(data=d)\n",
    "results"
   ]
  },
  {
   "cell_type": "code",
   "execution_count": 46,
   "metadata": {},
   "outputs": [
    {
     "name": "stdout",
     "output_type": "stream",
     "text": [
      "Classification Report\n",
      "              precision    recall  f1-score   support\n",
      "\n",
      "           0       0.90      0.82      0.86     57238\n",
      "           1       0.62      0.23      0.34       122\n",
      "           2       0.38      0.46      0.41        46\n",
      "           3       0.89      0.97      0.93    137203\n",
      "           4       0.00      0.00      0.00       346\n",
      "           5       0.97      0.99      0.98    115238\n",
      "           6       0.20      0.03      0.05      8302\n",
      "           7       0.91      0.98      0.94     92382\n",
      "           8       0.66      0.41      0.51     27978\n",
      "           9       0.00      0.00      0.00      2198\n",
      "          10       0.64      0.90      0.75     38671\n",
      "          11       0.95      0.46      0.62     32128\n",
      "          12       0.00      0.24      0.00        17\n",
      "          13       0.97      1.00      0.98     37518\n",
      "\n",
      "    accuracy                           0.88    549387\n",
      "   macro avg       0.58      0.53      0.53    549387\n",
      "weighted avg       0.88      0.88      0.87    549387\n",
      "\n"
     ]
    }
   ],
   "source": [
    "print(\"Classification Report\")\n",
    "print(classification_report(y_test, prediction_gb))"
   ]
  },
  {
   "cell_type": "code",
   "execution_count": 67,
   "metadata": {},
   "outputs": [
    {
     "name": "stderr",
     "output_type": "stream",
     "text": [
      "/home/upm/anaconda3/lib/python3.8/site-packages/sklearn/utils/deprecation.py:87: FutureWarning: Function plot_confusion_matrix is deprecated; Function `plot_confusion_matrix` is deprecated in 1.0 and will be removed in 1.2. Use one of the class methods: ConfusionMatrixDisplay.from_predictions or ConfusionMatrixDisplay.from_estimator.\n",
      "  warnings.warn(msg, category=FutureWarning)\n"
     ]
    },
    {
     "data": {
      "image/png": "[encoded data removed]",
      "text/plain": [
       "<Figure size 1080x720 with 2 Axes>"
      ]
     },
     "metadata": {
      "needs_background": "light"
     },
     "output_type": "display_data"
    }
   ],
   "source": [
    "fig, ax = plt.subplots(figsize=(15, 10))\n",
    "matrix = plot_confusion_matrix(gb_clf2 , x_test , y_test , ax=ax)\n",
    "\n",
    "plt.show(matrix)\n",
    "plt.show()"
   ]
  },
  {
   "cell_type": "markdown",
   "metadata": {},
   "source": [
    "# 6- xgboost"
   ]
  },
  {
   "cell_type": "code",
   "execution_count": 47,
   "metadata": {},
   "outputs": [
    {
     "name": "stdout",
     "output_type": "stream",
     "text": [
      "Requirement already satisfied: xgboost in /home/upm/anaconda3/lib/python3.8/site-packages (1.5.2)\n",
      "Requirement already satisfied: numpy in /home/upm/anaconda3/lib/python3.8/site-packages (from xgboost) (1.22.3)\n",
      "Requirement already satisfied: scipy in /home/upm/anaconda3/lib/python3.8/site-packages (from xgboost) (1.5.2)\n",
      "Note: you may need to restart the kernel to use updated packages.\n"
     ]
    }
   ],
   "source": [
    "pip install xgboost"
   ]
  },
  {
   "cell_type": "code",
   "execution_count": 48,
   "metadata": {},
   "outputs": [],
   "source": [
    "import xgboost as xgb"
   ]
  },
  {
   "cell_type": "code",
   "execution_count": 49,
   "metadata": {},
   "outputs": [
    {
     "name": "stderr",
     "output_type": "stream",
     "text": [
      "/home/upm/anaconda3/lib/python3.8/site-packages/xgboost/sklearn.py:1224: UserWarning: The use of label encoder in XGBClassifier is deprecated and will be removed in a future release. To remove this warning, do the following: 1) Pass option use_label_encoder=False when constructing XGBClassifier object; and 2) Encode your labels (y) as integers starting with 0, i.e. 0, 1, 2, ..., [num_class - 1].\n",
      "  warnings.warn(label_encoder_deprecation_msg, UserWarning)\n"
     ]
    },
    {
     "name": "stdout",
     "output_type": "stream",
     "text": [
      "[18:25:24] WARNING: ../src/learner.cc:1115: Starting in XGBoost 1.3.0, the default evaluation metric used with the objective 'multi:softprob' was changed from 'merror' to 'mlogloss'. Explicitly set eval_metric if you'd like to restore the old behavior.\n"
     ]
    },
    {
     "data": {
      "text/plain": [
       "XGBClassifier(base_score=0.5, booster='gbtree', colsample_bylevel=1,\n",
       "              colsample_bynode=1, colsample_bytree=1, enable_categorical=False,\n",
       "              gamma=0, gpu_id=-1, importance_type=None,\n",
       "              interaction_constraints='', learning_rate=0.300000012,\n",
       "              max_delta_step=0, max_depth=6, min_child_weight=1, missing=nan,\n",
       "              monotone_constraints='()', n_estimators=100, n_jobs=16,\n",
       "              num_parallel_tree=1, objective='multi:softprob', predictor='auto',\n",
       "              random_state=0, reg_alpha=0, reg_lambda=1, scale_pos_weight=None,\n",
       "              subsample=1, tree_method='exact', validate_parameters=1,\n",
       "              verbosity=None)"
      ]
     },
     "execution_count": 49,
     "metadata": {},
     "output_type": "execute_result"
    }
   ],
   "source": [
    "xgb_clf = XGBClassifier()\n",
    "xgb_clf.fit(x_train, y_train)"
   ]
  },
  {
   "cell_type": "code",
   "execution_count": 50,
   "metadata": {},
   "outputs": [],
   "source": [
    "prediction = xgb_clf.predict(x_test)"
   ]
  },
  {
   "cell_type": "code",
   "execution_count": 51,
   "metadata": {},
   "outputs": [
    {
     "name": "stdout",
     "output_type": "stream",
     "text": [
      "1.0\n"
     ]
    }
   ],
   "source": [
    "score = xgb_clf.score(x_test, prediction)\n",
    "print(score)"
   ]
  },
  {
   "cell_type": "code",
   "execution_count": 52,
   "metadata": {},
   "outputs": [
    {
     "name": "stdout",
     "output_type": "stream",
     "text": [
      "Classification Report\n",
      "              precision    recall  f1-score   support\n",
      "\n",
      "           0       1.00      1.00      1.00     57238\n",
      "           1       0.95      0.96      0.96       122\n",
      "           2       0.93      0.83      0.87        46\n",
      "           3       1.00      1.00      1.00    137203\n",
      "           4       0.90      0.93      0.92       346\n",
      "           5       1.00      1.00      1.00    115238\n",
      "           6       1.00      1.00      1.00      8302\n",
      "           7       1.00      1.00      1.00     92382\n",
      "           8       0.77      0.51      0.61     27978\n",
      "           9       1.00      0.99      0.99      2198\n",
      "          10       0.71      0.89      0.79     38671\n",
      "          11       1.00      1.00      1.00     32128\n",
      "          12       0.79      0.65      0.71        17\n",
      "          13       1.00      1.00      1.00     37518\n",
      "\n",
      "    accuracy                           0.97    549387\n",
      "   macro avg       0.93      0.91      0.92    549387\n",
      "weighted avg       0.97      0.97      0.97    549387\n",
      "\n"
     ]
    }
   ],
   "source": [
    "print(\"Classification Report\")\n",
    "print(classification_report(y_test, prediction))"
   ]
  },
  {
   "cell_type": "code",
   "execution_count": null,
   "metadata": {},
   "outputs": [],
   "source": [
    "precision, recall, fscore, support = score(y_test, y_predicted)\n",
    "\n",
    "d = {'attack': attack, 'precision': precision,\n",
    "     'recall' : recall, 'fscore': fscore}\n",
    "results = pd.DataFrame(data=d)\n",
    "results"
   ]
  },
  {
   "cell_type": "code",
   "execution_count": 68,
   "metadata": {},
   "outputs": [
    {
     "name": "stderr",
     "output_type": "stream",
     "text": [
      "/home/upm/anaconda3/lib/python3.8/site-packages/sklearn/utils/deprecation.py:87: FutureWarning: Function plot_confusion_matrix is deprecated; Function `plot_confusion_matrix` is deprecated in 1.0 and will be removed in 1.2. Use one of the class methods: ConfusionMatrixDisplay.from_predictions or ConfusionMatrixDisplay.from_estimator.\n",
      "  warnings.warn(msg, category=FutureWarning)\n"
     ]
    },
    {
     "data": {
      "image/png": "[encoded data removed]",
      "text/plain": [
       "<Figure size 1080x720 with 2 Axes>"
      ]
     },
     "metadata": {
      "needs_background": "light"
     },
     "output_type": "display_data"
    }
   ],
   "source": [
    "fig, ax = plt.subplots(figsize=(15, 10))\n",
    "matrix = plot_confusion_matrix(xgb_clf , x_test , y_test , ax=ax)\n",
    "\n",
    "plt.show(matrix)\n",
    "plt.show()"
   ]
  },
  {
   "cell_type": "code",
   "execution_count": 53,
   "metadata": {},
   "outputs": [],
   "source": [
    "#y.to_csv(r\"E:\\Multi_pred_Y.csv\",index=False, header=True)"
   ]
  },
  {
   "cell_type": "code",
   "execution_count": 54,
   "metadata": {},
   "outputs": [],
   "source": [
    "#y.to_csv(r\"E:\\B_pred_Y.csv\",index=False, header=True)"
   ]
  }
 ],
 "metadata": {
  "kernelspec": {
   "display_name": "Python 3",
   "language": "python",
   "name": "python3"
  },
  "language_info": {
   "codemirror_mode": {
    "name": "ipython",
    "version": 3
   },
   "file_extension": ".py",
   "mimetype": "text/x-python",
   "name": "python",
   "nbconvert_exporter": "python",
   "pygments_lexer": "ipython3",
   "version": "3.8.5"
  }
 },
 "nbformat": 4,
 "nbformat_minor": 5
}
