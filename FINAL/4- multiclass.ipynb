{
 "cells": [
  {
   "cell_type": "markdown",
   "id": "9537d57d",
   "metadata": {},
   "source": [
    "# Machine Learning framework for network attack detection on cloud enviroment\n",
    "\n",
    "Part II \n",
    "\n",
    "I will present the analysis of 5 machine learning algorithms with the help of [CICIDS-2018 Dataset](https://www.unb.ca/cic/datasets/ids-2018.html): \n",
    "\n",
    "- Support Vector Machine (SVM)\n",
    "- Decision Tree\n",
    "- Naive Bayes\n",
    "- K Means Clustering \n",
    "- K Nearest Neighbours"
   ]
  },
  {
   "cell_type": "markdown",
   "id": "0ab3aeb8",
   "metadata": {},
   "source": [
    "# binary - filiter - catboost , rf\n",
    "# multiclass - kbest , rf, xboost\n",
    "\n",
    "\n",
    "###################################################\n",
    "# one class \n",
    "\n",
    "\n",
    "# ANN , CNN DL\n",
    "# Feature selection : filiter method  , wrapper ....\n",
    "####################################################\n",
    "\n",
    "# data collection \n",
    "\n",
    "# preprartion \n",
    "\n",
    "# preprocessing  , null , inf , missing \n",
    "\n",
    "# visual\n",
    "\n",
    "# modeling \n",
    "\n",
    "###################################################\n",
    "\n",
    "# deploy "
   ]
  },
  {
   "cell_type": "code",
   "execution_count": 3,
   "id": "20d009ac",
   "metadata": {},
   "outputs": [],
   "source": [
    "# import required libraries \n",
    "import glob\n",
    "import matplotlib.pyplot as plt\n",
    "import numpy as np\n",
    "import pandas as pd \n",
    "import seaborn as sns\n",
    "import time\n",
    "import glob\n",
    "import os \n",
    "import re\n",
    "\n",
    "from numpy import array\n",
    "\n",
    "from sklearn import preprocessing\n",
    "from sklearn.preprocessing import StandardScaler\n",
    "from sklearn.preprocessing import MinMaxScaler\n",
    "from sklearn.preprocessing import RobustScaler\n",
    "from sklearn.preprocessing import Normalizer\n",
    "import collections\n",
    "\n",
    "\n",
    "from sklearn.tree import DecisionTreeClassifier\n",
    "from sklearn.svm import LinearSVC\n",
    "from sklearn.naive_bayes import MultinomialNB\n",
    "from sklearn.neighbors import NearestNeighbors\n",
    "from sklearn.neighbors import KNeighborsClassifier\n",
    "from sklearn.cluster import KMeans\n",
    "from sklearn.decomposition import PCA\n",
    "from sklearn.ensemble import RandomForestRegressor\n",
    "from sklearn.ensemble import RandomForestClassifier\n",
    "from sklearn.svm import SVC\n",
    "from xgboost import XGBClassifier\n",
    "from sklearn.preprocessing import MinMaxScaler\n",
    "\n",
    "\n",
    "\n",
    "from sklearn.model_selection import train_test_split\n",
    "from sklearn.metrics import classification_report, confusion_matrix\n",
    "from sklearn.ensemble import GradientBoostingClassifier\n",
    "\n",
    "from sklearn.feature_selection import SelectKBest\n",
    "from sklearn.feature_selection import chi2\n",
    "from sklearn.feature_selection import mutual_info_classif\n",
    "\n",
    "from sklearn import metrics\n",
    "from sklearn.metrics import accuracy_score, confusion_matrix, roc_curve, auc, classification_report\n",
    "from sklearn.metrics import (precision_score, recall_score,f1_score, accuracy_score,mean_squared_error,mean_absolute_error)\n",
    "from sklearn.metrics import precision_recall_fscore_support as score\n",
    "from sklearn.metrics import completeness_score, homogeneity_score, v_measure_score\n",
    "\n",
    "from sklearn.model_selection import train_test_split\n",
    "\n",
    "\n",
    "%matplotlib inline"
   ]
  },
  {
   "cell_type": "code",
   "execution_count": 4,
   "id": "3a1de147",
   "metadata": {},
   "outputs": [],
   "source": [
    "#path = r\"E:\\Juypter-files\\dataset1_LOCAL_DATA\""
   ]
  },
  {
   "cell_type": "markdown",
   "id": "1441e334",
   "metadata": {},
   "source": [
    "# prepare the document "
   ]
  },
  {
   "cell_type": "code",
   "execution_count": 5,
   "id": "a60471e1",
   "metadata": {},
   "outputs": [],
   "source": [
    "path1 = r\"E:\\Juypter-files\\dataset1_LOCAL_DATA\\csv_files\""
   ]
  },
  {
   "cell_type": "code",
   "execution_count": 6,
   "id": "57c36cf4",
   "metadata": {},
   "outputs": [],
   "source": [
    "types = {\n",
    "    'dst_port': 'uint32',\n",
    "    'protocol': 'uint8',\n",
    "    'timestamp': 'object',\n",
    "    'flow_duration': 'int64',\n",
    "    'tot_fwd_pkts': 'uint32',\n",
    "    'tot_bwd_pkts': 'uint32',\n",
    "    'totlen_fwd_pkts': 'uint32',\n",
    "    'totlen_bwd_pkts': 'uint32',\n",
    "    'fwd_pkt_len_max': 'uint16',\n",
    "    'fwd_pkt_len_min': 'uint16',\n",
    "    'fwd_pkt_len_mean': 'float32',\n",
    "    'fwd_pkt_len_std': 'float32',\n",
    "    'bwd_pkt_len_max': 'uint16',\n",
    "    'bwd_pkt_len_min': 'uint16',\n",
    "    'bwd_pkt_len_mean': 'float32',\n",
    "    'bwd_pkt_len_std': 'float32',\n",
    "    'flow_byts_s': 'float64',\n",
    "    'flow_pkts_s': 'float64',\n",
    "    'flow_iat_mean': 'float32',\n",
    "    'flow_iat_std': 'float32',\n",
    "    'flow_iat_max': 'int64',\n",
    "    'flow_iat_min': 'int64',\n",
    "    'fwd_iat_tot': 'int64',\n",
    "    'fwd_iat_mean': 'float32',\n",
    "    'fwd_iat_std': 'float32',\n",
    "    'fwd_iat_max': 'int64',\n",
    "    'fwd_iat_min': 'int64',\n",
    "    'bwd_iat_tot': 'uint32',\n",
    "    'bwd_iat_mean': 'float32',\n",
    "    'bwd_iat_std': 'float32',\n",
    "    'bwd_iat_max': 'uint32',\n",
    "    'bwd_iat_min': 'uint32',\n",
    "    'fwd_psh_flags': 'uint8',\n",
    "    'bwd_psh_flags': 'uint8',\n",
    "    'fwd_urg_flags': 'uint8',\n",
    "    'bwd_urg_flags': 'uint8',\n",
    "    'fwd_header_len': 'uint32',\n",
    "    'bwd_header_len': 'uint32',\n",
    "    'fwd_pkts_s': 'float32',\n",
    "    'bwd_pkts_s': 'float32',\n",
    "    'pkt_len_min': 'uint16',\n",
    "    'pkt_len_max': 'uint16',\n",
    "    'pkt_len_mean': 'float32',\n",
    "    'pkt_len_std': 'float32',\n",
    "    'pkt_len_var': 'float32',\n",
    "    'fin_flag_cnt': 'uint8',\n",
    "    'syn_flag_cnt': 'uint8',\n",
    "    'rst_flag_cnt': 'uint8',\n",
    "    'psh_flag_cnt': 'uint8',\n",
    "    'ack_flag_cnt': 'uint8',\n",
    "    'urg_flag_cnt': 'uint8',\n",
    "    'cwe_flag_count': 'uint8',\n",
    "    'ece_flag_cnt': 'uint8',\n",
    "    'down_up_ratio': 'uint16',\n",
    "    'pkt_size_avg': 'float32',\n",
    "    'fwd_seg_size_avg': 'float32',\n",
    "    'bwd_seg_size_avg': 'float32',\n",
    "    'fwd_byts_b_avg': 'uint8',\n",
    "    'fwd_pkts_b_avg': 'uint8',\n",
    "    'fwd_blk_rate_avg': 'uint8',\n",
    "    'bwd_byts_b_avg': 'uint8',\n",
    "    'bwd_pkts_b_avg': 'uint8',\n",
    "    'bwd_blk_rate_avg': 'uint8',\n",
    "    'subflow_fwd_pkts': 'uint32',\n",
    "    'subflow_fwd_byts': 'uint32',\n",
    "    'subflow_bwd_pkts': 'uint32',\n",
    "    'subflow_bwd_byts': 'uint32',\n",
    "    'init_fwd_win_byts': 'int32',\n",
    "    'init_bwd_win_byts': 'int32',\n",
    "    'fwd_act_data_pkts': 'uint32',\n",
    "    'fwd_seg_size_min': 'uint8',\n",
    "    'active_mean': 'float32',\n",
    "    'active_std': 'float32',\n",
    "    'active_max': 'uint32',\n",
    "    'active_min': 'uint32',\n",
    "    'idle_mean': 'float32',\n",
    "    'idle_std': 'float32',\n",
    "    'idle_max': 'uint64',\n",
    "    'idle_min': 'uint64',\n",
    "    'label': 'category'\n",
    "}"
   ]
  },
  {
   "cell_type": "code",
   "execution_count": 7,
   "id": "b25f7462",
   "metadata": {},
   "outputs": [],
   "source": [
    "csv = glob.glob(os.path.join(path1 , '*.csv'))\n",
    "df = pd.concat((pd.read_csv(f, dtype=types) for f in csv))"
   ]
  },
  {
   "cell_type": "code",
   "execution_count": 8,
   "id": "30d6b8c0",
   "metadata": {},
   "outputs": [
    {
     "data": {
      "text/html": [
       "<div>\n",
       "<style scoped>\n",
       "    .dataframe tbody tr th:only-of-type {\n",
       "        vertical-align: middle;\n",
       "    }\n",
       "\n",
       "    .dataframe tbody tr th {\n",
       "        vertical-align: top;\n",
       "    }\n",
       "\n",
       "    .dataframe thead th {\n",
       "        text-align: right;\n",
       "    }\n",
       "</style>\n",
       "<table border=\"1\" class=\"dataframe\">\n",
       "  <thead>\n",
       "    <tr style=\"text-align: right;\">\n",
       "      <th></th>\n",
       "      <th>count</th>\n",
       "      <th>mean</th>\n",
       "      <th>std</th>\n",
       "      <th>min</th>\n",
       "      <th>25%</th>\n",
       "      <th>50%</th>\n",
       "      <th>75%</th>\n",
       "      <th>max</th>\n",
       "    </tr>\n",
       "  </thead>\n",
       "  <tbody>\n",
       "    <tr>\n",
       "      <th>dst_port</th>\n",
       "      <td>3145724.0</td>\n",
       "      <td>1.247232e+04</td>\n",
       "      <td>2.006863e+04</td>\n",
       "      <td>0.000000e+00</td>\n",
       "      <td>80.0</td>\n",
       "      <td>443.0</td>\n",
       "      <td>8080.0</td>\n",
       "      <td>6.553400e+04</td>\n",
       "    </tr>\n",
       "    <tr>\n",
       "      <th>protocol</th>\n",
       "      <td>3145724.0</td>\n",
       "      <td>7.722133e+00</td>\n",
       "      <td>4.115981e+00</td>\n",
       "      <td>0.000000e+00</td>\n",
       "      <td>6.0</td>\n",
       "      <td>6.0</td>\n",
       "      <td>6.0</td>\n",
       "      <td>1.700000e+01</td>\n",
       "    </tr>\n",
       "    <tr>\n",
       "      <th>flow_duration</th>\n",
       "      <td>3145724.0</td>\n",
       "      <td>9.627229e+06</td>\n",
       "      <td>8.520669e+08</td>\n",
       "      <td>-8.282200e+11</td>\n",
       "      <td>666.0</td>\n",
       "      <td>36179.0</td>\n",
       "      <td>4195400.0</td>\n",
       "      <td>1.200000e+08</td>\n",
       "    </tr>\n",
       "    <tr>\n",
       "      <th>tot_fwd_pkts</th>\n",
       "      <td>3145724.0</td>\n",
       "      <td>5.156355e+00</td>\n",
       "      <td>6.589203e+01</td>\n",
       "      <td>1.000000e+00</td>\n",
       "      <td>2.0</td>\n",
       "      <td>2.0</td>\n",
       "      <td>5.0</td>\n",
       "      <td>4.315900e+04</td>\n",
       "    </tr>\n",
       "    <tr>\n",
       "      <th>tot_bwd_pkts</th>\n",
       "      <td>3145724.0</td>\n",
       "      <td>5.621277e+00</td>\n",
       "      <td>1.701274e+02</td>\n",
       "      <td>0.000000e+00</td>\n",
       "      <td>0.0</td>\n",
       "      <td>1.0</td>\n",
       "      <td>4.0</td>\n",
       "      <td>6.924100e+04</td>\n",
       "    </tr>\n",
       "    <tr>\n",
       "      <th>...</th>\n",
       "      <td>...</td>\n",
       "      <td>...</td>\n",
       "      <td>...</td>\n",
       "      <td>...</td>\n",
       "      <td>...</td>\n",
       "      <td>...</td>\n",
       "      <td>...</td>\n",
       "      <td>...</td>\n",
       "    </tr>\n",
       "    <tr>\n",
       "      <th>active_min</th>\n",
       "      <td>3145724.0</td>\n",
       "      <td>4.276403e+04</td>\n",
       "      <td>1.072010e+06</td>\n",
       "      <td>0.000000e+00</td>\n",
       "      <td>0.0</td>\n",
       "      <td>0.0</td>\n",
       "      <td>0.0</td>\n",
       "      <td>1.110000e+08</td>\n",
       "    </tr>\n",
       "    <tr>\n",
       "      <th>idle_mean</th>\n",
       "      <td>3145724.0</td>\n",
       "      <td>5.755354e+06</td>\n",
       "      <td>5.088546e+08</td>\n",
       "      <td>0.000000e+00</td>\n",
       "      <td>0.0</td>\n",
       "      <td>0.0</td>\n",
       "      <td>0.0</td>\n",
       "      <td>3.955714e+11</td>\n",
       "    </tr>\n",
       "    <tr>\n",
       "      <th>idle_std</th>\n",
       "      <td>3145724.0</td>\n",
       "      <td>5.639081e+05</td>\n",
       "      <td>3.147347e+08</td>\n",
       "      <td>0.000000e+00</td>\n",
       "      <td>0.0</td>\n",
       "      <td>0.0</td>\n",
       "      <td>0.0</td>\n",
       "      <td>2.622479e+11</td>\n",
       "    </tr>\n",
       "    <tr>\n",
       "      <th>idle_max</th>\n",
       "      <td>3145724.0</td>\n",
       "      <td>6.724697e+06</td>\n",
       "      <td>1.115741e+09</td>\n",
       "      <td>0.000000e+00</td>\n",
       "      <td>0.0</td>\n",
       "      <td>0.0</td>\n",
       "      <td>0.0</td>\n",
       "      <td>9.684340e+11</td>\n",
       "    </tr>\n",
       "    <tr>\n",
       "      <th>idle_min</th>\n",
       "      <td>3145724.0</td>\n",
       "      <td>4.994564e+06</td>\n",
       "      <td>1.409522e+08</td>\n",
       "      <td>0.000000e+00</td>\n",
       "      <td>0.0</td>\n",
       "      <td>0.0</td>\n",
       "      <td>0.0</td>\n",
       "      <td>2.399340e+11</td>\n",
       "    </tr>\n",
       "  </tbody>\n",
       "</table>\n",
       "<p>78 rows × 8 columns</p>\n",
       "</div>"
      ],
      "text/plain": [
       "                   count          mean           std           min    25%  \\\n",
       "dst_port       3145724.0  1.247232e+04  2.006863e+04  0.000000e+00   80.0   \n",
       "protocol       3145724.0  7.722133e+00  4.115981e+00  0.000000e+00    6.0   \n",
       "flow_duration  3145724.0  9.627229e+06  8.520669e+08 -8.282200e+11  666.0   \n",
       "tot_fwd_pkts   3145724.0  5.156355e+00  6.589203e+01  1.000000e+00    2.0   \n",
       "tot_bwd_pkts   3145724.0  5.621277e+00  1.701274e+02  0.000000e+00    0.0   \n",
       "...                  ...           ...           ...           ...    ...   \n",
       "active_min     3145724.0  4.276403e+04  1.072010e+06  0.000000e+00    0.0   \n",
       "idle_mean      3145724.0  5.755354e+06  5.088546e+08  0.000000e+00    0.0   \n",
       "idle_std       3145724.0  5.639081e+05  3.147347e+08  0.000000e+00    0.0   \n",
       "idle_max       3145724.0  6.724697e+06  1.115741e+09  0.000000e+00    0.0   \n",
       "idle_min       3145724.0  4.994564e+06  1.409522e+08  0.000000e+00    0.0   \n",
       "\n",
       "                   50%        75%           max  \n",
       "dst_port         443.0     8080.0  6.553400e+04  \n",
       "protocol           6.0        6.0  1.700000e+01  \n",
       "flow_duration  36179.0  4195400.0  1.200000e+08  \n",
       "tot_fwd_pkts       2.0        5.0  4.315900e+04  \n",
       "tot_bwd_pkts       1.0        4.0  6.924100e+04  \n",
       "...                ...        ...           ...  \n",
       "active_min         0.0        0.0  1.110000e+08  \n",
       "idle_mean          0.0        0.0  3.955714e+11  \n",
       "idle_std           0.0        0.0  2.622479e+11  \n",
       "idle_max           0.0        0.0  9.684340e+11  \n",
       "idle_min           0.0        0.0  2.399340e+11  \n",
       "\n",
       "[78 rows x 8 columns]"
      ]
     },
     "execution_count": 8,
     "metadata": {},
     "output_type": "execute_result"
    }
   ],
   "source": [
    "df.describe().transpose()"
   ]
  },
  {
   "cell_type": "code",
   "execution_count": 9,
   "id": "531ceaba",
   "metadata": {},
   "outputs": [
    {
     "data": {
      "text/plain": [
       "True"
      ]
     },
     "execution_count": 9,
     "metadata": {},
     "output_type": "execute_result"
    }
   ],
   "source": [
    "df.isnull().any().any()"
   ]
  },
  {
   "cell_type": "code",
   "execution_count": 10,
   "id": "dd50840a",
   "metadata": {},
   "outputs": [
    {
     "data": {
      "text/plain": [
       "False"
      ]
     },
     "execution_count": 10,
     "metadata": {},
     "output_type": "execute_result"
    }
   ],
   "source": [
    "# Replace Inf values with NaN\n",
    "df = df.replace([np.inf, -np.inf], np.nan)\n",
    "# Drop all occurences of NaN\n",
    "df = df.dropna()\n",
    "# Double check these are all gone\n",
    "df.isnull().any().any()"
   ]
  },
  {
   "cell_type": "code",
   "execution_count": 11,
   "id": "26799f26",
   "metadata": {},
   "outputs": [
    {
     "data": {
      "text/plain": [
       "Benign                      2247709\n",
       "DoS attacks-Hulk             461912\n",
       "Bot                          286191\n",
       "DoS attacks-SlowHTTPTest     139890\n",
       "Brute Force -Web                249\n",
       "Brute Force -XSS                 79\n",
       "SQL Injection                    34\n",
       "Name: label, dtype: int64"
      ]
     },
     "execution_count": 11,
     "metadata": {},
     "output_type": "execute_result"
    }
   ],
   "source": [
    "# Distribution of Dataset\n",
    "df['label'].value_counts()"
   ]
  },
  {
   "cell_type": "code",
   "execution_count": 12,
   "id": "203071a8",
   "metadata": {},
   "outputs": [],
   "source": [
    "# delet all binary labels \n",
    "df = df.loc[df[\"label\"]  != 'Benign' ]"
   ]
  },
  {
   "cell_type": "code",
   "execution_count": 13,
   "id": "5d1be2f2",
   "metadata": {},
   "outputs": [],
   "source": [
    "df['label_cat'] = df.label.astype('category').cat.codes\n",
    "#df['label_is_attack'] = (df.label != 'Benign').astype('int')"
   ]
  },
  {
   "cell_type": "code",
   "execution_count": 14,
   "id": "bfc00f92",
   "metadata": {},
   "outputs": [
    {
     "data": {
      "image/png": "[encoded data removed]",
      "text/plain": [
       "<Figure size 1080x720 with 1 Axes>"
      ]
     },
     "metadata": {
      "needs_background": "light"
     },
     "output_type": "display_data"
    }
   ],
   "source": [
    "plt.figure(figsize=(15,10))\n",
    "\n",
    "attack = ('DoS attacks-Hulk', 'Bot', 'DoS attacks-SlowHTTPTest' , 'Brute Force -Web' , 'Brute Force -XSS' , 'SQL Injection')\n",
    "y_pos = np.arange(len(attack)) \n",
    "amount = df['label'].value_counts()[:]\n",
    "plt.barh(y_pos, amount, align='center' , color='#FF0000')\n",
    "# color='#FF0000'\n",
    "plt.yticks(y_pos, attack)\n",
    "plt.title('Distribution of different types of attacks in the dataset')\n",
    "plt.xlabel('Number of occurences')\n",
    "plt.ylabel('Attack types')\n",
    "for i, v in enumerate(amount):\n",
    "    plt.text(v + 3, i-0.1 , str(v))\n",
    "    \n",
    "plt.show()"
   ]
  },
  {
   "cell_type": "code",
   "execution_count": 15,
   "id": "480f9eb8",
   "metadata": {},
   "outputs": [],
   "source": [
    "# 3 Different labeling options\n",
    "attacks = ['label', 'label_cat']\n",
    "\n",
    "# xs=feature vectors, ys=labels\n",
    "x = df.drop(attacks, axis=1)\n",
    "y = df['label_cat']"
   ]
  },
  {
   "cell_type": "code",
   "execution_count": 16,
   "id": "1e4b76ec",
   "metadata": {},
   "outputs": [],
   "source": [
    "x = x.drop(columns=['timestamp', 'dst_port'])"
   ]
  },
  {
   "cell_type": "code",
   "execution_count": 17,
   "id": "4db1339e",
   "metadata": {},
   "outputs": [],
   "source": [
    "x_train, x_test, y_train, y_test = train_test_split(x, y,\n",
    "                                                    test_size=0.2,\n",
    "                                                    random_state=0,\n",
    "                                                    stratify=y)"
   ]
  },
  {
   "cell_type": "code",
   "execution_count": 18,
   "id": "1e23ae50",
   "metadata": {},
   "outputs": [
    {
     "data": {
      "text/plain": [
       "['bwd_pkt_len_min',\n",
       " 'bwd_psh_flags',\n",
       " 'fwd_urg_flags',\n",
       " 'bwd_urg_flags',\n",
       " 'pkt_len_min',\n",
       " 'cwe_flag_count',\n",
       " 'fwd_byts_b_avg',\n",
       " 'fwd_pkts_b_avg',\n",
       " 'fwd_blk_rate_avg',\n",
       " 'bwd_byts_b_avg',\n",
       " 'bwd_pkts_b_avg',\n",
       " 'bwd_blk_rate_avg']"
      ]
     },
     "execution_count": 18,
     "metadata": {},
     "output_type": "execute_result"
    }
   ],
   "source": [
    "column_names = np.array(list(x_train))\n",
    "to_drop = []\n",
    "for x in column_names:\n",
    "    size = x_train.groupby([x]).size()\n",
    "    # check for columns that only take one value\n",
    "    if (len(size.unique()) == 1):\n",
    "        to_drop.append(x)\n",
    "to_drop"
   ]
  },
  {
   "cell_type": "code",
   "execution_count": 19,
   "id": "9e8851e6",
   "metadata": {},
   "outputs": [],
   "source": [
    "x_train = x_train.drop(to_drop, axis=1)\n",
    "x_test = x_test.drop(to_drop, axis=1)\n",
    "df_copy = df.drop(to_drop, axis=1)"
   ]
  },
  {
   "cell_type": "code",
   "execution_count": null,
   "id": "f56230fd",
   "metadata": {},
   "outputs": [],
   "source": []
  },
  {
   "cell_type": "code",
   "execution_count": 20,
   "id": "3fc9ee39",
   "metadata": {},
   "outputs": [],
   "source": [
    "# Normalise\n",
    "min_max_scaler = MinMaxScaler().fit(x_train)\n",
    "\n",
    "# Apply normalisation to dataset\n",
    "x_train = min_max_scaler.transform(x_train)\n",
    "x_test = min_max_scaler.transform(x_test)\n",
    "\n",
    "# All values between 0 and 1\n",
    "#pd.Series(x_train.flatten()).describe()"
   ]
  },
  {
   "cell_type": "code",
   "execution_count": null,
   "id": "4c4545ea",
   "metadata": {},
   "outputs": [],
   "source": []
  },
  {
   "cell_type": "code",
   "execution_count": 21,
   "id": "e36bb3fa",
   "metadata": {},
   "outputs": [],
   "source": [
    "features = SelectKBest(score_func=chi2, k=x_train.shape[1])\n",
    "\n",
    "#fit features to the training dataset\n",
    "fit = features.fit(x_train, y_train)"
   ]
  },
  {
   "cell_type": "code",
   "execution_count": 22,
   "id": "ca258079",
   "metadata": {},
   "outputs": [
    {
     "data": {
      "image/png": "[encoded data removed]",
      "text/plain": [
       "<Figure size 432x288 with 1 Axes>"
      ]
     },
     "metadata": {
      "needs_background": "light"
     },
     "output_type": "display_data"
    }
   ],
   "source": [
    "# sort the features by importance score\n",
    "feature_importances = zip(df.columns, features.scores_)\n",
    "feature_importances = sorted(feature_importances, key = lambda x: x[1], reverse = True)\n",
    "sorted_importances = [importance[1] for importance in feature_importances]\n",
    "sorted_features = [importance[0] for importance in feature_importances]\n",
    "\n",
    "x_values = list(range(len(feature_importances)))\n",
    "\n",
    "# plot the cumulative scores\n",
    "cumulative_importances = np.cumsum(sorted_importances)\n",
    "plt.plot(x_values, cumulative_importances)\n",
    "\n",
    "# Draw line at 99% of importance retained \n",
    "value99 = cumulative_importances[-1]*0.99\n",
    "\n",
    "plt.hlines(y = value99, xmin=0, xmax=len(sorted_importances), color = 'r', linestyles = 'dashed')\n",
    "plt.xticks(x_values, sorted_features, rotation = 'vertical', fontsize=5)\n",
    "plt.yticks([], [])\n",
    "plt.xlabel('Feature Variable', fontsize=8)\n",
    "plt.title('A Chart to Show Cumulative Feature Scores', fontsize=8)\n",
    "#plt.figure(figsize=(500,200))\n",
    "plt.tight_layout()"
   ]
  },
  {
   "cell_type": "code",
   "execution_count": 23,
   "id": "26472c71",
   "metadata": {},
   "outputs": [],
   "source": [
    "# perform selectkbest with k=40\n",
    "features = SelectKBest(score_func=chi2, k=40)\n",
    "fit = features.fit(x_train, y_train)\n",
    "x_train = fit.transform(x_train)\n",
    "x_test = fit.transform(x_test)"
   ]
  },
  {
   "cell_type": "code",
   "execution_count": 24,
   "id": "868b0f6a",
   "metadata": {},
   "outputs": [],
   "source": [
    "new_features = df_copy.columns[features.get_support(indices=True)]"
   ]
  },
  {
   "cell_type": "code",
   "execution_count": 25,
   "id": "2894f282",
   "metadata": {},
   "outputs": [
    {
     "data": {
      "text/plain": [
       "Index(['protocol', 'timestamp', 'flow_duration', 'tot_fwd_pkts',\n",
       "       'tot_bwd_pkts', 'totlen_fwd_pkts', 'fwd_pkt_len_max', 'fwd_pkt_len_min',\n",
       "       'fwd_pkt_len_mean', 'fwd_pkt_len_std', 'bwd_pkt_len_max',\n",
       "       'bwd_pkt_len_mean', 'bwd_pkt_len_std', 'flow_iat_std', 'flow_iat_max',\n",
       "       'fwd_iat_std', 'fwd_iat_max', 'fwd_psh_flags', 'fwd_header_len',\n",
       "       'bwd_header_len', 'fwd_pkts_s', 'bwd_pkts_s', 'pkt_len_max',\n",
       "       'fin_flag_cnt', 'syn_flag_cnt', 'rst_flag_cnt', 'psh_flag_cnt',\n",
       "       'ack_flag_cnt', 'urg_flag_cnt', 'ece_flag_cnt', 'down_up_ratio',\n",
       "       'pkt_size_avg', 'fwd_seg_size_avg', 'bwd_seg_size_avg',\n",
       "       'subflow_fwd_pkts', 'subflow_fwd_byts', 'subflow_bwd_pkts',\n",
       "       'subflow_bwd_byts', 'init_fwd_win_byts', 'init_bwd_win_byts'],\n",
       "      dtype='object')"
      ]
     },
     "execution_count": 25,
     "metadata": {},
     "output_type": "execute_result"
    }
   ],
   "source": [
    "new_features"
   ]
  },
  {
   "cell_type": "markdown",
   "id": "38b42885",
   "metadata": {},
   "source": [
    "# 1- SVM"
   ]
  },
  {
   "cell_type": "code",
   "execution_count": 26,
   "id": "008b3c43",
   "metadata": {},
   "outputs": [],
   "source": [
    "classifier = LinearSVC()"
   ]
  },
  {
   "cell_type": "code",
   "execution_count": 30,
   "id": "c4641b17",
   "metadata": {},
   "outputs": [
    {
     "data": {
      "text/plain": [
       "LinearSVC()"
      ]
     },
     "execution_count": 30,
     "metadata": {},
     "output_type": "execute_result"
    }
   ],
   "source": [
    "# fit the model\n",
    "classifier.fit(x_train, y_train)\n"
   ]
  },
  {
   "cell_type": "code",
   "execution_count": 31,
   "id": "eca61a64",
   "metadata": {},
   "outputs": [],
   "source": [
    "# predict validation\n",
    "y_predicted = classifier.predict(x_test)\n"
   ]
  },
  {
   "cell_type": "code",
   "execution_count": 32,
   "id": "70e1ee7f",
   "metadata": {},
   "outputs": [
    {
     "data": {
      "text/html": [
       "<div>\n",
       "<style scoped>\n",
       "    .dataframe tbody tr th:only-of-type {\n",
       "        vertical-align: middle;\n",
       "    }\n",
       "\n",
       "    .dataframe tbody tr th {\n",
       "        vertical-align: top;\n",
       "    }\n",
       "\n",
       "    .dataframe thead th {\n",
       "        text-align: right;\n",
       "    }\n",
       "</style>\n",
       "<table border=\"1\" class=\"dataframe\">\n",
       "  <thead>\n",
       "    <tr style=\"text-align: right;\">\n",
       "      <th>col_0</th>\n",
       "      <th>0</th>\n",
       "      <th>1</th>\n",
       "      <th>2</th>\n",
       "      <th>3</th>\n",
       "      <th>4</th>\n",
       "      <th>5</th>\n",
       "    </tr>\n",
       "    <tr>\n",
       "      <th>label_cat</th>\n",
       "      <th></th>\n",
       "      <th></th>\n",
       "      <th></th>\n",
       "      <th></th>\n",
       "      <th></th>\n",
       "      <th></th>\n",
       "    </tr>\n",
       "  </thead>\n",
       "  <tbody>\n",
       "    <tr>\n",
       "      <th>0</th>\n",
       "      <td>57238</td>\n",
       "      <td>0</td>\n",
       "      <td>0</td>\n",
       "      <td>0</td>\n",
       "      <td>0</td>\n",
       "      <td>0</td>\n",
       "    </tr>\n",
       "    <tr>\n",
       "      <th>1</th>\n",
       "      <td>24</td>\n",
       "      <td>26</td>\n",
       "      <td>0</td>\n",
       "      <td>0</td>\n",
       "      <td>0</td>\n",
       "      <td>0</td>\n",
       "    </tr>\n",
       "    <tr>\n",
       "      <th>2</th>\n",
       "      <td>9</td>\n",
       "      <td>0</td>\n",
       "      <td>7</td>\n",
       "      <td>0</td>\n",
       "      <td>0</td>\n",
       "      <td>0</td>\n",
       "    </tr>\n",
       "    <tr>\n",
       "      <th>3</th>\n",
       "      <td>0</td>\n",
       "      <td>0</td>\n",
       "      <td>0</td>\n",
       "      <td>92382</td>\n",
       "      <td>0</td>\n",
       "      <td>0</td>\n",
       "    </tr>\n",
       "    <tr>\n",
       "      <th>4</th>\n",
       "      <td>0</td>\n",
       "      <td>0</td>\n",
       "      <td>0</td>\n",
       "      <td>0</td>\n",
       "      <td>27978</td>\n",
       "      <td>0</td>\n",
       "    </tr>\n",
       "    <tr>\n",
       "      <th>5</th>\n",
       "      <td>4</td>\n",
       "      <td>1</td>\n",
       "      <td>0</td>\n",
       "      <td>1</td>\n",
       "      <td>0</td>\n",
       "      <td>1</td>\n",
       "    </tr>\n",
       "  </tbody>\n",
       "</table>\n",
       "</div>"
      ],
      "text/plain": [
       "col_0          0   1  2      3      4  5\n",
       "label_cat                               \n",
       "0          57238   0  0      0      0  0\n",
       "1             24  26  0      0      0  0\n",
       "2              9   0  7      0      0  0\n",
       "3              0   0  0  92382      0  0\n",
       "4              0   0  0      0  27978  0\n",
       "5              4   1  0      1      0  1"
      ]
     },
     "execution_count": 32,
     "metadata": {},
     "output_type": "execute_result"
    }
   ],
   "source": [
    "confusion_svm_1 = pd.crosstab(y_test, y_predicted)\n",
    "confusion_svm_1"
   ]
  },
  {
   "cell_type": "code",
   "execution_count": 33,
   "id": "355e0cee",
   "metadata": {},
   "outputs": [],
   "source": [
    "precision, recall, fscore, support = score(y_test, y_predicted)\n",
    "\n",
    "d = {'attack': attack, 'precision': precision,\n",
    "     'recall' : recall, 'fscore': fscore}"
   ]
  },
  {
   "cell_type": "code",
   "execution_count": 34,
   "id": "8b960cd2",
   "metadata": {},
   "outputs": [
    {
     "data": {
      "text/html": [
       "<div>\n",
       "<style scoped>\n",
       "    .dataframe tbody tr th:only-of-type {\n",
       "        vertical-align: middle;\n",
       "    }\n",
       "\n",
       "    .dataframe tbody tr th {\n",
       "        vertical-align: top;\n",
       "    }\n",
       "\n",
       "    .dataframe thead th {\n",
       "        text-align: right;\n",
       "    }\n",
       "</style>\n",
       "<table border=\"1\" class=\"dataframe\">\n",
       "  <thead>\n",
       "    <tr style=\"text-align: right;\">\n",
       "      <th></th>\n",
       "      <th>attack</th>\n",
       "      <th>precision</th>\n",
       "      <th>recall</th>\n",
       "      <th>fscore</th>\n",
       "    </tr>\n",
       "  </thead>\n",
       "  <tbody>\n",
       "    <tr>\n",
       "      <th>0</th>\n",
       "      <td>DoS attacks-Hulk</td>\n",
       "      <td>0.999354</td>\n",
       "      <td>1.000000</td>\n",
       "      <td>0.999677</td>\n",
       "    </tr>\n",
       "    <tr>\n",
       "      <th>1</th>\n",
       "      <td>Bot</td>\n",
       "      <td>0.962963</td>\n",
       "      <td>0.520000</td>\n",
       "      <td>0.675325</td>\n",
       "    </tr>\n",
       "    <tr>\n",
       "      <th>2</th>\n",
       "      <td>DoS attacks-SlowHTTPTest</td>\n",
       "      <td>1.000000</td>\n",
       "      <td>0.437500</td>\n",
       "      <td>0.608696</td>\n",
       "    </tr>\n",
       "    <tr>\n",
       "      <th>3</th>\n",
       "      <td>Brute Force -Web</td>\n",
       "      <td>0.999989</td>\n",
       "      <td>1.000000</td>\n",
       "      <td>0.999995</td>\n",
       "    </tr>\n",
       "    <tr>\n",
       "      <th>4</th>\n",
       "      <td>Brute Force -XSS</td>\n",
       "      <td>1.000000</td>\n",
       "      <td>1.000000</td>\n",
       "      <td>1.000000</td>\n",
       "    </tr>\n",
       "    <tr>\n",
       "      <th>5</th>\n",
       "      <td>SQL Injection</td>\n",
       "      <td>1.000000</td>\n",
       "      <td>0.142857</td>\n",
       "      <td>0.250000</td>\n",
       "    </tr>\n",
       "  </tbody>\n",
       "</table>\n",
       "</div>"
      ],
      "text/plain": [
       "                     attack  precision    recall    fscore\n",
       "0          DoS attacks-Hulk   0.999354  1.000000  0.999677\n",
       "1                       Bot   0.962963  0.520000  0.675325\n",
       "2  DoS attacks-SlowHTTPTest   1.000000  0.437500  0.608696\n",
       "3          Brute Force -Web   0.999989  1.000000  0.999995\n",
       "4          Brute Force -XSS   1.000000  1.000000  1.000000\n",
       "5             SQL Injection   1.000000  0.142857  0.250000"
      ]
     },
     "execution_count": 34,
     "metadata": {},
     "output_type": "execute_result"
    }
   ],
   "source": [
    "results = pd.DataFrame(data=d)\n",
    "results"
   ]
  },
  {
   "cell_type": "code",
   "execution_count": null,
   "id": "a33f9ac4",
   "metadata": {},
   "outputs": [],
   "source": []
  },
  {
   "cell_type": "markdown",
   "id": "d17da1fc",
   "metadata": {},
   "source": [
    "# 2- Decision Tree"
   ]
  },
  {
   "cell_type": "code",
   "execution_count": 35,
   "id": "2242fa84",
   "metadata": {},
   "outputs": [],
   "source": [
    "classifier1 = DecisionTreeClassifier()"
   ]
  },
  {
   "cell_type": "code",
   "execution_count": 36,
   "id": "5e5352fb",
   "metadata": {},
   "outputs": [
    {
     "data": {
      "text/html": [
       "<div>\n",
       "<style scoped>\n",
       "    .dataframe tbody tr th:only-of-type {\n",
       "        vertical-align: middle;\n",
       "    }\n",
       "\n",
       "    .dataframe tbody tr th {\n",
       "        vertical-align: top;\n",
       "    }\n",
       "\n",
       "    .dataframe thead th {\n",
       "        text-align: right;\n",
       "    }\n",
       "</style>\n",
       "<table border=\"1\" class=\"dataframe\">\n",
       "  <thead>\n",
       "    <tr style=\"text-align: right;\">\n",
       "      <th>col_0</th>\n",
       "      <th>0</th>\n",
       "      <th>1</th>\n",
       "      <th>2</th>\n",
       "      <th>3</th>\n",
       "      <th>4</th>\n",
       "      <th>5</th>\n",
       "    </tr>\n",
       "    <tr>\n",
       "      <th>label_cat</th>\n",
       "      <th></th>\n",
       "      <th></th>\n",
       "      <th></th>\n",
       "      <th></th>\n",
       "      <th></th>\n",
       "      <th></th>\n",
       "    </tr>\n",
       "  </thead>\n",
       "  <tbody>\n",
       "    <tr>\n",
       "      <th>0</th>\n",
       "      <td>57237</td>\n",
       "      <td>0</td>\n",
       "      <td>1</td>\n",
       "      <td>0</td>\n",
       "      <td>0</td>\n",
       "      <td>0</td>\n",
       "    </tr>\n",
       "    <tr>\n",
       "      <th>1</th>\n",
       "      <td>2</td>\n",
       "      <td>47</td>\n",
       "      <td>0</td>\n",
       "      <td>0</td>\n",
       "      <td>0</td>\n",
       "      <td>1</td>\n",
       "    </tr>\n",
       "    <tr>\n",
       "      <th>2</th>\n",
       "      <td>1</td>\n",
       "      <td>0</td>\n",
       "      <td>14</td>\n",
       "      <td>0</td>\n",
       "      <td>0</td>\n",
       "      <td>1</td>\n",
       "    </tr>\n",
       "    <tr>\n",
       "      <th>3</th>\n",
       "      <td>0</td>\n",
       "      <td>0</td>\n",
       "      <td>0</td>\n",
       "      <td>92382</td>\n",
       "      <td>0</td>\n",
       "      <td>0</td>\n",
       "    </tr>\n",
       "    <tr>\n",
       "      <th>4</th>\n",
       "      <td>0</td>\n",
       "      <td>0</td>\n",
       "      <td>0</td>\n",
       "      <td>0</td>\n",
       "      <td>27978</td>\n",
       "      <td>0</td>\n",
       "    </tr>\n",
       "    <tr>\n",
       "      <th>5</th>\n",
       "      <td>0</td>\n",
       "      <td>2</td>\n",
       "      <td>0</td>\n",
       "      <td>0</td>\n",
       "      <td>0</td>\n",
       "      <td>5</td>\n",
       "    </tr>\n",
       "  </tbody>\n",
       "</table>\n",
       "</div>"
      ],
      "text/plain": [
       "col_0          0   1   2      3      4  5\n",
       "label_cat                                \n",
       "0          57237   0   1      0      0  0\n",
       "1              2  47   0      0      0  1\n",
       "2              1   0  14      0      0  1\n",
       "3              0   0   0  92382      0  0\n",
       "4              0   0   0      0  27978  0\n",
       "5              0   2   0      0      0  5"
      ]
     },
     "execution_count": 36,
     "metadata": {},
     "output_type": "execute_result"
    }
   ],
   "source": [
    "# fit the model\n",
    "classifier1.fit(x_train, y_train)\n",
    "\n",
    "\n",
    "# predict validation\n",
    "y_predicted = classifier1.predict(x_test)\n",
    "\n",
    "confusion_dt_1 = pd.crosstab(y_test, y_predicted)\n",
    "confusion_dt_1"
   ]
  },
  {
   "cell_type": "code",
   "execution_count": 37,
   "id": "e6a88ac1",
   "metadata": {},
   "outputs": [],
   "source": [
    "precision, recall, fscore, support = score(y_test, y_predicted)\n",
    "\n",
    "d = {'attack': attack, 'precision': precision,\n",
    "     'recall' : recall, 'fscore': fscore}"
   ]
  },
  {
   "cell_type": "code",
   "execution_count": 38,
   "id": "58684372",
   "metadata": {},
   "outputs": [
    {
     "data": {
      "text/html": [
       "<div>\n",
       "<style scoped>\n",
       "    .dataframe tbody tr th:only-of-type {\n",
       "        vertical-align: middle;\n",
       "    }\n",
       "\n",
       "    .dataframe tbody tr th {\n",
       "        vertical-align: top;\n",
       "    }\n",
       "\n",
       "    .dataframe thead th {\n",
       "        text-align: right;\n",
       "    }\n",
       "</style>\n",
       "<table border=\"1\" class=\"dataframe\">\n",
       "  <thead>\n",
       "    <tr style=\"text-align: right;\">\n",
       "      <th></th>\n",
       "      <th>attack</th>\n",
       "      <th>precision</th>\n",
       "      <th>recall</th>\n",
       "      <th>fscore</th>\n",
       "    </tr>\n",
       "  </thead>\n",
       "  <tbody>\n",
       "    <tr>\n",
       "      <th>0</th>\n",
       "      <td>DoS attacks-Hulk</td>\n",
       "      <td>0.999948</td>\n",
       "      <td>0.999983</td>\n",
       "      <td>0.999965</td>\n",
       "    </tr>\n",
       "    <tr>\n",
       "      <th>1</th>\n",
       "      <td>Bot</td>\n",
       "      <td>0.959184</td>\n",
       "      <td>0.940000</td>\n",
       "      <td>0.949495</td>\n",
       "    </tr>\n",
       "    <tr>\n",
       "      <th>2</th>\n",
       "      <td>DoS attacks-SlowHTTPTest</td>\n",
       "      <td>0.933333</td>\n",
       "      <td>0.875000</td>\n",
       "      <td>0.903226</td>\n",
       "    </tr>\n",
       "    <tr>\n",
       "      <th>3</th>\n",
       "      <td>Brute Force -Web</td>\n",
       "      <td>1.000000</td>\n",
       "      <td>1.000000</td>\n",
       "      <td>1.000000</td>\n",
       "    </tr>\n",
       "    <tr>\n",
       "      <th>4</th>\n",
       "      <td>Brute Force -XSS</td>\n",
       "      <td>1.000000</td>\n",
       "      <td>1.000000</td>\n",
       "      <td>1.000000</td>\n",
       "    </tr>\n",
       "    <tr>\n",
       "      <th>5</th>\n",
       "      <td>SQL Injection</td>\n",
       "      <td>0.714286</td>\n",
       "      <td>0.714286</td>\n",
       "      <td>0.714286</td>\n",
       "    </tr>\n",
       "  </tbody>\n",
       "</table>\n",
       "</div>"
      ],
      "text/plain": [
       "                     attack  precision    recall    fscore\n",
       "0          DoS attacks-Hulk   0.999948  0.999983  0.999965\n",
       "1                       Bot   0.959184  0.940000  0.949495\n",
       "2  DoS attacks-SlowHTTPTest   0.933333  0.875000  0.903226\n",
       "3          Brute Force -Web   1.000000  1.000000  1.000000\n",
       "4          Brute Force -XSS   1.000000  1.000000  1.000000\n",
       "5             SQL Injection   0.714286  0.714286  0.714286"
      ]
     },
     "execution_count": 38,
     "metadata": {},
     "output_type": "execute_result"
    }
   ],
   "source": [
    "results = pd.DataFrame(data=d)\n",
    "results"
   ]
  },
  {
   "cell_type": "code",
   "execution_count": null,
   "id": "d5245558",
   "metadata": {},
   "outputs": [],
   "source": []
  },
  {
   "cell_type": "markdown",
   "id": "e49b3178",
   "metadata": {},
   "source": [
    "# 3- KNN"
   ]
  },
  {
   "cell_type": "code",
   "execution_count": 39,
   "id": "7ba3ac95",
   "metadata": {},
   "outputs": [
    {
     "data": {
      "text/plain": [
       "\"\\np_list = []\\nr_list = []\\nf_list = []\\n\\n# for odd values of k, 1-50 (note: takes a long time to run)\\n#k_range = range(1, 51, 2)\\n\\nfor k in k_range:\\n    classifier = KNeighborsClassifier(n_neighbors = 3) #k\\n    # fit model\\n    classifier.fit(x_train, y_train)\\n    # predict validation\\n    y_predicted = classifier.predict(x_test)\\n    # calculate metrics\\n    precision, recall, fscore, n = score(y_test, y_predicted, average = 'macro')\\n    # append to the list\\n    p_list.append(precision)\\n    r_list.append(recall)\\n    f_list.append(fscore)\\n \""
      ]
     },
     "execution_count": 39,
     "metadata": {},
     "output_type": "execute_result"
    }
   ],
   "source": [
    "'''\n",
    "p_list = []\n",
    "r_list = []\n",
    "f_list = []\n",
    "\n",
    "# for odd values of k, 1-50 (note: takes a long time to run)\n",
    "#k_range = range(1, 51, 2)\n",
    "\n",
    "for k in k_range:\n",
    "    classifier = KNeighborsClassifier(n_neighbors = 3) #k\n",
    "    # fit model\n",
    "    classifier.fit(x_train, y_train)\n",
    "    # predict validation\n",
    "    y_predicted = classifier.predict(x_test)\n",
    "    # calculate metrics\n",
    "    precision, recall, fscore, n = score(y_test, y_predicted, average = 'macro')\n",
    "    # append to the list\n",
    "    p_list.append(precision)\n",
    "    r_list.append(recall)\n",
    "    f_list.append(fscore)\n",
    " '''  "
   ]
  },
  {
   "cell_type": "code",
   "execution_count": 40,
   "id": "8419834c",
   "metadata": {},
   "outputs": [
    {
     "data": {
      "text/plain": [
       "\"\\n# plot results \\nplt.plot(k_range, p_list, label='Precision')\\nplt.plot(k_range, r_list, label='Recall')\\n\\nplt.plot(k_range, f1_list, label='F1 Score')\\nplt.legend(loc='best')\\nplt.xlabel('K Value')\\nplt.ylabel('%')\\nplt.title('A chart to show Precision, Recall, and F1 Score for different K Values')\\nplt.savefig('knn_k_values.png')\\n\""
      ]
     },
     "execution_count": 40,
     "metadata": {},
     "output_type": "execute_result"
    }
   ],
   "source": [
    "'''\n",
    "# plot results \n",
    "plt.plot(k_range, p_list, label='Precision')\n",
    "plt.plot(k_range, r_list, label='Recall')\n",
    "\n",
    "plt.plot(k_range, f1_list, label='F1 Score')\n",
    "plt.legend(loc='best')\n",
    "plt.xlabel('K Value')\n",
    "plt.ylabel('%')\n",
    "plt.title('A chart to show Precision, Recall, and F1 Score for different K Values')\n",
    "plt.savefig('knn_k_values.png')\n",
    "'''"
   ]
  },
  {
   "cell_type": "code",
   "execution_count": 41,
   "id": "cb817d60",
   "metadata": {},
   "outputs": [
    {
     "data": {
      "text/plain": [
       "'\\n# fit model\\nclassifier = KNeighborsClassifier(n_neighbors = 3)\\n\\nclassifier.fit(x_train, y_train)\\n'"
      ]
     },
     "execution_count": 41,
     "metadata": {},
     "output_type": "execute_result"
    }
   ],
   "source": [
    "'''\n",
    "# fit model\n",
    "classifier = KNeighborsClassifier(n_neighbors = 3)\n",
    "\n",
    "classifier.fit(x_train, y_train)\n",
    "'''\n"
   ]
  },
  {
   "cell_type": "code",
   "execution_count": 42,
   "id": "b684ca66",
   "metadata": {},
   "outputs": [
    {
     "data": {
      "text/plain": [
       "'\\n#predict\\ny_predicted = classifier.predict(x_test)\\n'"
      ]
     },
     "execution_count": 42,
     "metadata": {},
     "output_type": "execute_result"
    }
   ],
   "source": [
    "'''\n",
    "#predict\n",
    "y_predicted = classifier.predict(x_test)\n",
    "'''"
   ]
  },
  {
   "cell_type": "code",
   "execution_count": 43,
   "id": "465be0eb",
   "metadata": {},
   "outputs": [
    {
     "data": {
      "text/plain": [
       "\"\\n#calculate metrics\\nprecision_knn_1, recall_knn_1, fscore_knn_1, n = score(y_test, y_predicted, average = 'macro')\\n\\naccuracy_knn_1=  accuracy_score(y_test, y_predicted)\\n\""
      ]
     },
     "execution_count": 43,
     "metadata": {},
     "output_type": "execute_result"
    }
   ],
   "source": [
    "'''\n",
    "#calculate metrics\n",
    "precision_knn_1, recall_knn_1, fscore_knn_1, n = score(y_test, y_predicted, average = 'macro')\n",
    "\n",
    "accuracy_knn_1=  accuracy_score(y_test, y_predicted)\n",
    "'''"
   ]
  },
  {
   "cell_type": "code",
   "execution_count": 44,
   "id": "cb5b6893",
   "metadata": {},
   "outputs": [],
   "source": [
    "#confusion_knn_1 = pd.crosstab(y_test, y_predicted)"
   ]
  },
  {
   "cell_type": "code",
   "execution_count": 45,
   "id": "e7b9c855",
   "metadata": {},
   "outputs": [],
   "source": [
    "#confusion_knn_1"
   ]
  },
  {
   "cell_type": "code",
   "execution_count": 46,
   "id": "3d6f9b80",
   "metadata": {},
   "outputs": [
    {
     "data": {
      "text/plain": [
       "\"\\nprecision, recall, fscore, support = score(y_test, y_predicted)\\nd = {'attack': attack, 'precision': precision,\\n     'recall' : recall, 'fscore': fscore}\\n\\nresults = pd.DataFrame(data=d)\\nresults\\n\""
      ]
     },
     "execution_count": 46,
     "metadata": {},
     "output_type": "execute_result"
    }
   ],
   "source": [
    "'''\n",
    "precision, recall, fscore, support = score(y_test, y_predicted)\n",
    "d = {'attack': attack, 'precision': precision,\n",
    "     'recall' : recall, 'fscore': fscore}\n",
    "\n",
    "results = pd.DataFrame(data=d)\n",
    "results\n",
    "'''"
   ]
  },
  {
   "cell_type": "code",
   "execution_count": 47,
   "id": "0092cb4b",
   "metadata": {},
   "outputs": [
    {
     "data": {
      "text/plain": [
       "'\\nprint(\"Classification Report\")\\nprint(classification_report(y_test, y_predicted))\\n'"
      ]
     },
     "execution_count": 47,
     "metadata": {},
     "output_type": "execute_result"
    }
   ],
   "source": [
    "'''\n",
    "print(\"Classification Report\")\n",
    "print(classification_report(y_test, y_predicted))\n",
    "'''"
   ]
  },
  {
   "cell_type": "markdown",
   "id": "6e8560eb",
   "metadata": {},
   "source": [
    "# 4- Naive Bayes"
   ]
  },
  {
   "cell_type": "code",
   "execution_count": 49,
   "id": "a41438af",
   "metadata": {},
   "outputs": [],
   "source": [
    "NB_cls = MultinomialNB()"
   ]
  },
  {
   "cell_type": "code",
   "execution_count": 50,
   "id": "56242473",
   "metadata": {},
   "outputs": [
    {
     "data": {
      "text/plain": [
       "MultinomialNB()"
      ]
     },
     "execution_count": 50,
     "metadata": {},
     "output_type": "execute_result"
    }
   ],
   "source": [
    "# fit model\n",
    "NB_cls.fit(x_train, y_train)\n"
   ]
  },
  {
   "cell_type": "code",
   "execution_count": 51,
   "id": "20bc8169",
   "metadata": {},
   "outputs": [],
   "source": [
    "# predict\n",
    "y_predicted = NB_cls.predict(x_test)\n"
   ]
  },
  {
   "cell_type": "code",
   "execution_count": 52,
   "id": "bdc423a0",
   "metadata": {},
   "outputs": [
    {
     "data": {
      "text/html": [
       "<div>\n",
       "<style scoped>\n",
       "    .dataframe tbody tr th:only-of-type {\n",
       "        vertical-align: middle;\n",
       "    }\n",
       "\n",
       "    .dataframe tbody tr th {\n",
       "        vertical-align: top;\n",
       "    }\n",
       "\n",
       "    .dataframe thead th {\n",
       "        text-align: right;\n",
       "    }\n",
       "</style>\n",
       "<table border=\"1\" class=\"dataframe\">\n",
       "  <thead>\n",
       "    <tr style=\"text-align: right;\">\n",
       "      <th>label_cat</th>\n",
       "      <th>0</th>\n",
       "      <th>1</th>\n",
       "      <th>2</th>\n",
       "      <th>3</th>\n",
       "      <th>4</th>\n",
       "      <th>5</th>\n",
       "    </tr>\n",
       "    <tr>\n",
       "      <th>label_cat</th>\n",
       "      <th></th>\n",
       "      <th></th>\n",
       "      <th></th>\n",
       "      <th></th>\n",
       "      <th></th>\n",
       "      <th></th>\n",
       "    </tr>\n",
       "  </thead>\n",
       "  <tbody>\n",
       "    <tr>\n",
       "      <th>0</th>\n",
       "      <td>57238</td>\n",
       "      <td>0</td>\n",
       "      <td>0</td>\n",
       "      <td>0</td>\n",
       "      <td>0</td>\n",
       "      <td>0</td>\n",
       "    </tr>\n",
       "    <tr>\n",
       "      <th>1</th>\n",
       "      <td>0</td>\n",
       "      <td>50</td>\n",
       "      <td>0</td>\n",
       "      <td>0</td>\n",
       "      <td>0</td>\n",
       "      <td>0</td>\n",
       "    </tr>\n",
       "    <tr>\n",
       "      <th>2</th>\n",
       "      <td>0</td>\n",
       "      <td>0</td>\n",
       "      <td>16</td>\n",
       "      <td>0</td>\n",
       "      <td>0</td>\n",
       "      <td>0</td>\n",
       "    </tr>\n",
       "    <tr>\n",
       "      <th>3</th>\n",
       "      <td>0</td>\n",
       "      <td>0</td>\n",
       "      <td>0</td>\n",
       "      <td>92382</td>\n",
       "      <td>0</td>\n",
       "      <td>0</td>\n",
       "    </tr>\n",
       "    <tr>\n",
       "      <th>4</th>\n",
       "      <td>0</td>\n",
       "      <td>0</td>\n",
       "      <td>0</td>\n",
       "      <td>0</td>\n",
       "      <td>27978</td>\n",
       "      <td>0</td>\n",
       "    </tr>\n",
       "    <tr>\n",
       "      <th>5</th>\n",
       "      <td>0</td>\n",
       "      <td>0</td>\n",
       "      <td>0</td>\n",
       "      <td>0</td>\n",
       "      <td>0</td>\n",
       "      <td>7</td>\n",
       "    </tr>\n",
       "  </tbody>\n",
       "</table>\n",
       "</div>"
      ],
      "text/plain": [
       "label_cat      0   1   2      3      4  5\n",
       "label_cat                                \n",
       "0          57238   0   0      0      0  0\n",
       "1              0  50   0      0      0  0\n",
       "2              0   0  16      0      0  0\n",
       "3              0   0   0  92382      0  0\n",
       "4              0   0   0      0  27978  0\n",
       "5              0   0   0      0      0  7"
      ]
     },
     "execution_count": 52,
     "metadata": {},
     "output_type": "execute_result"
    }
   ],
   "source": [
    "confusion_nb_1 = pd.crosstab(y_test, y_test)\n",
    "confusion_nb_1"
   ]
  },
  {
   "cell_type": "code",
   "execution_count": 53,
   "id": "7ed9ce2e",
   "metadata": {},
   "outputs": [],
   "source": [
    "precision, recall, fscore, support = score(y_test, y_predicted)\n",
    "d = {'attack': attack, 'precision': precision, 'recall' : recall, 'fscore': fscore}"
   ]
  },
  {
   "cell_type": "code",
   "execution_count": 54,
   "id": "123e2cfb",
   "metadata": {},
   "outputs": [
    {
     "data": {
      "text/html": [
       "<div>\n",
       "<style scoped>\n",
       "    .dataframe tbody tr th:only-of-type {\n",
       "        vertical-align: middle;\n",
       "    }\n",
       "\n",
       "    .dataframe tbody tr th {\n",
       "        vertical-align: top;\n",
       "    }\n",
       "\n",
       "    .dataframe thead th {\n",
       "        text-align: right;\n",
       "    }\n",
       "</style>\n",
       "<table border=\"1\" class=\"dataframe\">\n",
       "  <thead>\n",
       "    <tr style=\"text-align: right;\">\n",
       "      <th></th>\n",
       "      <th>attack</th>\n",
       "      <th>precision</th>\n",
       "      <th>recall</th>\n",
       "      <th>fscore</th>\n",
       "    </tr>\n",
       "  </thead>\n",
       "  <tbody>\n",
       "    <tr>\n",
       "      <th>0</th>\n",
       "      <td>DoS attacks-Hulk</td>\n",
       "      <td>0.902810</td>\n",
       "      <td>0.500175</td>\n",
       "      <td>0.643717</td>\n",
       "    </tr>\n",
       "    <tr>\n",
       "      <th>1</th>\n",
       "      <td>Bot</td>\n",
       "      <td>1.000000</td>\n",
       "      <td>0.240000</td>\n",
       "      <td>0.387097</td>\n",
       "    </tr>\n",
       "    <tr>\n",
       "      <th>2</th>\n",
       "      <td>DoS attacks-SlowHTTPTest</td>\n",
       "      <td>1.000000</td>\n",
       "      <td>0.437500</td>\n",
       "      <td>0.608696</td>\n",
       "    </tr>\n",
       "    <tr>\n",
       "      <th>3</th>\n",
       "      <td>Brute Force -Web</td>\n",
       "      <td>0.757185</td>\n",
       "      <td>0.966844</td>\n",
       "      <td>0.849266</td>\n",
       "    </tr>\n",
       "    <tr>\n",
       "      <th>4</th>\n",
       "      <td>Brute Force -XSS</td>\n",
       "      <td>1.000000</td>\n",
       "      <td>1.000000</td>\n",
       "      <td>1.000000</td>\n",
       "    </tr>\n",
       "    <tr>\n",
       "      <th>5</th>\n",
       "      <td>SQL Injection</td>\n",
       "      <td>1.000000</td>\n",
       "      <td>0.142857</td>\n",
       "      <td>0.250000</td>\n",
       "    </tr>\n",
       "  </tbody>\n",
       "</table>\n",
       "</div>"
      ],
      "text/plain": [
       "                     attack  precision    recall    fscore\n",
       "0          DoS attacks-Hulk   0.902810  0.500175  0.643717\n",
       "1                       Bot   1.000000  0.240000  0.387097\n",
       "2  DoS attacks-SlowHTTPTest   1.000000  0.437500  0.608696\n",
       "3          Brute Force -Web   0.757185  0.966844  0.849266\n",
       "4          Brute Force -XSS   1.000000  1.000000  1.000000\n",
       "5             SQL Injection   1.000000  0.142857  0.250000"
      ]
     },
     "execution_count": 54,
     "metadata": {},
     "output_type": "execute_result"
    }
   ],
   "source": [
    "results = pd.DataFrame(data=d)\n",
    "results"
   ]
  },
  {
   "cell_type": "code",
   "execution_count": null,
   "id": "441460c1",
   "metadata": {},
   "outputs": [],
   "source": []
  },
  {
   "cell_type": "markdown",
   "id": "8258d99d",
   "metadata": {},
   "source": [
    "# 6- Random Forest"
   ]
  },
  {
   "cell_type": "code",
   "execution_count": 55,
   "id": "f2d67bb8",
   "metadata": {},
   "outputs": [],
   "source": [
    "forest =  RandomForestClassifier()"
   ]
  },
  {
   "cell_type": "code",
   "execution_count": 56,
   "id": "7111dc6f",
   "metadata": {},
   "outputs": [
    {
     "data": {
      "text/plain": [
       "RandomForestClassifier()"
      ]
     },
     "execution_count": 56,
     "metadata": {},
     "output_type": "execute_result"
    }
   ],
   "source": [
    "#fit\n",
    "forest.fit(x_train, y_train)\n"
   ]
  },
  {
   "cell_type": "code",
   "execution_count": 57,
   "id": "fe89f423",
   "metadata": {},
   "outputs": [],
   "source": [
    "# predict\n",
    "y_predicted = forest.predict(x_test)\n"
   ]
  },
  {
   "cell_type": "code",
   "execution_count": 58,
   "id": "56be9f86",
   "metadata": {},
   "outputs": [
    {
     "data": {
      "text/html": [
       "<div>\n",
       "<style scoped>\n",
       "    .dataframe tbody tr th:only-of-type {\n",
       "        vertical-align: middle;\n",
       "    }\n",
       "\n",
       "    .dataframe tbody tr th {\n",
       "        vertical-align: top;\n",
       "    }\n",
       "\n",
       "    .dataframe thead th {\n",
       "        text-align: right;\n",
       "    }\n",
       "</style>\n",
       "<table border=\"1\" class=\"dataframe\">\n",
       "  <thead>\n",
       "    <tr style=\"text-align: right;\">\n",
       "      <th>col_0</th>\n",
       "      <th>0</th>\n",
       "      <th>1</th>\n",
       "      <th>2</th>\n",
       "      <th>3</th>\n",
       "      <th>4</th>\n",
       "      <th>5</th>\n",
       "    </tr>\n",
       "    <tr>\n",
       "      <th>label_cat</th>\n",
       "      <th></th>\n",
       "      <th></th>\n",
       "      <th></th>\n",
       "      <th></th>\n",
       "      <th></th>\n",
       "      <th></th>\n",
       "    </tr>\n",
       "  </thead>\n",
       "  <tbody>\n",
       "    <tr>\n",
       "      <th>0</th>\n",
       "      <td>57236</td>\n",
       "      <td>2</td>\n",
       "      <td>0</td>\n",
       "      <td>0</td>\n",
       "      <td>0</td>\n",
       "      <td>0</td>\n",
       "    </tr>\n",
       "    <tr>\n",
       "      <th>1</th>\n",
       "      <td>7</td>\n",
       "      <td>43</td>\n",
       "      <td>0</td>\n",
       "      <td>0</td>\n",
       "      <td>0</td>\n",
       "      <td>0</td>\n",
       "    </tr>\n",
       "    <tr>\n",
       "      <th>2</th>\n",
       "      <td>1</td>\n",
       "      <td>0</td>\n",
       "      <td>14</td>\n",
       "      <td>0</td>\n",
       "      <td>0</td>\n",
       "      <td>1</td>\n",
       "    </tr>\n",
       "    <tr>\n",
       "      <th>3</th>\n",
       "      <td>0</td>\n",
       "      <td>0</td>\n",
       "      <td>0</td>\n",
       "      <td>92382</td>\n",
       "      <td>0</td>\n",
       "      <td>0</td>\n",
       "    </tr>\n",
       "    <tr>\n",
       "      <th>4</th>\n",
       "      <td>0</td>\n",
       "      <td>0</td>\n",
       "      <td>0</td>\n",
       "      <td>0</td>\n",
       "      <td>27978</td>\n",
       "      <td>0</td>\n",
       "    </tr>\n",
       "    <tr>\n",
       "      <th>5</th>\n",
       "      <td>0</td>\n",
       "      <td>2</td>\n",
       "      <td>0</td>\n",
       "      <td>0</td>\n",
       "      <td>0</td>\n",
       "      <td>5</td>\n",
       "    </tr>\n",
       "  </tbody>\n",
       "</table>\n",
       "</div>"
      ],
      "text/plain": [
       "col_0          0   1   2      3      4  5\n",
       "label_cat                                \n",
       "0          57236   2   0      0      0  0\n",
       "1              7  43   0      0      0  0\n",
       "2              1   0  14      0      0  1\n",
       "3              0   0   0  92382      0  0\n",
       "4              0   0   0      0  27978  0\n",
       "5              0   2   0      0      0  5"
      ]
     },
     "execution_count": 58,
     "metadata": {},
     "output_type": "execute_result"
    }
   ],
   "source": [
    "confusion_rf_1 = pd.crosstab(y_test, y_predicted)\n",
    "confusion_rf_1"
   ]
  },
  {
   "cell_type": "code",
   "execution_count": 59,
   "id": "055018a1",
   "metadata": {},
   "outputs": [],
   "source": [
    "precision, recall, fscore, support = score(y_test, y_predicted)\n",
    "d = {'attack': attack, 'precision': precision, \n",
    "     'recall' : recall, 'fscore': fscore}"
   ]
  },
  {
   "cell_type": "code",
   "execution_count": 60,
   "id": "9e039da3",
   "metadata": {},
   "outputs": [
    {
     "data": {
      "text/html": [
       "<div>\n",
       "<style scoped>\n",
       "    .dataframe tbody tr th:only-of-type {\n",
       "        vertical-align: middle;\n",
       "    }\n",
       "\n",
       "    .dataframe tbody tr th {\n",
       "        vertical-align: top;\n",
       "    }\n",
       "\n",
       "    .dataframe thead th {\n",
       "        text-align: right;\n",
       "    }\n",
       "</style>\n",
       "<table border=\"1\" class=\"dataframe\">\n",
       "  <thead>\n",
       "    <tr style=\"text-align: right;\">\n",
       "      <th></th>\n",
       "      <th>attack</th>\n",
       "      <th>precision</th>\n",
       "      <th>recall</th>\n",
       "      <th>fscore</th>\n",
       "    </tr>\n",
       "  </thead>\n",
       "  <tbody>\n",
       "    <tr>\n",
       "      <th>0</th>\n",
       "      <td>DoS attacks-Hulk</td>\n",
       "      <td>0.999860</td>\n",
       "      <td>0.999965</td>\n",
       "      <td>0.999913</td>\n",
       "    </tr>\n",
       "    <tr>\n",
       "      <th>1</th>\n",
       "      <td>Bot</td>\n",
       "      <td>0.914894</td>\n",
       "      <td>0.860000</td>\n",
       "      <td>0.886598</td>\n",
       "    </tr>\n",
       "    <tr>\n",
       "      <th>2</th>\n",
       "      <td>DoS attacks-SlowHTTPTest</td>\n",
       "      <td>1.000000</td>\n",
       "      <td>0.875000</td>\n",
       "      <td>0.933333</td>\n",
       "    </tr>\n",
       "    <tr>\n",
       "      <th>3</th>\n",
       "      <td>Brute Force -Web</td>\n",
       "      <td>1.000000</td>\n",
       "      <td>1.000000</td>\n",
       "      <td>1.000000</td>\n",
       "    </tr>\n",
       "    <tr>\n",
       "      <th>4</th>\n",
       "      <td>Brute Force -XSS</td>\n",
       "      <td>1.000000</td>\n",
       "      <td>1.000000</td>\n",
       "      <td>1.000000</td>\n",
       "    </tr>\n",
       "    <tr>\n",
       "      <th>5</th>\n",
       "      <td>SQL Injection</td>\n",
       "      <td>0.833333</td>\n",
       "      <td>0.714286</td>\n",
       "      <td>0.769231</td>\n",
       "    </tr>\n",
       "  </tbody>\n",
       "</table>\n",
       "</div>"
      ],
      "text/plain": [
       "                     attack  precision    recall    fscore\n",
       "0          DoS attacks-Hulk   0.999860  0.999965  0.999913\n",
       "1                       Bot   0.914894  0.860000  0.886598\n",
       "2  DoS attacks-SlowHTTPTest   1.000000  0.875000  0.933333\n",
       "3          Brute Force -Web   1.000000  1.000000  1.000000\n",
       "4          Brute Force -XSS   1.000000  1.000000  1.000000\n",
       "5             SQL Injection   0.833333  0.714286  0.769231"
      ]
     },
     "execution_count": 60,
     "metadata": {},
     "output_type": "execute_result"
    }
   ],
   "source": [
    "results = pd.DataFrame(data=d)\n",
    "results"
   ]
  },
  {
   "cell_type": "code",
   "execution_count": null,
   "id": "3bf1201f",
   "metadata": {},
   "outputs": [],
   "source": []
  },
  {
   "cell_type": "markdown",
   "id": "e94dc886",
   "metadata": {},
   "source": [
    "# 7- GradientBoosting"
   ]
  },
  {
   "cell_type": "code",
   "execution_count": 61,
   "id": "80a5ebed",
   "metadata": {},
   "outputs": [],
   "source": [
    "scaler = MinMaxScaler()\n",
    "x_train = scaler.fit_transform(x_train)\n",
    "x_test = scaler.transform(x_test)"
   ]
  },
  {
   "cell_type": "code",
   "execution_count": 62,
   "id": "1fcb2767",
   "metadata": {},
   "outputs": [
    {
     "data": {
      "text/plain": [
       "'\\nlr_list = [0.05, 0.075, 0.1, 0.25, 0.5, 0.75, 1]\\n\\nfor learning_rate in lr_list:\\n    gb_clf = GradientBoostingClassifier(n_estimators=20, learning_rate=learning_rate, max_features=2, max_depth=2, random_state=0)\\n    gb_clf.fit(x_train, y_train)\\n\\n    print(\"Learning rate: \", learning_rate)\\n    print(\"Accuracy score (training): {0:.3f}\".format(gb_clf.score(x_train, y_train)))\\n    print(\"Accuracy score (testing): {0:.3f}\".format(gb_clf.score(x_test, y_test)))\\n    '"
      ]
     },
     "execution_count": 62,
     "metadata": {},
     "output_type": "execute_result"
    }
   ],
   "source": [
    "'''\n",
    "lr_list = [0.05, 0.075, 0.1, 0.25, 0.5, 0.75, 1]\n",
    "\n",
    "for learning_rate in lr_list:\n",
    "    gb_clf = GradientBoostingClassifier(n_estimators=20, learning_rate=learning_rate, max_features=2, max_depth=2, random_state=0)\n",
    "    gb_clf.fit(x_train, y_train)\n",
    "\n",
    "    print(\"Learning rate: \", learning_rate)\n",
    "    print(\"Accuracy score (training): {0:.3f}\".format(gb_clf.score(x_train, y_train)))\n",
    "    print(\"Accuracy score (testing): {0:.3f}\".format(gb_clf.score(x_test, y_test)))\n",
    "    '''"
   ]
  },
  {
   "cell_type": "code",
   "execution_count": 63,
   "id": "0499dbdd",
   "metadata": {},
   "outputs": [
    {
     "data": {
      "text/plain": [
       "GradientBoostingClassifier(max_depth=2, max_features=2, n_estimators=20,\n",
       "                           random_state=0)"
      ]
     },
     "execution_count": 63,
     "metadata": {},
     "output_type": "execute_result"
    }
   ],
   "source": [
    "gb_clf2 = GradientBoostingClassifier(n_estimators=20,\n",
    "                                     learning_rate=0.1, \n",
    "                                     max_features=2,\n",
    "                                     max_depth=2, \n",
    "                                     random_state=0)\n",
    "\n",
    "gb_clf2.fit(x_train, y_train)"
   ]
  },
  {
   "cell_type": "code",
   "execution_count": 64,
   "id": "36059a75",
   "metadata": {},
   "outputs": [],
   "source": [
    "predictions = gb_clf2.predict(x_test)"
   ]
  },
  {
   "cell_type": "code",
   "execution_count": 65,
   "id": "ec123195",
   "metadata": {},
   "outputs": [
    {
     "name": "stdout",
     "output_type": "stream",
     "text": [
      "Classification Report\n",
      "              precision    recall  f1-score   support\n",
      "\n",
      "           0       1.00      0.99      0.99     57238\n",
      "           1       0.43      0.54      0.48        50\n",
      "           2       0.50      0.06      0.11        16\n",
      "           3       0.99      1.00      1.00     92382\n",
      "           4       1.00      1.00      1.00     27978\n",
      "           5       0.08      0.29      0.12         7\n",
      "\n",
      "    accuracy                           1.00    177671\n",
      "   macro avg       0.67      0.65      0.62    177671\n",
      "weighted avg       1.00      1.00      1.00    177671\n",
      "\n"
     ]
    }
   ],
   "source": [
    "print(\"Classification Report\")\n",
    "print(classification_report(y_test, predictions))"
   ]
  },
  {
   "cell_type": "markdown",
   "id": "057371ab",
   "metadata": {},
   "source": [
    "# 8 - xgboost"
   ]
  },
  {
   "cell_type": "code",
   "execution_count": 66,
   "id": "7f53988c",
   "metadata": {},
   "outputs": [],
   "source": [
    "#!pip install xgboost"
   ]
  },
  {
   "cell_type": "code",
   "execution_count": 67,
   "id": "3ef5b486",
   "metadata": {},
   "outputs": [],
   "source": [
    "import xgboost as xgb"
   ]
  },
  {
   "cell_type": "code",
   "execution_count": 68,
   "id": "5e63f8f6",
   "metadata": {},
   "outputs": [
    {
     "name": "stderr",
     "output_type": "stream",
     "text": [
      "E:\\ProgramDATA\\Anaconda\\lib\\site-packages\\xgboost\\sklearn.py:1224: UserWarning: The use of label encoder in XGBClassifier is deprecated and will be removed in a future release. To remove this warning, do the following: 1) Pass option use_label_encoder=False when constructing XGBClassifier object; and 2) Encode your labels (y) as integers starting with 0, i.e. 0, 1, 2, ..., [num_class - 1].\n",
      "  warnings.warn(label_encoder_deprecation_msg, UserWarning)\n"
     ]
    },
    {
     "name": "stdout",
     "output_type": "stream",
     "text": [
      "[11:55:18] WARNING: C:/Users/Administrator/workspace/xgboost-win64_release_1.5.1/src/learner.cc:1115: Starting in XGBoost 1.3.0, the default evaluation metric used with the objective 'multi:softprob' was changed from 'merror' to 'mlogloss'. Explicitly set eval_metric if you'd like to restore the old behavior.\n"
     ]
    },
    {
     "data": {
      "text/plain": [
       "XGBClassifier(base_score=0.5, booster='gbtree', colsample_bylevel=1,\n",
       "              colsample_bynode=1, colsample_bytree=1, enable_categorical=False,\n",
       "              gamma=0, gpu_id=-1, importance_type=None,\n",
       "              interaction_constraints='', learning_rate=0.300000012,\n",
       "              max_delta_step=0, max_depth=6, min_child_weight=1, missing=nan,\n",
       "              monotone_constraints='()', n_estimators=100, n_jobs=12,\n",
       "              num_parallel_tree=1, objective='multi:softprob', predictor='auto',\n",
       "              random_state=0, reg_alpha=0, reg_lambda=1, scale_pos_weight=None,\n",
       "              subsample=1, tree_method='exact', validate_parameters=1,\n",
       "              verbosity=None)"
      ]
     },
     "execution_count": 68,
     "metadata": {},
     "output_type": "execute_result"
    }
   ],
   "source": [
    "xgb_clf = XGBClassifier()\n",
    "xgb_clf.fit(x_train, y_train)"
   ]
  },
  {
   "cell_type": "code",
   "execution_count": 69,
   "id": "85726863",
   "metadata": {},
   "outputs": [],
   "source": [
    "prediction = xgb_clf.predict(x_test)"
   ]
  },
  {
   "cell_type": "code",
   "execution_count": 70,
   "id": "e7ac76fa",
   "metadata": {},
   "outputs": [
    {
     "name": "stdout",
     "output_type": "stream",
     "text": [
      "1.0\n"
     ]
    }
   ],
   "source": [
    "score = xgb_clf.score(x_test, prediction)\n",
    "print(score)"
   ]
  },
  {
   "cell_type": "code",
   "execution_count": 71,
   "id": "01e48a37",
   "metadata": {},
   "outputs": [
    {
     "name": "stdout",
     "output_type": "stream",
     "text": [
      "Classification Report\n",
      "              precision    recall  f1-score   support\n",
      "\n",
      "           0       1.00      1.00      1.00     57238\n",
      "           1       0.96      0.98      0.97        50\n",
      "           2       1.00      0.88      0.93        16\n",
      "           3       1.00      1.00      1.00     92382\n",
      "           4       1.00      1.00      1.00     27978\n",
      "           5       0.83      0.71      0.77         7\n",
      "\n",
      "    accuracy                           1.00    177671\n",
      "   macro avg       0.97      0.93      0.95    177671\n",
      "weighted avg       1.00      1.00      1.00    177671\n",
      "\n"
     ]
    }
   ],
   "source": [
    "print(\"Classification Report\")\n",
    "print(classification_report(y_test, prediction))"
   ]
  },
  {
   "cell_type": "code",
   "execution_count": 72,
   "id": "74251878",
   "metadata": {},
   "outputs": [],
   "source": [
    "#y.to_csv(r\"E:\\Multi_pred_Y.csv\",index=False, header=True)"
   ]
  },
  {
   "cell_type": "code",
   "execution_count": 73,
   "id": "be50a4b2",
   "metadata": {},
   "outputs": [],
   "source": [
    "#y.to_csv(r\"E:\\B_pred_Y.csv\",index=False, header=True)"
   ]
  }
 ],
 "metadata": {
  "kernelspec": {
   "display_name": "Python 3 (ipykernel)",
   "language": "python",
   "name": "python3"
  },
  "language_info": {
   "codemirror_mode": {
    "name": "ipython",
    "version": 3
   },
   "file_extension": ".py",
   "mimetype": "text/x-python",
   "name": "python",
   "nbconvert_exporter": "python",
   "pygments_lexer": "ipython3",
   "version": "3.9.7"
  }
 },
 "nbformat": 4,
 "nbformat_minor": 5
}
