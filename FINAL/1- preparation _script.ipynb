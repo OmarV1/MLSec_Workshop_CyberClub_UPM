{
 "cells": [
  {
   "cell_type": "markdown",
   "metadata": {},
   "source": [
    "# Data Prepration \n",
    "\n",
    "* following script allows us to change names of the csv files \n",
    "\n",
    "* Drop the header Dst Port\n",
    "\n",
    "* replace infinty by inf \n",
    "\n",
    "* make the features names starts with lower case for easy access\n",
    "\n",
    "* drop following features : 'Flow ID', 'Src IP', 'Dst IP', 'Src Port'\n",
    "\n",
    "* create new folder calles procesded to place all new files with changes "
   ]
  },
  {
   "cell_type": "markdown",
   "metadata": {},
   "source": [
    "# Dataset Path "
   ]
  },
  {
   "cell_type": "code",
   "execution_count": 1,
   "metadata": {},
   "outputs": [],
   "source": [
    "dataset_base_path = r'/media/upm/New Volume/Belal/belal0'"
   ]
  },
  {
   "cell_type": "code",
   "execution_count": 2,
   "metadata": {},
   "outputs": [],
   "source": [
    "# imported libraries \n",
    "import pandas as pd\n",
    "import numpy as np\n",
    "import pandas as pd\n",
    "import os\n",
    "import re\n",
    "import glob"
   ]
  },
  {
   "cell_type": "code",
   "execution_count": 3,
   "metadata": {},
   "outputs": [
    {
     "name": "stderr",
     "output_type": "stream",
     "text": [
      "<ipython-input-3-4f53f14953a1>:3: DtypeWarning: Columns (0,1,3,4,5,6,7,8,9,10,11,12,13,14,15,16,17,18,19,20,21,22,23,24,25,26,27,28,29,30,31,32,33,34,35,36,37,38,39,40,41,42,43,44,45,46,47,48,49,50,51,52,53,54,55,56,57,58,59,60,61,62,63,64,65,66,67,68,69,70,71,72,73,74,75,76,77,78) have mixed types.Specify dtype option on import or set low_memory=False.\n",
      "  df = pd.concat((pd.read_csv(f) for f in csvs))\n"
     ]
    }
   ],
   "source": [
    "csvs = glob.glob(os.path.join(dataset_base_path, '*.csv'))\n",
    "\n",
    "df = pd.concat((pd.read_csv(f) for f in csvs))"
   ]
  },
  {
   "cell_type": "code",
   "execution_count": 4,
   "metadata": {},
   "outputs": [
    {
     "name": "stdout",
     "output_type": "stream",
     "text": [
      "<class 'pandas.core.frame.DataFrame'>\n",
      "Int64Index: 16233002 entries, 0 to 613103\n",
      "Data columns (total 84 columns):\n",
      " #   Column             Dtype  \n",
      "---  ------             -----  \n",
      " 0   Dst Port           object \n",
      " 1   Protocol           object \n",
      " 2   Timestamp          object \n",
      " 3   Flow Duration      object \n",
      " 4   Tot Fwd Pkts       object \n",
      " 5   Tot Bwd Pkts       object \n",
      " 6   TotLen Fwd Pkts    object \n",
      " 7   TotLen Bwd Pkts    object \n",
      " 8   Fwd Pkt Len Max    object \n",
      " 9   Fwd Pkt Len Min    object \n",
      " 10  Fwd Pkt Len Mean   object \n",
      " 11  Fwd Pkt Len Std    object \n",
      " 12  Bwd Pkt Len Max    object \n",
      " 13  Bwd Pkt Len Min    object \n",
      " 14  Bwd Pkt Len Mean   object \n",
      " 15  Bwd Pkt Len Std    object \n",
      " 16  Flow Byts/s        object \n",
      " 17  Flow Pkts/s        object \n",
      " 18  Flow IAT Mean      object \n",
      " 19  Flow IAT Std       object \n",
      " 20  Flow IAT Max       object \n",
      " 21  Flow IAT Min       object \n",
      " 22  Fwd IAT Tot        object \n",
      " 23  Fwd IAT Mean       object \n",
      " 24  Fwd IAT Std        object \n",
      " 25  Fwd IAT Max        object \n",
      " 26  Fwd IAT Min        object \n",
      " 27  Bwd IAT Tot        object \n",
      " 28  Bwd IAT Mean       object \n",
      " 29  Bwd IAT Std        object \n",
      " 30  Bwd IAT Max        object \n",
      " 31  Bwd IAT Min        object \n",
      " 32  Fwd PSH Flags      object \n",
      " 33  Bwd PSH Flags      object \n",
      " 34  Fwd URG Flags      object \n",
      " 35  Bwd URG Flags      object \n",
      " 36  Fwd Header Len     object \n",
      " 37  Bwd Header Len     object \n",
      " 38  Fwd Pkts/s         object \n",
      " 39  Bwd Pkts/s         object \n",
      " 40  Pkt Len Min        object \n",
      " 41  Pkt Len Max        object \n",
      " 42  Pkt Len Mean       object \n",
      " 43  Pkt Len Std        object \n",
      " 44  Pkt Len Var        object \n",
      " 45  FIN Flag Cnt       object \n",
      " 46  SYN Flag Cnt       object \n",
      " 47  RST Flag Cnt       object \n",
      " 48  PSH Flag Cnt       object \n",
      " 49  ACK Flag Cnt       object \n",
      " 50  URG Flag Cnt       object \n",
      " 51  CWE Flag Count     object \n",
      " 52  ECE Flag Cnt       object \n",
      " 53  Down/Up Ratio      object \n",
      " 54  Pkt Size Avg       object \n",
      " 55  Fwd Seg Size Avg   object \n",
      " 56  Bwd Seg Size Avg   object \n",
      " 57  Fwd Byts/b Avg     object \n",
      " 58  Fwd Pkts/b Avg     object \n",
      " 59  Fwd Blk Rate Avg   object \n",
      " 60  Bwd Byts/b Avg     object \n",
      " 61  Bwd Pkts/b Avg     object \n",
      " 62  Bwd Blk Rate Avg   object \n",
      " 63  Subflow Fwd Pkts   object \n",
      " 64  Subflow Fwd Byts   object \n",
      " 65  Subflow Bwd Pkts   object \n",
      " 66  Subflow Bwd Byts   object \n",
      " 67  Init Fwd Win Byts  object \n",
      " 68  Init Bwd Win Byts  object \n",
      " 69  Fwd Act Data Pkts  object \n",
      " 70  Fwd Seg Size Min   object \n",
      " 71  Active Mean        object \n",
      " 72  Active Std         object \n",
      " 73  Active Max         object \n",
      " 74  Active Min         object \n",
      " 75  Idle Mean          object \n",
      " 76  Idle Std           object \n",
      " 77  Idle Max           object \n",
      " 78  Idle Min           object \n",
      " 79  Label              object \n",
      " 80  Flow ID            object \n",
      " 81  Src IP             object \n",
      " 82  Src Port           float64\n",
      " 83  Dst IP             object \n",
      "dtypes: float64(1), object(83)\n",
      "memory usage: 10.3+ GB\n"
     ]
    }
   ],
   "source": [
    "df.info()"
   ]
  },
  {
   "cell_type": "code",
   "execution_count": 5,
   "metadata": {},
   "outputs": [],
   "source": [
    "# locate coulmns that have infinty values \n",
    "inf_col = [c for c in df.columns if df[df[c] == np.inf][c].count() > 0]"
   ]
  },
  {
   "cell_type": "code",
   "execution_count": 6,
   "metadata": {},
   "outputs": [
    {
     "data": {
      "text/plain": [
       "['Flow Byts/s', 'Flow Pkts/s']"
      ]
     },
     "execution_count": 6,
     "metadata": {},
     "output_type": "execute_result"
    }
   ],
   "source": [
    "inf_col"
   ]
  },
  {
   "cell_type": "code",
   "execution_count": 7,
   "metadata": {},
   "outputs": [
    {
     "data": {
      "text/plain": [
       "6           11579291\n",
       "17           4117901\n",
       "0             230557\n",
       "6             221044\n",
       "17             76394\n",
       "0               7756\n",
       "Protocol          59\n",
       "Name: Protocol, dtype: int64"
      ]
     },
     "execution_count": 7,
     "metadata": {},
     "output_type": "execute_result"
    }
   ],
   "source": [
    "# print values of feature Protocol \n",
    "df['Protocol'].value_counts()"
   ]
  },
  {
   "cell_type": "markdown",
   "metadata": {},
   "source": [
    "As we can see in the previous cell we have identified string values of the coulmns name in the features so we will be cleaning this "
   ]
  },
  {
   "cell_type": "code",
   "execution_count": 8,
   "metadata": {},
   "outputs": [],
   "source": [
    "df = df[~df['Protocol'].str.contains('Protocol', na=False)]"
   ]
  },
  {
   "cell_type": "code",
   "execution_count": 9,
   "metadata": {},
   "outputs": [
    {
     "data": {
      "text/plain": [
       "6     11579291\n",
       "17     4117901\n",
       "0       230557\n",
       "6       221044\n",
       "17       76394\n",
       "0         7756\n",
       "Name: Protocol, dtype: int64"
      ]
     },
     "execution_count": 9,
     "metadata": {},
     "output_type": "execute_result"
    }
   ],
   "source": [
    "df['Protocol'].value_counts()"
   ]
  },
  {
   "cell_type": "markdown",
   "metadata": {},
   "source": [
    "# Cleaning-Script"
   ]
  },
  {
   "cell_type": "code",
   "execution_count": 10,
   "metadata": {},
   "outputs": [],
   "source": [
    "csv_files = {\n",
    " 'Wednesday-28-02-2018_TrafficForML_CICFlowMeter.csv': 'gurd_infiltration_28-02-2018.csv',\n",
    " 'Thursday-01-03-2018_TrafficForML_CICFlowMeter.csv': 'gurd_infiltration_01-03-2018.csv',\n",
    " 'Friday-02-03-2018_TrafficForML_CICFlowMeter.csv': 'gurd_bot_02-03-2018.csv',\n",
    " 'Thursday-22-02-2018_TrafficForML_CICFlowMeter.csv': 'gurd_bruteforce-web-xss_sql-injection_22-02-2018.csv',\n",
    " 'Thursday-15-02-2018_TrafficForML_CICFlowMeter.csv': 'gurd_dos-goldeneye-slowloris_15-02-2018.csv',\n",
    " 'Thuesday-20-02-2018_TrafficForML_CICFlowMeter.csv': 'gurd_ddos-loic-http-loic-udp_20-02-2018.csv',\n",
    " 'Wednesday-21-02-2018_TrafficForML_CICFlowMeter.csv': 'gurd_ddos-loic-udp_hoic_21-02-2018.csv',\n",
    " 'Wednesday-14-02-2018_TrafficForML_CICFlowMeter.csv': 'gurd_bruteforce-ftp-ssh_14-02-2018.csv',\n",
    " 'Friday-16-02-2018_TrafficForML_CICFlowMeter.csv': 'gurd_dos-slowhttp-hulk_16-02-2018.csv',\n",
    " 'Friday-23-02-2018_TrafficForML_CICFlowMeter.csv': 'gurd_bruteforce-web-xss_sql-injection_23-02-2018.csv'\n",
    "}\n",
    "\n",
    "column_name_regex = re.compile(r\"\\W\", re.IGNORECASE)\n",
    "processed_dir = 'processed'\n",
    "processed_path = os.path.join(dataset_base_path, processed_dir)\n",
    "\n",
    "def remove_headers(f):    \n",
    "    return f[~f['Dst Port'].str.contains('Dst Port', na=False)]\n",
    "\n",
    "def replace_infinity(f):\n",
    "    return f.replace('Infinity', 'inf', inplace=True)\n",
    "\n",
    "# go itrate over all comulmns in the csves and make them start with lower case char\n",
    "def remove_non_word_chars_from_column_names(f):\n",
    "    return [column_name_regex.sub('_', c.lower()) for c in df.columns]\n",
    "    \n",
    "if not os.path.exists(processed_path):\n",
    "    os.mkdir(processed_path)    \n",
    "    \n",
    "for f, out in csv_files.items():\n",
    "    file_path = os.path.join(dataset_base_path, f)\n",
    "    output_path = os.path.join(dataset_base_path, processed_dir, out)\n",
    "    \n",
    "    df = pd.read_csv(file_path, dtype=str).drop(columns=['Flow ID', 'Src IP', 'Dst IP', 'Src Port'], errors='ignore')\n",
    "    df = remove_headers(df)\n",
    "    replace_infinity(df)\n",
    "    df.columns = remove_non_word_chars_from_column_names(df)\n",
    "    df.to_csv(output_path, index=False)"
   ]
  }
 ],
 "metadata": {
  "kernelspec": {
   "display_name": "Python 3",
   "language": "python",
   "name": "python3"
  },
  "language_info": {
   "codemirror_mode": {
    "name": "ipython",
    "version": 3
   },
   "file_extension": ".py",
   "mimetype": "text/x-python",
   "name": "python",
   "nbconvert_exporter": "python",
   "pygments_lexer": "ipython3",
   "version": "3.8.5"
  }
 },
 "nbformat": 4,
 "nbformat_minor": 4
}
