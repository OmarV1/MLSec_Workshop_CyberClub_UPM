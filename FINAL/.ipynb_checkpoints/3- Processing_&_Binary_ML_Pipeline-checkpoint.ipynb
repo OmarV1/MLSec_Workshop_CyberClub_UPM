{
 "cells": [
  {
   "cell_type": "code",
   "execution_count": 9,
   "metadata": {},
   "outputs": [],
   "source": [
    "#pip install shap\n",
    "#!pip install scikit-plot\n",
    "#!pip install eli5\n",
    "#!pip install catboost\n",
    "#!pip install imblearn\n",
    "#!pip install phik\n",
    "#!pip install phik==0.10.0"
   ]
  },
  {
   "cell_type": "code",
   "execution_count": 10,
   "metadata": {},
   "outputs": [],
   "source": [
    "# imports\n",
    "import numpy as np\n",
    "import pandas as pd\n",
    "import matplotlib.pyplot as plt\n",
    "import seaborn as sns\n",
    "import glob\n",
    "import os\n",
    "from sklearn.model_selection import train_test_split\n",
    "from sklearn.preprocessing import StandardScaler\n",
    "from sklearn.dummy import DummyClassifier\n",
    "from sklearn.linear_model import LogisticRegression\n",
    "from sklearn.ensemble import RandomForestClassifier\n",
    "from sklearn.metrics import classification_report, precision_recall_curve, average_precision_score\n",
    "from catboost import CatBoostClassifier\n",
    "from catboost import Pool\n",
    "from scipy.stats import spearmanr\n",
    "from scipy.cluster import hierarchy\n",
    "from collections import defaultdict\n",
    "from scipy.stats import ks_2samp\n",
    "from scipy.stats import describe\n",
    "from sklearn.metrics import confusion_matrix\n",
    "import scikitplot as skplt\n",
    "from sklearn.metrics import plot_confusion_matrix\n",
    "from sklearn.preprocessing import MinMaxScaler\n",
    "\n",
    "\n",
    "\n",
    "%matplotlib inline"
   ]
  },
  {
   "cell_type": "code",
   "execution_count": 11,
   "metadata": {},
   "outputs": [],
   "source": [
    "#path = r\"/media/upm/New Volume/project/0/processed\""
   ]
  },
  {
   "cell_type": "code",
   "execution_count": 12,
   "metadata": {},
   "outputs": [],
   "source": [
    "#path = r'E:\\Juypter-files\\FINAL\\final1.csv'"
   ]
  },
  {
   "cell_type": "code",
   "execution_count": 13,
   "metadata": {},
   "outputs": [],
   "source": [
    "types = {\n",
    "    'dst_port': 'uint32',\n",
    "    'protocol': 'uint8',\n",
    "    'timestamp': 'object',\n",
    "    'flow_duration': 'int64',\n",
    "    'tot_fwd_pkts': 'uint32',\n",
    "    'tot_bwd_pkts': 'uint32',\n",
    "    'totlen_fwd_pkts': 'uint32',\n",
    "    'totlen_bwd_pkts': 'uint32',\n",
    "    'fwd_pkt_len_max': 'uint16',\n",
    "    'fwd_pkt_len_min': 'uint16',\n",
    "    'fwd_pkt_len_mean': 'float32',\n",
    "    'fwd_pkt_len_std': 'float32',\n",
    "    'bwd_pkt_len_max': 'uint16',\n",
    "    'bwd_pkt_len_min': 'uint16',\n",
    "    'bwd_pkt_len_mean': 'float32',\n",
    "    'bwd_pkt_len_std': 'float32',\n",
    "    'flow_byts_s': 'float64',\n",
    "    'flow_pkts_s': 'float64',\n",
    "    'flow_iat_mean': 'float32',\n",
    "    'flow_iat_std': 'float32',\n",
    "    'flow_iat_max': 'int64',\n",
    "    'flow_iat_min': 'int64',\n",
    "    'fwd_iat_tot': 'int64',\n",
    "    'fwd_iat_mean': 'float32',\n",
    "    'fwd_iat_std': 'float32',\n",
    "    'fwd_iat_max': 'int64',\n",
    "    'fwd_iat_min': 'int64',\n",
    "    'bwd_iat_tot': 'uint32',\n",
    "    'bwd_iat_mean': 'float32',\n",
    "    'bwd_iat_std': 'float32',\n",
    "    'bwd_iat_max': 'uint32',\n",
    "    'bwd_iat_min': 'uint32',\n",
    "    'fwd_psh_flags': 'uint8',\n",
    "    'bwd_psh_flags': 'uint8',\n",
    "    'fwd_urg_flags': 'uint8',\n",
    "    'bwd_urg_flags': 'uint8',\n",
    "    'fwd_header_len': 'uint32',\n",
    "    'bwd_header_len': 'uint32',\n",
    "    'fwd_pkts_s': 'float32',\n",
    "    'bwd_pkts_s': 'float32',\n",
    "    'pkt_len_min': 'uint16',\n",
    "    'pkt_len_max': 'uint16',\n",
    "    'pkt_len_mean': 'float32',\n",
    "    'pkt_len_std': 'float32',\n",
    "    'pkt_len_var': 'float32',\n",
    "    'fin_flag_cnt': 'uint8',\n",
    "    'syn_flag_cnt': 'uint8',\n",
    "    'rst_flag_cnt': 'uint8',\n",
    "    'psh_flag_cnt': 'uint8',\n",
    "    'ack_flag_cnt': 'uint8',\n",
    "    'urg_flag_cnt': 'uint8',\n",
    "    'cwe_flag_count': 'uint8',\n",
    "    'ece_flag_cnt': 'uint8',\n",
    "    'down_up_ratio': 'uint16',\n",
    "    'pkt_size_avg': 'float32',\n",
    "    'fwd_seg_size_avg': 'float32',\n",
    "    'bwd_seg_size_avg': 'float32',\n",
    "    'fwd_byts_b_avg': 'uint8',\n",
    "    'fwd_pkts_b_avg': 'uint8',\n",
    "    'fwd_blk_rate_avg': 'uint8',\n",
    "    'bwd_byts_b_avg': 'uint8',\n",
    "    'bwd_pkts_b_avg': 'uint8',\n",
    "    'bwd_blk_rate_avg': 'uint8',\n",
    "    'subflow_fwd_pkts': 'uint32',\n",
    "    'subflow_fwd_byts': 'uint32',\n",
    "    'subflow_bwd_pkts': 'uint32',\n",
    "    'subflow_bwd_byts': 'uint32',\n",
    "    'init_fwd_win_byts': 'int32',\n",
    "    'init_bwd_win_byts': 'int32',\n",
    "    'fwd_act_data_pkts': 'uint32',\n",
    "    'fwd_seg_size_min': 'uint8',\n",
    "    'active_mean': 'float32',\n",
    "    'active_std': 'float32',\n",
    "    'active_max': 'uint32',\n",
    "    'active_min': 'uint32',\n",
    "    'idle_mean': 'float32',\n",
    "    'idle_std': 'float32',\n",
    "    'idle_max': 'uint64',\n",
    "    'idle_min': 'uint64',\n",
    "    'label': 'category'\n",
    "}\n"
   ]
  },
  {
   "cell_type": "code",
   "execution_count": 14,
   "metadata": {},
   "outputs": [
    {
     "data": {
      "text/plain": [
       "'\\npath1 = r\"E:\\\\Juypter-files\\\\dataset1_LOCAL_DATA\\\\csv_files\"\\n\\ncsv = glob.glob(os.path.join(path1 , \\'*.csv\\'))\\ndf = pd.concat((pd.read_csv(f) for f in csv))\\n'"
      ]
     },
     "execution_count": 14,
     "metadata": {},
     "output_type": "execute_result"
    }
   ],
   "source": [
    "'''\n",
    "path1 = r\"E:\\Juypter-files\\dataset1_LOCAL_DATA\\csv_files\"\n",
    "\n",
    "csv = glob.glob(os.path.join(path1 , '*.csv'))\n",
    "df = pd.concat((pd.read_csv(f) for f in csv))\n",
    "'''"
   ]
  },
  {
   "cell_type": "markdown",
   "metadata": {},
   "source": [
    "# Data Cleaning\n",
    "\n",
    "\n",
    "* load the dataset with new values and combine the files to the df \n",
    "\n",
    "* clean inf values and repace then with thier mean \n",
    "\n",
    "* then replace this negtive value with thier overall mean \n",
    "\n",
    "* check features that has feature variance where they are close to zero \n",
    "\n",
    "* delete unwanted columns like timestamp and Dst_port\n",
    "\n",
    "* check feature coorealtion and do it with pandas method corr() or phik matrix then drop them"
   ]
  },
  {
   "cell_type": "markdown",
   "metadata": {},
   "source": [
    "# 1- load and join"
   ]
  },
  {
   "cell_type": "code",
   "execution_count": 15,
   "metadata": {},
   "outputs": [],
   "source": [
    "path1 = r\"E:\\Juypter-files\\dataset1_LOCAL_DATA\\csv_files\"\n",
    "\n",
    "#join all csv files avilable in the base path \n",
    "csvs = glob.glob(os.path.join(path1, '*.csv'))\n",
    "\n",
    "df = pd.concat((pd.read_csv(f, dtype=types) for f in csvs)) # and concatenate them to one data frame using pandas and change the data types into numeric types"
   ]
  },
  {
   "cell_type": "code",
   "execution_count": 16,
   "metadata": {},
   "outputs": [],
   "source": [
    "#df = df.loc[df[\"label\"] != 'Benign']"
   ]
  },
  {
   "cell_type": "code",
   "execution_count": 17,
   "metadata": {},
   "outputs": [
    {
     "data": {
      "text/plain": [
       "(3145724, 80)"
      ]
     },
     "execution_count": 17,
     "metadata": {},
     "output_type": "execute_result"
    }
   ],
   "source": [
    "df.shape"
   ]
  },
  {
   "cell_type": "code",
   "execution_count": 18,
   "metadata": {},
   "outputs": [
    {
     "data": {
      "text/html": [
       "<div>\n",
       "<style scoped>\n",
       "    .dataframe tbody tr th:only-of-type {\n",
       "        vertical-align: middle;\n",
       "    }\n",
       "\n",
       "    .dataframe tbody tr th {\n",
       "        vertical-align: top;\n",
       "    }\n",
       "\n",
       "    .dataframe thead th {\n",
       "        text-align: right;\n",
       "    }\n",
       "</style>\n",
       "<table border=\"1\" class=\"dataframe\">\n",
       "  <thead>\n",
       "    <tr style=\"text-align: right;\">\n",
       "      <th></th>\n",
       "      <th>dst_port</th>\n",
       "      <th>protocol</th>\n",
       "      <th>timestamp</th>\n",
       "      <th>flow_duration</th>\n",
       "      <th>tot_fwd_pkts</th>\n",
       "      <th>tot_bwd_pkts</th>\n",
       "      <th>totlen_fwd_pkts</th>\n",
       "      <th>totlen_bwd_pkts</th>\n",
       "      <th>fwd_pkt_len_max</th>\n",
       "      <th>fwd_pkt_len_min</th>\n",
       "      <th>...</th>\n",
       "      <th>fwd_seg_size_min</th>\n",
       "      <th>active_mean</th>\n",
       "      <th>active_std</th>\n",
       "      <th>active_max</th>\n",
       "      <th>active_min</th>\n",
       "      <th>idle_mean</th>\n",
       "      <th>idle_std</th>\n",
       "      <th>idle_max</th>\n",
       "      <th>idle_min</th>\n",
       "      <th>label</th>\n",
       "    </tr>\n",
       "  </thead>\n",
       "  <tbody>\n",
       "    <tr>\n",
       "      <th>0</th>\n",
       "      <td>443</td>\n",
       "      <td>6</td>\n",
       "      <td>02/03/2018 08:47:38</td>\n",
       "      <td>141385</td>\n",
       "      <td>9</td>\n",
       "      <td>7</td>\n",
       "      <td>553</td>\n",
       "      <td>3773</td>\n",
       "      <td>202</td>\n",
       "      <td>0</td>\n",
       "      <td>...</td>\n",
       "      <td>20</td>\n",
       "      <td>0.0</td>\n",
       "      <td>0.0</td>\n",
       "      <td>0</td>\n",
       "      <td>0</td>\n",
       "      <td>0.0</td>\n",
       "      <td>0.0</td>\n",
       "      <td>0</td>\n",
       "      <td>0</td>\n",
       "      <td>Benign</td>\n",
       "    </tr>\n",
       "    <tr>\n",
       "      <th>1</th>\n",
       "      <td>49684</td>\n",
       "      <td>6</td>\n",
       "      <td>02/03/2018 08:47:38</td>\n",
       "      <td>281</td>\n",
       "      <td>2</td>\n",
       "      <td>1</td>\n",
       "      <td>38</td>\n",
       "      <td>0</td>\n",
       "      <td>38</td>\n",
       "      <td>0</td>\n",
       "      <td>...</td>\n",
       "      <td>20</td>\n",
       "      <td>0.0</td>\n",
       "      <td>0.0</td>\n",
       "      <td>0</td>\n",
       "      <td>0</td>\n",
       "      <td>0.0</td>\n",
       "      <td>0.0</td>\n",
       "      <td>0</td>\n",
       "      <td>0</td>\n",
       "      <td>Benign</td>\n",
       "    </tr>\n",
       "    <tr>\n",
       "      <th>2</th>\n",
       "      <td>443</td>\n",
       "      <td>6</td>\n",
       "      <td>02/03/2018 08:47:40</td>\n",
       "      <td>279824</td>\n",
       "      <td>11</td>\n",
       "      <td>15</td>\n",
       "      <td>1086</td>\n",
       "      <td>10527</td>\n",
       "      <td>385</td>\n",
       "      <td>0</td>\n",
       "      <td>...</td>\n",
       "      <td>20</td>\n",
       "      <td>0.0</td>\n",
       "      <td>0.0</td>\n",
       "      <td>0</td>\n",
       "      <td>0</td>\n",
       "      <td>0.0</td>\n",
       "      <td>0.0</td>\n",
       "      <td>0</td>\n",
       "      <td>0</td>\n",
       "      <td>Benign</td>\n",
       "    </tr>\n",
       "    <tr>\n",
       "      <th>3</th>\n",
       "      <td>443</td>\n",
       "      <td>6</td>\n",
       "      <td>02/03/2018 08:47:40</td>\n",
       "      <td>132</td>\n",
       "      <td>2</td>\n",
       "      <td>0</td>\n",
       "      <td>0</td>\n",
       "      <td>0</td>\n",
       "      <td>0</td>\n",
       "      <td>0</td>\n",
       "      <td>...</td>\n",
       "      <td>20</td>\n",
       "      <td>0.0</td>\n",
       "      <td>0.0</td>\n",
       "      <td>0</td>\n",
       "      <td>0</td>\n",
       "      <td>0.0</td>\n",
       "      <td>0.0</td>\n",
       "      <td>0</td>\n",
       "      <td>0</td>\n",
       "      <td>Benign</td>\n",
       "    </tr>\n",
       "    <tr>\n",
       "      <th>4</th>\n",
       "      <td>443</td>\n",
       "      <td>6</td>\n",
       "      <td>02/03/2018 08:47:41</td>\n",
       "      <td>274016</td>\n",
       "      <td>9</td>\n",
       "      <td>13</td>\n",
       "      <td>1285</td>\n",
       "      <td>6141</td>\n",
       "      <td>517</td>\n",
       "      <td>0</td>\n",
       "      <td>...</td>\n",
       "      <td>20</td>\n",
       "      <td>0.0</td>\n",
       "      <td>0.0</td>\n",
       "      <td>0</td>\n",
       "      <td>0</td>\n",
       "      <td>0.0</td>\n",
       "      <td>0.0</td>\n",
       "      <td>0</td>\n",
       "      <td>0</td>\n",
       "      <td>Benign</td>\n",
       "    </tr>\n",
       "  </tbody>\n",
       "</table>\n",
       "<p>5 rows × 80 columns</p>\n",
       "</div>"
      ],
      "text/plain": [
       "   dst_port  protocol            timestamp  flow_duration  tot_fwd_pkts  \\\n",
       "0       443         6  02/03/2018 08:47:38         141385             9   \n",
       "1     49684         6  02/03/2018 08:47:38            281             2   \n",
       "2       443         6  02/03/2018 08:47:40         279824            11   \n",
       "3       443         6  02/03/2018 08:47:40            132             2   \n",
       "4       443         6  02/03/2018 08:47:41         274016             9   \n",
       "\n",
       "   tot_bwd_pkts  totlen_fwd_pkts  totlen_bwd_pkts  fwd_pkt_len_max  \\\n",
       "0             7              553             3773              202   \n",
       "1             1               38                0               38   \n",
       "2            15             1086            10527              385   \n",
       "3             0                0                0                0   \n",
       "4            13             1285             6141              517   \n",
       "\n",
       "   fwd_pkt_len_min  ...  fwd_seg_size_min  active_mean  active_std  \\\n",
       "0                0  ...                20          0.0         0.0   \n",
       "1                0  ...                20          0.0         0.0   \n",
       "2                0  ...                20          0.0         0.0   \n",
       "3                0  ...                20          0.0         0.0   \n",
       "4                0  ...                20          0.0         0.0   \n",
       "\n",
       "   active_max  active_min  idle_mean  idle_std  idle_max  idle_min   label  \n",
       "0           0           0        0.0       0.0         0         0  Benign  \n",
       "1           0           0        0.0       0.0         0         0  Benign  \n",
       "2           0           0        0.0       0.0         0         0  Benign  \n",
       "3           0           0        0.0       0.0         0         0  Benign  \n",
       "4           0           0        0.0       0.0         0         0  Benign  \n",
       "\n",
       "[5 rows x 80 columns]"
      ]
     },
     "execution_count": 18,
     "metadata": {},
     "output_type": "execute_result"
    }
   ],
   "source": [
    "df.head()"
   ]
  },
  {
   "cell_type": "code",
   "execution_count": 19,
   "metadata": {},
   "outputs": [],
   "source": [
    "#df = df.iloc[:1000000,2:]"
   ]
  },
  {
   "cell_type": "markdown",
   "metadata": {},
   "source": [
    "# 2- labeling binary"
   ]
  },
  {
   "cell_type": "code",
   "execution_count": 20,
   "metadata": {},
   "outputs": [],
   "source": [
    "#df['label_cat'] = df.label.astype('category').cat.codes # create a col called label_cat and make its type category using cat.codes (label encoding method) \n",
    "df['binary_class'] = (df.label != 'Benign').astype('int') # create binary class col and the data type is int with values 0 and 1 only , so anything not bengin will be a number and bengin is a number notice !="
   ]
  },
  {
   "cell_type": "markdown",
   "metadata": {},
   "source": [
    "# 3- infinity values cleaning "
   ]
  },
  {
   "cell_type": "code",
   "execution_count": 21,
   "metadata": {},
   "outputs": [
    {
     "name": "stdout",
     "output_type": "stream",
     "text": [
      "['flow_byts_s', 'flow_pkts_s']\n"
     ]
    }
   ],
   "source": [
    "# for loop to check all columns that have inf values in the dataset\n",
    "inf_values = [c for c in df.columns if df[df[c] == np.inf][c].count() > 0]\n",
    "print(inf_values)"
   ]
  },
  {
   "cell_type": "code",
   "execution_count": 22,
   "metadata": {},
   "outputs": [],
   "source": [
    "# replace inf with nan \n",
    "for col in inf_values:\n",
    "    df[col].replace([np.inf, -np.inf], np.nan, inplace=True)\n",
    "   \n",
    "    mean = df[col].mean()\n",
    "    # fillna method to fill and replace the inf values with columns mean \n",
    "    df[col].fillna(mean, inplace=True)"
   ]
  },
  {
   "cell_type": "markdown",
   "metadata": {},
   "source": [
    "# 4 - replace negtive values with mean"
   ]
  },
  {
   "cell_type": "code",
   "execution_count": 23,
   "metadata": {},
   "outputs": [
    {
     "name": "stdout",
     "output_type": "stream",
     "text": [
      "['dst_port' 'protocol' 'flow_duration' 'tot_fwd_pkts' 'tot_bwd_pkts'\n",
      " 'totlen_fwd_pkts' 'totlen_bwd_pkts' 'fwd_pkt_len_max' 'fwd_pkt_len_min'\n",
      " 'fwd_pkt_len_mean' 'fwd_pkt_len_std' 'bwd_pkt_len_max' 'bwd_pkt_len_min'\n",
      " 'bwd_pkt_len_mean' 'bwd_pkt_len_std' 'flow_byts_s' 'flow_pkts_s'\n",
      " 'flow_iat_mean' 'flow_iat_std' 'flow_iat_max' 'flow_iat_min'\n",
      " 'fwd_iat_tot' 'fwd_iat_mean' 'fwd_iat_std' 'fwd_iat_max' 'fwd_iat_min'\n",
      " 'bwd_iat_tot' 'bwd_iat_mean' 'bwd_iat_std' 'bwd_iat_max' 'bwd_iat_min'\n",
      " 'fwd_psh_flags' 'bwd_psh_flags' 'fwd_urg_flags' 'bwd_urg_flags'\n",
      " 'fwd_header_len' 'bwd_header_len' 'fwd_pkts_s' 'bwd_pkts_s' 'pkt_len_min'\n",
      " 'pkt_len_max' 'pkt_len_mean' 'pkt_len_std' 'pkt_len_var' 'fin_flag_cnt'\n",
      " 'syn_flag_cnt' 'rst_flag_cnt' 'psh_flag_cnt' 'ack_flag_cnt'\n",
      " 'urg_flag_cnt' 'cwe_flag_count' 'ece_flag_cnt' 'down_up_ratio'\n",
      " 'pkt_size_avg' 'fwd_seg_size_avg' 'bwd_seg_size_avg' 'fwd_byts_b_avg'\n",
      " 'fwd_pkts_b_avg' 'fwd_blk_rate_avg' 'bwd_byts_b_avg' 'bwd_pkts_b_avg'\n",
      " 'bwd_blk_rate_avg' 'subflow_fwd_pkts' 'subflow_fwd_byts'\n",
      " 'subflow_bwd_pkts' 'subflow_bwd_byts' 'init_fwd_win_byts'\n",
      " 'init_bwd_win_byts' 'fwd_act_data_pkts' 'fwd_seg_size_min' 'active_mean'\n",
      " 'active_std' 'active_max' 'active_min' 'idle_mean' 'idle_std' 'idle_max'\n",
      " 'idle_min' 'binary_class']\n",
      "\n",
      " ['flow_duration', 'flow_pkts_s', 'flow_iat_mean', 'flow_iat_max', 'flow_iat_min', 'fwd_iat_tot', 'fwd_iat_mean', 'fwd_iat_max', 'fwd_iat_min', 'init_fwd_win_byts', 'init_bwd_win_byts']\n"
     ]
    }
   ],
   "source": [
    "# identify all numeric cols in the dataset \n",
    "numeric_cols = df.select_dtypes(include=[np.number]).columns.values\n",
    "print(numeric_cols)\n",
    "\n",
    "# take onlly the coulmns where negtive values there \n",
    "columns = [c for c in numeric_cols if df[df[c] < 0][c].count() > 0]\n",
    "print(\"\\n\", columns)"
   ]
  },
  {
   "cell_type": "code",
   "execution_count": 24,
   "metadata": {},
   "outputs": [],
   "source": [
    "# loop will itrate through the columns to find and replace negtive values with thier mean \n",
    "# please note col is short for columns\n",
    "\n",
    "for col in columns:\n",
    "    mask = df[col] < 0 # store all columns that are less than zero in mask \n",
    "      \n",
    "    df.loc[mask, col] = np.nan # take only the records in mask(rows) and col(coulmns) which is the negtive\n",
    "        \n",
    "    mean = df[col].mean() # store the mean value in mean variable using mean() method\n",
    "    df[col].fillna(mean, inplace=True) # now using fillna inplace true replace all negtive coulmns stored in col with mean "
   ]
  },
  {
   "cell_type": "markdown",
   "metadata": {},
   "source": [
    "# 5- Split the datset into training and prediction  "
   ]
  },
  {
   "cell_type": "code",
   "execution_count": 25,
   "metadata": {},
   "outputs": [],
   "source": [
    "# load the dataset and split it to X-training , Y-labels\n",
    "\n",
    "X = df.drop(columns=['label', 'binary_class'])\n",
    "\n",
    "y = df[['binary_class']]"
   ]
  },
  {
   "cell_type": "markdown",
   "metadata": {},
   "source": [
    "# 6- look for feature variance "
   ]
  },
  {
   "cell_type": "code",
   "execution_count": 26,
   "metadata": {},
   "outputs": [
    {
     "data": {
      "text/plain": [
       "9    bwd_blk_rate_avg\n",
       "7      bwd_byts_b_avg\n",
       "8      bwd_pkts_b_avg\n",
       "0       bwd_psh_flags\n",
       "2       bwd_urg_flags\n",
       "3      cwe_flag_count\n",
       "6    fwd_blk_rate_avg\n",
       "4      fwd_byts_b_avg\n",
       "5      fwd_pkts_b_avg\n",
       "1       fwd_urg_flags\n",
       "dtype: object"
      ]
     },
     "execution_count": 26,
     "metadata": {},
     "output_type": "execute_result"
    }
   ],
   "source": [
    "#calculate variance of each feature, If the variance is low or close to zero, then a feature is approximately constant and will not improve the performance of the model. In that case, it should be removed.\n",
    "stats = X.describe()\n",
    "std = stats.loc['std']\n",
    "features_no_variance = std[std == 0.0].index\n",
    "\n",
    "pd.Series(features_no_variance).sort_values()"
   ]
  },
  {
   "cell_type": "code",
   "execution_count": 27,
   "metadata": {},
   "outputs": [],
   "source": [
    "#then drop features with variance below threshold\n",
    "X = X.drop(columns=features_no_variance)"
   ]
  },
  {
   "cell_type": "markdown",
   "metadata": {},
   "source": [
    "# 7- Un-wanted Features\n",
    "\n",
    "The predictions of a classifier could be not related to the features `timestamp` and `dst_port` in order to recognize attacks, indifferent of time and the destination port they are executed against. so we say goodbay to them ."
   ]
  },
  {
   "cell_type": "code",
   "execution_count": 28,
   "metadata": {},
   "outputs": [],
   "source": [
    "X= X.drop(columns=['timestamp', 'dst_port'])"
   ]
  },
  {
   "cell_type": "markdown",
   "metadata": {},
   "source": [
    "# 8- feature coorealtion "
   ]
  },
  {
   "cell_type": "code",
   "execution_count": 29,
   "metadata": {},
   "outputs": [],
   "source": [
    "# coorealtion on X features \n",
    "cluster_threshold = 1\n",
    "#X = X.drop(columns=['label'])\n"
   ]
  },
  {
   "cell_type": "code",
   "execution_count": 30,
   "metadata": {},
   "outputs": [],
   "source": [
    "corr = spearmanr(X).correlation\n",
    "#corr = df.drop(columns=['label']).corr()\n",
    "corr_linkage = hierarchy.ward(corr)"
   ]
  },
  {
   "cell_type": "code",
   "execution_count": 31,
   "metadata": {},
   "outputs": [
    {
     "data": {
      "text/plain": [
       "<AxesSubplot:>"
      ]
     },
     "execution_count": 31,
     "metadata": {},
     "output_type": "execute_result"
    },
    {
     "data": {
      "image/png": "[encoded data removed]",
      "text/plain": [
       "<Figure size 1800x1440 with 2 Axes>"
      ]
     },
     "metadata": {
      "needs_background": "light"
     },
     "output_type": "display_data"
    }
   ],
   "source": [
    "#fig, (ax1) = plt.subplots(figsize=(25, 40))\n",
    "plt.figure(figsize=(25, 20))\n",
    "\n",
    "sns.heatmap(corr, xticklabels=X.columns, yticklabels=X.columns, linewidths=.5, cmap=sns.diverging_palette(620, 10, as_cmap=True))"
   ]
  },
  {
   "cell_type": "markdown",
   "metadata": {},
   "source": [
    "### The heatmap demonstrates that the dataset has a fair amount of features with high correlation amongst each other. In order to remove redundant features the cluster distance threshold of 1 is used to pick features from their respective clusters."
   ]
  },
  {
   "cell_type": "markdown",
   "metadata": {},
   "source": [
    "## 8-1 select coorelated features "
   ]
  },
  {
   "cell_type": "code",
   "execution_count": 32,
   "metadata": {},
   "outputs": [
    {
     "name": "stdout",
     "output_type": "stream",
     "text": [
      "Selected features:\n"
     ]
    },
    {
     "data": {
      "text/plain": [
       "0              protocol\n",
       "1         flow_duration\n",
       "2          tot_fwd_pkts\n",
       "3          tot_bwd_pkts\n",
       "4       totlen_fwd_pkts\n",
       "5      fwd_pkt_len_mean\n",
       "6       fwd_pkt_len_std\n",
       "7      bwd_pkt_len_mean\n",
       "8       bwd_pkt_len_std\n",
       "9           flow_byts_s\n",
       "10          flow_pkts_s\n",
       "11         flow_iat_std\n",
       "12         flow_iat_min\n",
       "13          fwd_iat_tot\n",
       "14          fwd_iat_min\n",
       "15        fwd_psh_flags\n",
       "16           bwd_pkts_s\n",
       "17         fin_flag_cnt\n",
       "18         rst_flag_cnt\n",
       "19         psh_flag_cnt\n",
       "20         ack_flag_cnt\n",
       "21         urg_flag_cnt\n",
       "22        down_up_ratio\n",
       "23    init_fwd_win_byts\n",
       "24    init_bwd_win_byts\n",
       "25     fwd_seg_size_min\n",
       "26          active_mean\n",
       "27            idle_mean\n",
       "dtype: object"
      ]
     },
     "execution_count": 32,
     "metadata": {},
     "output_type": "execute_result"
    }
   ],
   "source": [
    "cluster_ids = hierarchy.fcluster(corr_linkage, cluster_threshold, criterion='distance')\n",
    "\n",
    "cluster_id_to_feature_ids = defaultdict(list)\n",
    "\n",
    "\n",
    "for idx, cluster_id in enumerate(cluster_ids):\n",
    "    cluster_id_to_feature_ids[cluster_id].append(idx)\n",
    "    selected_features = [v[0] for v in cluster_id_to_feature_ids.values()]\n",
    "\n",
    "\n",
    "selected_features = X.columns[selected_features].tolist()\n",
    "\n",
    "print('Selected features:')\n",
    "pd.Series(selected_features)"
   ]
  },
  {
   "cell_type": "code",
   "execution_count": 33,
   "metadata": {},
   "outputs": [
    {
     "name": "stdout",
     "output_type": "stream",
     "text": [
      "Remaining amount of features: 28\n"
     ]
    }
   ],
   "source": [
    "# assign new features to the X and dump the coorealted ones \n",
    "X = X[selected_features]\n",
    "print(f\"Remaining amount of features: {len(X.columns)}\")"
   ]
  },
  {
   "cell_type": "markdown",
   "metadata": {},
   "source": [
    "# 8-2 plot new coorealtion "
   ]
  },
  {
   "cell_type": "code",
   "execution_count": 34,
   "metadata": {},
   "outputs": [
    {
     "data": {
      "text/plain": [
       "<AxesSubplot:>"
      ]
     },
     "execution_count": 34,
     "metadata": {},
     "output_type": "execute_result"
    },
    {
     "data": {
      "image/png": "[encoded data removed]",
      "text/plain": [
       "<Figure size 1800x1440 with 2 Axes>"
      ]
     },
     "metadata": {
      "needs_background": "light"
     },
     "output_type": "display_data"
    }
   ],
   "source": [
    "# the new heatmap after dropping the coorelated features \n",
    "corr_updated = spearmanr(X).correlation\n",
    "plt.figure(figsize=(25, 20))\n",
    "sns.heatmap(corr_updated, xticklabels=X.columns, yticklabels=X.columns, linewidths=.5, cmap=sns.diverging_palette(620, 10, as_cmap=True))"
   ]
  },
  {
   "cell_type": "code",
   "execution_count": 35,
   "metadata": {},
   "outputs": [
    {
     "name": "stdout",
     "output_type": "stream",
     "text": [
      "<class 'pandas.core.frame.DataFrame'>\n",
      "Int64Index: 3145724 entries, 0 to 1048573\n",
      "Data columns (total 28 columns):\n",
      " #   Column             Dtype  \n",
      "---  ------             -----  \n",
      " 0   protocol           uint8  \n",
      " 1   flow_duration      float64\n",
      " 2   tot_fwd_pkts       uint32 \n",
      " 3   tot_bwd_pkts       uint32 \n",
      " 4   totlen_fwd_pkts    uint32 \n",
      " 5   fwd_pkt_len_mean   float32\n",
      " 6   fwd_pkt_len_std    float32\n",
      " 7   bwd_pkt_len_mean   float32\n",
      " 8   bwd_pkt_len_std    float32\n",
      " 9   flow_byts_s        float64\n",
      " 10  flow_pkts_s        float64\n",
      " 11  flow_iat_std       float32\n",
      " 12  flow_iat_min       float64\n",
      " 13  fwd_iat_tot        float64\n",
      " 14  fwd_iat_min        float64\n",
      " 15  fwd_psh_flags      uint8  \n",
      " 16  bwd_pkts_s         float32\n",
      " 17  fin_flag_cnt       uint8  \n",
      " 18  rst_flag_cnt       uint8  \n",
      " 19  psh_flag_cnt       uint8  \n",
      " 20  ack_flag_cnt       uint8  \n",
      " 21  urg_flag_cnt       uint8  \n",
      " 22  down_up_ratio      uint16 \n",
      " 23  init_fwd_win_byts  float64\n",
      " 24  init_bwd_win_byts  float64\n",
      " 25  fwd_seg_size_min   uint8  \n",
      " 26  active_mean        float32\n",
      " 27  idle_mean          float32\n",
      "dtypes: float32(8), float64(8), uint16(1), uint32(3), uint8(8)\n",
      "memory usage: 378.0 MB\n"
     ]
    }
   ],
   "source": [
    "X.info()"
   ]
  },
  {
   "cell_type": "markdown",
   "metadata": {},
   "source": [
    "# 9- Dataset train test Split  "
   ]
  },
  {
   "cell_type": "code",
   "execution_count": 36,
   "metadata": {},
   "outputs": [],
   "source": [
    "#y.drop('label' , axis = 'columns')"
   ]
  },
  {
   "cell_type": "code",
   "execution_count": 37,
   "metadata": {},
   "outputs": [],
   "source": [
    "# Split X frame into training , testing , and evaluating sets \n",
    "# 0.8 training , 0.1 testing , 0.1 evaluation \n",
    "# split done with the feature \"protocol\" being one hot encoded in the training and testing sets \n",
    "\n",
    "X_train, X_test, y_train, y_test = train_test_split(X, y, test_size=0.2, stratify=y)\n",
    "\n",
    "X_val, X_test, y_val, y_test = train_test_split(X_test, y_test, test_size=0.5, stratify=y_test)\n",
    "\n",
    "# on hot encoding for the feature protocol cuz it is categorical \n",
    "X_trainh = pd.get_dummies(X_train, columns=['protocol'])\n",
    "X_valh = pd.get_dummies(X_val, columns=['protocol'])\n",
    "X_testh = pd.get_dummies(X_test, columns=['protocol'])"
   ]
  },
  {
   "cell_type": "code",
   "execution_count": 30,
   "metadata": {},
   "outputs": [],
   "source": [
    "#X_test.to_csv (r'/media/upm/New Volume/project/pep/test.csv', index=False, header=True)"
   ]
  },
  {
   "cell_type": "markdown",
   "metadata": {},
   "source": [
    "# 10- percentage of the benign labels - imbalance dataset "
   ]
  },
  {
   "cell_type": "code",
   "execution_count": 31,
   "metadata": {},
   "outputs": [
    {
     "name": "stdout",
     "output_type": "stream",
     "text": [
      "Class occurences:\n",
      "0    1805895\n",
      "1     710684\n",
      "Name: binary_class, dtype: int64\n",
      "Percentage of benign samples: 0.7176\n"
     ]
    }
   ],
   "source": [
    "percentage_benign = len(y_train.binary_class[y_train.binary_class == 0]) / len(y_train.binary_class)\n",
    "\n",
    "print('Class occurences:')\n",
    "print(y_train.binary_class.value_counts())\n",
    "print('Percentage of benign samples: %.4f' % percentage_benign)"
   ]
  },
  {
   "cell_type": "markdown",
   "metadata": {},
   "source": [
    "# used performance metrics "
   ]
  },
  {
   "cell_type": "markdown",
   "metadata": {},
   "source": [
    "the dataset is imbalanced with class `0 - Benign` with`~83%` of all the samples.  \n",
    "\n",
    "\n",
    "\n",
    "To evaluate the performance of a classifier two metrics will be used:\n",
    "* `Recall (weighted avg)` will be used as the primary metric as the goal of the classifier should be detect as many attacks as possible. This is the metric that classifiers will be optimized for.\n",
    "\n",
    "\n",
    "* `Precision (weighted avg)` will be used as a secondary classifier as the the number of false-positives. This metric should be have a value over the threshold of `0.95` to have a maximum of `5%` false-positives.\n",
    "\n",
    "The `Avg Precision Score` score will also be calculated for each classifier."
   ]
  },
  {
   "cell_type": "markdown",
   "metadata": {},
   "source": [
    "# Binary Classification "
   ]
  },
  {
   "cell_type": "markdown",
   "metadata": {},
   "source": [
    "#  Dummy Classifier\n",
    "\n",
    "a `DummyClassifier` is created choosing the class with the most frequent occurences to make predictions. In this case all samples are classified as `0 - Benign` as this is the majority class of the dataset. "
   ]
  },
  {
   "cell_type": "code",
   "execution_count": 32,
   "metadata": {},
   "outputs": [],
   "source": [
    "# wrong cls_dummy = DummyClassifier('most_frequent')\n",
    "# alwayes go back to documention \n",
    "dummy_clc = DummyClassifier(strategy=\"most_frequent\")"
   ]
  },
  {
   "cell_type": "code",
   "execution_count": 33,
   "metadata": {},
   "outputs": [
    {
     "data": {
      "text/plain": [
       "DummyClassifier(strategy='most_frequent')"
      ]
     },
     "execution_count": 33,
     "metadata": {},
     "output_type": "execute_result"
    }
   ],
   "source": [
    "dummy_clc.fit(X_train, y_train)"
   ]
  },
  {
   "cell_type": "code",
   "execution_count": 34,
   "metadata": {},
   "outputs": [
    {
     "name": "stdout",
     "output_type": "stream",
     "text": [
      "Classification Report\n",
      "              precision    recall  f1-score   support\n",
      "\n",
      "           0       0.72      1.00      0.84    225737\n",
      "           1       0.00      0.00      0.00     88836\n",
      "\n",
      "    accuracy                           0.72    314573\n",
      "   macro avg       0.36      0.50      0.42    314573\n",
      "weighted avg       0.51      0.72      0.60    314573\n",
      "\n"
     ]
    },
    {
     "name": "stderr",
     "output_type": "stream",
     "text": [
      "E:\\ProgramDATA\\Anaconda\\lib\\site-packages\\sklearn\\metrics\\_classification.py:1318: UndefinedMetricWarning: Precision and F-score are ill-defined and being set to 0.0 in labels with no predicted samples. Use `zero_division` parameter to control this behavior.\n",
      "  _warn_prf(average, modifier, msg_start, len(result))\n",
      "E:\\ProgramDATA\\Anaconda\\lib\\site-packages\\sklearn\\metrics\\_classification.py:1318: UndefinedMetricWarning: Precision and F-score are ill-defined and being set to 0.0 in labels with no predicted samples. Use `zero_division` parameter to control this behavior.\n",
      "  _warn_prf(average, modifier, msg_start, len(result))\n",
      "E:\\ProgramDATA\\Anaconda\\lib\\site-packages\\sklearn\\metrics\\_classification.py:1318: UndefinedMetricWarning: Precision and F-score are ill-defined and being set to 0.0 in labels with no predicted samples. Use `zero_division` parameter to control this behavior.\n",
      "  _warn_prf(average, modifier, msg_start, len(result))\n"
     ]
    }
   ],
   "source": [
    "print(\"Classification Report\")\n",
    "\n",
    "print(classification_report(y_test, dummy_clc.predict(X_test)))"
   ]
  },
  {
   "cell_type": "markdown",
   "metadata": {},
   "source": [
    "# Logistic Regression\n",
    "\n",
    "Using the Logistic Regression estimator a linear model will be fitted to the data using the [`LogisticRegression`](https://scikit-learn.org/stable/modules/generated/sklearn.linear_model.LogisticRegression.html) \n",
    "\n",
    "\n",
    "Using Logistic Regression a weighted recall of `0.93` and a precision of `0.92` which is better that the dummy"
   ]
  },
  {
   "cell_type": "code",
   "execution_count": 63,
   "metadata": {},
   "outputs": [
    {
     "data": {
      "text/plain": [
       "StandardScaler()"
      ]
     },
     "execution_count": 63,
     "metadata": {},
     "output_type": "execute_result"
    }
   ],
   "source": [
    "scaler = StandardScaler()\n",
    "scaler.fit(X_trainh)"
   ]
  },
  {
   "cell_type": "code",
   "execution_count": 64,
   "metadata": {},
   "outputs": [
    {
     "name": "stderr",
     "output_type": "stream",
     "text": [
      "E:\\ProgramDATA\\Anaconda\\lib\\site-packages\\sklearn\\utils\\validation.py:993: DataConversionWarning: A column-vector y was passed when a 1d array was expected. Please change the shape of y to (n_samples, ), for example using ravel().\n",
      "  y = column_or_1d(y, warn=True)\n",
      "[Parallel(n_jobs=-1)]: Using backend ThreadingBackend with 12 concurrent workers.\n"
     ]
    },
    {
     "name": "stdout",
     "output_type": "stream",
     "text": [
      "max_iter reached after 153 seconds\n"
     ]
    },
    {
     "name": "stderr",
     "output_type": "stream",
     "text": [
      "E:\\ProgramDATA\\Anaconda\\lib\\site-packages\\sklearn\\linear_model\\_sag.py:352: ConvergenceWarning: The max_iter was reached which means the coef_ did not converge\n",
      "  warnings.warn(\n",
      "[Parallel(n_jobs=-1)]: Done   1 out of   1 | elapsed:  2.6min finished\n"
     ]
    },
    {
     "data": {
      "text/plain": [
       "LogisticRegression(n_jobs=-1, solver='saga', verbose=2)"
      ]
     },
     "execution_count": 64,
     "metadata": {},
     "output_type": "execute_result"
    }
   ],
   "source": [
    "lr = LogisticRegression(solver='saga', n_jobs=-1, verbose=2)\n",
    "\n",
    "lr.fit(scaler.transform(X_trainh) , y_train)"
   ]
  },
  {
   "cell_type": "code",
   "execution_count": 65,
   "metadata": {},
   "outputs": [],
   "source": [
    "y_pred = lr.predict(scaler.transform(X_valh))"
   ]
  },
  {
   "cell_type": "code",
   "execution_count": 66,
   "metadata": {},
   "outputs": [],
   "source": [
    "y_pred1 = lr.predict(scaler.transform(X_testh))"
   ]
  },
  {
   "cell_type": "code",
   "execution_count": 67,
   "metadata": {},
   "outputs": [
    {
     "name": "stdout",
     "output_type": "stream",
     "text": [
      "Classification Report\n",
      "              precision    recall  f1-score   support\n",
      "\n",
      "           0       0.93      0.99      0.96    225737\n",
      "           1       0.96      0.81      0.88     88835\n",
      "\n",
      "    accuracy                           0.94    314572\n",
      "   macro avg       0.94      0.90      0.92    314572\n",
      "weighted avg       0.94      0.94      0.93    314572\n",
      "\n"
     ]
    }
   ],
   "source": [
    "print(\"Classification Report\")\n",
    "print(classification_report(y_val , y_pred))"
   ]
  },
  {
   "cell_type": "code",
   "execution_count": 68,
   "metadata": {},
   "outputs": [
    {
     "name": "stdout",
     "output_type": "stream",
     "text": [
      "Classification Report\n",
      "              precision    recall  f1-score   support\n",
      "\n",
      "           0       0.93      0.99      0.96    225737\n",
      "           1       0.96      0.81      0.88     88836\n",
      "\n",
      "    accuracy                           0.94    314573\n",
      "   macro avg       0.94      0.90      0.92    314573\n",
      "weighted avg       0.94      0.94      0.93    314573\n",
      "\n"
     ]
    }
   ],
   "source": [
    "print(\"Classification Report\")\n",
    "print(classification_report(y_test , y_pred1))"
   ]
  },
  {
   "cell_type": "markdown",
   "metadata": {},
   "source": [
    "# Random Forest\n",
    "\n",
    "The default values are used to train the estimator.  \n",
    "`RandomForestClassifier` performs very well with recall of `0.99` and precision of `0.99`."
   ]
  },
  {
   "cell_type": "code",
   "execution_count": 56,
   "metadata": {},
   "outputs": [],
   "source": [
    "cls_forest = RandomForestClassifier(verbose=1, n_jobs=-1, class_weight='balanced')"
   ]
  },
  {
   "cell_type": "code",
   "execution_count": 57,
   "metadata": {},
   "outputs": [
    {
     "name": "stderr",
     "output_type": "stream",
     "text": [
      "C:\\Users\\O\\AppData\\Local\\Temp/ipykernel_26688/3398736662.py:1: DataConversionWarning: A column-vector y was passed when a 1d array was expected. Please change the shape of y to (n_samples,), for example using ravel().\n",
      "  cls_forest.fit(X_trainh, y_train)\n",
      "[Parallel(n_jobs=-1)]: Using backend ThreadingBackend with 12 concurrent workers.\n",
      "[Parallel(n_jobs=-1)]: Done  26 tasks      | elapsed:   35.6s\n",
      "[Parallel(n_jobs=-1)]: Done 100 out of 100 | elapsed:  1.8min finished\n"
     ]
    },
    {
     "data": {
      "text/plain": [
       "RandomForestClassifier(class_weight='balanced', n_jobs=-1, verbose=1)"
      ]
     },
     "execution_count": 57,
     "metadata": {},
     "output_type": "execute_result"
    }
   ],
   "source": [
    "cls_forest.fit(X_trainh, y_train)"
   ]
  },
  {
   "cell_type": "code",
   "execution_count": 58,
   "metadata": {},
   "outputs": [
    {
     "name": "stderr",
     "output_type": "stream",
     "text": [
      "[Parallel(n_jobs=12)]: Using backend ThreadingBackend with 12 concurrent workers.\n",
      "[Parallel(n_jobs=12)]: Done  26 tasks      | elapsed:    0.1s\n",
      "[Parallel(n_jobs=12)]: Done 100 out of 100 | elapsed:    0.4s finished\n"
     ]
    }
   ],
   "source": [
    "y_pred = cls_forest.predict(X_valh)"
   ]
  },
  {
   "cell_type": "code",
   "execution_count": 59,
   "metadata": {},
   "outputs": [
    {
     "name": "stderr",
     "output_type": "stream",
     "text": [
      "[Parallel(n_jobs=12)]: Using backend ThreadingBackend with 12 concurrent workers.\n",
      "[Parallel(n_jobs=12)]: Done  26 tasks      | elapsed:    0.1s\n",
      "[Parallel(n_jobs=12)]: Done 100 out of 100 | elapsed:    0.4s finished\n"
     ]
    }
   ],
   "source": [
    "y_pred1 = cls_forest.predict(X_testh)"
   ]
  },
  {
   "cell_type": "code",
   "execution_count": 60,
   "metadata": {},
   "outputs": [
    {
     "name": "stdout",
     "output_type": "stream",
     "text": [
      "Classification Report\n",
      "              precision    recall  f1-score   support\n",
      "\n",
      "           0       1.00      1.00      1.00    225737\n",
      "           1       1.00      1.00      1.00     88835\n",
      "\n",
      "    accuracy                           1.00    314572\n",
      "   macro avg       1.00      1.00      1.00    314572\n",
      "weighted avg       1.00      1.00      1.00    314572\n",
      "\n"
     ]
    }
   ],
   "source": [
    "print(\"Classification Report\")\n",
    "print(classification_report(y_val ,y_pred))"
   ]
  },
  {
   "cell_type": "code",
   "execution_count": 61,
   "metadata": {},
   "outputs": [
    {
     "name": "stdout",
     "output_type": "stream",
     "text": [
      "Classification Report\n",
      "              precision    recall  f1-score   support\n",
      "\n",
      "           0       1.00      1.00      1.00    225737\n",
      "           1       1.00      1.00      1.00     88836\n",
      "\n",
      "    accuracy                           1.00    314573\n",
      "   macro avg       1.00      1.00      1.00    314573\n",
      "weighted avg       1.00      1.00      1.00    314573\n",
      "\n"
     ]
    }
   ],
   "source": [
    "print(\"Classification Report\")\n",
    "print(classification_report(y_test ,y_pred1))"
   ]
  },
  {
   "cell_type": "markdown",
   "metadata": {},
   "source": [
    "# Gradient Boosting\n",
    "\n",
    "The last algorithm to evaluate is Gradient Boosting by facilitating the library [CatBoost](https://catboost.ai/). A grid search using cross-validation over a variation of hyper-parameters is performed in order to identify the optimal parameters. "
   ]
  },
  {
   "cell_type": "code",
   "execution_count": 46,
   "metadata": {},
   "outputs": [],
   "source": [
    "train_pool = Pool(X_train, y_train, cat_features=['protocol'])\n",
    "eval_pool = Pool(X_val, y_val , cat_features=['protocol'])\n",
    "test_pool = Pool(X_test, cat_features=['protocol'])"
   ]
  },
  {
   "cell_type": "code",
   "execution_count": 47,
   "metadata": {},
   "outputs": [],
   "source": [
    "minority_class_weight = len(y_train[y_train == 0]) / len(y_train[y_train == 1])"
   ]
  },
  {
   "cell_type": "code",
   "execution_count": 51,
   "metadata": {},
   "outputs": [
    {
     "name": "stderr",
     "output_type": "stream",
     "text": [
      "Custom logger is already specified. Specify more than one logger at same time is not thread safe."
     ]
    },
    {
     "name": "stdout",
     "output_type": "stream",
     "text": [
      "Learning rate set to 0.021914\n"
     ]
    },
    {
     "name": "stderr",
     "output_type": "stream",
     "text": [
      "Warning: Eval metric Logloss needs Target data, but test dataset does not have it so it won't be calculated\n"
     ]
    },
    {
     "name": "stdout",
     "output_type": "stream",
     "text": [
      "0:\tlearn: 0.6290064\ttotal: 276ms\tremaining: 4m 35s\n",
      "1:\tlearn: 0.5722598\ttotal: 431ms\tremaining: 3m 34s\n",
      "2:\tlearn: 0.5196587\ttotal: 587ms\tremaining: 3m 15s\n",
      "3:\tlearn: 0.4723895\ttotal: 738ms\tremaining: 3m 3s\n",
      "4:\tlearn: 0.4299988\ttotal: 889ms\tremaining: 2m 56s\n",
      "5:\tlearn: 0.3928702\ttotal: 1.04s\tremaining: 2m 53s\n",
      "6:\tlearn: 0.3534193\ttotal: 1.2s\tremaining: 2m 50s\n",
      "7:\tlearn: 0.3237240\ttotal: 1.35s\tremaining: 2m 47s\n",
      "8:\tlearn: 0.2964372\ttotal: 1.5s\tremaining: 2m 45s\n",
      "9:\tlearn: 0.2726729\ttotal: 1.66s\tremaining: 2m 44s\n",
      "10:\tlearn: 0.2459778\ttotal: 1.81s\tremaining: 2m 43s\n",
      "11:\tlearn: 0.2227226\ttotal: 1.97s\tremaining: 2m 42s\n",
      "12:\tlearn: 0.2059175\ttotal: 2.12s\tremaining: 2m 40s\n",
      "13:\tlearn: 0.1872174\ttotal: 2.28s\tremaining: 2m 40s\n",
      "14:\tlearn: 0.1698898\ttotal: 2.43s\tremaining: 2m 39s\n",
      "15:\tlearn: 0.1529387\ttotal: 2.6s\tremaining: 2m 39s\n",
      "16:\tlearn: 0.1387809\ttotal: 2.75s\tremaining: 2m 39s\n",
      "17:\tlearn: 0.1271153\ttotal: 2.91s\tremaining: 2m 38s\n",
      "18:\tlearn: 0.1168488\ttotal: 3.07s\tremaining: 2m 38s\n",
      "19:\tlearn: 0.1079006\ttotal: 3.23s\tremaining: 2m 38s\n",
      "20:\tlearn: 0.0999820\ttotal: 3.39s\tremaining: 2m 37s\n",
      "21:\tlearn: 0.0937497\ttotal: 3.54s\tremaining: 2m 37s\n",
      "22:\tlearn: 0.0856439\ttotal: 3.7s\tremaining: 2m 37s\n",
      "23:\tlearn: 0.0796376\ttotal: 3.86s\tremaining: 2m 36s\n",
      "24:\tlearn: 0.0727831\ttotal: 4.01s\tremaining: 2m 36s\n",
      "25:\tlearn: 0.0671614\ttotal: 4.17s\tremaining: 2m 36s\n",
      "26:\tlearn: 0.0603715\ttotal: 4.33s\tremaining: 2m 36s\n",
      "27:\tlearn: 0.0568000\ttotal: 4.49s\tremaining: 2m 35s\n",
      "28:\tlearn: 0.0514930\ttotal: 4.65s\tremaining: 2m 35s\n",
      "29:\tlearn: 0.0480958\ttotal: 4.8s\tremaining: 2m 35s\n",
      "30:\tlearn: 0.0458269\ttotal: 4.96s\tremaining: 2m 34s\n",
      "31:\tlearn: 0.0430392\ttotal: 5.12s\tremaining: 2m 34s\n",
      "32:\tlearn: 0.0395507\ttotal: 5.27s\tremaining: 2m 34s\n",
      "33:\tlearn: 0.0384280\ttotal: 5.42s\tremaining: 2m 33s\n",
      "34:\tlearn: 0.0373491\ttotal: 5.56s\tremaining: 2m 33s\n",
      "35:\tlearn: 0.0359883\ttotal: 5.71s\tremaining: 2m 32s\n",
      "36:\tlearn: 0.0349175\ttotal: 5.86s\tremaining: 2m 32s\n",
      "37:\tlearn: 0.0332355\ttotal: 6.01s\tremaining: 2m 32s\n",
      "38:\tlearn: 0.0314301\ttotal: 6.16s\tremaining: 2m 31s\n",
      "39:\tlearn: 0.0299265\ttotal: 6.31s\tremaining: 2m 31s\n",
      "40:\tlearn: 0.0284862\ttotal: 6.47s\tremaining: 2m 31s\n",
      "41:\tlearn: 0.0273714\ttotal: 6.62s\tremaining: 2m 31s\n",
      "42:\tlearn: 0.0263239\ttotal: 6.78s\tremaining: 2m 30s\n",
      "43:\tlearn: 0.0253086\ttotal: 6.92s\tremaining: 2m 30s\n",
      "44:\tlearn: 0.0243622\ttotal: 7.07s\tremaining: 2m 30s\n",
      "45:\tlearn: 0.0233312\ttotal: 7.22s\tremaining: 2m 29s\n",
      "46:\tlearn: 0.0225112\ttotal: 7.37s\tremaining: 2m 29s\n",
      "47:\tlearn: 0.0218989\ttotal: 7.52s\tremaining: 2m 29s\n",
      "48:\tlearn: 0.0211460\ttotal: 7.66s\tremaining: 2m 28s\n",
      "49:\tlearn: 0.0208356\ttotal: 7.8s\tremaining: 2m 28s\n",
      "50:\tlearn: 0.0203171\ttotal: 7.95s\tremaining: 2m 27s\n",
      "51:\tlearn: 0.0197912\ttotal: 8.1s\tremaining: 2m 27s\n",
      "52:\tlearn: 0.0192396\ttotal: 8.25s\tremaining: 2m 27s\n",
      "53:\tlearn: 0.0186545\ttotal: 8.39s\tremaining: 2m 27s\n",
      "54:\tlearn: 0.0181839\ttotal: 8.53s\tremaining: 2m 26s\n",
      "55:\tlearn: 0.0175873\ttotal: 8.68s\tremaining: 2m 26s\n",
      "56:\tlearn: 0.0169631\ttotal: 8.84s\tremaining: 2m 26s\n",
      "57:\tlearn: 0.0165748\ttotal: 8.98s\tremaining: 2m 25s\n",
      "58:\tlearn: 0.0162875\ttotal: 9.13s\tremaining: 2m 25s\n",
      "59:\tlearn: 0.0158564\ttotal: 9.28s\tremaining: 2m 25s\n",
      "60:\tlearn: 0.0154758\ttotal: 9.43s\tremaining: 2m 25s\n",
      "61:\tlearn: 0.0150072\ttotal: 9.58s\tremaining: 2m 24s\n",
      "62:\tlearn: 0.0145999\ttotal: 9.73s\tremaining: 2m 24s\n",
      "63:\tlearn: 0.0143029\ttotal: 9.88s\tremaining: 2m 24s\n",
      "64:\tlearn: 0.0139338\ttotal: 10s\tremaining: 2m 24s\n",
      "65:\tlearn: 0.0137138\ttotal: 10.2s\tremaining: 2m 24s\n",
      "66:\tlearn: 0.0133649\ttotal: 10.3s\tremaining: 2m 23s\n",
      "67:\tlearn: 0.0129372\ttotal: 10.5s\tremaining: 2m 23s\n",
      "68:\tlearn: 0.0125241\ttotal: 10.6s\tremaining: 2m 23s\n",
      "69:\tlearn: 0.0121168\ttotal: 10.8s\tremaining: 2m 23s\n",
      "70:\tlearn: 0.0117176\ttotal: 11s\tremaining: 2m 23s\n",
      "71:\tlearn: 0.0114568\ttotal: 11.1s\tremaining: 2m 23s\n",
      "72:\tlearn: 0.0112306\ttotal: 11.3s\tremaining: 2m 23s\n",
      "73:\tlearn: 0.0109075\ttotal: 11.4s\tremaining: 2m 23s\n",
      "74:\tlearn: 0.0106370\ttotal: 11.6s\tremaining: 2m 22s\n",
      "75:\tlearn: 0.0103895\ttotal: 11.7s\tremaining: 2m 22s\n",
      "76:\tlearn: 0.0101627\ttotal: 11.9s\tremaining: 2m 22s\n",
      "77:\tlearn: 0.0097240\ttotal: 12.1s\tremaining: 2m 22s\n",
      "78:\tlearn: 0.0094787\ttotal: 12.2s\tremaining: 2m 22s\n",
      "79:\tlearn: 0.0093322\ttotal: 12.4s\tremaining: 2m 22s\n",
      "80:\tlearn: 0.0091270\ttotal: 12.5s\tremaining: 2m 21s\n",
      "81:\tlearn: 0.0090011\ttotal: 12.6s\tremaining: 2m 21s\n",
      "82:\tlearn: 0.0088798\ttotal: 12.8s\tremaining: 2m 21s\n",
      "83:\tlearn: 0.0087657\ttotal: 12.9s\tremaining: 2m 21s\n",
      "84:\tlearn: 0.0086555\ttotal: 13.1s\tremaining: 2m 20s\n",
      "85:\tlearn: 0.0085641\ttotal: 13.2s\tremaining: 2m 20s\n",
      "86:\tlearn: 0.0084042\ttotal: 13.4s\tremaining: 2m 20s\n",
      "87:\tlearn: 0.0083050\ttotal: 13.5s\tremaining: 2m 20s\n",
      "88:\tlearn: 0.0081480\ttotal: 13.7s\tremaining: 2m 19s\n",
      "89:\tlearn: 0.0080729\ttotal: 13.8s\tremaining: 2m 19s\n",
      "90:\tlearn: 0.0079260\ttotal: 13.9s\tremaining: 2m 19s\n",
      "91:\tlearn: 0.0077931\ttotal: 14.1s\tremaining: 2m 19s\n",
      "92:\tlearn: 0.0076881\ttotal: 14.2s\tremaining: 2m 18s\n",
      "93:\tlearn: 0.0075546\ttotal: 14.4s\tremaining: 2m 18s\n",
      "94:\tlearn: 0.0072889\ttotal: 14.5s\tremaining: 2m 18s\n",
      "95:\tlearn: 0.0071628\ttotal: 14.7s\tremaining: 2m 18s\n",
      "96:\tlearn: 0.0070538\ttotal: 14.8s\tremaining: 2m 17s\n",
      "97:\tlearn: 0.0069777\ttotal: 15s\tremaining: 2m 17s\n",
      "98:\tlearn: 0.0069211\ttotal: 15.1s\tremaining: 2m 17s\n",
      "99:\tlearn: 0.0066879\ttotal: 15.2s\tremaining: 2m 17s\n",
      "100:\tlearn: 0.0065945\ttotal: 15.4s\tremaining: 2m 16s\n",
      "101:\tlearn: 0.0065315\ttotal: 15.5s\tremaining: 2m 16s\n",
      "102:\tlearn: 0.0064342\ttotal: 15.7s\tremaining: 2m 16s\n",
      "103:\tlearn: 0.0062605\ttotal: 15.8s\tremaining: 2m 16s\n",
      "104:\tlearn: 0.0062119\ttotal: 16s\tremaining: 2m 16s\n",
      "105:\tlearn: 0.0061670\ttotal: 16.1s\tremaining: 2m 15s\n",
      "106:\tlearn: 0.0060763\ttotal: 16.3s\tremaining: 2m 15s\n",
      "107:\tlearn: 0.0060015\ttotal: 16.4s\tremaining: 2m 15s\n",
      "108:\tlearn: 0.0058268\ttotal: 16.6s\tremaining: 2m 15s\n",
      "109:\tlearn: 0.0057231\ttotal: 16.7s\tremaining: 2m 15s\n",
      "110:\tlearn: 0.0056279\ttotal: 16.9s\tremaining: 2m 15s\n",
      "111:\tlearn: 0.0055405\ttotal: 17s\tremaining: 2m 14s\n",
      "112:\tlearn: 0.0054795\ttotal: 17.2s\tremaining: 2m 14s\n",
      "113:\tlearn: 0.0054479\ttotal: 17.3s\tremaining: 2m 14s\n",
      "114:\tlearn: 0.0053693\ttotal: 17.4s\tremaining: 2m 14s\n",
      "115:\tlearn: 0.0053370\ttotal: 17.6s\tremaining: 2m 13s\n",
      "116:\tlearn: 0.0052637\ttotal: 17.7s\tremaining: 2m 13s\n",
      "117:\tlearn: 0.0052337\ttotal: 17.9s\tremaining: 2m 13s\n",
      "118:\tlearn: 0.0051681\ttotal: 18s\tremaining: 2m 13s\n",
      "119:\tlearn: 0.0051069\ttotal: 18.2s\tremaining: 2m 13s\n",
      "120:\tlearn: 0.0050737\ttotal: 18.3s\tremaining: 2m 12s\n",
      "121:\tlearn: 0.0050474\ttotal: 18.4s\tremaining: 2m 12s\n",
      "122:\tlearn: 0.0049702\ttotal: 18.6s\tremaining: 2m 12s\n",
      "123:\tlearn: 0.0049418\ttotal: 18.7s\tremaining: 2m 12s\n",
      "124:\tlearn: 0.0048717\ttotal: 18.9s\tremaining: 2m 12s\n",
      "125:\tlearn: 0.0048437\ttotal: 19s\tremaining: 2m 11s\n",
      "126:\tlearn: 0.0047804\ttotal: 19.2s\tremaining: 2m 11s\n",
      "127:\tlearn: 0.0047500\ttotal: 19.3s\tremaining: 2m 11s\n",
      "128:\tlearn: 0.0046949\ttotal: 19.5s\tremaining: 2m 11s\n",
      "129:\tlearn: 0.0046251\ttotal: 19.6s\tremaining: 2m 11s\n",
      "130:\tlearn: 0.0046029\ttotal: 19.8s\tremaining: 2m 11s\n",
      "131:\tlearn: 0.0045876\ttotal: 19.9s\tremaining: 2m 10s\n",
      "132:\tlearn: 0.0045495\ttotal: 20s\tremaining: 2m 10s\n",
      "133:\tlearn: 0.0044421\ttotal: 20.2s\tremaining: 2m 10s\n",
      "134:\tlearn: 0.0044284\ttotal: 20.3s\tremaining: 2m 10s\n",
      "135:\tlearn: 0.0044062\ttotal: 20.4s\tremaining: 2m 9s\n",
      "136:\tlearn: 0.0043858\ttotal: 20.6s\tremaining: 2m 9s\n",
      "137:\tlearn: 0.0043153\ttotal: 20.7s\tremaining: 2m 9s\n",
      "138:\tlearn: 0.0042740\ttotal: 20.8s\tremaining: 2m 9s\n",
      "139:\tlearn: 0.0042394\ttotal: 21s\tremaining: 2m 8s\n",
      "140:\tlearn: 0.0042106\ttotal: 21.1s\tremaining: 2m 8s\n",
      "141:\tlearn: 0.0042003\ttotal: 21.3s\tremaining: 2m 8s\n",
      "142:\tlearn: 0.0041865\ttotal: 21.4s\tremaining: 2m 8s\n",
      "143:\tlearn: 0.0041566\ttotal: 21.5s\tremaining: 2m 8s\n",
      "144:\tlearn: 0.0041295\ttotal: 21.7s\tremaining: 2m 7s\n",
      "145:\tlearn: 0.0040414\ttotal: 21.8s\tremaining: 2m 7s\n",
      "146:\tlearn: 0.0040081\ttotal: 22s\tremaining: 2m 7s\n",
      "147:\tlearn: 0.0039478\ttotal: 22.1s\tremaining: 2m 7s\n",
      "148:\tlearn: 0.0039229\ttotal: 22.3s\tremaining: 2m 7s\n",
      "149:\tlearn: 0.0039127\ttotal: 22.4s\tremaining: 2m 6s\n",
      "150:\tlearn: 0.0038883\ttotal: 22.5s\tremaining: 2m 6s\n",
      "151:\tlearn: 0.0038517\ttotal: 22.7s\tremaining: 2m 6s\n",
      "152:\tlearn: 0.0038394\ttotal: 22.8s\tremaining: 2m 6s\n",
      "153:\tlearn: 0.0038166\ttotal: 23s\tremaining: 2m 6s\n",
      "154:\tlearn: 0.0037827\ttotal: 23.1s\tremaining: 2m 6s\n",
      "155:\tlearn: 0.0037331\ttotal: 23.3s\tremaining: 2m 5s\n",
      "156:\tlearn: 0.0036613\ttotal: 23.4s\tremaining: 2m 5s\n",
      "157:\tlearn: 0.0036397\ttotal: 23.6s\tremaining: 2m 5s\n"
     ]
    },
    {
     "name": "stdout",
     "output_type": "stream",
     "text": [
      "158:\tlearn: 0.0036171\ttotal: 23.7s\tremaining: 2m 5s\n",
      "159:\tlearn: 0.0035971\ttotal: 23.8s\tremaining: 2m 5s\n",
      "160:\tlearn: 0.0035640\ttotal: 24s\tremaining: 2m 5s\n",
      "161:\tlearn: 0.0035498\ttotal: 24.1s\tremaining: 2m 4s\n",
      "162:\tlearn: 0.0035145\ttotal: 24.3s\tremaining: 2m 4s\n",
      "163:\tlearn: 0.0035041\ttotal: 24.4s\tremaining: 2m 4s\n",
      "164:\tlearn: 0.0034828\ttotal: 24.6s\tremaining: 2m 4s\n",
      "165:\tlearn: 0.0034117\ttotal: 24.7s\tremaining: 2m 4s\n",
      "166:\tlearn: 0.0033877\ttotal: 24.9s\tremaining: 2m 4s\n",
      "167:\tlearn: 0.0033661\ttotal: 25s\tremaining: 2m 3s\n",
      "168:\tlearn: 0.0033421\ttotal: 25.2s\tremaining: 2m 3s\n",
      "169:\tlearn: 0.0033101\ttotal: 25.3s\tremaining: 2m 3s\n",
      "170:\tlearn: 0.0032666\ttotal: 25.4s\tremaining: 2m 3s\n",
      "171:\tlearn: 0.0032551\ttotal: 25.6s\tremaining: 2m 3s\n",
      "172:\tlearn: 0.0032376\ttotal: 25.7s\tremaining: 2m 3s\n",
      "173:\tlearn: 0.0032194\ttotal: 25.9s\tremaining: 2m 2s\n",
      "174:\tlearn: 0.0031603\ttotal: 26s\tremaining: 2m 2s\n",
      "175:\tlearn: 0.0031456\ttotal: 26.2s\tremaining: 2m 2s\n",
      "176:\tlearn: 0.0031205\ttotal: 26.3s\tremaining: 2m 2s\n",
      "177:\tlearn: 0.0030971\ttotal: 26.5s\tremaining: 2m 2s\n",
      "178:\tlearn: 0.0030286\ttotal: 26.6s\tremaining: 2m 2s\n",
      "179:\tlearn: 0.0030114\ttotal: 26.8s\tremaining: 2m 1s\n",
      "180:\tlearn: 0.0029928\ttotal: 26.9s\tremaining: 2m 1s\n",
      "181:\tlearn: 0.0029708\ttotal: 27.1s\tremaining: 2m 1s\n",
      "182:\tlearn: 0.0029556\ttotal: 27.2s\tremaining: 2m 1s\n",
      "183:\tlearn: 0.0029380\ttotal: 27.4s\tremaining: 2m 1s\n",
      "184:\tlearn: 0.0029270\ttotal: 27.5s\tremaining: 2m 1s\n",
      "185:\tlearn: 0.0029189\ttotal: 27.6s\tremaining: 2m\n",
      "186:\tlearn: 0.0028942\ttotal: 27.8s\tremaining: 2m\n",
      "187:\tlearn: 0.0028744\ttotal: 27.9s\tremaining: 2m\n",
      "188:\tlearn: 0.0028515\ttotal: 28.1s\tremaining: 2m\n",
      "189:\tlearn: 0.0028302\ttotal: 28.2s\tremaining: 2m\n",
      "190:\tlearn: 0.0028103\ttotal: 28.4s\tremaining: 2m\n",
      "191:\tlearn: 0.0028005\ttotal: 28.5s\tremaining: 2m\n",
      "192:\tlearn: 0.0027910\ttotal: 28.7s\tremaining: 1m 59s\n",
      "193:\tlearn: 0.0027748\ttotal: 28.8s\tremaining: 1m 59s\n",
      "194:\tlearn: 0.0027411\ttotal: 29s\tremaining: 1m 59s\n",
      "195:\tlearn: 0.0027184\ttotal: 29.1s\tremaining: 1m 59s\n",
      "196:\tlearn: 0.0027035\ttotal: 29.3s\tremaining: 1m 59s\n",
      "197:\tlearn: 0.0026870\ttotal: 29.4s\tremaining: 1m 59s\n",
      "198:\tlearn: 0.0026783\ttotal: 29.6s\tremaining: 1m 58s\n",
      "199:\tlearn: 0.0026604\ttotal: 29.7s\tremaining: 1m 58s\n",
      "200:\tlearn: 0.0026386\ttotal: 29.9s\tremaining: 1m 58s\n",
      "201:\tlearn: 0.0026234\ttotal: 30s\tremaining: 1m 58s\n",
      "202:\tlearn: 0.0026043\ttotal: 30.1s\tremaining: 1m 58s\n",
      "203:\tlearn: 0.0025902\ttotal: 30.3s\tremaining: 1m 58s\n",
      "204:\tlearn: 0.0025823\ttotal: 30.4s\tremaining: 1m 58s\n",
      "205:\tlearn: 0.0025648\ttotal: 30.6s\tremaining: 1m 57s\n",
      "206:\tlearn: 0.0025271\ttotal: 30.7s\tremaining: 1m 57s\n",
      "207:\tlearn: 0.0025062\ttotal: 30.9s\tremaining: 1m 57s\n",
      "208:\tlearn: 0.0024982\ttotal: 31s\tremaining: 1m 57s\n",
      "209:\tlearn: 0.0024907\ttotal: 31.2s\tremaining: 1m 57s\n",
      "210:\tlearn: 0.0024835\ttotal: 31.3s\tremaining: 1m 57s\n",
      "211:\tlearn: 0.0024780\ttotal: 31.5s\tremaining: 1m 56s\n",
      "212:\tlearn: 0.0024696\ttotal: 31.6s\tremaining: 1m 56s\n",
      "213:\tlearn: 0.0024363\ttotal: 31.7s\tremaining: 1m 56s\n",
      "214:\tlearn: 0.0024103\ttotal: 31.9s\tremaining: 1m 56s\n",
      "215:\tlearn: 0.0023795\ttotal: 32s\tremaining: 1m 56s\n",
      "216:\tlearn: 0.0023712\ttotal: 32.2s\tremaining: 1m 56s\n",
      "217:\tlearn: 0.0023542\ttotal: 32.3s\tremaining: 1m 55s\n",
      "218:\tlearn: 0.0023454\ttotal: 32.5s\tremaining: 1m 55s\n",
      "219:\tlearn: 0.0023267\ttotal: 32.6s\tremaining: 1m 55s\n",
      "220:\tlearn: 0.0023194\ttotal: 32.8s\tremaining: 1m 55s\n",
      "221:\tlearn: 0.0022932\ttotal: 32.9s\tremaining: 1m 55s\n",
      "222:\tlearn: 0.0022717\ttotal: 33.1s\tremaining: 1m 55s\n",
      "223:\tlearn: 0.0022463\ttotal: 33.2s\tremaining: 1m 55s\n",
      "224:\tlearn: 0.0022369\ttotal: 33.3s\tremaining: 1m 54s\n",
      "225:\tlearn: 0.0022196\ttotal: 33.5s\tremaining: 1m 54s\n",
      "226:\tlearn: 0.0022114\ttotal: 33.6s\tremaining: 1m 54s\n",
      "227:\tlearn: 0.0021744\ttotal: 33.8s\tremaining: 1m 54s\n",
      "228:\tlearn: 0.0021524\ttotal: 33.9s\tremaining: 1m 54s\n",
      "229:\tlearn: 0.0021471\ttotal: 34.1s\tremaining: 1m 54s\n",
      "230:\tlearn: 0.0021294\ttotal: 34.2s\tremaining: 1m 53s\n",
      "231:\tlearn: 0.0021196\ttotal: 34.4s\tremaining: 1m 53s\n",
      "232:\tlearn: 0.0021117\ttotal: 34.5s\tremaining: 1m 53s\n",
      "233:\tlearn: 0.0020808\ttotal: 34.7s\tremaining: 1m 53s\n",
      "234:\tlearn: 0.0020767\ttotal: 34.8s\tremaining: 1m 53s\n",
      "235:\tlearn: 0.0020724\ttotal: 34.9s\tremaining: 1m 53s\n",
      "236:\tlearn: 0.0020685\ttotal: 35.1s\tremaining: 1m 52s\n",
      "237:\tlearn: 0.0020638\ttotal: 35.2s\tremaining: 1m 52s\n",
      "238:\tlearn: 0.0020607\ttotal: 35.4s\tremaining: 1m 52s\n",
      "239:\tlearn: 0.0020461\ttotal: 35.5s\tremaining: 1m 52s\n",
      "240:\tlearn: 0.0020375\ttotal: 35.6s\tremaining: 1m 52s\n",
      "241:\tlearn: 0.0020268\ttotal: 35.8s\tremaining: 1m 52s\n",
      "242:\tlearn: 0.0020114\ttotal: 35.9s\tremaining: 1m 51s\n",
      "243:\tlearn: 0.0020046\ttotal: 36.1s\tremaining: 1m 51s\n",
      "244:\tlearn: 0.0019969\ttotal: 36.2s\tremaining: 1m 51s\n",
      "245:\tlearn: 0.0019938\ttotal: 36.4s\tremaining: 1m 51s\n",
      "246:\tlearn: 0.0019762\ttotal: 36.5s\tremaining: 1m 51s\n",
      "247:\tlearn: 0.0019732\ttotal: 36.6s\tremaining: 1m 51s\n",
      "248:\tlearn: 0.0019643\ttotal: 36.8s\tremaining: 1m 50s\n",
      "249:\tlearn: 0.0019588\ttotal: 36.9s\tremaining: 1m 50s\n",
      "250:\tlearn: 0.0019548\ttotal: 37.1s\tremaining: 1m 50s\n",
      "251:\tlearn: 0.0019430\ttotal: 37.2s\tremaining: 1m 50s\n",
      "252:\tlearn: 0.0019401\ttotal: 37.4s\tremaining: 1m 50s\n",
      "253:\tlearn: 0.0019272\ttotal: 37.5s\tremaining: 1m 50s\n",
      "254:\tlearn: 0.0019185\ttotal: 37.6s\tremaining: 1m 49s\n",
      "255:\tlearn: 0.0019124\ttotal: 37.8s\tremaining: 1m 49s\n",
      "256:\tlearn: 0.0018995\ttotal: 37.9s\tremaining: 1m 49s\n",
      "257:\tlearn: 0.0018971\ttotal: 38.1s\tremaining: 1m 49s\n",
      "258:\tlearn: 0.0018884\ttotal: 38.2s\tremaining: 1m 49s\n",
      "259:\tlearn: 0.0018753\ttotal: 38.3s\tremaining: 1m 49s\n",
      "260:\tlearn: 0.0018692\ttotal: 38.5s\tremaining: 1m 48s\n",
      "261:\tlearn: 0.0018652\ttotal: 38.6s\tremaining: 1m 48s\n",
      "262:\tlearn: 0.0018604\ttotal: 38.8s\tremaining: 1m 48s\n",
      "263:\tlearn: 0.0018579\ttotal: 38.9s\tremaining: 1m 48s\n",
      "264:\tlearn: 0.0018326\ttotal: 39.1s\tremaining: 1m 48s\n",
      "265:\tlearn: 0.0018305\ttotal: 39.2s\tremaining: 1m 48s\n",
      "266:\tlearn: 0.0018123\ttotal: 39.3s\tremaining: 1m 47s\n",
      "267:\tlearn: 0.0018075\ttotal: 39.5s\tremaining: 1m 47s\n",
      "268:\tlearn: 0.0018040\ttotal: 39.6s\tremaining: 1m 47s\n",
      "269:\tlearn: 0.0017979\ttotal: 39.8s\tremaining: 1m 47s\n",
      "270:\tlearn: 0.0017960\ttotal: 39.9s\tremaining: 1m 47s\n",
      "271:\tlearn: 0.0017928\ttotal: 40s\tremaining: 1m 47s\n",
      "272:\tlearn: 0.0017809\ttotal: 40.2s\tremaining: 1m 47s\n",
      "273:\tlearn: 0.0017786\ttotal: 40.3s\tremaining: 1m 46s\n",
      "274:\tlearn: 0.0017731\ttotal: 40.5s\tremaining: 1m 46s\n",
      "275:\tlearn: 0.0017647\ttotal: 40.6s\tremaining: 1m 46s\n",
      "276:\tlearn: 0.0017539\ttotal: 40.8s\tremaining: 1m 46s\n",
      "277:\tlearn: 0.0017514\ttotal: 40.9s\tremaining: 1m 46s\n",
      "278:\tlearn: 0.0017352\ttotal: 41s\tremaining: 1m 46s\n",
      "279:\tlearn: 0.0017277\ttotal: 41.2s\tremaining: 1m 45s\n",
      "280:\tlearn: 0.0017190\ttotal: 41.3s\tremaining: 1m 45s\n",
      "281:\tlearn: 0.0017168\ttotal: 41.5s\tremaining: 1m 45s\n",
      "282:\tlearn: 0.0017135\ttotal: 41.6s\tremaining: 1m 45s\n",
      "283:\tlearn: 0.0017110\ttotal: 41.8s\tremaining: 1m 45s\n",
      "284:\tlearn: 0.0017095\ttotal: 41.9s\tremaining: 1m 45s\n",
      "285:\tlearn: 0.0017017\ttotal: 42s\tremaining: 1m 44s\n",
      "286:\tlearn: 0.0016936\ttotal: 42.2s\tremaining: 1m 44s\n",
      "287:\tlearn: 0.0016877\ttotal: 42.3s\tremaining: 1m 44s\n",
      "288:\tlearn: 0.0016762\ttotal: 42.5s\tremaining: 1m 44s\n",
      "289:\tlearn: 0.0016694\ttotal: 42.6s\tremaining: 1m 44s\n",
      "290:\tlearn: 0.0016646\ttotal: 42.8s\tremaining: 1m 44s\n",
      "291:\tlearn: 0.0016583\ttotal: 42.9s\tremaining: 1m 44s\n",
      "292:\tlearn: 0.0016492\ttotal: 43.1s\tremaining: 1m 43s\n",
      "293:\tlearn: 0.0016272\ttotal: 43.2s\tremaining: 1m 43s\n",
      "294:\tlearn: 0.0016212\ttotal: 43.4s\tremaining: 1m 43s\n",
      "295:\tlearn: 0.0016197\ttotal: 43.5s\tremaining: 1m 43s\n",
      "296:\tlearn: 0.0016125\ttotal: 43.6s\tremaining: 1m 43s\n",
      "297:\tlearn: 0.0016057\ttotal: 43.8s\tremaining: 1m 43s\n",
      "298:\tlearn: 0.0015961\ttotal: 43.9s\tremaining: 1m 42s\n",
      "299:\tlearn: 0.0015935\ttotal: 44.1s\tremaining: 1m 42s\n",
      "300:\tlearn: 0.0015761\ttotal: 44.2s\tremaining: 1m 42s\n",
      "301:\tlearn: 0.0015748\ttotal: 44.3s\tremaining: 1m 42s\n",
      "302:\tlearn: 0.0015737\ttotal: 44.5s\tremaining: 1m 42s\n",
      "303:\tlearn: 0.0015726\ttotal: 44.6s\tremaining: 1m 42s\n",
      "304:\tlearn: 0.0015709\ttotal: 44.7s\tremaining: 1m 41s\n",
      "305:\tlearn: 0.0015679\ttotal: 44.9s\tremaining: 1m 41s\n",
      "306:\tlearn: 0.0015640\ttotal: 45s\tremaining: 1m 41s\n",
      "307:\tlearn: 0.0015516\ttotal: 45.2s\tremaining: 1m 41s\n",
      "308:\tlearn: 0.0015447\ttotal: 45.3s\tremaining: 1m 41s\n",
      "309:\tlearn: 0.0015437\ttotal: 45.5s\tremaining: 1m 41s\n",
      "310:\tlearn: 0.0015353\ttotal: 45.6s\tremaining: 1m 41s\n",
      "311:\tlearn: 0.0015337\ttotal: 45.7s\tremaining: 1m 40s\n",
      "312:\tlearn: 0.0015276\ttotal: 45.9s\tremaining: 1m 40s\n",
      "313:\tlearn: 0.0015176\ttotal: 46s\tremaining: 1m 40s\n",
      "314:\tlearn: 0.0015150\ttotal: 46.2s\tremaining: 1m 40s\n",
      "315:\tlearn: 0.0015100\ttotal: 46.3s\tremaining: 1m 40s\n"
     ]
    },
    {
     "name": "stdout",
     "output_type": "stream",
     "text": [
      "316:\tlearn: 0.0015092\ttotal: 46.4s\tremaining: 1m 40s\n",
      "317:\tlearn: 0.0015039\ttotal: 46.6s\tremaining: 1m 39s\n",
      "318:\tlearn: 0.0015030\ttotal: 46.7s\tremaining: 1m 39s\n",
      "319:\tlearn: 0.0014976\ttotal: 46.8s\tremaining: 1m 39s\n",
      "320:\tlearn: 0.0014801\ttotal: 47s\tremaining: 1m 39s\n",
      "321:\tlearn: 0.0014751\ttotal: 47.1s\tremaining: 1m 39s\n",
      "322:\tlearn: 0.0014703\ttotal: 47.3s\tremaining: 1m 39s\n",
      "323:\tlearn: 0.0014611\ttotal: 47.4s\tremaining: 1m 38s\n",
      "324:\tlearn: 0.0014487\ttotal: 47.6s\tremaining: 1m 38s\n",
      "325:\tlearn: 0.0014444\ttotal: 47.7s\tremaining: 1m 38s\n",
      "326:\tlearn: 0.0014399\ttotal: 47.8s\tremaining: 1m 38s\n",
      "327:\tlearn: 0.0014384\ttotal: 48s\tremaining: 1m 38s\n",
      "328:\tlearn: 0.0014375\ttotal: 48.1s\tremaining: 1m 38s\n",
      "329:\tlearn: 0.0014317\ttotal: 48.3s\tremaining: 1m 37s\n",
      "330:\tlearn: 0.0014296\ttotal: 48.4s\tremaining: 1m 37s\n",
      "331:\tlearn: 0.0014247\ttotal: 48.5s\tremaining: 1m 37s\n",
      "332:\tlearn: 0.0014239\ttotal: 48.7s\tremaining: 1m 37s\n",
      "333:\tlearn: 0.0014182\ttotal: 48.8s\tremaining: 1m 37s\n",
      "334:\tlearn: 0.0014166\ttotal: 49s\tremaining: 1m 37s\n",
      "335:\tlearn: 0.0014127\ttotal: 49.1s\tremaining: 1m 37s\n",
      "336:\tlearn: 0.0014102\ttotal: 49.2s\tremaining: 1m 36s\n",
      "337:\tlearn: 0.0014064\ttotal: 49.4s\tremaining: 1m 36s\n",
      "338:\tlearn: 0.0014028\ttotal: 49.5s\tremaining: 1m 36s\n",
      "339:\tlearn: 0.0013906\ttotal: 49.7s\tremaining: 1m 36s\n",
      "340:\tlearn: 0.0013898\ttotal: 49.8s\tremaining: 1m 36s\n",
      "341:\tlearn: 0.0013876\ttotal: 49.9s\tremaining: 1m 36s\n",
      "342:\tlearn: 0.0013797\ttotal: 50.1s\tremaining: 1m 35s\n",
      "343:\tlearn: 0.0013783\ttotal: 50.2s\tremaining: 1m 35s\n",
      "344:\tlearn: 0.0013771\ttotal: 50.3s\tremaining: 1m 35s\n",
      "345:\tlearn: 0.0013737\ttotal: 50.5s\tremaining: 1m 35s\n",
      "346:\tlearn: 0.0013670\ttotal: 50.6s\tremaining: 1m 35s\n",
      "347:\tlearn: 0.0013624\ttotal: 50.8s\tremaining: 1m 35s\n",
      "348:\tlearn: 0.0013586\ttotal: 50.9s\tremaining: 1m 34s\n",
      "349:\tlearn: 0.0013560\ttotal: 51s\tremaining: 1m 34s\n",
      "350:\tlearn: 0.0013550\ttotal: 51.2s\tremaining: 1m 34s\n",
      "351:\tlearn: 0.0013533\ttotal: 51.3s\tremaining: 1m 34s\n",
      "352:\tlearn: 0.0013521\ttotal: 51.4s\tremaining: 1m 34s\n",
      "353:\tlearn: 0.0013490\ttotal: 51.6s\tremaining: 1m 34s\n",
      "354:\tlearn: 0.0013392\ttotal: 51.7s\tremaining: 1m 33s\n",
      "355:\tlearn: 0.0013362\ttotal: 51.9s\tremaining: 1m 33s\n",
      "356:\tlearn: 0.0013342\ttotal: 52s\tremaining: 1m 33s\n",
      "357:\tlearn: 0.0013314\ttotal: 52.2s\tremaining: 1m 33s\n",
      "358:\tlearn: 0.0013274\ttotal: 52.3s\tremaining: 1m 33s\n",
      "359:\tlearn: 0.0013252\ttotal: 52.4s\tremaining: 1m 33s\n",
      "360:\tlearn: 0.0013232\ttotal: 52.6s\tremaining: 1m 33s\n",
      "361:\tlearn: 0.0013185\ttotal: 52.7s\tremaining: 1m 32s\n",
      "362:\tlearn: 0.0013172\ttotal: 52.8s\tremaining: 1m 32s\n",
      "363:\tlearn: 0.0013155\ttotal: 53s\tremaining: 1m 32s\n",
      "364:\tlearn: 0.0013140\ttotal: 53.1s\tremaining: 1m 32s\n",
      "365:\tlearn: 0.0013133\ttotal: 53.3s\tremaining: 1m 32s\n",
      "366:\tlearn: 0.0013093\ttotal: 53.4s\tremaining: 1m 32s\n",
      "367:\tlearn: 0.0013043\ttotal: 53.5s\tremaining: 1m 31s\n",
      "368:\tlearn: 0.0012980\ttotal: 53.7s\tremaining: 1m 31s\n",
      "369:\tlearn: 0.0012974\ttotal: 53.8s\tremaining: 1m 31s\n",
      "370:\tlearn: 0.0012954\ttotal: 53.9s\tremaining: 1m 31s\n",
      "371:\tlearn: 0.0012918\ttotal: 54.1s\tremaining: 1m 31s\n",
      "372:\tlearn: 0.0012912\ttotal: 54.2s\tremaining: 1m 31s\n",
      "373:\tlearn: 0.0012893\ttotal: 54.3s\tremaining: 1m 30s\n",
      "374:\tlearn: 0.0012851\ttotal: 54.5s\tremaining: 1m 30s\n",
      "375:\tlearn: 0.0012818\ttotal: 54.6s\tremaining: 1m 30s\n",
      "376:\tlearn: 0.0012791\ttotal: 54.8s\tremaining: 1m 30s\n",
      "377:\tlearn: 0.0012765\ttotal: 54.9s\tremaining: 1m 30s\n",
      "378:\tlearn: 0.0012703\ttotal: 55.1s\tremaining: 1m 30s\n",
      "379:\tlearn: 0.0012687\ttotal: 55.2s\tremaining: 1m 30s\n",
      "380:\tlearn: 0.0012663\ttotal: 55.3s\tremaining: 1m 29s\n",
      "381:\tlearn: 0.0012655\ttotal: 55.5s\tremaining: 1m 29s\n",
      "382:\tlearn: 0.0012573\ttotal: 55.6s\tremaining: 1m 29s\n",
      "383:\tlearn: 0.0012546\ttotal: 55.8s\tremaining: 1m 29s\n",
      "384:\tlearn: 0.0012524\ttotal: 55.9s\tremaining: 1m 29s\n",
      "385:\tlearn: 0.0012509\ttotal: 56.1s\tremaining: 1m 29s\n",
      "386:\tlearn: 0.0012471\ttotal: 56.2s\tremaining: 1m 29s\n",
      "387:\tlearn: 0.0012434\ttotal: 56.4s\tremaining: 1m 28s\n",
      "388:\tlearn: 0.0012402\ttotal: 56.5s\tremaining: 1m 28s\n",
      "389:\tlearn: 0.0012389\ttotal: 56.6s\tremaining: 1m 28s\n",
      "390:\tlearn: 0.0012378\ttotal: 56.8s\tremaining: 1m 28s\n",
      "391:\tlearn: 0.0012358\ttotal: 56.9s\tremaining: 1m 28s\n",
      "392:\tlearn: 0.0012349\ttotal: 57s\tremaining: 1m 28s\n",
      "393:\tlearn: 0.0012301\ttotal: 57.2s\tremaining: 1m 27s\n",
      "394:\tlearn: 0.0012247\ttotal: 57.3s\tremaining: 1m 27s\n",
      "395:\tlearn: 0.0012235\ttotal: 57.4s\tremaining: 1m 27s\n",
      "396:\tlearn: 0.0012165\ttotal: 57.6s\tremaining: 1m 27s\n",
      "397:\tlearn: 0.0012145\ttotal: 57.7s\tremaining: 1m 27s\n",
      "398:\tlearn: 0.0012123\ttotal: 57.9s\tremaining: 1m 27s\n",
      "399:\tlearn: 0.0012090\ttotal: 58s\tremaining: 1m 27s\n",
      "400:\tlearn: 0.0012057\ttotal: 58.2s\tremaining: 1m 26s\n",
      "401:\tlearn: 0.0012016\ttotal: 58.3s\tremaining: 1m 26s\n",
      "402:\tlearn: 0.0011985\ttotal: 58.4s\tremaining: 1m 26s\n",
      "403:\tlearn: 0.0011954\ttotal: 58.6s\tremaining: 1m 26s\n",
      "404:\tlearn: 0.0011937\ttotal: 58.7s\tremaining: 1m 26s\n",
      "405:\tlearn: 0.0011929\ttotal: 58.9s\tremaining: 1m 26s\n",
      "406:\tlearn: 0.0011909\ttotal: 59s\tremaining: 1m 25s\n",
      "407:\tlearn: 0.0011880\ttotal: 59.1s\tremaining: 1m 25s\n",
      "408:\tlearn: 0.0011854\ttotal: 59.3s\tremaining: 1m 25s\n",
      "409:\tlearn: 0.0011833\ttotal: 59.4s\tremaining: 1m 25s\n",
      "410:\tlearn: 0.0011782\ttotal: 59.6s\tremaining: 1m 25s\n",
      "411:\tlearn: 0.0011762\ttotal: 59.7s\tremaining: 1m 25s\n",
      "412:\tlearn: 0.0011732\ttotal: 59.9s\tremaining: 1m 25s\n",
      "413:\tlearn: 0.0011707\ttotal: 1m\tremaining: 1m 24s\n",
      "414:\tlearn: 0.0011689\ttotal: 1m\tremaining: 1m 24s\n",
      "415:\tlearn: 0.0011649\ttotal: 1m\tremaining: 1m 24s\n",
      "416:\tlearn: 0.0011640\ttotal: 1m\tremaining: 1m 24s\n",
      "417:\tlearn: 0.0011635\ttotal: 1m\tremaining: 1m 24s\n",
      "418:\tlearn: 0.0011617\ttotal: 1m\tremaining: 1m 24s\n",
      "419:\tlearn: 0.0011601\ttotal: 1m\tremaining: 1m 24s\n",
      "420:\tlearn: 0.0011559\ttotal: 1m 1s\tremaining: 1m 23s\n",
      "421:\tlearn: 0.0011545\ttotal: 1m 1s\tremaining: 1m 23s\n",
      "422:\tlearn: 0.0011511\ttotal: 1m 1s\tremaining: 1m 23s\n",
      "423:\tlearn: 0.0011496\ttotal: 1m 1s\tremaining: 1m 23s\n",
      "424:\tlearn: 0.0011486\ttotal: 1m 1s\tremaining: 1m 23s\n",
      "425:\tlearn: 0.0011476\ttotal: 1m 1s\tremaining: 1m 23s\n",
      "426:\tlearn: 0.0011467\ttotal: 1m 1s\tremaining: 1m 22s\n",
      "427:\tlearn: 0.0011454\ttotal: 1m 1s\tremaining: 1m 22s\n",
      "428:\tlearn: 0.0011434\ttotal: 1m 2s\tremaining: 1m 22s\n",
      "429:\tlearn: 0.0011424\ttotal: 1m 2s\tremaining: 1m 22s\n",
      "430:\tlearn: 0.0011390\ttotal: 1m 2s\tremaining: 1m 22s\n",
      "431:\tlearn: 0.0011384\ttotal: 1m 2s\tremaining: 1m 22s\n",
      "432:\tlearn: 0.0011327\ttotal: 1m 2s\tremaining: 1m 22s\n",
      "433:\tlearn: 0.0011302\ttotal: 1m 2s\tremaining: 1m 21s\n",
      "434:\tlearn: 0.0011290\ttotal: 1m 2s\tremaining: 1m 21s\n",
      "435:\tlearn: 0.0011274\ttotal: 1m 3s\tremaining: 1m 21s\n",
      "436:\tlearn: 0.0011267\ttotal: 1m 3s\tremaining: 1m 21s\n",
      "437:\tlearn: 0.0011251\ttotal: 1m 3s\tremaining: 1m 21s\n",
      "438:\tlearn: 0.0011245\ttotal: 1m 3s\tremaining: 1m 21s\n",
      "439:\tlearn: 0.0011227\ttotal: 1m 3s\tremaining: 1m 21s\n",
      "440:\tlearn: 0.0011221\ttotal: 1m 3s\tremaining: 1m 20s\n",
      "441:\tlearn: 0.0011207\ttotal: 1m 3s\tremaining: 1m 20s\n",
      "442:\tlearn: 0.0011200\ttotal: 1m 4s\tremaining: 1m 20s\n",
      "443:\tlearn: 0.0011175\ttotal: 1m 4s\tremaining: 1m 20s\n",
      "444:\tlearn: 0.0011163\ttotal: 1m 4s\tremaining: 1m 20s\n",
      "445:\tlearn: 0.0011157\ttotal: 1m 4s\tremaining: 1m 20s\n",
      "446:\tlearn: 0.0011132\ttotal: 1m 4s\tremaining: 1m 20s\n",
      "447:\tlearn: 0.0011090\ttotal: 1m 4s\tremaining: 1m 19s\n",
      "448:\tlearn: 0.0011079\ttotal: 1m 4s\tremaining: 1m 19s\n",
      "449:\tlearn: 0.0011073\ttotal: 1m 5s\tremaining: 1m 19s\n",
      "450:\tlearn: 0.0011053\ttotal: 1m 5s\tremaining: 1m 19s\n",
      "451:\tlearn: 0.0011020\ttotal: 1m 5s\tremaining: 1m 19s\n",
      "452:\tlearn: 0.0010987\ttotal: 1m 5s\tremaining: 1m 19s\n",
      "453:\tlearn: 0.0010957\ttotal: 1m 5s\tremaining: 1m 18s\n",
      "454:\tlearn: 0.0010920\ttotal: 1m 5s\tremaining: 1m 18s\n",
      "455:\tlearn: 0.0010868\ttotal: 1m 5s\tremaining: 1m 18s\n",
      "456:\tlearn: 0.0010854\ttotal: 1m 6s\tremaining: 1m 18s\n",
      "457:\tlearn: 0.0010830\ttotal: 1m 6s\tremaining: 1m 18s\n",
      "458:\tlearn: 0.0010818\ttotal: 1m 6s\tremaining: 1m 18s\n",
      "459:\tlearn: 0.0010808\ttotal: 1m 6s\tremaining: 1m 18s\n",
      "460:\tlearn: 0.0010776\ttotal: 1m 6s\tremaining: 1m 17s\n",
      "461:\tlearn: 0.0010773\ttotal: 1m 6s\tremaining: 1m 17s\n",
      "462:\tlearn: 0.0010769\ttotal: 1m 6s\tremaining: 1m 17s\n",
      "463:\tlearn: 0.0010755\ttotal: 1m 7s\tremaining: 1m 17s\n",
      "464:\tlearn: 0.0010727\ttotal: 1m 7s\tremaining: 1m 17s\n",
      "465:\tlearn: 0.0010702\ttotal: 1m 7s\tremaining: 1m 17s\n",
      "466:\tlearn: 0.0010669\ttotal: 1m 7s\tremaining: 1m 17s\n",
      "467:\tlearn: 0.0010659\ttotal: 1m 7s\tremaining: 1m 16s\n",
      "468:\tlearn: 0.0010637\ttotal: 1m 7s\tremaining: 1m 16s\n",
      "469:\tlearn: 0.0010605\ttotal: 1m 7s\tremaining: 1m 16s\n",
      "470:\tlearn: 0.0010597\ttotal: 1m 8s\tremaining: 1m 16s\n",
      "471:\tlearn: 0.0010592\ttotal: 1m 8s\tremaining: 1m 16s\n"
     ]
    },
    {
     "name": "stdout",
     "output_type": "stream",
     "text": [
      "472:\tlearn: 0.0010565\ttotal: 1m 8s\tremaining: 1m 16s\n",
      "473:\tlearn: 0.0010546\ttotal: 1m 8s\tremaining: 1m 16s\n",
      "474:\tlearn: 0.0010522\ttotal: 1m 8s\tremaining: 1m 15s\n",
      "475:\tlearn: 0.0010502\ttotal: 1m 8s\tremaining: 1m 15s\n",
      "476:\tlearn: 0.0010495\ttotal: 1m 8s\tremaining: 1m 15s\n",
      "477:\tlearn: 0.0010476\ttotal: 1m 9s\tremaining: 1m 15s\n",
      "478:\tlearn: 0.0010472\ttotal: 1m 9s\tremaining: 1m 15s\n",
      "479:\tlearn: 0.0010462\ttotal: 1m 9s\tremaining: 1m 15s\n",
      "480:\tlearn: 0.0010454\ttotal: 1m 9s\tremaining: 1m 14s\n",
      "481:\tlearn: 0.0010412\ttotal: 1m 9s\tremaining: 1m 14s\n",
      "482:\tlearn: 0.0010401\ttotal: 1m 9s\tremaining: 1m 14s\n",
      "483:\tlearn: 0.0010384\ttotal: 1m 9s\tremaining: 1m 14s\n",
      "484:\tlearn: 0.0010378\ttotal: 1m 10s\tremaining: 1m 14s\n",
      "485:\tlearn: 0.0010346\ttotal: 1m 10s\tremaining: 1m 14s\n",
      "486:\tlearn: 0.0010329\ttotal: 1m 10s\tremaining: 1m 14s\n",
      "487:\tlearn: 0.0010322\ttotal: 1m 10s\tremaining: 1m 13s\n",
      "488:\tlearn: 0.0010310\ttotal: 1m 10s\tremaining: 1m 13s\n",
      "489:\tlearn: 0.0010297\ttotal: 1m 10s\tremaining: 1m 13s\n",
      "490:\tlearn: 0.0010292\ttotal: 1m 10s\tremaining: 1m 13s\n",
      "491:\tlearn: 0.0010276\ttotal: 1m 11s\tremaining: 1m 13s\n",
      "492:\tlearn: 0.0010266\ttotal: 1m 11s\tremaining: 1m 13s\n",
      "493:\tlearn: 0.0010251\ttotal: 1m 11s\tremaining: 1m 13s\n",
      "494:\tlearn: 0.0010246\ttotal: 1m 11s\tremaining: 1m 12s\n",
      "495:\tlearn: 0.0010226\ttotal: 1m 11s\tremaining: 1m 12s\n",
      "496:\tlearn: 0.0010200\ttotal: 1m 11s\tremaining: 1m 12s\n",
      "497:\tlearn: 0.0010181\ttotal: 1m 11s\tremaining: 1m 12s\n",
      "498:\tlearn: 0.0010174\ttotal: 1m 12s\tremaining: 1m 12s\n",
      "499:\tlearn: 0.0010166\ttotal: 1m 12s\tremaining: 1m 12s\n",
      "500:\tlearn: 0.0010159\ttotal: 1m 12s\tremaining: 1m 12s\n",
      "501:\tlearn: 0.0010140\ttotal: 1m 12s\tremaining: 1m 11s\n",
      "502:\tlearn: 0.0010101\ttotal: 1m 12s\tremaining: 1m 11s\n",
      "503:\tlearn: 0.0010097\ttotal: 1m 12s\tremaining: 1m 11s\n",
      "504:\tlearn: 0.0010080\ttotal: 1m 12s\tremaining: 1m 11s\n",
      "505:\tlearn: 0.0010070\ttotal: 1m 13s\tremaining: 1m 11s\n",
      "506:\tlearn: 0.0010062\ttotal: 1m 13s\tremaining: 1m 11s\n",
      "507:\tlearn: 0.0010059\ttotal: 1m 13s\tremaining: 1m 10s\n",
      "508:\tlearn: 0.0010056\ttotal: 1m 13s\tremaining: 1m 10s\n",
      "509:\tlearn: 0.0010053\ttotal: 1m 13s\tremaining: 1m 10s\n",
      "510:\tlearn: 0.0010050\ttotal: 1m 13s\tremaining: 1m 10s\n",
      "511:\tlearn: 0.0010027\ttotal: 1m 13s\tremaining: 1m 10s\n",
      "512:\tlearn: 0.0010013\ttotal: 1m 13s\tremaining: 1m 10s\n",
      "513:\tlearn: 0.0009971\ttotal: 1m 14s\tremaining: 1m 10s\n",
      "514:\tlearn: 0.0009960\ttotal: 1m 14s\tremaining: 1m 9s\n",
      "515:\tlearn: 0.0009943\ttotal: 1m 14s\tremaining: 1m 9s\n",
      "516:\tlearn: 0.0009926\ttotal: 1m 14s\tremaining: 1m 9s\n",
      "517:\tlearn: 0.0009920\ttotal: 1m 14s\tremaining: 1m 9s\n",
      "518:\tlearn: 0.0009918\ttotal: 1m 14s\tremaining: 1m 9s\n",
      "519:\tlearn: 0.0009909\ttotal: 1m 14s\tremaining: 1m 9s\n",
      "520:\tlearn: 0.0009903\ttotal: 1m 15s\tremaining: 1m 9s\n",
      "521:\tlearn: 0.0009888\ttotal: 1m 15s\tremaining: 1m 8s\n",
      "522:\tlearn: 0.0009878\ttotal: 1m 15s\tremaining: 1m 8s\n",
      "523:\tlearn: 0.0009877\ttotal: 1m 15s\tremaining: 1m 8s\n",
      "524:\tlearn: 0.0009852\ttotal: 1m 15s\tremaining: 1m 8s\n",
      "525:\tlearn: 0.0009839\ttotal: 1m 15s\tremaining: 1m 8s\n",
      "526:\tlearn: 0.0009824\ttotal: 1m 15s\tremaining: 1m 8s\n",
      "527:\tlearn: 0.0009813\ttotal: 1m 16s\tremaining: 1m 7s\n",
      "528:\tlearn: 0.0009804\ttotal: 1m 16s\tremaining: 1m 7s\n",
      "529:\tlearn: 0.0009802\ttotal: 1m 16s\tremaining: 1m 7s\n",
      "530:\tlearn: 0.0009787\ttotal: 1m 16s\tremaining: 1m 7s\n",
      "531:\tlearn: 0.0009772\ttotal: 1m 16s\tremaining: 1m 7s\n",
      "532:\tlearn: 0.0009755\ttotal: 1m 16s\tremaining: 1m 7s\n",
      "533:\tlearn: 0.0009739\ttotal: 1m 16s\tremaining: 1m 7s\n",
      "534:\tlearn: 0.0009718\ttotal: 1m 17s\tremaining: 1m 6s\n",
      "535:\tlearn: 0.0009716\ttotal: 1m 17s\tremaining: 1m 6s\n",
      "536:\tlearn: 0.0009705\ttotal: 1m 17s\tremaining: 1m 6s\n",
      "537:\tlearn: 0.0009692\ttotal: 1m 17s\tremaining: 1m 6s\n",
      "538:\tlearn: 0.0009670\ttotal: 1m 17s\tremaining: 1m 6s\n",
      "539:\tlearn: 0.0009662\ttotal: 1m 17s\tremaining: 1m 6s\n",
      "540:\tlearn: 0.0009651\ttotal: 1m 17s\tremaining: 1m 6s\n",
      "541:\tlearn: 0.0009636\ttotal: 1m 18s\tremaining: 1m 5s\n",
      "542:\tlearn: 0.0009622\ttotal: 1m 18s\tremaining: 1m 5s\n",
      "543:\tlearn: 0.0009610\ttotal: 1m 18s\tremaining: 1m 5s\n",
      "544:\tlearn: 0.0009602\ttotal: 1m 18s\tremaining: 1m 5s\n",
      "545:\tlearn: 0.0009597\ttotal: 1m 18s\tremaining: 1m 5s\n",
      "546:\tlearn: 0.0009589\ttotal: 1m 18s\tremaining: 1m 5s\n",
      "547:\tlearn: 0.0009582\ttotal: 1m 18s\tremaining: 1m 5s\n",
      "548:\tlearn: 0.0009566\ttotal: 1m 19s\tremaining: 1m 4s\n",
      "549:\tlearn: 0.0009553\ttotal: 1m 19s\tremaining: 1m 4s\n",
      "550:\tlearn: 0.0009550\ttotal: 1m 19s\tremaining: 1m 4s\n",
      "551:\tlearn: 0.0009537\ttotal: 1m 19s\tremaining: 1m 4s\n",
      "552:\tlearn: 0.0009519\ttotal: 1m 19s\tremaining: 1m 4s\n",
      "553:\tlearn: 0.0009510\ttotal: 1m 19s\tremaining: 1m 4s\n",
      "554:\tlearn: 0.0009497\ttotal: 1m 19s\tremaining: 1m 4s\n",
      "555:\tlearn: 0.0009473\ttotal: 1m 20s\tremaining: 1m 3s\n",
      "556:\tlearn: 0.0009461\ttotal: 1m 20s\tremaining: 1m 3s\n",
      "557:\tlearn: 0.0009449\ttotal: 1m 20s\tremaining: 1m 3s\n",
      "558:\tlearn: 0.0009438\ttotal: 1m 20s\tremaining: 1m 3s\n",
      "559:\tlearn: 0.0009434\ttotal: 1m 20s\tremaining: 1m 3s\n",
      "560:\tlearn: 0.0009432\ttotal: 1m 20s\tremaining: 1m 3s\n",
      "561:\tlearn: 0.0009412\ttotal: 1m 20s\tremaining: 1m 3s\n",
      "562:\tlearn: 0.0009402\ttotal: 1m 21s\tremaining: 1m 2s\n",
      "563:\tlearn: 0.0009384\ttotal: 1m 21s\tremaining: 1m 2s\n",
      "564:\tlearn: 0.0009348\ttotal: 1m 21s\tremaining: 1m 2s\n",
      "565:\tlearn: 0.0009340\ttotal: 1m 21s\tremaining: 1m 2s\n",
      "566:\tlearn: 0.0009335\ttotal: 1m 21s\tremaining: 1m 2s\n",
      "567:\tlearn: 0.0009334\ttotal: 1m 21s\tremaining: 1m 2s\n",
      "568:\tlearn: 0.0009321\ttotal: 1m 21s\tremaining: 1m 2s\n",
      "569:\tlearn: 0.0009315\ttotal: 1m 22s\tremaining: 1m 1s\n",
      "570:\tlearn: 0.0009314\ttotal: 1m 22s\tremaining: 1m 1s\n",
      "571:\tlearn: 0.0009309\ttotal: 1m 22s\tremaining: 1m 1s\n",
      "572:\tlearn: 0.0009306\ttotal: 1m 22s\tremaining: 1m 1s\n",
      "573:\tlearn: 0.0009299\ttotal: 1m 22s\tremaining: 1m 1s\n",
      "574:\tlearn: 0.0009297\ttotal: 1m 22s\tremaining: 1m 1s\n",
      "575:\tlearn: 0.0009290\ttotal: 1m 22s\tremaining: 1m\n",
      "576:\tlearn: 0.0009282\ttotal: 1m 22s\tremaining: 1m\n",
      "577:\tlearn: 0.0009278\ttotal: 1m 23s\tremaining: 1m\n",
      "578:\tlearn: 0.0009276\ttotal: 1m 23s\tremaining: 1m\n",
      "579:\tlearn: 0.0009273\ttotal: 1m 23s\tremaining: 1m\n",
      "580:\tlearn: 0.0009270\ttotal: 1m 23s\tremaining: 1m\n",
      "581:\tlearn: 0.0009260\ttotal: 1m 23s\tremaining: 1m\n",
      "582:\tlearn: 0.0009250\ttotal: 1m 23s\tremaining: 60s\n",
      "583:\tlearn: 0.0009241\ttotal: 1m 23s\tremaining: 59.8s\n",
      "584:\tlearn: 0.0009236\ttotal: 1m 24s\tremaining: 59.7s\n",
      "585:\tlearn: 0.0009225\ttotal: 1m 24s\tremaining: 59.5s\n",
      "586:\tlearn: 0.0009223\ttotal: 1m 24s\tremaining: 59.4s\n",
      "587:\tlearn: 0.0009221\ttotal: 1m 24s\tremaining: 59.2s\n",
      "588:\tlearn: 0.0009217\ttotal: 1m 24s\tremaining: 59.1s\n",
      "589:\tlearn: 0.0009212\ttotal: 1m 24s\tremaining: 58.9s\n",
      "590:\tlearn: 0.0009182\ttotal: 1m 24s\tremaining: 58.8s\n",
      "591:\tlearn: 0.0009179\ttotal: 1m 25s\tremaining: 58.6s\n",
      "592:\tlearn: 0.0009176\ttotal: 1m 25s\tremaining: 58.5s\n",
      "593:\tlearn: 0.0009168\ttotal: 1m 25s\tremaining: 58.3s\n",
      "594:\tlearn: 0.0009161\ttotal: 1m 25s\tremaining: 58.2s\n",
      "595:\tlearn: 0.0009156\ttotal: 1m 25s\tremaining: 58s\n",
      "596:\tlearn: 0.0009146\ttotal: 1m 25s\tremaining: 57.9s\n",
      "597:\tlearn: 0.0009142\ttotal: 1m 25s\tremaining: 57.7s\n",
      "598:\tlearn: 0.0009133\ttotal: 1m 26s\tremaining: 57.6s\n",
      "599:\tlearn: 0.0009125\ttotal: 1m 26s\tremaining: 57.5s\n",
      "600:\tlearn: 0.0009123\ttotal: 1m 26s\tremaining: 57.3s\n",
      "601:\tlearn: 0.0009121\ttotal: 1m 26s\tremaining: 57.2s\n",
      "602:\tlearn: 0.0009117\ttotal: 1m 26s\tremaining: 57s\n",
      "603:\tlearn: 0.0009113\ttotal: 1m 26s\tremaining: 56.9s\n",
      "604:\tlearn: 0.0009107\ttotal: 1m 26s\tremaining: 56.7s\n",
      "605:\tlearn: 0.0009102\ttotal: 1m 27s\tremaining: 56.6s\n",
      "606:\tlearn: 0.0009087\ttotal: 1m 27s\tremaining: 56.4s\n",
      "607:\tlearn: 0.0009082\ttotal: 1m 27s\tremaining: 56.3s\n",
      "608:\tlearn: 0.0009073\ttotal: 1m 27s\tremaining: 56.1s\n",
      "609:\tlearn: 0.0009065\ttotal: 1m 27s\tremaining: 56s\n",
      "610:\tlearn: 0.0009059\ttotal: 1m 27s\tremaining: 55.9s\n",
      "611:\tlearn: 0.0009055\ttotal: 1m 27s\tremaining: 55.7s\n",
      "612:\tlearn: 0.0009052\ttotal: 1m 28s\tremaining: 55.6s\n",
      "613:\tlearn: 0.0009047\ttotal: 1m 28s\tremaining: 55.4s\n",
      "614:\tlearn: 0.0009046\ttotal: 1m 28s\tremaining: 55.3s\n",
      "615:\tlearn: 0.0009032\ttotal: 1m 28s\tremaining: 55.1s\n",
      "616:\tlearn: 0.0009026\ttotal: 1m 28s\tremaining: 55s\n",
      "617:\tlearn: 0.0009017\ttotal: 1m 28s\tremaining: 54.8s\n",
      "618:\tlearn: 0.0009011\ttotal: 1m 28s\tremaining: 54.7s\n",
      "619:\tlearn: 0.0009007\ttotal: 1m 29s\tremaining: 54.6s\n",
      "620:\tlearn: 0.0009004\ttotal: 1m 29s\tremaining: 54.4s\n",
      "621:\tlearn: 0.0008994\ttotal: 1m 29s\tremaining: 54.3s\n",
      "622:\tlearn: 0.0008988\ttotal: 1m 29s\tremaining: 54.1s\n",
      "623:\tlearn: 0.0008985\ttotal: 1m 29s\tremaining: 54s\n",
      "624:\tlearn: 0.0008971\ttotal: 1m 29s\tremaining: 53.8s\n",
      "625:\tlearn: 0.0008963\ttotal: 1m 29s\tremaining: 53.7s\n",
      "626:\tlearn: 0.0008956\ttotal: 1m 30s\tremaining: 53.5s\n",
      "627:\tlearn: 0.0008952\ttotal: 1m 30s\tremaining: 53.4s\n"
     ]
    },
    {
     "name": "stdout",
     "output_type": "stream",
     "text": [
      "628:\tlearn: 0.0008942\ttotal: 1m 30s\tremaining: 53.3s\n",
      "629:\tlearn: 0.0008937\ttotal: 1m 30s\tremaining: 53.1s\n",
      "630:\tlearn: 0.0008935\ttotal: 1m 30s\tremaining: 53s\n",
      "631:\tlearn: 0.0008931\ttotal: 1m 30s\tremaining: 52.8s\n",
      "632:\tlearn: 0.0008928\ttotal: 1m 30s\tremaining: 52.7s\n",
      "633:\tlearn: 0.0008926\ttotal: 1m 31s\tremaining: 52.5s\n",
      "634:\tlearn: 0.0008924\ttotal: 1m 31s\tremaining: 52.4s\n",
      "635:\tlearn: 0.0008912\ttotal: 1m 31s\tremaining: 52.3s\n",
      "636:\tlearn: 0.0008908\ttotal: 1m 31s\tremaining: 52.1s\n",
      "637:\tlearn: 0.0008900\ttotal: 1m 31s\tremaining: 52s\n",
      "638:\tlearn: 0.0008893\ttotal: 1m 31s\tremaining: 51.8s\n",
      "639:\tlearn: 0.0008888\ttotal: 1m 31s\tremaining: 51.7s\n",
      "640:\tlearn: 0.0008877\ttotal: 1m 32s\tremaining: 51.5s\n",
      "641:\tlearn: 0.0008870\ttotal: 1m 32s\tremaining: 51.4s\n",
      "642:\tlearn: 0.0008867\ttotal: 1m 32s\tremaining: 51.2s\n",
      "643:\tlearn: 0.0008866\ttotal: 1m 32s\tremaining: 51.1s\n",
      "644:\tlearn: 0.0008861\ttotal: 1m 32s\tremaining: 50.9s\n",
      "645:\tlearn: 0.0008857\ttotal: 1m 32s\tremaining: 50.8s\n",
      "646:\tlearn: 0.0008856\ttotal: 1m 32s\tremaining: 50.7s\n",
      "647:\tlearn: 0.0008849\ttotal: 1m 32s\tremaining: 50.5s\n",
      "648:\tlearn: 0.0008848\ttotal: 1m 33s\tremaining: 50.4s\n",
      "649:\tlearn: 0.0008842\ttotal: 1m 33s\tremaining: 50.2s\n",
      "650:\tlearn: 0.0008836\ttotal: 1m 33s\tremaining: 50.1s\n",
      "651:\tlearn: 0.0008829\ttotal: 1m 33s\tremaining: 49.9s\n",
      "652:\tlearn: 0.0008826\ttotal: 1m 33s\tremaining: 49.8s\n",
      "653:\tlearn: 0.0008819\ttotal: 1m 33s\tremaining: 49.6s\n",
      "654:\tlearn: 0.0008817\ttotal: 1m 33s\tremaining: 49.5s\n",
      "655:\tlearn: 0.0008814\ttotal: 1m 34s\tremaining: 49.4s\n",
      "656:\tlearn: 0.0008808\ttotal: 1m 34s\tremaining: 49.2s\n",
      "657:\tlearn: 0.0008807\ttotal: 1m 34s\tremaining: 49.1s\n",
      "658:\tlearn: 0.0008791\ttotal: 1m 34s\tremaining: 48.9s\n",
      "659:\tlearn: 0.0008788\ttotal: 1m 34s\tremaining: 48.8s\n",
      "660:\tlearn: 0.0008783\ttotal: 1m 34s\tremaining: 48.6s\n",
      "661:\tlearn: 0.0008760\ttotal: 1m 34s\tremaining: 48.5s\n",
      "662:\tlearn: 0.0008758\ttotal: 1m 35s\tremaining: 48.4s\n",
      "663:\tlearn: 0.0008757\ttotal: 1m 35s\tremaining: 48.2s\n",
      "664:\tlearn: 0.0008753\ttotal: 1m 35s\tremaining: 48.1s\n",
      "665:\tlearn: 0.0008746\ttotal: 1m 35s\tremaining: 47.9s\n",
      "666:\tlearn: 0.0008736\ttotal: 1m 35s\tremaining: 47.8s\n",
      "667:\tlearn: 0.0008730\ttotal: 1m 35s\tremaining: 47.6s\n",
      "668:\tlearn: 0.0008724\ttotal: 1m 35s\tremaining: 47.5s\n",
      "669:\tlearn: 0.0008719\ttotal: 1m 36s\tremaining: 47.3s\n",
      "670:\tlearn: 0.0008711\ttotal: 1m 36s\tremaining: 47.2s\n",
      "671:\tlearn: 0.0008706\ttotal: 1m 36s\tremaining: 47s\n",
      "672:\tlearn: 0.0008704\ttotal: 1m 36s\tremaining: 46.9s\n",
      "673:\tlearn: 0.0008698\ttotal: 1m 36s\tremaining: 46.8s\n",
      "674:\tlearn: 0.0008689\ttotal: 1m 36s\tremaining: 46.6s\n",
      "675:\tlearn: 0.0008679\ttotal: 1m 36s\tremaining: 46.5s\n",
      "676:\tlearn: 0.0008675\ttotal: 1m 37s\tremaining: 46.3s\n",
      "677:\tlearn: 0.0008673\ttotal: 1m 37s\tremaining: 46.2s\n",
      "678:\tlearn: 0.0008670\ttotal: 1m 37s\tremaining: 46s\n",
      "679:\tlearn: 0.0008664\ttotal: 1m 37s\tremaining: 45.9s\n",
      "680:\tlearn: 0.0008661\ttotal: 1m 37s\tremaining: 45.7s\n",
      "681:\tlearn: 0.0008660\ttotal: 1m 37s\tremaining: 45.6s\n",
      "682:\tlearn: 0.0008649\ttotal: 1m 37s\tremaining: 45.5s\n",
      "683:\tlearn: 0.0008643\ttotal: 1m 38s\tremaining: 45.3s\n",
      "684:\tlearn: 0.0008637\ttotal: 1m 38s\tremaining: 45.2s\n",
      "685:\tlearn: 0.0008632\ttotal: 1m 38s\tremaining: 45s\n",
      "686:\tlearn: 0.0008628\ttotal: 1m 38s\tremaining: 44.9s\n",
      "687:\tlearn: 0.0008627\ttotal: 1m 38s\tremaining: 44.8s\n",
      "688:\tlearn: 0.0008626\ttotal: 1m 38s\tremaining: 44.6s\n",
      "689:\tlearn: 0.0008624\ttotal: 1m 38s\tremaining: 44.5s\n",
      "690:\tlearn: 0.0008621\ttotal: 1m 39s\tremaining: 44.3s\n",
      "691:\tlearn: 0.0008618\ttotal: 1m 39s\tremaining: 44.2s\n",
      "692:\tlearn: 0.0008618\ttotal: 1m 39s\tremaining: 44s\n",
      "693:\tlearn: 0.0008616\ttotal: 1m 39s\tremaining: 43.9s\n",
      "694:\tlearn: 0.0008610\ttotal: 1m 39s\tremaining: 43.7s\n",
      "695:\tlearn: 0.0008601\ttotal: 1m 39s\tremaining: 43.6s\n",
      "696:\tlearn: 0.0008600\ttotal: 1m 39s\tremaining: 43.5s\n",
      "697:\tlearn: 0.0008595\ttotal: 1m 40s\tremaining: 43.3s\n",
      "698:\tlearn: 0.0008591\ttotal: 1m 40s\tremaining: 43.2s\n",
      "699:\tlearn: 0.0008590\ttotal: 1m 40s\tremaining: 43s\n",
      "700:\tlearn: 0.0008580\ttotal: 1m 40s\tremaining: 42.9s\n",
      "701:\tlearn: 0.0008578\ttotal: 1m 40s\tremaining: 42.7s\n",
      "702:\tlearn: 0.0008576\ttotal: 1m 40s\tremaining: 42.6s\n",
      "703:\tlearn: 0.0008574\ttotal: 1m 40s\tremaining: 42.4s\n",
      "704:\tlearn: 0.0008568\ttotal: 1m 41s\tremaining: 42.3s\n",
      "705:\tlearn: 0.0008565\ttotal: 1m 41s\tremaining: 42.1s\n",
      "706:\tlearn: 0.0008562\ttotal: 1m 41s\tremaining: 42s\n",
      "707:\tlearn: 0.0008558\ttotal: 1m 41s\tremaining: 41.9s\n",
      "708:\tlearn: 0.0008556\ttotal: 1m 41s\tremaining: 41.7s\n",
      "709:\tlearn: 0.0008554\ttotal: 1m 41s\tremaining: 41.6s\n",
      "710:\tlearn: 0.0008549\ttotal: 1m 41s\tremaining: 41.4s\n",
      "711:\tlearn: 0.0008544\ttotal: 1m 42s\tremaining: 41.3s\n",
      "712:\tlearn: 0.0008540\ttotal: 1m 42s\tremaining: 41.2s\n",
      "713:\tlearn: 0.0008538\ttotal: 1m 42s\tremaining: 41s\n",
      "714:\tlearn: 0.0008535\ttotal: 1m 42s\tremaining: 40.9s\n",
      "715:\tlearn: 0.0008533\ttotal: 1m 42s\tremaining: 40.7s\n",
      "716:\tlearn: 0.0008529\ttotal: 1m 42s\tremaining: 40.6s\n",
      "717:\tlearn: 0.0008522\ttotal: 1m 42s\tremaining: 40.4s\n",
      "718:\tlearn: 0.0008517\ttotal: 1m 43s\tremaining: 40.3s\n",
      "719:\tlearn: 0.0008511\ttotal: 1m 43s\tremaining: 40.1s\n",
      "720:\tlearn: 0.0008509\ttotal: 1m 43s\tremaining: 40s\n",
      "721:\tlearn: 0.0008506\ttotal: 1m 43s\tremaining: 39.9s\n",
      "722:\tlearn: 0.0008502\ttotal: 1m 43s\tremaining: 39.7s\n",
      "723:\tlearn: 0.0008499\ttotal: 1m 43s\tremaining: 39.6s\n",
      "724:\tlearn: 0.0008497\ttotal: 1m 43s\tremaining: 39.4s\n",
      "725:\tlearn: 0.0008495\ttotal: 1m 44s\tremaining: 39.3s\n",
      "726:\tlearn: 0.0008489\ttotal: 1m 44s\tremaining: 39.1s\n",
      "727:\tlearn: 0.0008485\ttotal: 1m 44s\tremaining: 39s\n",
      "728:\tlearn: 0.0008484\ttotal: 1m 44s\tremaining: 38.8s\n",
      "729:\tlearn: 0.0008481\ttotal: 1m 44s\tremaining: 38.7s\n",
      "730:\tlearn: 0.0008477\ttotal: 1m 44s\tremaining: 38.5s\n",
      "731:\tlearn: 0.0008475\ttotal: 1m 44s\tremaining: 38.4s\n",
      "732:\tlearn: 0.0008472\ttotal: 1m 45s\tremaining: 38.3s\n",
      "733:\tlearn: 0.0008468\ttotal: 1m 45s\tremaining: 38.1s\n",
      "734:\tlearn: 0.0008464\ttotal: 1m 45s\tremaining: 38s\n",
      "735:\tlearn: 0.0008459\ttotal: 1m 45s\tremaining: 37.8s\n",
      "736:\tlearn: 0.0008456\ttotal: 1m 45s\tremaining: 37.7s\n",
      "737:\tlearn: 0.0008450\ttotal: 1m 45s\tremaining: 37.5s\n",
      "738:\tlearn: 0.0008447\ttotal: 1m 45s\tremaining: 37.4s\n",
      "739:\tlearn: 0.0008444\ttotal: 1m 46s\tremaining: 37.3s\n",
      "740:\tlearn: 0.0008438\ttotal: 1m 46s\tremaining: 37.1s\n",
      "741:\tlearn: 0.0008434\ttotal: 1m 46s\tremaining: 37s\n",
      "742:\tlearn: 0.0008432\ttotal: 1m 46s\tremaining: 36.8s\n",
      "743:\tlearn: 0.0008426\ttotal: 1m 46s\tremaining: 36.7s\n",
      "744:\tlearn: 0.0008424\ttotal: 1m 46s\tremaining: 36.5s\n",
      "745:\tlearn: 0.0008419\ttotal: 1m 46s\tremaining: 36.4s\n",
      "746:\tlearn: 0.0008414\ttotal: 1m 47s\tremaining: 36.3s\n",
      "747:\tlearn: 0.0008409\ttotal: 1m 47s\tremaining: 36.1s\n",
      "748:\tlearn: 0.0008405\ttotal: 1m 47s\tremaining: 36s\n",
      "749:\tlearn: 0.0008403\ttotal: 1m 47s\tremaining: 35.8s\n",
      "750:\tlearn: 0.0008401\ttotal: 1m 47s\tremaining: 35.7s\n",
      "751:\tlearn: 0.0008398\ttotal: 1m 47s\tremaining: 35.6s\n",
      "752:\tlearn: 0.0008397\ttotal: 1m 47s\tremaining: 35.4s\n",
      "753:\tlearn: 0.0008396\ttotal: 1m 48s\tremaining: 35.3s\n",
      "754:\tlearn: 0.0008390\ttotal: 1m 48s\tremaining: 35.1s\n",
      "755:\tlearn: 0.0008381\ttotal: 1m 48s\tremaining: 35s\n",
      "756:\tlearn: 0.0008378\ttotal: 1m 48s\tremaining: 34.8s\n",
      "757:\tlearn: 0.0008372\ttotal: 1m 48s\tremaining: 34.7s\n",
      "758:\tlearn: 0.0008370\ttotal: 1m 48s\tremaining: 34.6s\n",
      "759:\tlearn: 0.0008367\ttotal: 1m 48s\tremaining: 34.4s\n",
      "760:\tlearn: 0.0008365\ttotal: 1m 49s\tremaining: 34.3s\n",
      "761:\tlearn: 0.0008363\ttotal: 1m 49s\tremaining: 34.1s\n",
      "762:\tlearn: 0.0008361\ttotal: 1m 49s\tremaining: 34s\n",
      "763:\tlearn: 0.0008357\ttotal: 1m 49s\tremaining: 33.8s\n",
      "764:\tlearn: 0.0008355\ttotal: 1m 49s\tremaining: 33.7s\n",
      "765:\tlearn: 0.0008353\ttotal: 1m 49s\tremaining: 33.5s\n",
      "766:\tlearn: 0.0008352\ttotal: 1m 49s\tremaining: 33.4s\n",
      "767:\tlearn: 0.0008348\ttotal: 1m 50s\tremaining: 33.3s\n",
      "768:\tlearn: 0.0008348\ttotal: 1m 50s\tremaining: 33.1s\n",
      "769:\tlearn: 0.0008344\ttotal: 1m 50s\tremaining: 33s\n",
      "770:\tlearn: 0.0008343\ttotal: 1m 50s\tremaining: 32.8s\n",
      "771:\tlearn: 0.0008338\ttotal: 1m 50s\tremaining: 32.7s\n",
      "772:\tlearn: 0.0008336\ttotal: 1m 50s\tremaining: 32.5s\n",
      "773:\tlearn: 0.0008333\ttotal: 1m 50s\tremaining: 32.4s\n",
      "774:\tlearn: 0.0008332\ttotal: 1m 51s\tremaining: 32.2s\n",
      "775:\tlearn: 0.0008330\ttotal: 1m 51s\tremaining: 32.1s\n",
      "776:\tlearn: 0.0008328\ttotal: 1m 51s\tremaining: 32s\n",
      "777:\tlearn: 0.0008327\ttotal: 1m 51s\tremaining: 31.8s\n",
      "778:\tlearn: 0.0008325\ttotal: 1m 51s\tremaining: 31.7s\n",
      "779:\tlearn: 0.0008323\ttotal: 1m 51s\tremaining: 31.5s\n",
      "780:\tlearn: 0.0008320\ttotal: 1m 51s\tremaining: 31.4s\n",
      "781:\tlearn: 0.0008319\ttotal: 1m 52s\tremaining: 31.2s\n",
      "782:\tlearn: 0.0008318\ttotal: 1m 52s\tremaining: 31.1s\n",
      "783:\tlearn: 0.0008316\ttotal: 1m 52s\tremaining: 31s\n",
      "784:\tlearn: 0.0008314\ttotal: 1m 52s\tremaining: 30.8s\n"
     ]
    },
    {
     "name": "stdout",
     "output_type": "stream",
     "text": [
      "785:\tlearn: 0.0008311\ttotal: 1m 52s\tremaining: 30.7s\n",
      "786:\tlearn: 0.0008309\ttotal: 1m 52s\tremaining: 30.5s\n",
      "787:\tlearn: 0.0008308\ttotal: 1m 52s\tremaining: 30.4s\n",
      "788:\tlearn: 0.0008305\ttotal: 1m 53s\tremaining: 30.2s\n",
      "789:\tlearn: 0.0008303\ttotal: 1m 53s\tremaining: 30.1s\n",
      "790:\tlearn: 0.0008301\ttotal: 1m 53s\tremaining: 29.9s\n",
      "791:\tlearn: 0.0008298\ttotal: 1m 53s\tremaining: 29.8s\n",
      "792:\tlearn: 0.0008296\ttotal: 1m 53s\tremaining: 29.7s\n",
      "793:\tlearn: 0.0008291\ttotal: 1m 53s\tremaining: 29.5s\n",
      "794:\tlearn: 0.0008290\ttotal: 1m 53s\tremaining: 29.4s\n",
      "795:\tlearn: 0.0008288\ttotal: 1m 54s\tremaining: 29.2s\n",
      "796:\tlearn: 0.0008283\ttotal: 1m 54s\tremaining: 29.1s\n",
      "797:\tlearn: 0.0008278\ttotal: 1m 54s\tremaining: 28.9s\n",
      "798:\tlearn: 0.0008274\ttotal: 1m 54s\tremaining: 28.8s\n",
      "799:\tlearn: 0.0008274\ttotal: 1m 54s\tremaining: 28.7s\n",
      "800:\tlearn: 0.0008272\ttotal: 1m 54s\tremaining: 28.5s\n",
      "801:\tlearn: 0.0008268\ttotal: 1m 54s\tremaining: 28.4s\n",
      "802:\tlearn: 0.0008268\ttotal: 1m 55s\tremaining: 28.2s\n",
      "803:\tlearn: 0.0008264\ttotal: 1m 55s\tremaining: 28.1s\n",
      "804:\tlearn: 0.0008262\ttotal: 1m 55s\tremaining: 27.9s\n",
      "805:\tlearn: 0.0008262\ttotal: 1m 55s\tremaining: 27.8s\n",
      "806:\tlearn: 0.0008261\ttotal: 1m 55s\tremaining: 27.7s\n",
      "807:\tlearn: 0.0008259\ttotal: 1m 55s\tremaining: 27.5s\n",
      "808:\tlearn: 0.0008257\ttotal: 1m 55s\tremaining: 27.4s\n",
      "809:\tlearn: 0.0008256\ttotal: 1m 56s\tremaining: 27.2s\n",
      "810:\tlearn: 0.0008250\ttotal: 1m 56s\tremaining: 27.1s\n",
      "811:\tlearn: 0.0008250\ttotal: 1m 56s\tremaining: 26.9s\n",
      "812:\tlearn: 0.0008249\ttotal: 1m 56s\tremaining: 26.8s\n",
      "813:\tlearn: 0.0008247\ttotal: 1m 56s\tremaining: 26.6s\n",
      "814:\tlearn: 0.0008245\ttotal: 1m 56s\tremaining: 26.5s\n",
      "815:\tlearn: 0.0008244\ttotal: 1m 56s\tremaining: 26.4s\n",
      "816:\tlearn: 0.0008242\ttotal: 1m 57s\tremaining: 26.2s\n",
      "817:\tlearn: 0.0008238\ttotal: 1m 57s\tremaining: 26.1s\n",
      "818:\tlearn: 0.0008234\ttotal: 1m 57s\tremaining: 25.9s\n",
      "819:\tlearn: 0.0008230\ttotal: 1m 57s\tremaining: 25.8s\n",
      "820:\tlearn: 0.0008226\ttotal: 1m 57s\tremaining: 25.6s\n",
      "821:\tlearn: 0.0008223\ttotal: 1m 57s\tremaining: 25.5s\n",
      "822:\tlearn: 0.0008220\ttotal: 1m 57s\tremaining: 25.4s\n",
      "823:\tlearn: 0.0008217\ttotal: 1m 58s\tremaining: 25.2s\n",
      "824:\tlearn: 0.0008214\ttotal: 1m 58s\tremaining: 25.1s\n",
      "825:\tlearn: 0.0008206\ttotal: 1m 58s\tremaining: 24.9s\n",
      "826:\tlearn: 0.0008204\ttotal: 1m 58s\tremaining: 24.8s\n",
      "827:\tlearn: 0.0008203\ttotal: 1m 58s\tremaining: 24.6s\n",
      "828:\tlearn: 0.0008202\ttotal: 1m 58s\tremaining: 24.5s\n",
      "829:\tlearn: 0.0008201\ttotal: 1m 58s\tremaining: 24.4s\n",
      "830:\tlearn: 0.0008200\ttotal: 1m 59s\tremaining: 24.2s\n",
      "831:\tlearn: 0.0008199\ttotal: 1m 59s\tremaining: 24.1s\n",
      "832:\tlearn: 0.0008198\ttotal: 1m 59s\tremaining: 23.9s\n",
      "833:\tlearn: 0.0008195\ttotal: 1m 59s\tremaining: 23.8s\n",
      "834:\tlearn: 0.0008191\ttotal: 1m 59s\tremaining: 23.6s\n",
      "835:\tlearn: 0.0008189\ttotal: 1m 59s\tremaining: 23.5s\n",
      "836:\tlearn: 0.0008187\ttotal: 1m 59s\tremaining: 23.3s\n",
      "837:\tlearn: 0.0008186\ttotal: 1m 59s\tremaining: 23.2s\n",
      "838:\tlearn: 0.0008183\ttotal: 2m\tremaining: 23.1s\n",
      "839:\tlearn: 0.0008179\ttotal: 2m\tremaining: 22.9s\n",
      "840:\tlearn: 0.0008179\ttotal: 2m\tremaining: 22.8s\n",
      "841:\tlearn: 0.0008177\ttotal: 2m\tremaining: 22.6s\n",
      "842:\tlearn: 0.0008176\ttotal: 2m\tremaining: 22.5s\n",
      "843:\tlearn: 0.0008174\ttotal: 2m\tremaining: 22.3s\n",
      "844:\tlearn: 0.0008172\ttotal: 2m 1s\tremaining: 22.2s\n",
      "845:\tlearn: 0.0008172\ttotal: 2m 1s\tremaining: 22s\n",
      "846:\tlearn: 0.0008169\ttotal: 2m 1s\tremaining: 21.9s\n",
      "847:\tlearn: 0.0008165\ttotal: 2m 1s\tremaining: 21.8s\n",
      "848:\tlearn: 0.0008163\ttotal: 2m 1s\tremaining: 21.6s\n",
      "849:\tlearn: 0.0008160\ttotal: 2m 1s\tremaining: 21.5s\n",
      "850:\tlearn: 0.0008158\ttotal: 2m 1s\tremaining: 21.3s\n",
      "851:\tlearn: 0.0008157\ttotal: 2m 1s\tremaining: 21.2s\n",
      "852:\tlearn: 0.0008155\ttotal: 2m 2s\tremaining: 21.1s\n",
      "853:\tlearn: 0.0008154\ttotal: 2m 2s\tremaining: 20.9s\n",
      "854:\tlearn: 0.0008153\ttotal: 2m 2s\tremaining: 20.8s\n",
      "855:\tlearn: 0.0008153\ttotal: 2m 2s\tremaining: 20.6s\n",
      "856:\tlearn: 0.0008152\ttotal: 2m 2s\tremaining: 20.5s\n",
      "857:\tlearn: 0.0008151\ttotal: 2m 2s\tremaining: 20.3s\n",
      "858:\tlearn: 0.0008149\ttotal: 2m 3s\tremaining: 20.2s\n",
      "859:\tlearn: 0.0008146\ttotal: 2m 3s\tremaining: 20s\n",
      "860:\tlearn: 0.0008142\ttotal: 2m 3s\tremaining: 19.9s\n",
      "861:\tlearn: 0.0008141\ttotal: 2m 3s\tremaining: 19.8s\n",
      "862:\tlearn: 0.0008140\ttotal: 2m 3s\tremaining: 19.6s\n",
      "863:\tlearn: 0.0008138\ttotal: 2m 3s\tremaining: 19.5s\n",
      "864:\tlearn: 0.0008138\ttotal: 2m 3s\tremaining: 19.3s\n",
      "865:\tlearn: 0.0008134\ttotal: 2m 3s\tremaining: 19.2s\n",
      "866:\tlearn: 0.0008132\ttotal: 2m 4s\tremaining: 19s\n",
      "867:\tlearn: 0.0008131\ttotal: 2m 4s\tremaining: 18.9s\n",
      "868:\tlearn: 0.0008128\ttotal: 2m 4s\tremaining: 18.8s\n",
      "869:\tlearn: 0.0008126\ttotal: 2m 4s\tremaining: 18.6s\n",
      "870:\tlearn: 0.0008124\ttotal: 2m 4s\tremaining: 18.5s\n",
      "871:\tlearn: 0.0008122\ttotal: 2m 4s\tremaining: 18.3s\n",
      "872:\tlearn: 0.0008122\ttotal: 2m 4s\tremaining: 18.2s\n",
      "873:\tlearn: 0.0008120\ttotal: 2m 5s\tremaining: 18s\n",
      "874:\tlearn: 0.0008119\ttotal: 2m 5s\tremaining: 17.9s\n",
      "875:\tlearn: 0.0008118\ttotal: 2m 5s\tremaining: 17.8s\n",
      "876:\tlearn: 0.0008116\ttotal: 2m 5s\tremaining: 17.6s\n",
      "877:\tlearn: 0.0008115\ttotal: 2m 5s\tremaining: 17.5s\n",
      "878:\tlearn: 0.0008115\ttotal: 2m 5s\tremaining: 17.3s\n",
      "879:\tlearn: 0.0008113\ttotal: 2m 6s\tremaining: 17.2s\n",
      "880:\tlearn: 0.0008107\ttotal: 2m 6s\tremaining: 17.1s\n",
      "881:\tlearn: 0.0008105\ttotal: 2m 6s\tremaining: 16.9s\n",
      "882:\tlearn: 0.0008101\ttotal: 2m 6s\tremaining: 16.8s\n",
      "883:\tlearn: 0.0008100\ttotal: 2m 6s\tremaining: 16.6s\n",
      "884:\tlearn: 0.0008100\ttotal: 2m 6s\tremaining: 16.5s\n",
      "885:\tlearn: 0.0008100\ttotal: 2m 6s\tremaining: 16.3s\n",
      "886:\tlearn: 0.0008094\ttotal: 2m 7s\tremaining: 16.2s\n",
      "887:\tlearn: 0.0008091\ttotal: 2m 7s\tremaining: 16s\n",
      "888:\tlearn: 0.0008090\ttotal: 2m 7s\tremaining: 15.9s\n",
      "889:\tlearn: 0.0008089\ttotal: 2m 7s\tremaining: 15.8s\n",
      "890:\tlearn: 0.0008088\ttotal: 2m 7s\tremaining: 15.6s\n",
      "891:\tlearn: 0.0008088\ttotal: 2m 7s\tremaining: 15.5s\n",
      "892:\tlearn: 0.0008084\ttotal: 2m 7s\tremaining: 15.3s\n",
      "893:\tlearn: 0.0008082\ttotal: 2m 8s\tremaining: 15.2s\n",
      "894:\tlearn: 0.0008081\ttotal: 2m 8s\tremaining: 15s\n",
      "895:\tlearn: 0.0008080\ttotal: 2m 8s\tremaining: 14.9s\n",
      "896:\tlearn: 0.0008079\ttotal: 2m 8s\tremaining: 14.8s\n",
      "897:\tlearn: 0.0008077\ttotal: 2m 8s\tremaining: 14.6s\n",
      "898:\tlearn: 0.0008075\ttotal: 2m 8s\tremaining: 14.5s\n",
      "899:\tlearn: 0.0008073\ttotal: 2m 8s\tremaining: 14.3s\n",
      "900:\tlearn: 0.0008073\ttotal: 2m 9s\tremaining: 14.2s\n",
      "901:\tlearn: 0.0008071\ttotal: 2m 9s\tremaining: 14s\n",
      "902:\tlearn: 0.0008070\ttotal: 2m 9s\tremaining: 13.9s\n",
      "903:\tlearn: 0.0008067\ttotal: 2m 9s\tremaining: 13.7s\n",
      "904:\tlearn: 0.0008066\ttotal: 2m 9s\tremaining: 13.6s\n",
      "905:\tlearn: 0.0008065\ttotal: 2m 9s\tremaining: 13.5s\n",
      "906:\tlearn: 0.0008064\ttotal: 2m 9s\tremaining: 13.3s\n",
      "907:\tlearn: 0.0008063\ttotal: 2m 10s\tremaining: 13.2s\n",
      "908:\tlearn: 0.0008061\ttotal: 2m 10s\tremaining: 13s\n",
      "909:\tlearn: 0.0008060\ttotal: 2m 10s\tremaining: 12.9s\n",
      "910:\tlearn: 0.0008057\ttotal: 2m 10s\tremaining: 12.7s\n",
      "911:\tlearn: 0.0008054\ttotal: 2m 10s\tremaining: 12.6s\n",
      "912:\tlearn: 0.0008053\ttotal: 2m 10s\tremaining: 12.5s\n",
      "913:\tlearn: 0.0008052\ttotal: 2m 10s\tremaining: 12.3s\n",
      "914:\tlearn: 0.0008049\ttotal: 2m 11s\tremaining: 12.2s\n",
      "915:\tlearn: 0.0008046\ttotal: 2m 11s\tremaining: 12s\n",
      "916:\tlearn: 0.0008046\ttotal: 2m 11s\tremaining: 11.9s\n",
      "917:\tlearn: 0.0008045\ttotal: 2m 11s\tremaining: 11.7s\n",
      "918:\tlearn: 0.0008044\ttotal: 2m 11s\tremaining: 11.6s\n",
      "919:\tlearn: 0.0008041\ttotal: 2m 11s\tremaining: 11.5s\n",
      "920:\tlearn: 0.0008040\ttotal: 2m 11s\tremaining: 11.3s\n",
      "921:\tlearn: 0.0008038\ttotal: 2m 11s\tremaining: 11.2s\n",
      "922:\tlearn: 0.0008037\ttotal: 2m 12s\tremaining: 11s\n",
      "923:\tlearn: 0.0008034\ttotal: 2m 12s\tremaining: 10.9s\n",
      "924:\tlearn: 0.0008031\ttotal: 2m 12s\tremaining: 10.7s\n",
      "925:\tlearn: 0.0008028\ttotal: 2m 12s\tremaining: 10.6s\n",
      "926:\tlearn: 0.0008028\ttotal: 2m 12s\tremaining: 10.4s\n",
      "927:\tlearn: 0.0008026\ttotal: 2m 12s\tremaining: 10.3s\n",
      "928:\tlearn: 0.0008023\ttotal: 2m 12s\tremaining: 10.2s\n",
      "929:\tlearn: 0.0008017\ttotal: 2m 13s\tremaining: 10s\n",
      "930:\tlearn: 0.0008014\ttotal: 2m 13s\tremaining: 9.88s\n",
      "931:\tlearn: 0.0008010\ttotal: 2m 13s\tremaining: 9.73s\n",
      "932:\tlearn: 0.0008009\ttotal: 2m 13s\tremaining: 9.59s\n",
      "933:\tlearn: 0.0008007\ttotal: 2m 13s\tremaining: 9.45s\n",
      "934:\tlearn: 0.0008004\ttotal: 2m 13s\tremaining: 9.3s\n",
      "935:\tlearn: 0.0008001\ttotal: 2m 13s\tremaining: 9.16s\n",
      "936:\tlearn: 0.0007999\ttotal: 2m 14s\tremaining: 9.02s\n",
      "937:\tlearn: 0.0007998\ttotal: 2m 14s\tremaining: 8.87s\n",
      "938:\tlearn: 0.0007994\ttotal: 2m 14s\tremaining: 8.73s\n",
      "939:\tlearn: 0.0007990\ttotal: 2m 14s\tremaining: 8.59s\n",
      "940:\tlearn: 0.0007989\ttotal: 2m 14s\tremaining: 8.45s\n",
      "941:\tlearn: 0.0007987\ttotal: 2m 14s\tremaining: 8.3s\n"
     ]
    },
    {
     "name": "stdout",
     "output_type": "stream",
     "text": [
      "942:\tlearn: 0.0007987\ttotal: 2m 15s\tremaining: 8.16s\n",
      "943:\tlearn: 0.0007985\ttotal: 2m 15s\tremaining: 8.02s\n",
      "944:\tlearn: 0.0007982\ttotal: 2m 15s\tremaining: 7.87s\n",
      "945:\tlearn: 0.0007981\ttotal: 2m 15s\tremaining: 7.73s\n",
      "946:\tlearn: 0.0007980\ttotal: 2m 15s\tremaining: 7.59s\n",
      "947:\tlearn: 0.0007978\ttotal: 2m 15s\tremaining: 7.45s\n",
      "948:\tlearn: 0.0007977\ttotal: 2m 15s\tremaining: 7.3s\n",
      "949:\tlearn: 0.0007975\ttotal: 2m 16s\tremaining: 7.16s\n",
      "950:\tlearn: 0.0007974\ttotal: 2m 16s\tremaining: 7.02s\n",
      "951:\tlearn: 0.0007971\ttotal: 2m 16s\tremaining: 6.87s\n",
      "952:\tlearn: 0.0007967\ttotal: 2m 16s\tremaining: 6.73s\n",
      "953:\tlearn: 0.0007966\ttotal: 2m 16s\tremaining: 6.59s\n",
      "954:\tlearn: 0.0007965\ttotal: 2m 16s\tremaining: 6.45s\n",
      "955:\tlearn: 0.0007964\ttotal: 2m 16s\tremaining: 6.3s\n",
      "956:\tlearn: 0.0007963\ttotal: 2m 17s\tremaining: 6.16s\n",
      "957:\tlearn: 0.0007960\ttotal: 2m 17s\tremaining: 6.02s\n",
      "958:\tlearn: 0.0007960\ttotal: 2m 17s\tremaining: 5.87s\n",
      "959:\tlearn: 0.0007958\ttotal: 2m 17s\tremaining: 5.73s\n",
      "960:\tlearn: 0.0007958\ttotal: 2m 17s\tremaining: 5.59s\n",
      "961:\tlearn: 0.0007957\ttotal: 2m 17s\tremaining: 5.44s\n",
      "962:\tlearn: 0.0007956\ttotal: 2m 17s\tremaining: 5.3s\n",
      "963:\tlearn: 0.0007953\ttotal: 2m 18s\tremaining: 5.16s\n",
      "964:\tlearn: 0.0007951\ttotal: 2m 18s\tremaining: 5.01s\n",
      "965:\tlearn: 0.0007949\ttotal: 2m 18s\tremaining: 4.87s\n",
      "966:\tlearn: 0.0007948\ttotal: 2m 18s\tremaining: 4.73s\n",
      "967:\tlearn: 0.0007948\ttotal: 2m 18s\tremaining: 4.58s\n",
      "968:\tlearn: 0.0007948\ttotal: 2m 18s\tremaining: 4.44s\n",
      "969:\tlearn: 0.0007946\ttotal: 2m 18s\tremaining: 4.3s\n",
      "970:\tlearn: 0.0007943\ttotal: 2m 19s\tremaining: 4.15s\n",
      "971:\tlearn: 0.0007940\ttotal: 2m 19s\tremaining: 4.01s\n",
      "972:\tlearn: 0.0007939\ttotal: 2m 19s\tremaining: 3.87s\n",
      "973:\tlearn: 0.0007938\ttotal: 2m 19s\tremaining: 3.73s\n",
      "974:\tlearn: 0.0007937\ttotal: 2m 19s\tremaining: 3.58s\n",
      "975:\tlearn: 0.0007936\ttotal: 2m 19s\tremaining: 3.44s\n",
      "976:\tlearn: 0.0007934\ttotal: 2m 19s\tremaining: 3.29s\n",
      "977:\tlearn: 0.0007932\ttotal: 2m 20s\tremaining: 3.15s\n",
      "978:\tlearn: 0.0007931\ttotal: 2m 20s\tremaining: 3.01s\n",
      "979:\tlearn: 0.0007929\ttotal: 2m 20s\tremaining: 2.87s\n",
      "980:\tlearn: 0.0007929\ttotal: 2m 20s\tremaining: 2.72s\n",
      "981:\tlearn: 0.0007928\ttotal: 2m 20s\tremaining: 2.58s\n",
      "982:\tlearn: 0.0007927\ttotal: 2m 20s\tremaining: 2.44s\n",
      "983:\tlearn: 0.0007926\ttotal: 2m 20s\tremaining: 2.29s\n",
      "984:\tlearn: 0.0007925\ttotal: 2m 21s\tremaining: 2.15s\n",
      "985:\tlearn: 0.0007923\ttotal: 2m 21s\tremaining: 2s\n",
      "986:\tlearn: 0.0007921\ttotal: 2m 21s\tremaining: 1.86s\n",
      "987:\tlearn: 0.0007918\ttotal: 2m 21s\tremaining: 1.72s\n",
      "988:\tlearn: 0.0007917\ttotal: 2m 21s\tremaining: 1.57s\n",
      "989:\tlearn: 0.0007914\ttotal: 2m 21s\tremaining: 1.43s\n",
      "990:\tlearn: 0.0007913\ttotal: 2m 21s\tremaining: 1.29s\n",
      "991:\tlearn: 0.0007912\ttotal: 2m 22s\tremaining: 1.15s\n",
      "992:\tlearn: 0.0007910\ttotal: 2m 22s\tremaining: 1s\n",
      "993:\tlearn: 0.0007909\ttotal: 2m 22s\tremaining: 860ms\n",
      "994:\tlearn: 0.0007908\ttotal: 2m 22s\tremaining: 717ms\n",
      "995:\tlearn: 0.0007907\ttotal: 2m 22s\tremaining: 573ms\n",
      "996:\tlearn: 0.0007906\ttotal: 2m 22s\tremaining: 430ms\n",
      "997:\tlearn: 0.0007905\ttotal: 2m 23s\tremaining: 287ms\n",
      "998:\tlearn: 0.0007905\ttotal: 2m 23s\tremaining: 143ms\n",
      "999:\tlearn: 0.0007904\ttotal: 2m 23s\tremaining: 0us\n"
     ]
    },
    {
     "data": {
      "text/plain": [
       "<catboost.core.CatBoostClassifier at 0x25688572e50>"
      ]
     },
     "execution_count": 51,
     "metadata": {},
     "output_type": "execute_result"
    }
   ],
   "source": [
    "cls_cb = CatBoostClassifier(loss_function='Logloss',                        \n",
    "                            class_weights=[1, minority_class_weight],\n",
    "                            task_type='GPU',\n",
    "                            verbose=True)\n",
    "\n",
    "\n",
    "cls_cb.fit(train_pool, eval_set=test_pool)"
   ]
  },
  {
   "cell_type": "code",
   "execution_count": 52,
   "metadata": {},
   "outputs": [],
   "source": [
    "y_pred = cls_cb.predict(X_val)"
   ]
  },
  {
   "cell_type": "code",
   "execution_count": 53,
   "metadata": {},
   "outputs": [],
   "source": [
    "y_pred1 = cls_cb.predict(X_test)"
   ]
  },
  {
   "cell_type": "code",
   "execution_count": 54,
   "metadata": {},
   "outputs": [
    {
     "name": "stdout",
     "output_type": "stream",
     "text": [
      "Classification Report\n",
      "              precision    recall  f1-score   support\n",
      "\n",
      "           0       1.00      1.00      1.00    225737\n",
      "           1       1.00      1.00      1.00     88835\n",
      "\n",
      "    accuracy                           1.00    314572\n",
      "   macro avg       1.00      1.00      1.00    314572\n",
      "weighted avg       1.00      1.00      1.00    314572\n",
      "\n"
     ]
    }
   ],
   "source": [
    "print(\"Classification Report\")\n",
    "print(classification_report(y_val, y_pred))"
   ]
  },
  {
   "cell_type": "code",
   "execution_count": 55,
   "metadata": {},
   "outputs": [
    {
     "name": "stdout",
     "output_type": "stream",
     "text": [
      "Classification Report\n",
      "              precision    recall  f1-score   support\n",
      "\n",
      "           0       1.00      1.00      1.00    225737\n",
      "           1       1.00      1.00      1.00     88836\n",
      "\n",
      "    accuracy                           1.00    314573\n",
      "   macro avg       1.00      1.00      1.00    314573\n",
      "weighted avg       1.00      1.00      1.00    314573\n",
      "\n"
     ]
    }
   ],
   "source": [
    "print(\"Classification Report\")\n",
    "print(classification_report(y_test, y_pred1))"
   ]
  },
  {
   "cell_type": "markdown",
   "metadata": {},
   "source": [
    "# SVM"
   ]
  },
  {
   "cell_type": "code",
   "execution_count": null,
   "metadata": {},
   "outputs": [],
   "source": [
    "scaler = StandardScaler()\n",
    "scaler.fit(X_trainh)"
   ]
  },
  {
   "cell_type": "code",
   "execution_count": 76,
   "metadata": {},
   "outputs": [],
   "source": [
    "from sklearn.svm import LinearSVC"
   ]
  },
  {
   "cell_type": "code",
   "execution_count": 79,
   "metadata": {},
   "outputs": [],
   "source": [
    "# Initialize SVM classifier\n",
    "clf = LinearSVC()"
   ]
  },
  {
   "cell_type": "code",
   "execution_count": 80,
   "metadata": {},
   "outputs": [
    {
     "name": "stderr",
     "output_type": "stream",
     "text": [
      "E:\\ProgramDATA\\Anaconda\\lib\\site-packages\\sklearn\\svm\\_base.py:1206: ConvergenceWarning: Liblinear failed to converge, increase the number of iterations.\n",
      "  warnings.warn(\n"
     ]
    }
   ],
   "source": [
    "clf = clf.fit(scaler.transform(X_trainh), y_train.values.ravel())"
   ]
  },
  {
   "cell_type": "code",
   "execution_count": 81,
   "metadata": {},
   "outputs": [],
   "source": [
    "predictions = clf.predict(scaler.transform(X_valh))"
   ]
  },
  {
   "cell_type": "code",
   "execution_count": 82,
   "metadata": {},
   "outputs": [],
   "source": [
    "predictions1 = clf.predict(scaler.transform(X_testh))"
   ]
  },
  {
   "cell_type": "code",
   "execution_count": 83,
   "metadata": {},
   "outputs": [
    {
     "name": "stdout",
     "output_type": "stream",
     "text": [
      "Classification Report\n",
      "              precision    recall  f1-score   support\n",
      "\n",
      "           0       1.00      0.98      0.99    225737\n",
      "           1       0.96      1.00      0.98     88835\n",
      "\n",
      "    accuracy                           0.99    314572\n",
      "   macro avg       0.98      0.99      0.98    314572\n",
      "weighted avg       0.99      0.99      0.99    314572\n",
      "\n"
     ]
    }
   ],
   "source": [
    "print(\"Classification Report\")\n",
    "print(classification_report(y_val, predictions))"
   ]
  },
  {
   "cell_type": "code",
   "execution_count": 84,
   "metadata": {},
   "outputs": [
    {
     "name": "stdout",
     "output_type": "stream",
     "text": [
      "Classification Report\n",
      "              precision    recall  f1-score   support\n",
      "\n",
      "           0       1.00      0.98      0.99    225737\n",
      "           1       0.96      1.00      0.98     88836\n",
      "\n",
      "    accuracy                           0.99    314573\n",
      "   macro avg       0.98      0.99      0.98    314573\n",
      "weighted avg       0.99      0.99      0.99    314573\n",
      "\n"
     ]
    }
   ],
   "source": [
    "print(\"Classification Report\")\n",
    "print(classification_report(y_test, predictions1))"
   ]
  },
  {
   "cell_type": "code",
   "execution_count": 85,
   "metadata": {},
   "outputs": [
    {
     "name": "stderr",
     "output_type": "stream",
     "text": [
      "E:\\ProgramDATA\\Anaconda\\lib\\site-packages\\sklearn\\utils\\deprecation.py:87: FutureWarning: Function plot_confusion_matrix is deprecated; Function `plot_confusion_matrix` is deprecated in 1.0 and will be removed in 1.2. Use one of the class methods: ConfusionMatrixDisplay.from_predictions or ConfusionMatrixDisplay.from_estimator.\n",
      "  warnings.warn(msg, category=FutureWarning)\n",
      "E:\\ProgramDATA\\Anaconda\\lib\\site-packages\\sklearn\\base.py:443: UserWarning: X has feature names, but LinearSVC was fitted without feature names\n",
      "  warnings.warn(\n"
     ]
    },
    {
     "data": {
      "image/png": "[encoded data removed]",
      "text/plain": [
       "<Figure size 432x288 with 2 Axes>"
      ]
     },
     "metadata": {
      "needs_background": "light"
     },
     "output_type": "display_data"
    }
   ],
   "source": [
    "# RF confusion matrix \n",
    "\n",
    "matrix = plot_confusion_matrix(clf , X_testh , y_test)\n",
    "\n",
    "plt.show(matrix)\n",
    "plt.show()"
   ]
  },
  {
   "cell_type": "markdown",
   "metadata": {},
   "source": [
    "# Decision Tree Classifier"
   ]
  },
  {
   "cell_type": "code",
   "execution_count": 69,
   "metadata": {},
   "outputs": [],
   "source": [
    "from sklearn.tree import DecisionTreeClassifier"
   ]
  },
  {
   "cell_type": "code",
   "execution_count": 70,
   "metadata": {},
   "outputs": [],
   "source": [
    "classifier = DecisionTreeClassifier(random_state = 0)"
   ]
  },
  {
   "cell_type": "code",
   "execution_count": 71,
   "metadata": {},
   "outputs": [
    {
     "data": {
      "text/plain": [
       "DecisionTreeClassifier(random_state=0)"
      ]
     },
     "execution_count": 71,
     "metadata": {},
     "output_type": "execute_result"
    }
   ],
   "source": [
    "# fit the model\n",
    "classifier.fit(X_trainh , y_train)"
   ]
  },
  {
   "cell_type": "code",
   "execution_count": 72,
   "metadata": {},
   "outputs": [],
   "source": [
    "y_predicted = classifier.predict(X_valh)"
   ]
  },
  {
   "cell_type": "code",
   "execution_count": 73,
   "metadata": {},
   "outputs": [],
   "source": [
    "# predict validation\n",
    "y_predicted1 = classifier.predict(X_testh)"
   ]
  },
  {
   "cell_type": "code",
   "execution_count": 74,
   "metadata": {},
   "outputs": [
    {
     "name": "stdout",
     "output_type": "stream",
     "text": [
      "Classification Report\n",
      "              precision    recall  f1-score   support\n",
      "\n",
      "           0       1.00      1.00      1.00    225737\n",
      "           1       1.00      1.00      1.00     88835\n",
      "\n",
      "    accuracy                           1.00    314572\n",
      "   macro avg       1.00      1.00      1.00    314572\n",
      "weighted avg       1.00      1.00      1.00    314572\n",
      "\n"
     ]
    }
   ],
   "source": [
    "print(\"Classification Report\")\n",
    "print(classification_report(y_val, y_predicted))"
   ]
  },
  {
   "cell_type": "code",
   "execution_count": 75,
   "metadata": {},
   "outputs": [
    {
     "name": "stdout",
     "output_type": "stream",
     "text": [
      "Classification Report\n",
      "              precision    recall  f1-score   support\n",
      "\n",
      "           0       1.00      1.00      1.00    225737\n",
      "           1       1.00      1.00      1.00     88836\n",
      "\n",
      "    accuracy                           1.00    314573\n",
      "   macro avg       1.00      1.00      1.00    314573\n",
      "weighted avg       1.00      1.00      1.00    314573\n",
      "\n"
     ]
    }
   ],
   "source": [
    "print(\"Classification Report\")\n",
    "print(classification_report(y_test, y_predicted1))"
   ]
  },
  {
   "cell_type": "markdown",
   "metadata": {},
   "source": [
    "# Gradient Boost and RF performed best of all models and will be used as the final estimator."
   ]
  },
  {
   "cell_type": "code",
   "execution_count": null,
   "metadata": {},
   "outputs": [],
   "source": [
    "# GB confusion matrix \n",
    "matrix = plot_confusion_matrix(model , X_test , y_test)\n",
    "\n",
    "plt.show(matrix)\n",
    "plt.show()"
   ]
  },
  {
   "cell_type": "code",
   "execution_count": null,
   "metadata": {},
   "outputs": [],
   "source": [
    "# RF confusion matrix \n",
    "\n",
    "matrix = plot_confusion_matrix(cls_forest , X_testh , y_test)\n",
    "\n",
    "plt.show(matrix)\n",
    "plt.show()"
   ]
  },
  {
   "cell_type": "code",
   "execution_count": null,
   "metadata": {},
   "outputs": [],
   "source": [
    "# RF confusion matrix \n",
    "\n",
    "matrix = plot_confusion_matrix(lr , X_testh , y_test)\n",
    "\n",
    "plt.show(matrix)\n",
    "plt.show()"
   ]
  },
  {
   "cell_type": "code",
   "execution_count": null,
   "metadata": {},
   "outputs": [],
   "source": []
  },
  {
   "cell_type": "code",
   "execution_count": null,
   "metadata": {},
   "outputs": [],
   "source": []
  },
  {
   "cell_type": "code",
   "execution_count": null,
   "metadata": {},
   "outputs": [],
   "source": []
  }
 ],
 "metadata": {
  "kernelspec": {
   "display_name": "Python 3 (ipykernel)",
   "language": "python",
   "name": "python3"
  },
  "language_info": {
   "codemirror_mode": {
    "name": "ipython",
    "version": 3
   },
   "file_extension": ".py",
   "mimetype": "text/x-python",
   "name": "python",
   "nbconvert_exporter": "python",
   "pygments_lexer": "ipython3",
   "version": "3.9.7"
  }
 },
 "nbformat": 4,
 "nbformat_minor": 4
}
