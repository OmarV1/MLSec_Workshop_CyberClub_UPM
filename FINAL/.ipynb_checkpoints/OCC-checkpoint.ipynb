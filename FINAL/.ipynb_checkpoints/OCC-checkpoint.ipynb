{
 "cells": [
  {
   "cell_type": "code",
   "execution_count": 1,
   "metadata": {},
   "outputs": [
    {
     "name": "stderr",
     "output_type": "stream",
     "text": [
      "\n",
      "Bad key \"text.kerning_factor\" on line 4 in\n",
      "/home/upm/anaconda3/lib/python3.8/site-packages/matplotlib/mpl-data/stylelib/_classic_test_patch.mplstyle.\n",
      "You probably need to get an updated matplotlibrc file from\n",
      "http://github.com/matplotlib/matplotlib/blob/master/matplotlibrc.template\n",
      "or from the matplotlib source distribution\n"
     ]
    }
   ],
   "source": [
    "import numpy as np\n",
    "import pandas as pd\n",
    "import matplotlib.pyplot as plt \n",
    "import seaborn as sns\n",
    "import glob\n",
    "import os\n",
    "\n",
    "\n",
    "from sklearn.model_selection import train_test_split\n",
    "from sklearn import metrics\n",
    "from sklearn.metrics import accuracy_score, confusion_matrix, roc_curve, auc, classification_report\n",
    "\n",
    "from sklearn.neighbors import LocalOutlierFactor\n",
    "from sklearn.svm import OneClassSVM\n",
    "from sklearn.ensemble import IsolationForest\n",
    "from sklearn.covariance import EllipticEnvelope"
   ]
  },
  {
   "cell_type": "code",
   "execution_count": 2,
   "metadata": {},
   "outputs": [],
   "source": [
    "#path = '/media/upm/New Volume/project/0/processed'"
   ]
  },
  {
   "cell_type": "code",
   "execution_count": 3,
   "metadata": {},
   "outputs": [
    {
     "data": {
      "text/plain": [
       "\"\\ncsvs = glob.glob(os.path.join(path, '*.csv'))\\n\\ndf = pd.concat((pd.read_csv(f) for f in csvs)) # and concatenate them to one data frame using pandas and change the data types into numeric types\\n\""
      ]
     },
     "execution_count": 3,
     "metadata": {},
     "output_type": "execute_result"
    }
   ],
   "source": [
    "# join all csv files avilable in the base path \n",
    "'''\n",
    "csvs = glob.glob(os.path.join(path, '*.csv'))\n",
    "\n",
    "df = pd.concat((pd.read_csv(f) for f in csvs)) # and concatenate them to one data frame using pandas and change the data types into numeric types\n",
    "'''"
   ]
  },
  {
   "cell_type": "code",
   "execution_count": 4,
   "metadata": {},
   "outputs": [],
   "source": [
    "df = pd.read_csv('/media/upm/New Volume/project/0/processed/final.csv')"
   ]
  },
  {
   "cell_type": "code",
   "execution_count": 5,
   "metadata": {},
   "outputs": [
    {
     "name": "stdout",
     "output_type": "stream",
     "text": [
      "<class 'pandas.core.frame.DataFrame'>\n",
      "RangeIndex: 16232943 entries, 0 to 16232942\n",
      "Data columns (total 33 columns):\n",
      " #   Column             Dtype  \n",
      "---  ------             -----  \n",
      " 0   Unnamed: 0         int64  \n",
      " 1   protocol           int64  \n",
      " 2   flow_duration      float64\n",
      " 3   tot_fwd_pkts       int64  \n",
      " 4   tot_bwd_pkts       int64  \n",
      " 5   totlen_fwd_pkts    int64  \n",
      " 6   totlen_bwd_pkts    int64  \n",
      " 7   fwd_pkt_len_mean   float64\n",
      " 8   fwd_pkt_len_std    float64\n",
      " 9   bwd_pkt_len_mean   float64\n",
      " 10  flow_byts_s        float64\n",
      " 11  flow_pkts_s        float64\n",
      " 12  flow_iat_std       float64\n",
      " 13  flow_iat_min       float64\n",
      " 14  fwd_iat_tot        float64\n",
      " 15  fwd_iat_min        float64\n",
      " 16  bwd_iat_tot        int64  \n",
      " 17  bwd_iat_min        int64  \n",
      " 18  fwd_psh_flags      int64  \n",
      " 19  fwd_urg_flags      int64  \n",
      " 20  bwd_pkts_s         float64\n",
      " 21  fin_flag_cnt       int64  \n",
      " 22  rst_flag_cnt       int64  \n",
      " 23  psh_flag_cnt       int64  \n",
      " 24  ack_flag_cnt       int64  \n",
      " 25  urg_flag_cnt       int64  \n",
      " 26  down_up_ratio      int64  \n",
      " 27  init_fwd_win_byts  float64\n",
      " 28  init_bwd_win_byts  float64\n",
      " 29  fwd_seg_size_min   int64  \n",
      " 30  active_mean        float64\n",
      " 31  idle_mean          float64\n",
      " 32  label_cat          int64  \n",
      "dtypes: float64(15), int64(18)\n",
      "memory usage: 4.0 GB\n"
     ]
    }
   ],
   "source": [
    "df.info()"
   ]
  },
  {
   "cell_type": "code",
   "execution_count": 6,
   "metadata": {},
   "outputs": [],
   "source": [
    "df = df.iloc[:,1:]"
   ]
  },
  {
   "cell_type": "code",
   "execution_count": 7,
   "metadata": {},
   "outputs": [],
   "source": [
    "df['B_cat'] = np.where(df['label_cat'],  -1 , 1) "
   ]
  },
  {
   "cell_type": "code",
   "execution_count": 8,
   "metadata": {},
   "outputs": [
    {
     "data": {
      "text/plain": [
       " 1    13484708\n",
       "-1     2748235\n",
       "Name: B_cat, dtype: int64"
      ]
     },
     "execution_count": 8,
     "metadata": {},
     "output_type": "execute_result"
    }
   ],
   "source": [
    "df['B_cat'].value_counts()"
   ]
  },
  {
   "cell_type": "code",
   "execution_count": 9,
   "metadata": {},
   "outputs": [],
   "source": [
    "#df['label_cat'] = (df.label_cat != 0).astype('int')"
   ]
  },
  {
   "cell_type": "code",
   "execution_count": 10,
   "metadata": {},
   "outputs": [],
   "source": [
    "B = df.loc[df[\"B_cat\"]  == 1 ]"
   ]
  },
  {
   "cell_type": "code",
   "execution_count": 11,
   "metadata": {},
   "outputs": [],
   "source": [
    "B1 = B.iloc[:100000,:]"
   ]
  },
  {
   "cell_type": "code",
   "execution_count": 12,
   "metadata": {},
   "outputs": [],
   "source": [
    "mal = df.loc[df[\"B_cat\"]  == -1 ]"
   ]
  },
  {
   "cell_type": "code",
   "execution_count": 13,
   "metadata": {},
   "outputs": [],
   "source": [
    "mal1 = mal.iloc[:100000,:]"
   ]
  },
  {
   "cell_type": "markdown",
   "metadata": {},
   "source": [
    "## split and train the algo on the benign traffic only "
   ]
  },
  {
   "cell_type": "code",
   "execution_count": 14,
   "metadata": {},
   "outputs": [],
   "source": [
    "X = B1.drop(['label_cat' , 'B_cat'], axis = 1)"
   ]
  },
  {
   "cell_type": "code",
   "execution_count": 15,
   "metadata": {},
   "outputs": [],
   "source": [
    "y = B1['B_cat']"
   ]
  },
  {
   "cell_type": "code",
   "execution_count": 16,
   "metadata": {},
   "outputs": [
    {
     "data": {
      "text/plain": [
       "(100000, 31)"
      ]
     },
     "execution_count": 16,
     "metadata": {},
     "output_type": "execute_result"
    }
   ],
   "source": [
    "X.shape"
   ]
  },
  {
   "cell_type": "code",
   "execution_count": 17,
   "metadata": {},
   "outputs": [],
   "source": [
    "X_train, X_test, y_train, y_test = train_test_split(\n",
    "    X,y ,test_size=0.2, random_state=100)"
   ]
  },
  {
   "cell_type": "code",
   "execution_count": 18,
   "metadata": {},
   "outputs": [
    {
     "data": {
      "text/plain": [
       "125120    1\n",
       "158890    1\n",
       "55391     1\n",
       "354905    1\n",
       "223879    1\n",
       "Name: B_cat, dtype: int64"
      ]
     },
     "execution_count": 18,
     "metadata": {},
     "output_type": "execute_result"
    }
   ],
   "source": [
    "y_test.head()"
   ]
  },
  {
   "cell_type": "code",
   "execution_count": 19,
   "metadata": {},
   "outputs": [],
   "source": [
    "# rng = np.random.RandomState(42)\n",
    "# clf = IsolationForest(max_samples=100, random_state=rng)\n",
    "# clf.fit(np_data)"
   ]
  },
  {
   "cell_type": "code",
   "execution_count": 20,
   "metadata": {},
   "outputs": [],
   "source": [
    "# clf = svm.OneClassSVM(nu=0.1, kernel=\"rbf\", gamma=0.1)\n",
    "# clf.fit(np_data)"
   ]
  },
  {
   "cell_type": "code",
   "execution_count": 21,
   "metadata": {},
   "outputs": [],
   "source": [
    "LOF = LocalOutlierFactor(novelty = True)"
   ]
  },
  {
   "cell_type": "code",
   "execution_count": 22,
   "metadata": {},
   "outputs": [
    {
     "data": {
      "text/plain": [
       "LocalOutlierFactor(novelty=True)"
      ]
     },
     "execution_count": 22,
     "metadata": {},
     "output_type": "execute_result"
    }
   ],
   "source": [
    "LOF.fit(X_train , y_train)"
   ]
  },
  {
   "cell_type": "markdown",
   "metadata": {},
   "source": [
    "## lets create test set of both types "
   ]
  },
  {
   "cell_type": "code",
   "execution_count": 23,
   "metadata": {},
   "outputs": [
    {
     "data": {
      "text/html": [
       "<div>\n",
       "<style scoped>\n",
       "    .dataframe tbody tr th:only-of-type {\n",
       "        vertical-align: middle;\n",
       "    }\n",
       "\n",
       "    .dataframe tbody tr th {\n",
       "        vertical-align: top;\n",
       "    }\n",
       "\n",
       "    .dataframe thead th {\n",
       "        text-align: right;\n",
       "    }\n",
       "</style>\n",
       "<table border=\"1\" class=\"dataframe\">\n",
       "  <thead>\n",
       "    <tr style=\"text-align: right;\">\n",
       "      <th></th>\n",
       "      <th>protocol</th>\n",
       "      <th>flow_duration</th>\n",
       "      <th>tot_fwd_pkts</th>\n",
       "      <th>tot_bwd_pkts</th>\n",
       "      <th>totlen_fwd_pkts</th>\n",
       "      <th>totlen_bwd_pkts</th>\n",
       "      <th>fwd_pkt_len_mean</th>\n",
       "      <th>fwd_pkt_len_std</th>\n",
       "      <th>bwd_pkt_len_mean</th>\n",
       "      <th>flow_byts_s</th>\n",
       "      <th>...</th>\n",
       "      <th>ack_flag_cnt</th>\n",
       "      <th>urg_flag_cnt</th>\n",
       "      <th>down_up_ratio</th>\n",
       "      <th>init_fwd_win_byts</th>\n",
       "      <th>init_bwd_win_byts</th>\n",
       "      <th>fwd_seg_size_min</th>\n",
       "      <th>active_mean</th>\n",
       "      <th>idle_mean</th>\n",
       "      <th>label_cat</th>\n",
       "      <th>B_cat</th>\n",
       "    </tr>\n",
       "  </thead>\n",
       "  <tbody>\n",
       "    <tr>\n",
       "      <th>1234</th>\n",
       "      <td>6</td>\n",
       "      <td>16079.0</td>\n",
       "      <td>3</td>\n",
       "      <td>4</td>\n",
       "      <td>326</td>\n",
       "      <td>129</td>\n",
       "      <td>108.666664</td>\n",
       "      <td>188.21619</td>\n",
       "      <td>32.25</td>\n",
       "      <td>28297.77971</td>\n",
       "      <td>...</td>\n",
       "      <td>0</td>\n",
       "      <td>0</td>\n",
       "      <td>1</td>\n",
       "      <td>8192.0</td>\n",
       "      <td>219.000000</td>\n",
       "      <td>20</td>\n",
       "      <td>0.0</td>\n",
       "      <td>0.0</td>\n",
       "      <td>1</td>\n",
       "      <td>-1</td>\n",
       "    </tr>\n",
       "    <tr>\n",
       "      <th>1235</th>\n",
       "      <td>6</td>\n",
       "      <td>577.0</td>\n",
       "      <td>2</td>\n",
       "      <td>0</td>\n",
       "      <td>0</td>\n",
       "      <td>0</td>\n",
       "      <td>0.000000</td>\n",
       "      <td>0.00000</td>\n",
       "      <td>0.00</td>\n",
       "      <td>0.00000</td>\n",
       "      <td>...</td>\n",
       "      <td>1</td>\n",
       "      <td>0</td>\n",
       "      <td>0</td>\n",
       "      <td>2052.0</td>\n",
       "      <td>17682.268468</td>\n",
       "      <td>20</td>\n",
       "      <td>0.0</td>\n",
       "      <td>0.0</td>\n",
       "      <td>1</td>\n",
       "      <td>-1</td>\n",
       "    </tr>\n",
       "    <tr>\n",
       "      <th>1236</th>\n",
       "      <td>6</td>\n",
       "      <td>10279.0</td>\n",
       "      <td>3</td>\n",
       "      <td>4</td>\n",
       "      <td>326</td>\n",
       "      <td>129</td>\n",
       "      <td>108.666664</td>\n",
       "      <td>188.21619</td>\n",
       "      <td>32.25</td>\n",
       "      <td>44265.00632</td>\n",
       "      <td>...</td>\n",
       "      <td>0</td>\n",
       "      <td>0</td>\n",
       "      <td>1</td>\n",
       "      <td>8192.0</td>\n",
       "      <td>219.000000</td>\n",
       "      <td>20</td>\n",
       "      <td>0.0</td>\n",
       "      <td>0.0</td>\n",
       "      <td>1</td>\n",
       "      <td>-1</td>\n",
       "    </tr>\n",
       "    <tr>\n",
       "      <th>1237</th>\n",
       "      <td>6</td>\n",
       "      <td>457.0</td>\n",
       "      <td>2</td>\n",
       "      <td>0</td>\n",
       "      <td>0</td>\n",
       "      <td>0</td>\n",
       "      <td>0.000000</td>\n",
       "      <td>0.00000</td>\n",
       "      <td>0.00</td>\n",
       "      <td>0.00000</td>\n",
       "      <td>...</td>\n",
       "      <td>1</td>\n",
       "      <td>0</td>\n",
       "      <td>0</td>\n",
       "      <td>2052.0</td>\n",
       "      <td>17682.268468</td>\n",
       "      <td>20</td>\n",
       "      <td>0.0</td>\n",
       "      <td>0.0</td>\n",
       "      <td>1</td>\n",
       "      <td>-1</td>\n",
       "    </tr>\n",
       "    <tr>\n",
       "      <th>1240</th>\n",
       "      <td>6</td>\n",
       "      <td>10271.0</td>\n",
       "      <td>3</td>\n",
       "      <td>4</td>\n",
       "      <td>326</td>\n",
       "      <td>129</td>\n",
       "      <td>108.666664</td>\n",
       "      <td>188.21619</td>\n",
       "      <td>32.25</td>\n",
       "      <td>44299.48398</td>\n",
       "      <td>...</td>\n",
       "      <td>0</td>\n",
       "      <td>0</td>\n",
       "      <td>1</td>\n",
       "      <td>8192.0</td>\n",
       "      <td>219.000000</td>\n",
       "      <td>20</td>\n",
       "      <td>0.0</td>\n",
       "      <td>0.0</td>\n",
       "      <td>1</td>\n",
       "      <td>-1</td>\n",
       "    </tr>\n",
       "  </tbody>\n",
       "</table>\n",
       "<p>5 rows × 33 columns</p>\n",
       "</div>"
      ],
      "text/plain": [
       "      protocol  flow_duration  tot_fwd_pkts  tot_bwd_pkts  totlen_fwd_pkts  \\\n",
       "1234         6        16079.0             3             4              326   \n",
       "1235         6          577.0             2             0                0   \n",
       "1236         6        10279.0             3             4              326   \n",
       "1237         6          457.0             2             0                0   \n",
       "1240         6        10271.0             3             4              326   \n",
       "\n",
       "      totlen_bwd_pkts  fwd_pkt_len_mean  fwd_pkt_len_std  bwd_pkt_len_mean  \\\n",
       "1234              129        108.666664        188.21619             32.25   \n",
       "1235                0          0.000000          0.00000              0.00   \n",
       "1236              129        108.666664        188.21619             32.25   \n",
       "1237                0          0.000000          0.00000              0.00   \n",
       "1240              129        108.666664        188.21619             32.25   \n",
       "\n",
       "      flow_byts_s  ...  ack_flag_cnt  urg_flag_cnt  down_up_ratio  \\\n",
       "1234  28297.77971  ...             0             0              1   \n",
       "1235      0.00000  ...             1             0              0   \n",
       "1236  44265.00632  ...             0             0              1   \n",
       "1237      0.00000  ...             1             0              0   \n",
       "1240  44299.48398  ...             0             0              1   \n",
       "\n",
       "      init_fwd_win_byts  init_bwd_win_byts  fwd_seg_size_min  active_mean  \\\n",
       "1234             8192.0         219.000000                20          0.0   \n",
       "1235             2052.0       17682.268468                20          0.0   \n",
       "1236             8192.0         219.000000                20          0.0   \n",
       "1237             2052.0       17682.268468                20          0.0   \n",
       "1240             8192.0         219.000000                20          0.0   \n",
       "\n",
       "      idle_mean  label_cat  B_cat  \n",
       "1234        0.0          1     -1  \n",
       "1235        0.0          1     -1  \n",
       "1236        0.0          1     -1  \n",
       "1237        0.0          1     -1  \n",
       "1240        0.0          1     -1  \n",
       "\n",
       "[5 rows x 33 columns]"
      ]
     },
     "execution_count": 23,
     "metadata": {},
     "output_type": "execute_result"
    }
   ],
   "source": [
    "mal1.head()"
   ]
  },
  {
   "cell_type": "code",
   "execution_count": 24,
   "metadata": {},
   "outputs": [
    {
     "data": {
      "text/plain": [
       "125120    1\n",
       "158890    1\n",
       "55391     1\n",
       "354905    1\n",
       "223879    1\n",
       "Name: B_cat, dtype: int64"
      ]
     },
     "execution_count": 24,
     "metadata": {},
     "output_type": "execute_result"
    }
   ],
   "source": [
    "y_test.head()"
   ]
  },
  {
   "cell_type": "code",
   "execution_count": 25,
   "metadata": {},
   "outputs": [],
   "source": [
    "mal11 = mal1['B_cat']"
   ]
  },
  {
   "cell_type": "code",
   "execution_count": 26,
   "metadata": {},
   "outputs": [
    {
     "data": {
      "text/plain": [
       "1234   -1\n",
       "1235   -1\n",
       "1236   -1\n",
       "1237   -1\n",
       "1240   -1\n",
       "Name: B_cat, dtype: int64"
      ]
     },
     "execution_count": 26,
     "metadata": {},
     "output_type": "execute_result"
    }
   ],
   "source": [
    "mal11.head()"
   ]
  },
  {
   "cell_type": "code",
   "execution_count": 27,
   "metadata": {},
   "outputs": [],
   "source": [
    "new_x_test = pd.concat([X_test, mal1])"
   ]
  },
  {
   "cell_type": "code",
   "execution_count": 28,
   "metadata": {},
   "outputs": [
    {
     "data": {
      "text/html": [
       "<div>\n",
       "<style scoped>\n",
       "    .dataframe tbody tr th:only-of-type {\n",
       "        vertical-align: middle;\n",
       "    }\n",
       "\n",
       "    .dataframe tbody tr th {\n",
       "        vertical-align: top;\n",
       "    }\n",
       "\n",
       "    .dataframe thead th {\n",
       "        text-align: right;\n",
       "    }\n",
       "</style>\n",
       "<table border=\"1\" class=\"dataframe\">\n",
       "  <thead>\n",
       "    <tr style=\"text-align: right;\">\n",
       "      <th></th>\n",
       "      <th>protocol</th>\n",
       "      <th>flow_duration</th>\n",
       "      <th>tot_fwd_pkts</th>\n",
       "      <th>tot_bwd_pkts</th>\n",
       "      <th>totlen_fwd_pkts</th>\n",
       "      <th>totlen_bwd_pkts</th>\n",
       "      <th>fwd_pkt_len_mean</th>\n",
       "      <th>fwd_pkt_len_std</th>\n",
       "      <th>bwd_pkt_len_mean</th>\n",
       "      <th>flow_byts_s</th>\n",
       "      <th>...</th>\n",
       "      <th>ack_flag_cnt</th>\n",
       "      <th>urg_flag_cnt</th>\n",
       "      <th>down_up_ratio</th>\n",
       "      <th>init_fwd_win_byts</th>\n",
       "      <th>init_bwd_win_byts</th>\n",
       "      <th>fwd_seg_size_min</th>\n",
       "      <th>active_mean</th>\n",
       "      <th>idle_mean</th>\n",
       "      <th>label_cat</th>\n",
       "      <th>B_cat</th>\n",
       "    </tr>\n",
       "  </thead>\n",
       "  <tbody>\n",
       "    <tr>\n",
       "      <th>1234</th>\n",
       "      <td>6</td>\n",
       "      <td>16079.0</td>\n",
       "      <td>3</td>\n",
       "      <td>4</td>\n",
       "      <td>326</td>\n",
       "      <td>129</td>\n",
       "      <td>108.666664</td>\n",
       "      <td>188.21619</td>\n",
       "      <td>32.25</td>\n",
       "      <td>28297.77971</td>\n",
       "      <td>...</td>\n",
       "      <td>0</td>\n",
       "      <td>0</td>\n",
       "      <td>1</td>\n",
       "      <td>8192.0</td>\n",
       "      <td>219.000000</td>\n",
       "      <td>20</td>\n",
       "      <td>0.0</td>\n",
       "      <td>0.0</td>\n",
       "      <td>1</td>\n",
       "      <td>-1</td>\n",
       "    </tr>\n",
       "    <tr>\n",
       "      <th>1235</th>\n",
       "      <td>6</td>\n",
       "      <td>577.0</td>\n",
       "      <td>2</td>\n",
       "      <td>0</td>\n",
       "      <td>0</td>\n",
       "      <td>0</td>\n",
       "      <td>0.000000</td>\n",
       "      <td>0.00000</td>\n",
       "      <td>0.00</td>\n",
       "      <td>0.00000</td>\n",
       "      <td>...</td>\n",
       "      <td>1</td>\n",
       "      <td>0</td>\n",
       "      <td>0</td>\n",
       "      <td>2052.0</td>\n",
       "      <td>17682.268468</td>\n",
       "      <td>20</td>\n",
       "      <td>0.0</td>\n",
       "      <td>0.0</td>\n",
       "      <td>1</td>\n",
       "      <td>-1</td>\n",
       "    </tr>\n",
       "    <tr>\n",
       "      <th>1236</th>\n",
       "      <td>6</td>\n",
       "      <td>10279.0</td>\n",
       "      <td>3</td>\n",
       "      <td>4</td>\n",
       "      <td>326</td>\n",
       "      <td>129</td>\n",
       "      <td>108.666664</td>\n",
       "      <td>188.21619</td>\n",
       "      <td>32.25</td>\n",
       "      <td>44265.00632</td>\n",
       "      <td>...</td>\n",
       "      <td>0</td>\n",
       "      <td>0</td>\n",
       "      <td>1</td>\n",
       "      <td>8192.0</td>\n",
       "      <td>219.000000</td>\n",
       "      <td>20</td>\n",
       "      <td>0.0</td>\n",
       "      <td>0.0</td>\n",
       "      <td>1</td>\n",
       "      <td>-1</td>\n",
       "    </tr>\n",
       "    <tr>\n",
       "      <th>1237</th>\n",
       "      <td>6</td>\n",
       "      <td>457.0</td>\n",
       "      <td>2</td>\n",
       "      <td>0</td>\n",
       "      <td>0</td>\n",
       "      <td>0</td>\n",
       "      <td>0.000000</td>\n",
       "      <td>0.00000</td>\n",
       "      <td>0.00</td>\n",
       "      <td>0.00000</td>\n",
       "      <td>...</td>\n",
       "      <td>1</td>\n",
       "      <td>0</td>\n",
       "      <td>0</td>\n",
       "      <td>2052.0</td>\n",
       "      <td>17682.268468</td>\n",
       "      <td>20</td>\n",
       "      <td>0.0</td>\n",
       "      <td>0.0</td>\n",
       "      <td>1</td>\n",
       "      <td>-1</td>\n",
       "    </tr>\n",
       "    <tr>\n",
       "      <th>1240</th>\n",
       "      <td>6</td>\n",
       "      <td>10271.0</td>\n",
       "      <td>3</td>\n",
       "      <td>4</td>\n",
       "      <td>326</td>\n",
       "      <td>129</td>\n",
       "      <td>108.666664</td>\n",
       "      <td>188.21619</td>\n",
       "      <td>32.25</td>\n",
       "      <td>44299.48398</td>\n",
       "      <td>...</td>\n",
       "      <td>0</td>\n",
       "      <td>0</td>\n",
       "      <td>1</td>\n",
       "      <td>8192.0</td>\n",
       "      <td>219.000000</td>\n",
       "      <td>20</td>\n",
       "      <td>0.0</td>\n",
       "      <td>0.0</td>\n",
       "      <td>1</td>\n",
       "      <td>-1</td>\n",
       "    </tr>\n",
       "  </tbody>\n",
       "</table>\n",
       "<p>5 rows × 33 columns</p>\n",
       "</div>"
      ],
      "text/plain": [
       "      protocol  flow_duration  tot_fwd_pkts  tot_bwd_pkts  totlen_fwd_pkts  \\\n",
       "1234         6        16079.0             3             4              326   \n",
       "1235         6          577.0             2             0                0   \n",
       "1236         6        10279.0             3             4              326   \n",
       "1237         6          457.0             2             0                0   \n",
       "1240         6        10271.0             3             4              326   \n",
       "\n",
       "      totlen_bwd_pkts  fwd_pkt_len_mean  fwd_pkt_len_std  bwd_pkt_len_mean  \\\n",
       "1234              129        108.666664        188.21619             32.25   \n",
       "1235                0          0.000000          0.00000              0.00   \n",
       "1236              129        108.666664        188.21619             32.25   \n",
       "1237                0          0.000000          0.00000              0.00   \n",
       "1240              129        108.666664        188.21619             32.25   \n",
       "\n",
       "      flow_byts_s  ...  ack_flag_cnt  urg_flag_cnt  down_up_ratio  \\\n",
       "1234  28297.77971  ...             0             0              1   \n",
       "1235      0.00000  ...             1             0              0   \n",
       "1236  44265.00632  ...             0             0              1   \n",
       "1237      0.00000  ...             1             0              0   \n",
       "1240  44299.48398  ...             0             0              1   \n",
       "\n",
       "      init_fwd_win_byts  init_bwd_win_byts  fwd_seg_size_min  active_mean  \\\n",
       "1234             8192.0         219.000000                20          0.0   \n",
       "1235             2052.0       17682.268468                20          0.0   \n",
       "1236             8192.0         219.000000                20          0.0   \n",
       "1237             2052.0       17682.268468                20          0.0   \n",
       "1240             8192.0         219.000000                20          0.0   \n",
       "\n",
       "      idle_mean  label_cat  B_cat  \n",
       "1234        0.0          1     -1  \n",
       "1235        0.0          1     -1  \n",
       "1236        0.0          1     -1  \n",
       "1237        0.0          1     -1  \n",
       "1240        0.0          1     -1  \n",
       "\n",
       "[5 rows x 33 columns]"
      ]
     },
     "execution_count": 28,
     "metadata": {},
     "output_type": "execute_result"
    }
   ],
   "source": [
    "mal1.head()"
   ]
  },
  {
   "cell_type": "code",
   "execution_count": 29,
   "metadata": {},
   "outputs": [],
   "source": [
    "new_x_test = new_x_test.drop(columns = ['label_cat', 'B_cat'] )"
   ]
  },
  {
   "cell_type": "code",
   "execution_count": 30,
   "metadata": {},
   "outputs": [],
   "source": [
    "new_y_test = pd.concat( [y_test, mal11] ) "
   ]
  },
  {
   "cell_type": "code",
   "execution_count": 31,
   "metadata": {},
   "outputs": [
    {
     "data": {
      "text/plain": [
       "(120000, 31)"
      ]
     },
     "execution_count": 31,
     "metadata": {},
     "output_type": "execute_result"
    }
   ],
   "source": [
    "new_x_test.shape"
   ]
  },
  {
   "cell_type": "code",
   "execution_count": 32,
   "metadata": {},
   "outputs": [
    {
     "data": {
      "text/plain": [
       "-1    100000\n",
       " 1     20000\n",
       "Name: B_cat, dtype: int64"
      ]
     },
     "execution_count": 32,
     "metadata": {},
     "output_type": "execute_result"
    }
   ],
   "source": [
    "new_y_test.value_counts()"
   ]
  },
  {
   "cell_type": "code",
   "execution_count": 33,
   "metadata": {},
   "outputs": [
    {
     "name": "stderr",
     "output_type": "stream",
     "text": [
      "/home/upm/anaconda3/lib/python3.8/site-packages/sklearn/base.py:450: UserWarning: X does not have valid feature names, but LocalOutlierFactor was fitted with feature names\n",
      "  warnings.warn(\n"
     ]
    }
   ],
   "source": [
    "y_pred = LOF.predict(new_x_test)"
   ]
  },
  {
   "cell_type": "code",
   "execution_count": 34,
   "metadata": {},
   "outputs": [
    {
     "name": "stdout",
     "output_type": "stream",
     "text": [
      "Accuracy : 0.9379916666666667\n"
     ]
    }
   ],
   "source": [
    "print(\"Accuracy :\", metrics.accuracy_score(new_y_test , y_pred))"
   ]
  },
  {
   "cell_type": "code",
   "execution_count": 35,
   "metadata": {},
   "outputs": [
    {
     "name": "stdout",
     "output_type": "stream",
     "text": [
      "              precision    recall  f1-score   support\n",
      "\n",
      "          -1       0.98      0.95      0.96    100000\n",
      "           1       0.77      0.90      0.83     20000\n",
      "\n",
      "    accuracy                           0.94    120000\n",
      "   macro avg       0.87      0.92      0.90    120000\n",
      "weighted avg       0.94      0.94      0.94    120000\n",
      "\n"
     ]
    }
   ],
   "source": [
    "print(classification_report(new_y_test , y_pred))"
   ]
  },
  {
   "cell_type": "code",
   "execution_count": null,
   "metadata": {},
   "outputs": [],
   "source": []
  }
 ],
 "metadata": {
  "kernelspec": {
   "display_name": "Python 3 (ipykernel)",
   "language": "python",
   "name": "python3"
  },
  "language_info": {
   "codemirror_mode": {
    "name": "ipython",
    "version": 3
   },
   "file_extension": ".py",
   "mimetype": "text/x-python",
   "name": "python",
   "nbconvert_exporter": "python",
   "pygments_lexer": "ipython3",
   "version": "3.9.7"
  }
 },
 "nbformat": 4,
 "nbformat_minor": 4
}
